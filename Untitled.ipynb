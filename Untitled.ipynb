{
 "cells": [
  {
   "cell_type": "code",
   "execution_count": 62,
   "metadata": {},
   "outputs": [],
   "source": [
    "import pandas as pd\n",
    "from datetime import datetime\n",
    "view = pd.read_csv('../data/train-item-views.csv', sep=';')\n",
    "purchases = pd.read_csv('../data/train-purchases.csv', sep=';')\n",
    "queries = pd.read_csv('data/train-queries.csv', sep=';')\n",
    "#dates YYYY-MM-DD"
   ]
  },
  {
   "cell_type": "code",
   "execution_count": 61,
   "metadata": {},
   "outputs": [
    {
     "name": "stderr",
     "output_type": "stream",
     "text": [
      "C:\\Users\\rasul\\anaconda3\\lib\\site-packages\\pandas\\core\\indexing.py:1745: SettingWithCopyWarning: \n",
      "A value is trying to be set on a copy of a slice from a DataFrame.\n",
      "Try using .loc[row_indexer,col_indexer] = value instead\n",
      "\n",
      "See the caveats in the documentation: https://pandas.pydata.org/pandas-docs/stable/user_guide/indexing.html#returning-a-view-versus-a-copy\n",
      "  isetter(ilocs[0], value)\n"
     ]
    },
    {
     "name": "stdout",
     "output_type": "stream",
     "text": [
      "        itemId eventdate   userId\n",
      "664815   78211    0 days  91816.0\n",
      "106862  198046    0 days  18515.0\n",
      "106512   50909    0 days  18510.0\n",
      "106513   33181    0 days  18510.0\n",
      "106514  178555    0 days  18510.0\n",
      "106515  131151    0 days  18510.0\n",
      "106516    7010    0 days  18510.0\n",
      "106517   47586    0 days  18510.0\n",
      "106518   58565    0 days  18510.0\n",
      "106519  379843    0 days  18510.0\n",
      "        itemId eventdate    userId\n",
      "14712     4561  152 days    2086.0\n",
      "14713    45583  152 days    2087.0\n",
      "14714    12303  152 days    2087.0\n",
      "14715    89863  152 days    2087.0\n",
      "14716    89863  152 days    2087.0\n",
      "14718    46942  152 days    2092.0\n",
      "14719    13931  152 days    2092.0\n",
      "14692     5602  152 days    2074.0\n",
      "831499    8737  152 days  122855.0\n",
      "14720    13931  152 days    2092.0\n"
     ]
    }
   ],
   "source": [
    "def transform_time(df):\n",
    "    df = df.loc[:, [\"itemId\", \"eventdate\", \"userId\"]]\n",
    "    df = df[df[\"userId\"] >= 1] #filter Nan\n",
    "    df.loc[:,\"eventdate\"] = df[\"eventdate\"].apply(lambda date : datetime.fromisoformat(date))\n",
    "    df = df.sort_values(by=\"eventdate\", ascending=False)\n",
    "    most_recent = list(df[\"eventdate\"])[0]\n",
    "    df.loc[:, \"eventdate\"] = df[\"eventdate\"].apply(lambda date : most_recent - date)\n",
    "    return df\n"
   ]
  },
  {
   "cell_type": "code",
   "execution_count": 24,
   "metadata": {},
   "outputs": [
    {
     "name": "stdout",
     "output_type": "stream",
     "text": [
      "359 days, 0:00:00\n"
     ]
    }
   ],
   "source": []
  },
  {
   "cell_type": "code",
   "execution_count": null,
   "metadata": {},
   "outputs": [],
   "source": []
  }
 ],
 "metadata": {
  "kernelspec": {
   "display_name": "Python 3",
   "language": "python",
   "name": "python3"
  },
  "language_info": {
   "codemirror_mode": {
    "name": "ipython",
    "version": 3
   },
   "file_extension": ".py",
   "mimetype": "text/x-python",
   "name": "python",
   "nbconvert_exporter": "python",
   "pygments_lexer": "ipython3",
   "version": "3.8.5"
  }
 },
 "nbformat": 4,
 "nbformat_minor": 4
}
