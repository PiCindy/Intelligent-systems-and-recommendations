{
 "cells": [
  {
   "cell_type": "code",
   "execution_count": 8,
   "metadata": {},
   "outputs": [],
   "source": [
    "import pandas as pd\n",
    "view = pd.read_csv('../data/train-item-views.csv', sep=';')\n",
    "from datetime import datetime"
   ]
  },
  {
   "cell_type": "code",
   "execution_count": 34,
   "metadata": {},
   "outputs": [
    {
     "name": "stdout",
     "output_type": "stream",
     "text": [
      "1235380 372991\n",
      "     userId  itemId  timeframe   eventdate\n",
      "164     2.0   24764       8863  2016-04-09\n",
      "165     2.0   24764     496381  2016-04-09\n",
      "166     2.0   24764     265216  2016-04-09\n",
      "167     2.0   24764     519975  2016-04-09\n",
      "168     2.0   24764     456437  2016-04-09\n",
      "194     3.0   22128      22704  2016-05-09\n",
      "195     3.0   22128      71762  2016-05-09\n",
      "355     4.0   10691     271471  2016-03-21\n",
      "356     4.0   10691     633495  2016-03-21\n",
      "357     4.0   10691     611739  2016-03-21\n",
      "           userId  itemId  timeframe   eventdate\n",
      "1235379  249347.0   13296     135288  2016-02-16\n",
      "1235360  249344.0   36212      27134  2016-02-24\n",
      "1235359  249344.0   10274      63474  2016-02-24\n",
      "1235358  249344.0   31062     142536  2016-02-24\n",
      "1235338  249327.0   62380      13367  2016-02-06\n",
      "1235337  249327.0  111039      22520  2016-02-06\n",
      "1235320  249322.0   35046     335226  2016-02-17\n",
      "1235318  249321.0   59850     102947  2016-02-08\n",
      "1235311  249316.0   53120      60082  2016-03-15\n",
      "1235302  249314.0   14013     137918  2016-02-06\n"
     ]
    }
   ],
   "source": [
    "view.head(10)\n",
    "user_view = view[view[\"userId\"] >= 1] #filter Nan\n",
    "user_view = user_view.drop([\"sessionId\"], axis=1)\n",
    "print(len(view), len(user_view))\n",
    "print(user_view.head(10))\n",
    "user_view[\"eventdate\"] = user_view[\"eventdate\"].apply(lambda date : datetime.fromisoformat(date))\n",
    "user_view = user_view.iloc[::-1]\n",
    "\n",
    "\n",
    "print(user_view.head(10))\n",
    "#dates YYYY-MM-DD"
   ]
  },
  {
   "cell_type": "code",
   "execution_count": 24,
   "metadata": {},
   "outputs": [
    {
     "name": "stdout",
     "output_type": "stream",
     "text": [
      "359 days, 0:00:00\n"
     ]
    }
   ],
   "source": [
    "\n",
    "date_1 = \"2013-12-12\"\n",
    "date_1 = datetime.fromisoformat(date_1)\n",
    "date_2 = \"2012-12-18\"\n",
    "date_2 = datetime.fromisoformat(date_2)\n",
    "print(date_1 - date_2"
   ]
  },
  {
   "cell_type": "code",
   "execution_count": null,
   "metadata": {},
   "outputs": [],
   "source": []
  }
 ],
 "metadata": {
  "kernelspec": {
   "display_name": "Python 3",
   "language": "python",
   "name": "python3"
  },
  "language_info": {
   "codemirror_mode": {
    "name": "ipython",
    "version": 3
   },
   "file_extension": ".py",
   "mimetype": "text/x-python",
   "name": "python",
   "nbconvert_exporter": "python",
   "pygments_lexer": "ipython3",
   "version": "3.8.5"
  }
 },
 "nbformat": 4,
 "nbformat_minor": 4
}
