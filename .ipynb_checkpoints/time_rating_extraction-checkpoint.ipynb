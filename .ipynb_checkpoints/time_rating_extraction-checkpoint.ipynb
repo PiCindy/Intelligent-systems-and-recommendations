{
 "cells": [
  {
   "cell_type": "code",
   "execution_count": 3,
   "metadata": {},
   "outputs": [],
   "source": [
    "import pandas as pd\n",
    "from datetime import datetime\n",
    "import numpy as np\n",
    "import csv\n",
    "\n",
    "def get_query_info(query_path):\n",
    "    query = pd.read_csv(query_path, sep=';')\n",
    "    query_dates = dict(zip(query[\"queryId\"], query[\"eventdate\"]))\n",
    "    query_users = dict(zip(query[\"queryId\"], query[\"userId\"]))\n",
    "    return query_dates, query_users"
   ]
  },
  {
   "cell_type": "code",
   "execution_count": 4,
   "metadata": {},
   "outputs": [],
   "source": [
    "def time_and_rating(df, rating):\n",
    "    df = df.loc[:, [\"itemId\", \"eventdate\", \"userId\"]]\n",
    "    df = df[df[\"userId\"] >= 0] #filter Nan\n",
    "    df.loc[:,\"eventdate\"] = df[\"eventdate\"].apply(lambda date : datetime.fromisoformat(date))\n",
    "    df = df.sort_values(by=\"eventdate\", ascending=False)\n",
    "    most_recent = list(df[\"eventdate\"])[0]\n",
    "    #get time since most recent date and then convert to int\n",
    "    df.loc[:, \"days since\"] = df[\"eventdate\"].apply(lambda date : int(str(most_recent - date).split()[0]))\n",
    "    df[\"rating\"] = rating\n",
    "    return df\n",
    "\n",
    "def init_arrays(records, user_i, item_i):\n",
    "    num_users = len(user_i)\n",
    "    num_items = len(item_i)\n",
    "    #use uint8 to save memory\n",
    "    T = np.full((num_users, num_items), 255, dtype=\"uint8\")\n",
    "    C = np.zeros((num_users, num_items), dtype=\"uint8\")    \n",
    "    for row in records:\n",
    "        user, item, time, rating = row[0], row[1], row[2], row[3]\n",
    "        i = user_i[user]\n",
    "        j = item_i[item]\n",
    "        best_rating = C[i][j]\n",
    "        best_time = T[i][j]\n",
    "        if rating >= best_rating and time < best_time:\n",
    "            C[i][j] = rating\n",
    "            T[i][j] = time\n",
    "    return C, T\n",
    "\n",
    "def build_arrays(combined):\n",
    "    combined_items = list(combined[\"itemId\"])\n",
    "    unique_items = list(set(combined_items))\n",
    "    combined_users = [int(u) for u in list(combined[\"userId\"])]\n",
    "    unique_users = list(set(combined_users))\n",
    "    combined_time = list(combined[\"days since\"])\n",
    "    combined_ratings = list(combined[\"rating\"])\n",
    "    records = zip(combined_users, combined_items, combined_time, combined_ratings)\n",
    "    item_i = {item : i for i, item in enumerate(unique_items)}\n",
    "    user_i = {user : i for i, user  in enumerate(unique_users)}\n",
    "    C, T = init_arrays(records, user_i, item_i)\n",
    "    return C, T, user_i, item_i\n",
    "\n",
    "\"\"\"This function builds the arrays C and T from 4 raw data files. Although train-queries is not used directly,\n",
    "it has the informations linking query and time that allows us to assign dates and users to clicks\"\"\"\n",
    "def main_extraction(view_path='../data/train-item-views.csv', purchase_path='../data/train-purchases.csv',\n",
    "                    click_path='../data/train-clicks.csv', query_path=\"../data/train-queries.csv\"):\n",
    "    query_dates, query_users = get_query_info(query_path)\n",
    "    view = pd.read_csv(view_path, sep=';')\n",
    "    purchase = pd.read_csv(purchase_path, sep=';')\n",
    "    click = pd.read_csv(click_path, sep=';')\n",
    "    click.loc[:,\"eventdate\"] = click[\"queryId\"].apply(lambda q : query_dates[q])\n",
    "    click.loc[:,\"userId\"] = click[\"queryId\"].apply(lambda q : query_users[q])\n",
    "    #Purchases > views > clicks > nothing\n",
    "    purchases = time_and_rating(purchase, 3)\n",
    "    views = time_and_rating(view, 2)\n",
    "    clicks = time_and_rating(click, 1)\n",
    "    data = [clicks, views, purchases]\n",
    "    combined = pd.concat(data)\n",
    "    C, T, users, items = build_arrays(combined)\n",
    "    return C,T, users, items\n",
    "\n",
    "\n",
    "\n",
    "\n"
   ]
  },
  {
   "cell_type": "code",
   "execution_count": 5,
   "metadata": {},
   "outputs": [
    {
     "name": "stderr",
     "output_type": "stream",
     "text": [
      "C:\\Users\\rasul\\anaconda3\\lib\\site-packages\\IPython\\core\\interactiveshell.py:3418: DtypeWarning: Columns (6) have mixed types.Specify dtype option on import or set low_memory=False.\n",
      "  exec(code_obj, self.user_global_ns, self.user_ns)\n"
     ]
    }
   ],
   "source": [
    "#Matrices and dictionaries converting user/item IDs to indices\n",
    "C,T, users, items = main_extraction()"
   ]
  },
  {
   "cell_type": "code",
   "execution_count": 8,
   "metadata": {},
   "outputs": [],
   "source": [
    "#np.save(\"rating_matrix.npy\", C)\n",
    "#np.save(\"time_matrix.npy\", T)\n",
    "#with open('user_index.csv','w') as f:\n",
    "#    w = csv.writer(f)\n",
    "#    w.writerows(users.items())\n",
    "#with open('item_index.csv','w') as f:\n",
    "#    w = csv.writer(f)\n",
    "#    w.writerows(items.items())"
   ]
  }
 ],
 "metadata": {
  "kernelspec": {
   "display_name": "Python 3",
   "language": "python",
   "name": "python3"
  },
  "language_info": {
   "codemirror_mode": {
    "name": "ipython",
    "version": 3
   },
   "file_extension": ".py",
   "mimetype": "text/x-python",
   "name": "python",
   "nbconvert_exporter": "python",
   "pygments_lexer": "ipython3",
   "version": "3.8.5"
  }
 },
 "nbformat": 4,
 "nbformat_minor": 4
}
