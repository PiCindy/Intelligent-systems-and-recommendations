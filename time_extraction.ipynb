{
 "cells": [
  {
   "cell_type": "code",
   "execution_count": 75,
   "metadata": {},
   "outputs": [],
   "source": [
    "import pandas as pd\n",
    "from datetime import datetime\n",
    "view = pd.read_csv('../data/train-item-views.csv', sep=';')\n",
    "purchase = pd.read_csv('../data/train-purchases.csv', sep=';')\n",
    "#dates YYYY-MM-DD"
   ]
  },
  {
   "cell_type": "code",
   "execution_count": 78,
   "metadata": {},
   "outputs": [],
   "source": [
    "def time_and_rating(df, rating):\n",
    "    df = df.loc[:, [\"itemId\", \"eventdate\", \"userId\"]]\n",
    "    df = df[df[\"userId\"] >= 1] #filter Nan\n",
    "    df.loc[:,\"eventdate\"] = df[\"eventdate\"].apply(lambda date : datetime.fromisoformat(date))\n",
    "    df = df.sort_values(by=\"eventdate\", ascending=False)\n",
    "    most_recent = list(df[\"eventdate\"])[0]\n",
    "    df.loc[:, \"eventdate\"] = df[\"eventdate\"].apply(lambda date : most_recent - date)\n",
    "    df[\"rating\"] = rating\n",
    "    return df\n"
   ]
  },
  {
   "cell_type": "code",
   "execution_count": 79,
   "metadata": {},
   "outputs": [
    {
     "data": {
      "text/html": [
       "<div>\n",
       "<style scoped>\n",
       "    .dataframe tbody tr th:only-of-type {\n",
       "        vertical-align: middle;\n",
       "    }\n",
       "\n",
       "    .dataframe tbody tr th {\n",
       "        vertical-align: top;\n",
       "    }\n",
       "\n",
       "    .dataframe thead th {\n",
       "        text-align: right;\n",
       "    }\n",
       "</style>\n",
       "<table border=\"1\" class=\"dataframe\">\n",
       "  <thead>\n",
       "    <tr style=\"text-align: right;\">\n",
       "      <th></th>\n",
       "      <th>itemId</th>\n",
       "      <th>eventdate</th>\n",
       "      <th>userId</th>\n",
       "      <th>rating</th>\n",
       "    </tr>\n",
       "  </thead>\n",
       "  <tbody>\n",
       "    <tr>\n",
       "      <th>576</th>\n",
       "      <td>4022</td>\n",
       "      <td>0 days</td>\n",
       "      <td>9871.0</td>\n",
       "      <td>3</td>\n",
       "    </tr>\n",
       "    <tr>\n",
       "      <th>12980</th>\n",
       "      <td>73093</td>\n",
       "      <td>2 days</td>\n",
       "      <td>17954.0</td>\n",
       "      <td>3</td>\n",
       "    </tr>\n",
       "    <tr>\n",
       "      <th>8324</th>\n",
       "      <td>173370</td>\n",
       "      <td>7 days</td>\n",
       "      <td>56642.0</td>\n",
       "      <td>3</td>\n",
       "    </tr>\n",
       "    <tr>\n",
       "      <th>8322</th>\n",
       "      <td>16191</td>\n",
       "      <td>7 days</td>\n",
       "      <td>56642.0</td>\n",
       "      <td>3</td>\n",
       "    </tr>\n",
       "    <tr>\n",
       "      <th>4741</th>\n",
       "      <td>90908</td>\n",
       "      <td>8 days</td>\n",
       "      <td>55132.0</td>\n",
       "      <td>3</td>\n",
       "    </tr>\n",
       "  </tbody>\n",
       "</table>\n",
       "</div>"
      ],
      "text/plain": [
       "       itemId eventdate   userId  rating\n",
       "576      4022    0 days   9871.0       3\n",
       "12980   73093    2 days  17954.0       3\n",
       "8324   173370    7 days  56642.0       3\n",
       "8322    16191    7 days  56642.0       3\n",
       "4741    90908    8 days  55132.0       3"
      ]
     },
     "execution_count": 79,
     "metadata": {},
     "output_type": "execute_result"
    }
   ],
   "source": [
    "purchases= time_and_rating(purchase, 3)\n",
    "purchases.head()\n"
   ]
  },
  {
   "cell_type": "code",
   "execution_count": 81,
   "metadata": {},
   "outputs": [
    {
     "data": {
      "text/html": [
       "<div>\n",
       "<style scoped>\n",
       "    .dataframe tbody tr th:only-of-type {\n",
       "        vertical-align: middle;\n",
       "    }\n",
       "\n",
       "    .dataframe tbody tr th {\n",
       "        vertical-align: top;\n",
       "    }\n",
       "\n",
       "    .dataframe thead th {\n",
       "        text-align: right;\n",
       "    }\n",
       "</style>\n",
       "<table border=\"1\" class=\"dataframe\">\n",
       "  <thead>\n",
       "    <tr style=\"text-align: right;\">\n",
       "      <th></th>\n",
       "      <th>itemId</th>\n",
       "      <th>eventdate</th>\n",
       "      <th>userId</th>\n",
       "      <th>rating</th>\n",
       "    </tr>\n",
       "  </thead>\n",
       "  <tbody>\n",
       "    <tr>\n",
       "      <th>664815</th>\n",
       "      <td>78211</td>\n",
       "      <td>0 days</td>\n",
       "      <td>91816.0</td>\n",
       "      <td>1</td>\n",
       "    </tr>\n",
       "    <tr>\n",
       "      <th>106862</th>\n",
       "      <td>198046</td>\n",
       "      <td>0 days</td>\n",
       "      <td>18515.0</td>\n",
       "      <td>1</td>\n",
       "    </tr>\n",
       "    <tr>\n",
       "      <th>106512</th>\n",
       "      <td>50909</td>\n",
       "      <td>0 days</td>\n",
       "      <td>18510.0</td>\n",
       "      <td>1</td>\n",
       "    </tr>\n",
       "    <tr>\n",
       "      <th>106513</th>\n",
       "      <td>33181</td>\n",
       "      <td>0 days</td>\n",
       "      <td>18510.0</td>\n",
       "      <td>1</td>\n",
       "    </tr>\n",
       "    <tr>\n",
       "      <th>106514</th>\n",
       "      <td>178555</td>\n",
       "      <td>0 days</td>\n",
       "      <td>18510.0</td>\n",
       "      <td>1</td>\n",
       "    </tr>\n",
       "  </tbody>\n",
       "</table>\n",
       "</div>"
      ],
      "text/plain": [
       "        itemId eventdate   userId  rating\n",
       "664815   78211    0 days  91816.0       1\n",
       "106862  198046    0 days  18515.0       1\n",
       "106512   50909    0 days  18510.0       1\n",
       "106513   33181    0 days  18510.0       1\n",
       "106514  178555    0 days  18510.0       1"
      ]
     },
     "execution_count": 81,
     "metadata": {},
     "output_type": "execute_result"
    }
   ],
   "source": [
    "views= time_and_rating(view, 1)\n",
    "views.head()"
   ]
  },
  {
   "cell_type": "code",
   "execution_count": null,
   "metadata": {},
   "outputs": [],
   "source": []
  }
 ],
 "metadata": {
  "kernelspec": {
   "display_name": "Python 3",
   "language": "python",
   "name": "python3"
  },
  "language_info": {
   "codemirror_mode": {
    "name": "ipython",
    "version": 3
   },
   "file_extension": ".py",
   "mimetype": "text/x-python",
   "name": "python",
   "nbconvert_exporter": "python",
   "pygments_lexer": "ipython3",
   "version": "3.8.5"
  }
 },
 "nbformat": 4,
 "nbformat_minor": 4
}
