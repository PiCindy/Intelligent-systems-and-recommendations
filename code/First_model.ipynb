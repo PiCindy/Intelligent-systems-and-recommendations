{
 "cells": [
  {
   "cell_type": "markdown",
   "id": "86da4d04",
   "metadata": {},
   "source": [
    "# Implementation of the first model: time-weighted feedback model"
   ]
  },
  {
   "cell_type": "markdown",
   "id": "fb2efba4",
   "metadata": {},
   "source": [
    "Let's suppose we have a Matrix C such that each value r_ij is the rating of item j by user i (i.e. if user i clicked / viewed / bought the item j)\n",
    "\n",
    "Let's suppose we have a Matrix T such that each value t_ij is the time of item j by user i (i.e. the last time that user i did the action r_ij on the item j)\n",
    "\n",
    "n: number of closest items to a specific item to compute\n",
    "\n",
    "K: number of clusters\n",
    "\n",
    "l: number of items to recommend"
   ]
  },
  {
   "cell_type": "markdown",
   "id": "e0ac7ae6",
   "metadata": {},
   "source": [
    "### Ratings: \n",
    "\n",
    "r_ij = 0 iff user i never bought nor viewed nor clicked the item j\n",
    "\n",
    "r_ij = 1 iff user i clicked the item j\n",
    "\n",
    "r_ij = 2 iff user i viewed the item j\n",
    "\n",
    "r_ij = 3 iff user i bought the item j"
   ]
  },
  {
   "cell_type": "code",
   "execution_count": 1,
   "id": "a41722a0",
   "metadata": {},
   "outputs": [],
   "source": [
    "import numpy as np\n",
    "import pandas as pd"
   ]
  },
  {
   "cell_type": "markdown",
   "id": "b4eb130e",
   "metadata": {},
   "source": [
    "## Variables"
   ]
  },
  {
   "cell_type": "code",
   "execution_count": 2,
   "id": "71871f48",
   "metadata": {},
   "outputs": [
    {
     "data": {
      "text/html": [
       "<div>\n",
       "<style scoped>\n",
       "    .dataframe tbody tr th:only-of-type {\n",
       "        vertical-align: middle;\n",
       "    }\n",
       "\n",
       "    .dataframe tbody tr th {\n",
       "        vertical-align: top;\n",
       "    }\n",
       "\n",
       "    .dataframe thead th {\n",
       "        text-align: right;\n",
       "    }\n",
       "</style>\n",
       "<table border=\"1\" class=\"dataframe\">\n",
       "  <thead>\n",
       "    <tr style=\"text-align: right;\">\n",
       "      <th></th>\n",
       "      <th>item0</th>\n",
       "      <th>item1</th>\n",
       "      <th>item2</th>\n",
       "      <th>item3</th>\n",
       "    </tr>\n",
       "  </thead>\n",
       "  <tbody>\n",
       "    <tr>\n",
       "      <th>user0</th>\n",
       "      <td>0</td>\n",
       "      <td>0</td>\n",
       "      <td>1</td>\n",
       "      <td>2</td>\n",
       "    </tr>\n",
       "    <tr>\n",
       "      <th>user1</th>\n",
       "      <td>2</td>\n",
       "      <td>3</td>\n",
       "      <td>0</td>\n",
       "      <td>3</td>\n",
       "    </tr>\n",
       "    <tr>\n",
       "      <th>user2</th>\n",
       "      <td>1</td>\n",
       "      <td>1</td>\n",
       "      <td>2</td>\n",
       "      <td>0</td>\n",
       "    </tr>\n",
       "  </tbody>\n",
       "</table>\n",
       "</div>"
      ],
      "text/plain": [
       "       item0  item1  item2  item3\n",
       "user0      0      0      1      2\n",
       "user1      2      3      0      3\n",
       "user2      1      1      2      0"
      ]
     },
     "execution_count": 2,
     "metadata": {},
     "output_type": "execute_result"
    }
   ],
   "source": [
    "df_ratings = pd.DataFrame(data = {'item0': [0, 2, 1],  'item1': [0, 3, 1], 'item2': [1, 0, 2],  'item3': [2, 3, 0]}, index=['user0', 'user1', 'user2'])\n",
    "df_ratings"
   ]
  },
  {
   "cell_type": "code",
   "execution_count": 3,
   "id": "026d5ca6",
   "metadata": {},
   "outputs": [
    {
     "data": {
      "text/html": [
       "<div>\n",
       "<style scoped>\n",
       "    .dataframe tbody tr th:only-of-type {\n",
       "        vertical-align: middle;\n",
       "    }\n",
       "\n",
       "    .dataframe tbody tr th {\n",
       "        vertical-align: top;\n",
       "    }\n",
       "\n",
       "    .dataframe thead th {\n",
       "        text-align: right;\n",
       "    }\n",
       "</style>\n",
       "<table border=\"1\" class=\"dataframe\">\n",
       "  <thead>\n",
       "    <tr style=\"text-align: right;\">\n",
       "      <th></th>\n",
       "      <th>item0</th>\n",
       "      <th>item1</th>\n",
       "      <th>item2</th>\n",
       "      <th>item3</th>\n",
       "    </tr>\n",
       "  </thead>\n",
       "  <tbody>\n",
       "    <tr>\n",
       "      <th>user0</th>\n",
       "      <td>658</td>\n",
       "      <td>735</td>\n",
       "      <td>500</td>\n",
       "      <td>800</td>\n",
       "    </tr>\n",
       "    <tr>\n",
       "      <th>user1</th>\n",
       "      <td>2350</td>\n",
       "      <td>3606</td>\n",
       "      <td>4000</td>\n",
       "      <td>2006</td>\n",
       "    </tr>\n",
       "    <tr>\n",
       "      <th>user2</th>\n",
       "      <td>15232</td>\n",
       "      <td>14787</td>\n",
       "      <td>15986</td>\n",
       "      <td>14642</td>\n",
       "    </tr>\n",
       "  </tbody>\n",
       "</table>\n",
       "</div>"
      ],
      "text/plain": [
       "       item0  item1  item2  item3\n",
       "user0    658    735    500    800\n",
       "user1   2350   3606   4000   2006\n",
       "user2  15232  14787  15986  14642"
      ]
     },
     "execution_count": 3,
     "metadata": {},
     "output_type": "execute_result"
    }
   ],
   "source": [
    "df_time = pd.DataFrame(data = {'item0': [658, 2350, 15232],  'item1': [735, 3606, 14787], 'item2': [500, 4000, 15986],  'item3': [800, 2006, 14642]}, index=['user0', 'user1', 'user2'])\n",
    "df_time"
   ]
  },
  {
   "cell_type": "code",
   "execution_count": 4,
   "id": "c9d415d7",
   "metadata": {},
   "outputs": [],
   "source": [
    "C = df_ratings.values\n",
    "T = df_time.values\n",
    "n = 2\n",
    "K = 2\n",
    "l = 2"
   ]
  },
  {
   "cell_type": "code",
   "execution_count": 5,
   "id": "8041c597",
   "metadata": {},
   "outputs": [
    {
     "data": {
      "text/plain": [
       "dtype('int64')"
      ]
     },
     "execution_count": 5,
     "metadata": {},
     "output_type": "execute_result"
    }
   ],
   "source": [
    "C.dtype"
   ]
  },
  {
   "cell_type": "markdown",
   "id": "f41ee8db",
   "metadata": {},
   "source": [
    "## Extraction of variables"
   ]
  },
  {
   "cell_type": "code",
   "execution_count": 6,
   "id": "43fe2018",
   "metadata": {},
   "outputs": [],
   "source": [
    "C = np.load('rating_matrix.npy')\n",
    "T = np.load('time_matrix.npy')\n",
    "n = 2\n",
    "K = 2\n",
    "l = 2"
   ]
  },
  {
   "cell_type": "code",
   "execution_count": 7,
   "id": "b3c7b0b0",
   "metadata": {},
   "outputs": [],
   "source": [
    "item_id = pd.read_csv('item_index.csv', header=None)"
   ]
  },
  {
   "cell_type": "code",
   "execution_count": 8,
   "id": "b12eee99",
   "metadata": {},
   "outputs": [
    {
     "data": {
      "text/html": [
       "<div>\n",
       "<style scoped>\n",
       "    .dataframe tbody tr th:only-of-type {\n",
       "        vertical-align: middle;\n",
       "    }\n",
       "\n",
       "    .dataframe tbody tr th {\n",
       "        vertical-align: top;\n",
       "    }\n",
       "\n",
       "    .dataframe thead th {\n",
       "        text-align: right;\n",
       "    }\n",
       "</style>\n",
       "<table border=\"1\" class=\"dataframe\">\n",
       "  <thead>\n",
       "    <tr style=\"text-align: right;\">\n",
       "      <th></th>\n",
       "      <th>0</th>\n",
       "      <th>1</th>\n",
       "    </tr>\n",
       "  </thead>\n",
       "  <tbody>\n",
       "    <tr>\n",
       "      <th>0</th>\n",
       "      <td>40156</td>\n",
       "      <td>0</td>\n",
       "    </tr>\n",
       "    <tr>\n",
       "      <th>1</th>\n",
       "      <td>15632</td>\n",
       "      <td>1</td>\n",
       "    </tr>\n",
       "    <tr>\n",
       "      <th>2</th>\n",
       "      <td>36956</td>\n",
       "      <td>2</td>\n",
       "    </tr>\n",
       "    <tr>\n",
       "      <th>3</th>\n",
       "      <td>34157</td>\n",
       "      <td>3</td>\n",
       "    </tr>\n",
       "    <tr>\n",
       "      <th>4</th>\n",
       "      <td>4953</td>\n",
       "      <td>4</td>\n",
       "    </tr>\n",
       "    <tr>\n",
       "      <th>...</th>\n",
       "      <td>...</td>\n",
       "      <td>...</td>\n",
       "    </tr>\n",
       "    <tr>\n",
       "      <th>2995</th>\n",
       "      <td>2253</td>\n",
       "      <td>2995</td>\n",
       "    </tr>\n",
       "    <tr>\n",
       "      <th>2996</th>\n",
       "      <td>2406</td>\n",
       "      <td>2996</td>\n",
       "    </tr>\n",
       "    <tr>\n",
       "      <th>2997</th>\n",
       "      <td>2463</td>\n",
       "      <td>2997</td>\n",
       "    </tr>\n",
       "    <tr>\n",
       "      <th>2998</th>\n",
       "      <td>2556</td>\n",
       "      <td>2998</td>\n",
       "    </tr>\n",
       "    <tr>\n",
       "      <th>2999</th>\n",
       "      <td>2666</td>\n",
       "      <td>2999</td>\n",
       "    </tr>\n",
       "  </tbody>\n",
       "</table>\n",
       "<p>3000 rows × 2 columns</p>\n",
       "</div>"
      ],
      "text/plain": [
       "          0     1\n",
       "0     40156     0\n",
       "1     15632     1\n",
       "2     36956     2\n",
       "3     34157     3\n",
       "4      4953     4\n",
       "...     ...   ...\n",
       "2995   2253  2995\n",
       "2996   2406  2996\n",
       "2997   2463  2997\n",
       "2998   2556  2998\n",
       "2999   2666  2999\n",
       "\n",
       "[3000 rows x 2 columns]"
      ]
     },
     "execution_count": 8,
     "metadata": {},
     "output_type": "execute_result"
    }
   ],
   "source": [
    "item_id"
   ]
  },
  {
   "cell_type": "code",
   "execution_count": 9,
   "id": "98278a3d",
   "metadata": {},
   "outputs": [
    {
     "data": {
      "text/plain": [
       "4953"
      ]
     },
     "execution_count": 9,
     "metadata": {},
     "output_type": "execute_result"
    }
   ],
   "source": [
    "int(item_id[item_id[1] == 4][0])"
   ]
  },
  {
   "cell_type": "code",
   "execution_count": 10,
   "id": "aebdba93",
   "metadata": {},
   "outputs": [
    {
     "data": {
      "text/plain": [
       "[40156,\n",
       " 15632,\n",
       " 36956,\n",
       " 34157,\n",
       " 4953,\n",
       " 14614,\n",
       " 32394,\n",
       " 32769,\n",
       " 31013,\n",
       " 14889,\n",
       " 9186,\n",
       " 14179,\n",
       " 4099,\n",
       " 14784,\n",
       " 6576,\n",
       " 43548,\n",
       " 49272,\n",
       " 1049,\n",
       " 7017,\n",
       " 6445,\n",
       " 1364,\n",
       " 2843,\n",
       " 6909,\n",
       " 375755,\n",
       " 6249,\n",
       " 10858,\n",
       " 75457,\n",
       " 332,\n",
       " 8758,\n",
       " 11986,\n",
       " 13831,\n",
       " 30340,\n",
       " 32757,\n",
       " 67334,\n",
       " 35015,\n",
       " 36462,\n",
       " 375069,\n",
       " 4453,\n",
       " 6327,\n",
       " 7101,\n",
       " 60992,\n",
       " 9654,\n",
       " 10274,\n",
       " 4954,\n",
       " 8047,\n",
       " 11542,\n",
       " 60638,\n",
       " 131151,\n",
       " 5285,\n",
       " 10573,\n",
       " 14515,\n",
       " 25769,\n",
       " 35889,\n",
       " 67792,\n",
       " 103581,\n",
       " 12970,\n",
       " 30711,\n",
       " 34952,\n",
       " 36121,\n",
       " 36351,\n",
       " 82984,\n",
       " 128733,\n",
       " 129045,\n",
       " 7771,\n",
       " 15394,\n",
       " 30440,\n",
       " 32138,\n",
       " 64884,\n",
       " 3511,\n",
       " 7258,\n",
       " 33073,\n",
       " 35383,\n",
       " 81684,\n",
       " 2905,\n",
       " 6828,\n",
       " 14520,\n",
       " 35311,\n",
       " 36083,\n",
       " 36780,\n",
       " 73719,\n",
       " 76663,\n",
       " 88855,\n",
       " 89764,\n",
       " 381164,\n",
       " 594,\n",
       " 768,\n",
       " 918,\n",
       " 7107,\n",
       " 8960,\n",
       " 14096,\n",
       " 53294,\n",
       " 68131,\n",
       " 79141,\n",
       " 2866,\n",
       " 3113,\n",
       " 7096,\n",
       " 7492,\n",
       " 22046,\n",
       " 34797,\n",
       " 34972,\n",
       " 35378,\n",
       " 35734,\n",
       " 49920,\n",
       " 69276,\n",
       " 70368,\n",
       " 181750,\n",
       " 1255,\n",
       " 1702,\n",
       " 2322,\n",
       " 2453,\n",
       " 5275,\n",
       " 5400,\n",
       " 7268,\n",
       " 7589,\n",
       " 9582,\n",
       " 30720,\n",
       " 35106,\n",
       " 36992,\n",
       " 74782,\n",
       " 90068,\n",
       " 90884,\n",
       " 124306,\n",
       " 126492,\n",
       " 45,\n",
       " 488,\n",
       " 1189,\n",
       " 1253,\n",
       " 2633,\n",
       " 4523,\n",
       " 6961,\n",
       " 9460,\n",
       " 14620,\n",
       " 32826,\n",
       " 34804,\n",
       " 36334,\n",
       " 40986,\n",
       " 90565,\n",
       " 204060,\n",
       " 2115,\n",
       " 2377,\n",
       " 3093,\n",
       " 3439,\n",
       " 6240,\n",
       " 6582,\n",
       " 7985,\n",
       " 10147,\n",
       " 16652,\n",
       " 30792,\n",
       " 34990,\n",
       " 35261,\n",
       " 36885,\n",
       " 57539,\n",
       " 64100,\n",
       " 89725,\n",
       " 6428,\n",
       " 7005,\n",
       " 8000,\n",
       " 8848,\n",
       " 9752,\n",
       " 10352,\n",
       " 11250,\n",
       " 11700,\n",
       " 11816,\n",
       " 274954,\n",
       " 13327,\n",
       " 17415,\n",
       " 23370,\n",
       " 30059,\n",
       " 31160,\n",
       " 32135,\n",
       " 32756,\n",
       " 57107,\n",
       " 62086,\n",
       " 70797,\n",
       " 81988,\n",
       " 387,\n",
       " 777,\n",
       " 2399,\n",
       " 3138,\n",
       " 5288,\n",
       " 11000,\n",
       " 12726,\n",
       " 20486,\n",
       " 24935,\n",
       " 33567,\n",
       " 35369,\n",
       " 36101,\n",
       " 41874,\n",
       " 46935,\n",
       " 58565,\n",
       " 83866,\n",
       " 84405,\n",
       " 87320,\n",
       " 377089,\n",
       " 126325,\n",
       " 128785,\n",
       " 142338,\n",
       " 204989,\n",
       " 764,\n",
       " 2815,\n",
       " 2820,\n",
       " 3655,\n",
       " 4562,\n",
       " 4885,\n",
       " 5582,\n",
       " 6297,\n",
       " 6440,\n",
       " 6850,\n",
       " 7481,\n",
       " 8104,\n",
       " 9249,\n",
       " 10354,\n",
       " 10617,\n",
       " 13283,\n",
       " 25149,\n",
       " 25645,\n",
       " 30165,\n",
       " 31395,\n",
       " 31629,\n",
       " 34401,\n",
       " 43546,\n",
       " 45852,\n",
       " 47586,\n",
       " 74925,\n",
       " 76264,\n",
       " 83484,\n",
       " 379857,\n",
       " 133052,\n",
       " 169560,\n",
       " 465,\n",
       " 2756,\n",
       " 2863,\n",
       " 2920,\n",
       " 3148,\n",
       " 4320,\n",
       " 6870,\n",
       " 6913,\n",
       " 7956,\n",
       " 9476,\n",
       " 13360,\n",
       " 14447,\n",
       " 14526,\n",
       " 23016,\n",
       " 23284,\n",
       " 30739,\n",
       " 41750,\n",
       " 49585,\n",
       " 58385,\n",
       " 68530,\n",
       " 68986,\n",
       " 80317,\n",
       " 90273,\n",
       " 90622,\n",
       " 376727,\n",
       " 128634,\n",
       " 188217,\n",
       " 60,\n",
       " 913,\n",
       " 1356,\n",
       " 3489,\n",
       " 4950,\n",
       " 7010,\n",
       " 8159,\n",
       " 9617,\n",
       " 10607,\n",
       " 12962,\n",
       " 13293,\n",
       " 13629,\n",
       " 14536,\n",
       " 14860,\n",
       " 14912,\n",
       " 34382,\n",
       " 35980,\n",
       " 40464,\n",
       " 46871,\n",
       " 48576,\n",
       " 58166,\n",
       " 58736,\n",
       " 66004,\n",
       " 68398,\n",
       " 80451,\n",
       " 376973,\n",
       " 388617,\n",
       " 801,\n",
       " 5031,\n",
       " 6848,\n",
       " 7015,\n",
       " 8028,\n",
       " 9642,\n",
       " 10746,\n",
       " 10805,\n",
       " 11057,\n",
       " 11354,\n",
       " 13960,\n",
       " 22894,\n",
       " 27312,\n",
       " 28821,\n",
       " 30580,\n",
       " 30895,\n",
       " 31313,\n",
       " 31570,\n",
       " 31574,\n",
       " 32327,\n",
       " 32665,\n",
       " 33159,\n",
       " 34968,\n",
       " 35772,\n",
       " 35888,\n",
       " 36548,\n",
       " 36642,\n",
       " 36688,\n",
       " 36881,\n",
       " 36884,\n",
       " 47357,\n",
       " 47818,\n",
       " 57583,\n",
       " 58958,\n",
       " 67416,\n",
       " 68533,\n",
       " 69350,\n",
       " 69390,\n",
       " 79178,\n",
       " 79956,\n",
       " 85469,\n",
       " 86715,\n",
       " 90035,\n",
       " 98665,\n",
       " 375219,\n",
       " 376414,\n",
       " 380074,\n",
       " 381687,\n",
       " 124630,\n",
       " 125290,\n",
       " 126514,\n",
       " 392208,\n",
       " 130138,\n",
       " 161039,\n",
       " 923,\n",
       " 1805,\n",
       " 3011,\n",
       " 3666,\n",
       " 3719,\n",
       " 5583,\n",
       " 5659,\n",
       " 7249,\n",
       " 7783,\n",
       " 8158,\n",
       " 8383,\n",
       " 8742,\n",
       " 10787,\n",
       " 11385,\n",
       " 12208,\n",
       " 12862,\n",
       " 13804,\n",
       " 23945,\n",
       " 24058,\n",
       " 25348,\n",
       " 27268,\n",
       " 32005,\n",
       " 33969,\n",
       " 34038,\n",
       " 34154,\n",
       " 34472,\n",
       " 35473,\n",
       " 39353,\n",
       " 53307,\n",
       " 60663,\n",
       " 68981,\n",
       " 68984,\n",
       " 79218,\n",
       " 80334,\n",
       " 90774,\n",
       " 374791,\n",
       " 376301,\n",
       " 383035,\n",
       " 122788,\n",
       " 204767,\n",
       " 208817,\n",
       " 882,\n",
       " 1285,\n",
       " 1839,\n",
       " 1907,\n",
       " 1981,\n",
       " 2279,\n",
       " 2919,\n",
       " 3122,\n",
       " 3395,\n",
       " 3541,\n",
       " 5301,\n",
       " 7020,\n",
       " 7095,\n",
       " 8342,\n",
       " 10295,\n",
       " 11338,\n",
       " 11945,\n",
       " 12948,\n",
       " 13064,\n",
       " 14622,\n",
       " 14850,\n",
       " 18723,\n",
       " 20675,\n",
       " 26219,\n",
       " 30761,\n",
       " 30975,\n",
       " 31092,\n",
       " 31710,\n",
       " 32338,\n",
       " 33459,\n",
       " 33890,\n",
       " 34915,\n",
       " 36255,\n",
       " 36602,\n",
       " 36643,\n",
       " 38268,\n",
       " 45487,\n",
       " 45949,\n",
       " 46007,\n",
       " 57283,\n",
       " 58131,\n",
       " 58579,\n",
       " 59203,\n",
       " 60913,\n",
       " 67313,\n",
       " 78666,\n",
       " 80645,\n",
       " 84268,\n",
       " 88729,\n",
       " 90568,\n",
       " 125065,\n",
       " 128781,\n",
       " 131257,\n",
       " 162348,\n",
       " 171541,\n",
       " 175658,\n",
       " 260206,\n",
       " 1260,\n",
       " 1705,\n",
       " 2921,\n",
       " 3024,\n",
       " 5132,\n",
       " 5417,\n",
       " 6566,\n",
       " 8329,\n",
       " 8597,\n",
       " 8826,\n",
       " 9539,\n",
       " 9699,\n",
       " 9971,\n",
       " 10177,\n",
       " 10450,\n",
       " 10467,\n",
       " 10691,\n",
       " 10747,\n",
       " 10951,\n",
       " 11815,\n",
       " 12792,\n",
       " 12841,\n",
       " 13520,\n",
       " 13851,\n",
       " 14248,\n",
       " 14408,\n",
       " 14517,\n",
       " 14596,\n",
       " 15397,\n",
       " 15555,\n",
       " 16553,\n",
       " 17885,\n",
       " 18174,\n",
       " 19149,\n",
       " 20313,\n",
       " 22135,\n",
       " 30181,\n",
       " 30981,\n",
       " 31322,\n",
       " 31511,\n",
       " 31981,\n",
       " 32209,\n",
       " 34491,\n",
       " 35150,\n",
       " 36364,\n",
       " 36685,\n",
       " 37082,\n",
       " 37787,\n",
       " 44119,\n",
       " 46931,\n",
       " 49804,\n",
       " 51974,\n",
       " 55952,\n",
       " 59345,\n",
       " 59851,\n",
       " 62904,\n",
       " 64246,\n",
       " 64359,\n",
       " 65921,\n",
       " 69421,\n",
       " 71394,\n",
       " 77232,\n",
       " 80043,\n",
       " 82729,\n",
       " 88379,\n",
       " 89941,\n",
       " 95219,\n",
       " 95808,\n",
       " 105842,\n",
       " 128197,\n",
       " 130771,\n",
       " 131160,\n",
       " 134226,\n",
       " 136400,\n",
       " 403671,\n",
       " 173672,\n",
       " 192930,\n",
       " 504,\n",
       " 647,\n",
       " 907,\n",
       " 2148,\n",
       " 2670,\n",
       " 3617,\n",
       " 5413,\n",
       " 5516,\n",
       " 5766,\n",
       " 5787,\n",
       " 6544,\n",
       " 7821,\n",
       " 8078,\n",
       " 8320,\n",
       " 8886,\n",
       " 9879,\n",
       " 9989,\n",
       " 10133,\n",
       " 10162,\n",
       " 10196,\n",
       " 10565,\n",
       " 12262,\n",
       " 12315,\n",
       " 12316,\n",
       " 12352,\n",
       " 12445,\n",
       " 13695,\n",
       " 13931,\n",
       " 14127,\n",
       " 14311,\n",
       " 14529,\n",
       " 14896,\n",
       " 18790,\n",
       " 19909,\n",
       " 24566,\n",
       " 25270,\n",
       " 28195,\n",
       " 30084,\n",
       " 30122,\n",
       " 30248,\n",
       " 30539,\n",
       " 31083,\n",
       " 32758,\n",
       " 34641,\n",
       " 35409,\n",
       " 35418,\n",
       " 36425,\n",
       " 46895,\n",
       " 47017,\n",
       " 48439,\n",
       " 49115,\n",
       " 51304,\n",
       " 53598,\n",
       " 54168,\n",
       " 57674,\n",
       " 57961,\n",
       " 63532,\n",
       " 68966,\n",
       " 68979,\n",
       " 69013,\n",
       " 70487,\n",
       " 71376,\n",
       " 74837,\n",
       " 77299,\n",
       " 80428,\n",
       " 83849,\n",
       " 90621,\n",
       " 90732,\n",
       " 375888,\n",
       " 375966,\n",
       " 377403,\n",
       " 129850,\n",
       " 160851,\n",
       " 178919,\n",
       " 197670,\n",
       " 203487,\n",
       " 206093,\n",
       " 110,\n",
       " 1087,\n",
       " 1788,\n",
       " 2006,\n",
       " 2176,\n",
       " 2645,\n",
       " 2723,\n",
       " 2877,\n",
       " 3131,\n",
       " 4076,\n",
       " 4168,\n",
       " 5033,\n",
       " 5140,\n",
       " 5780,\n",
       " 5951,\n",
       " 7442,\n",
       " 7726,\n",
       " 8328,\n",
       " 9291,\n",
       " 9992,\n",
       " 10276,\n",
       " 11123,\n",
       " 11183,\n",
       " 11377,\n",
       " 12034,\n",
       " 13693,\n",
       " 13791,\n",
       " 14027,\n",
       " 14072,\n",
       " 14098,\n",
       " 14383,\n",
       " 14448,\n",
       " 14652,\n",
       " 14895,\n",
       " 16002,\n",
       " 19636,\n",
       " 21890,\n",
       " 21958,\n",
       " 22702,\n",
       " 23180,\n",
       " 24167,\n",
       " 25043,\n",
       " 25273,\n",
       " 25432,\n",
       " 28593,\n",
       " 29545,\n",
       " 30329,\n",
       " 31400,\n",
       " 32216,\n",
       " 32268,\n",
       " 33050,\n",
       " 33111,\n",
       " 33228,\n",
       " 33313,\n",
       " 33525,\n",
       " 34142,\n",
       " 34698,\n",
       " 35235,\n",
       " 35408,\n",
       " 36340,\n",
       " 36608,\n",
       " 37156,\n",
       " 40126,\n",
       " 41935,\n",
       " 42482,\n",
       " 43530,\n",
       " 44064,\n",
       " 45925,\n",
       " 47765,\n",
       " 47926,\n",
       " 49790,\n",
       " 51221,\n",
       " 55074,\n",
       " 58638,\n",
       " 59000,\n",
       " 68072,\n",
       " 68996,\n",
       " 69042,\n",
       " 69239,\n",
       " 69867,\n",
       " 70989,\n",
       " 79130,\n",
       " 80461,\n",
       " 81081,\n",
       " 82091,\n",
       " 83920,\n",
       " 90483,\n",
       " 90743,\n",
       " 102323,\n",
       " 113634,\n",
       " 376952,\n",
       " 121986,\n",
       " 124958,\n",
       " 125140,\n",
       " 125851,\n",
       " 128966,\n",
       " 132840,\n",
       " 136025,\n",
       " 136227,\n",
       " 140129,\n",
       " 415713,\n",
       " 176017,\n",
       " 181658,\n",
       " 194221,\n",
       " 203488,\n",
       " 204820,\n",
       " 211659,\n",
       " 374,\n",
       " 704,\n",
       " 894,\n",
       " 1596,\n",
       " 1979,\n",
       " 2103,\n",
       " 2160,\n",
       " 2229,\n",
       " 2521,\n",
       " 2581,\n",
       " 2650,\n",
       " 2750,\n",
       " 3115,\n",
       " 3299,\n",
       " 3687,\n",
       " 4053,\n",
       " 4540,\n",
       " 5348,\n",
       " 5414,\n",
       " 5513,\n",
       " 5521,\n",
       " 5819,\n",
       " 6469,\n",
       " 6665,\n",
       " 6779,\n",
       " 6875,\n",
       " 7075,\n",
       " 7360,\n",
       " 7457,\n",
       " 7685,\n",
       " 8008,\n",
       " 8022,\n",
       " 8327,\n",
       " 8404,\n",
       " 9154,\n",
       " 9313,\n",
       " 9338,\n",
       " 9437,\n",
       " 9515,\n",
       " 9571,\n",
       " 9616,\n",
       " 10091,\n",
       " 10301,\n",
       " 11135,\n",
       " 11519,\n",
       " 11693,\n",
       " 12072,\n",
       " 12221,\n",
       " 12449,\n",
       " 13029,\n",
       " 13296,\n",
       " 13362,\n",
       " 13630,\n",
       " 13696,\n",
       " 13972,\n",
       " 14869,\n",
       " 15998,\n",
       " 16148,\n",
       " 17828,\n",
       " 19872,\n",
       " 19906,\n",
       " 19944,\n",
       " 20925,\n",
       " 21133,\n",
       " 23724,\n",
       " 24546,\n",
       " 24674,\n",
       " 24755,\n",
       " 25189,\n",
       " 25211,\n",
       " 25257,\n",
       " 25287,\n",
       " 27174,\n",
       " 27198,\n",
       " 29685,\n",
       " 30254,\n",
       " 30370,\n",
       " 30507,\n",
       " 30572,\n",
       " 30591,\n",
       " 30817,\n",
       " 30894,\n",
       " 30996,\n",
       " 31484,\n",
       " 31793,\n",
       " 32090,\n",
       " 32255,\n",
       " 32408,\n",
       " 32773,\n",
       " 32870,\n",
       " 33177,\n",
       " 33404,\n",
       " 33644,\n",
       " 34053,\n",
       " 34190,\n",
       " 34260,\n",
       " 34310,\n",
       " 35051,\n",
       " 35380,\n",
       " 35381,\n",
       " 35404,\n",
       " 35967,\n",
       " 36195,\n",
       " 36322,\n",
       " 36333,\n",
       " 36522,\n",
       " 36732,\n",
       " 37451,\n",
       " 37940,\n",
       " 38817,\n",
       " 39068,\n",
       " 39360,\n",
       " 45493,\n",
       " 46840,\n",
       " 47792,\n",
       " 47917,\n",
       " 49562,\n",
       " 53484,\n",
       " 54803,\n",
       " 58581,\n",
       " 59312,\n",
       " 61431,\n",
       " 64821,\n",
       " 65027,\n",
       " 65360,\n",
       " 67311,\n",
       " 69179,\n",
       " 71236,\n",
       " 71299,\n",
       " 72190,\n",
       " 74109,\n",
       " 74887,\n",
       " 80133,\n",
       " 81439,\n",
       " 83190,\n",
       " 85517,\n",
       " 85849,\n",
       " 85888,\n",
       " 86216,\n",
       " 89283,\n",
       " 89286,\n",
       " 99648,\n",
       " 102819,\n",
       " 103161,\n",
       " 376542,\n",
       " 378421,\n",
       " 126435,\n",
       " 128087,\n",
       " 128778,\n",
       " 128833,\n",
       " 130883,\n",
       " 132173,\n",
       " 136360,\n",
       " 137028,\n",
       " 160109,\n",
       " 175626,\n",
       " 175655,\n",
       " 255379,\n",
       " 49,\n",
       " 170,\n",
       " 474,\n",
       " 607,\n",
       " 2389,\n",
       " 2395,\n",
       " 3043,\n",
       " 3205,\n",
       " 4535,\n",
       " 5186,\n",
       " 5293,\n",
       " 5446,\n",
       " 5595,\n",
       " 5949,\n",
       " 6422,\n",
       " 6572,\n",
       " 6681,\n",
       " 6731,\n",
       " 6837,\n",
       " 6935,\n",
       " 7016,\n",
       " 7250,\n",
       " 7276,\n",
       " 7730,\n",
       " 8867,\n",
       " 9053,\n",
       " 9308,\n",
       " 9758,\n",
       " 9794,\n",
       " 10182,\n",
       " 10992,\n",
       " 11180,\n",
       " 11616,\n",
       " 11908,\n",
       " 12336,\n",
       " 13077,\n",
       " 13557,\n",
       " 13749,\n",
       " 13841,\n",
       " 14000,\n",
       " 14210,\n",
       " 14289,\n",
       " 14530,\n",
       " 14890,\n",
       " 16470,\n",
       " 19155,\n",
       " 281512,\n",
       " 19556,\n",
       " 19823,\n",
       " 19850,\n",
       " 24773,\n",
       " 25487,\n",
       " 28794,\n",
       " 29847,\n",
       " 30444,\n",
       " 30627,\n",
       " 31027,\n",
       " 31053,\n",
       " 31273,\n",
       " 31375,\n",
       " 31460,\n",
       " 31923,\n",
       " 32464,\n",
       " 32718,\n",
       " 33157,\n",
       " 33416,\n",
       " 34216,\n",
       " 34911,\n",
       " 35267,\n",
       " 35297,\n",
       " 35714,\n",
       " 36461,\n",
       " 36473,\n",
       " 36734,\n",
       " 36796,\n",
       " 37311,\n",
       " 38460,\n",
       " 39320,\n",
       " 40210,\n",
       " 40546,\n",
       " 45326,\n",
       " 47289,\n",
       " 47625,\n",
       " 47902,\n",
       " 49766,\n",
       " 50472,\n",
       " 51459,\n",
       " 57526,\n",
       " 58026,\n",
       " 58181,\n",
       " 60636,\n",
       " 60709,\n",
       " 63768,\n",
       " 68663,\n",
       " 68980,\n",
       " 69036,\n",
       " 69445,\n",
       " 69587,\n",
       " 74821,\n",
       " 75342,\n",
       " 75955,\n",
       " 82842,\n",
       " 84723,\n",
       " 86259,\n",
       " 86512,\n",
       " 87342,\n",
       " 89704,\n",
       " 90534,\n",
       " 90757,\n",
       " 92929,\n",
       " 117285,\n",
       " 380081,\n",
       " 126696,\n",
       " 128604,\n",
       " 129108,\n",
       " 133406,\n",
       " 136261,\n",
       " 144281,\n",
       " 163227,\n",
       " 163639,\n",
       " 166206,\n",
       " 169687,\n",
       " 169781,\n",
       " 169782,\n",
       " 169828,\n",
       " 175652,\n",
       " 176612,\n",
       " 177869,\n",
       " 179616,\n",
       " 198997,\n",
       " 206051,\n",
       " 207857,\n",
       " 116,\n",
       " 444,\n",
       " 1211,\n",
       " 1803,\n",
       " 2172,\n",
       " 2373,\n",
       " 2449,\n",
       " 2548,\n",
       " 2780,\n",
       " 2873,\n",
       " 3246,\n",
       " 3337,\n",
       " 3731,\n",
       " 4442,\n",
       " ...]"
      ]
     },
     "execution_count": 10,
     "metadata": {},
     "output_type": "execute_result"
    }
   ],
   "source": [
    "list(item_id[0])"
   ]
  },
  {
   "cell_type": "code",
   "execution_count": 11,
   "id": "eee57ec1",
   "metadata": {},
   "outputs": [],
   "source": [
    "df = pd.DataFrame(C, columns = list(item_id[0]))"
   ]
  },
  {
   "cell_type": "code",
   "execution_count": 12,
   "id": "299f09de",
   "metadata": {},
   "outputs": [],
   "source": [
    "user_id = pd.read_csv('user_index.csv', header=None)"
   ]
  },
  {
   "cell_type": "code",
   "execution_count": 13,
   "id": "9b370c4e",
   "metadata": {},
   "outputs": [
    {
     "data": {
      "text/html": [
       "<div>\n",
       "<style scoped>\n",
       "    .dataframe tbody tr th:only-of-type {\n",
       "        vertical-align: middle;\n",
       "    }\n",
       "\n",
       "    .dataframe tbody tr th {\n",
       "        vertical-align: top;\n",
       "    }\n",
       "\n",
       "    .dataframe thead th {\n",
       "        text-align: right;\n",
       "    }\n",
       "</style>\n",
       "<table border=\"1\" class=\"dataframe\">\n",
       "  <thead>\n",
       "    <tr style=\"text-align: right;\">\n",
       "      <th></th>\n",
       "      <th>0</th>\n",
       "      <th>1</th>\n",
       "    </tr>\n",
       "  </thead>\n",
       "  <tbody>\n",
       "    <tr>\n",
       "      <th>0</th>\n",
       "      <td>17732</td>\n",
       "      <td>0</td>\n",
       "    </tr>\n",
       "    <tr>\n",
       "      <th>1</th>\n",
       "      <td>4094</td>\n",
       "      <td>1</td>\n",
       "    </tr>\n",
       "    <tr>\n",
       "      <th>2</th>\n",
       "      <td>20346</td>\n",
       "      <td>2</td>\n",
       "    </tr>\n",
       "    <tr>\n",
       "      <th>3</th>\n",
       "      <td>13255</td>\n",
       "      <td>3</td>\n",
       "    </tr>\n",
       "    <tr>\n",
       "      <th>4</th>\n",
       "      <td>24034</td>\n",
       "      <td>4</td>\n",
       "    </tr>\n",
       "    <tr>\n",
       "      <th>...</th>\n",
       "      <td>...</td>\n",
       "      <td>...</td>\n",
       "    </tr>\n",
       "    <tr>\n",
       "      <th>995</th>\n",
       "      <td>57354</td>\n",
       "      <td>995</td>\n",
       "    </tr>\n",
       "    <tr>\n",
       "      <th>996</th>\n",
       "      <td>57538</td>\n",
       "      <td>996</td>\n",
       "    </tr>\n",
       "    <tr>\n",
       "      <th>997</th>\n",
       "      <td>57676</td>\n",
       "      <td>997</td>\n",
       "    </tr>\n",
       "    <tr>\n",
       "      <th>998</th>\n",
       "      <td>70472</td>\n",
       "      <td>998</td>\n",
       "    </tr>\n",
       "    <tr>\n",
       "      <th>999</th>\n",
       "      <td>71775</td>\n",
       "      <td>999</td>\n",
       "    </tr>\n",
       "  </tbody>\n",
       "</table>\n",
       "<p>1000 rows × 2 columns</p>\n",
       "</div>"
      ],
      "text/plain": [
       "         0    1\n",
       "0    17732    0\n",
       "1     4094    1\n",
       "2    20346    2\n",
       "3    13255    3\n",
       "4    24034    4\n",
       "..     ...  ...\n",
       "995  57354  995\n",
       "996  57538  996\n",
       "997  57676  997\n",
       "998  70472  998\n",
       "999  71775  999\n",
       "\n",
       "[1000 rows x 2 columns]"
      ]
     },
     "execution_count": 13,
     "metadata": {},
     "output_type": "execute_result"
    }
   ],
   "source": [
    "user_id"
   ]
  },
  {
   "cell_type": "code",
   "execution_count": 14,
   "id": "8a115174",
   "metadata": {},
   "outputs": [],
   "source": [
    "df.index = list(user_id[0])"
   ]
  },
  {
   "cell_type": "code",
   "execution_count": 15,
   "id": "8739dcd7",
   "metadata": {},
   "outputs": [
    {
     "ename": "SyntaxError",
     "evalue": "unexpected EOF while parsing (508191303.py, line 1)",
     "output_type": "error",
     "traceback": [
      "\u001b[0;36m  Input \u001b[0;32mIn [15]\u001b[0;36m\u001b[0m\n\u001b[0;31m    [df.columns\u001b[0m\n\u001b[0m               ^\u001b[0m\n\u001b[0;31mSyntaxError\u001b[0m\u001b[0;31m:\u001b[0m unexpected EOF while parsing\n"
     ]
    }
   ],
   "source": [
    "[df.columns"
   ]
  },
  {
   "cell_type": "markdown",
   "id": "c98304cc",
   "metadata": {},
   "source": [
    "## Functions"
   ]
  },
  {
   "cell_type": "markdown",
   "id": "8ee85ff8",
   "metadata": {},
   "source": [
    "### Compute item similarity"
   ]
  },
  {
   "cell_type": "code",
   "execution_count": 16,
   "id": "b0f11613",
   "metadata": {},
   "outputs": [],
   "source": [
    "from scipy import spatial, stats"
   ]
  },
  {
   "cell_type": "code",
   "execution_count": 17,
   "id": "1430f519",
   "metadata": {},
   "outputs": [],
   "source": [
    "def cosine_sim2(item1, item2, j):\n",
    "    '''\n",
    "    Compute cosine similarity between item1 and item2\n",
    "    '''\n",
    "    return 1 - spatial.distance.cosine(item1, item2), int(item_id[item_id[1] == j][0])"
   ]
  },
  {
   "cell_type": "code",
   "execution_count": 18,
   "id": "ff4f7a27",
   "metadata": {},
   "outputs": [],
   "source": [
    "def cosine_sim(item1, item2, j):\n",
    "    '''\n",
    "    Compute cosine similarity between item1 and item2\n",
    "    '''\n",
    "    return 1 - spatial.distance.cosine(item1, item2)"
   ]
  },
  {
   "cell_type": "code",
   "execution_count": 19,
   "id": "71b32cea",
   "metadata": {},
   "outputs": [],
   "source": [
    "def pearson(item1, item2):\n",
    "    '''\n",
    "    Compute pearson correlation coefficient between item1 and item2\n",
    "    '''\n",
    "    sim, _ = stats.pearsonr(item1, item2)\n",
    "    return sim"
   ]
  },
  {
   "cell_type": "code",
   "execution_count": 20,
   "id": "95c0f247",
   "metadata": {},
   "outputs": [],
   "source": [
    "def prob(item1, item2):\n",
    "    '''\n",
    "    Compute conditional probability-based similarity between item1 and item2\n",
    "    Probability of purchasing item2 given that item1 has been purchased\n",
    "    '''\n",
    "    freq1_2 = len([i for i, j in zip(item1, item2) if i == 3 and j == 3])\n",
    "    freq1 = list(item1).count(3)\n",
    "    if freq1 == 0:\n",
    "        return 0\n",
    "    return freq1_2 / freq1"
   ]
  },
  {
   "cell_type": "code",
   "execution_count": 21,
   "id": "bbee54d5",
   "metadata": {},
   "outputs": [],
   "source": [
    "def compute_item_similarity2(C,n,app='cos'):\n",
    "    '''\n",
    "    Compute n closest items for each item in C\n",
    "    '''\n",
    "    closest = {}\n",
    "    for i, item1 in enumerate(C.T):\n",
    "        print(f'{i}/{len(C.T)}')\n",
    "        sim = [cosine_sim(item1,item2,j) if i!=j else (-1,j) for j, item2 in enumerate(C.T)]\n",
    "        #closest[int(item_id[item_id[1] == i][0])] = [t2 for t1, t2 in sorted(sim, key=lambda x: x[0])[:n]]\n",
    "        #closest[df.columns[i]] = [x for _, x in sorted(zip(sim, range(len(df.columns))), reverse=True)][:n]\n",
    "        closest[df.columns[i]] = [x for _, x in sorted(zip(sim, df.columns), reverse=True)][:n]\n",
    "    return closest"
   ]
  },
  {
   "cell_type": "code",
   "execution_count": 22,
   "id": "ea1f5c86",
   "metadata": {},
   "outputs": [],
   "source": [
    "def compute_item_similarity(C,n,app='cos'):\n",
    "    '''\n",
    "    Compute n closest items for each item in C\n",
    "    '''\n",
    "    closest = {}\n",
    "    for i, item1 in enumerate(C.T):\n",
    "        print(f'{i}/{len(C.T)}', end='\\r')\n",
    "        sim = [cosine_sim(item1,item2,j) if i!=j else -1 for j, item2 in enumerate(C.T)]\n",
    "        closest[df.columns[i]] = [df.columns[x] for x in pd.Series(sim).nlargest(n).index.values.tolist()]\n",
    "    return closest"
   ]
  },
  {
   "cell_type": "code",
   "execution_count": 153,
   "id": "39ea03a9",
   "metadata": {},
   "outputs": [
    {
     "name": "stdout",
     "output_type": "stream",
     "text": [
      "2999/3000\r"
     ]
    },
    {
     "data": {
      "text/plain": [
       "{40156: [118410, 30725],\n",
       " 15632: [725, 10130],\n",
       " 36956: [76534, 14784],\n",
       " 34157: [67698, 171245],\n",
       " 4953: [67334, 33070],\n",
       " 14614: [79117, 135708],\n",
       " 32394: [8758, 8759],\n",
       " 32769: [2866, 6445],\n",
       " 31013: [9992, 3093],\n",
       " 14889: [14890, 31981],\n",
       " 9186: [16652, 4540],\n",
       " 14179: [8047, 7025],\n",
       " 4099: [47534, 9739],\n",
       " 14784: [42775, 1281],\n",
       " 6576: [36463, 19906],\n",
       " 43548: [53307, 135708],\n",
       " 49272: [35458, 4515],\n",
       " 1049: [3451, 58958],\n",
       " 7017: [46871, 7015],\n",
       " 6445: [5352, 32769],\n",
       " 1364: [31083, 31579],\n",
       " 2843: [32756, 10951],\n",
       " 6909: [375205, 66175],\n",
       " 375755: [130822, 20484],\n",
       " 6249: [14000, 10354],\n",
       " 10858: [36602, 34911],\n",
       " 75457: [70487, 21890],\n",
       " 332: [34915, 37940],\n",
       " 8758: [9867, 32394],\n",
       " 11986: [41310, 2896],\n",
       " 13831: [6327, 2863],\n",
       " 30340: [64100, 38133],\n",
       " 32757: [10957, 10274],\n",
       " 67334: [4953, 14952],\n",
       " 35015: [768, 81684],\n",
       " 36462: [58181, 68986],\n",
       " 375069: [7270, 34797],\n",
       " 4453: [34968, 70797],\n",
       " 6327: [1055, 13831],\n",
       " 7101: [12445, 63532],\n",
       " 60992: [146397, 57880],\n",
       " 9654: [30792, 36642],\n",
       " 10274: [3148, 5819],\n",
       " 4954: [48383, 46936],\n",
       " 8047: [14179, 14529],\n",
       " 11542: [31053, 79577],\n",
       " 60638: [80043, 84289],\n",
       " 131151: [19636, 166206],\n",
       " 5285: [2863, 82270],\n",
       " 10573: [25487, 32665],\n",
       " 14515: [14517, 7020],\n",
       " 25769: [376536, 69421],\n",
       " 35889: [47017, 13693],\n",
       " 67792: [132840, 76264],\n",
       " 103581: [9320, 74840],\n",
       " 12970: [86278, 127646],\n",
       " 30711: [8867, 9053],\n",
       " 34952: [36521, 61],\n",
       " 36121: [7821, 5530],\n",
       " 36351: [198, 3511],\n",
       " 82984: [7311, 32758],\n",
       " 128733: [12925, 6422],\n",
       " 129045: [5321, 162348],\n",
       " 7771: [133052, 13520],\n",
       " 15394: [25149, 29091],\n",
       " 30440: [18790, 12315],\n",
       " 32138: [3904, 13831],\n",
       " 64884: [92076, 9794],\n",
       " 3511: [31951, 22702],\n",
       " 7258: [3433, 382],\n",
       " 33073: [10352, 26488],\n",
       " 35383: [6665, 169596],\n",
       " 81684: [764, 8477],\n",
       " 2905: [1702, 26219],\n",
       " 6828: [69822, 7848],\n",
       " 14520: [36885, 7020],\n",
       " 35311: [5450, 35757],\n",
       " 36083: [5582, 6848],\n",
       " 36780: [79898, 36796],\n",
       " 73719: [36522, 64100],\n",
       " 76663: [78122, 58305],\n",
       " 88855: [26954, 4868],\n",
       " 89764: [7276, 36515],\n",
       " 381164: [14408, 13077],\n",
       " 594: [146397, 57880],\n",
       " 768: [81684, 15654],\n",
       " 918: [764, 6209],\n",
       " 7107: [192930, 136611],\n",
       " 8960: [30720, 89725],\n",
       " 14096: [128782, 6575],\n",
       " 53294: [2921, 2919],\n",
       " 68131: [24935, 126154],\n",
       " 79141: [51537, 114476],\n",
       " 2866: [32773, 2877],\n",
       " 3113: [146397, 57880],\n",
       " 7096: [135838, 126696],\n",
       " 7492: [80334, 1253],\n",
       " 22046: [36195, 5489],\n",
       " 34797: [130822, 380235],\n",
       " 34972: [36688, 24167],\n",
       " 35378: [5417, 5450],\n",
       " 35734: [6503, 13729],\n",
       " 49920: [31469, 8329],\n",
       " 69276: [171106, 35458],\n",
       " 70368: [2581, 51438],\n",
       " 181750: [181749, 177170],\n",
       " 1255: [57923, 72294],\n",
       " 1702: [26219, 59345],\n",
       " 2322: [81748, 89283],\n",
       " 2453: [5481, 380850],\n",
       " 5275: [45, 9437],\n",
       " 5400: [7448, 55209],\n",
       " 7268: [57961, 19588],\n",
       " 7589: [9366, 1932],\n",
       " 9582: [72404, 41935],\n",
       " 30720: [1705, 89725],\n",
       " 35106: [267345, 165182],\n",
       " 36992: [15389, 128866],\n",
       " 74782: [81748, 98665],\n",
       " 90068: [33548, 19243],\n",
       " 90884: [78122, 76663],\n",
       " 124306: [164450, 12254],\n",
       " 126492: [69197, 128570],\n",
       " 45: [5275, 9437],\n",
       " 488: [6857, 81175],\n",
       " 1189: [34818, 9906],\n",
       " 1253: [30739, 30761],\n",
       " 2633: [53182, 34753],\n",
       " 4523: [33177, 6850],\n",
       " 6961: [89838, 87260],\n",
       " 9460: [12006, 35824],\n",
       " 14620: [47818, 14526],\n",
       " 32826: [2723, 129268],\n",
       " 34804: [4572, 18773],\n",
       " 36334: [36925, 35810],\n",
       " 40986: [22900, 9338],\n",
       " 90565: [7010, 47818],\n",
       " 204060: [27174, 397715],\n",
       " 2115: [84577, 7770],\n",
       " 2377: [31160, 18773],\n",
       " 3093: [9992, 33157],\n",
       " 3439: [146397, 57880],\n",
       " 6240: [8028, 12841],\n",
       " 6582: [47357, 128785],\n",
       " 7985: [21847, 7837],\n",
       " 10147: [2521, 914],\n",
       " 16652: [65921, 9186],\n",
       " 30792: [30254, 129022],\n",
       " 34990: [146397, 19100],\n",
       " 35261: [32305, 8158],\n",
       " 36885: [135838, 36879],\n",
       " 57539: [12925, 6422],\n",
       " 64100: [4594, 38133],\n",
       " 89725: [20205, 33177],\n",
       " 6428: [46298, 5115],\n",
       " 7005: [36885, 47089],\n",
       " 8000: [30440, 10450],\n",
       " 8848: [2399, 2277],\n",
       " 9752: [12319, 8960],\n",
       " 10352: [31464, 32830],\n",
       " 11250: [25149, 15394],\n",
       " 11700: [20499, 6313],\n",
       " 11816: [136611, 131616],\n",
       " 274954: [10588, 10805],\n",
       " 13327: [15654, 8359],\n",
       " 17415: [42482, 44419],\n",
       " 23370: [3462, 12221],\n",
       " 30059: [35404, 1803],\n",
       " 31160: [2377, 8758],\n",
       " 32135: [22926, 13220],\n",
       " 32756: [2843, 9371],\n",
       " 57107: [18790, 34972],\n",
       " 62086: [34190, 31295],\n",
       " 70797: [30539, 10450],\n",
       " 81988: [86020, 7286],\n",
       " 387: [13327, 84639],\n",
       " 777: [81802, 62904],\n",
       " 2399: [8848, 2277],\n",
       " 3138: [36642, 30254],\n",
       " 5288: [2231, 9827],\n",
       " 11000: [30961, 6731],\n",
       " 12726: [8342, 5061],\n",
       " 20486: [171541, 379322],\n",
       " 24935: [68131, 126154],\n",
       " 33567: [7534, 36918],\n",
       " 35369: [14531, 90035],\n",
       " 36101: [57932, 35888],\n",
       " 41874: [32665, 10573],\n",
       " 46935: [35714, 46941],\n",
       " 58565: [139654, 99541],\n",
       " 83866: [36548, 12006],\n",
       " 84405: [11562, 8365],\n",
       " 87320: [34911, 76534],\n",
       " 377089: [58152, 381687],\n",
       " 126325: [25287, 19872],\n",
       " 128785: [164406, 25349],\n",
       " 142338: [7448, 12621],\n",
       " 204989: [32489, 138374],\n",
       " 764: [81684, 15654],\n",
       " 2815: [17704, 146397],\n",
       " 2820: [34641, 45730],\n",
       " 3655: [9617, 148122],\n",
       " 4562: [133817, 14850],\n",
       " 4885: [3489, 7915],\n",
       " 5582: [36094, 36083],\n",
       " 6297: [14611, 33386],\n",
       " 6440: [7393, 47585],\n",
       " 6850: [20205, 25487],\n",
       " 7481: [31789, 51329],\n",
       " 8104: [58958, 153],\n",
       " 9249: [83463, 578],\n",
       " 10354: [9879, 51257],\n",
       " 10617: [14587, 90398],\n",
       " 13283: [87483, 143316],\n",
       " 25149: [11250, 15394],\n",
       " 25645: [35473, 7016],\n",
       " 30165: [7726, 9308],\n",
       " 31395: [2279, 63109],\n",
       " 31629: [32408, 40156],\n",
       " 34401: [14652, 6731],\n",
       " 43546: [376542, 379322],\n",
       " 45852: [74887, 10536],\n",
       " 47586: [7010, 380850],\n",
       " 74925: [84577, 34669],\n",
       " 76264: [128634, 169914],\n",
       " 83484: [3904, 35332],\n",
       " 379857: [375780, 376542],\n",
       " 133052: [13520, 19556],\n",
       " 169560: [171506, 415713],\n",
       " 465: [71236, 73775],\n",
       " 2756: [2279, 31756],\n",
       " 2863: [33525, 13831],\n",
       " 2920: [40697, 83849],\n",
       " 3148: [5819, 30293],\n",
       " 4320: [34260, 2406],\n",
       " 6870: [10805, 67313],\n",
       " 6913: [33969, 49125],\n",
       " 7956: [2322, 12327],\n",
       " 9476: [9989, 30366],\n",
       " 13360: [173639, 3617],\n",
       " 14447: [58026, 81081],\n",
       " 14526: [36879, 36885],\n",
       " 23016: [35338, 24582],\n",
       " 23284: [174713, 2253],\n",
       " 30739: [1253, 1980],\n",
       " 41750: [33969, 30711],\n",
       " 49585: [5489, 49959],\n",
       " 58385: [23346, 5766],\n",
       " 68530: [46936, 13281],\n",
       " 68986: [36463, 36462],\n",
       " 80317: [34530, 65098],\n",
       " 90273: [26806, 3498],\n",
       " 90622: [7276, 79910],\n",
       " 376727: [178919, 88729],\n",
       " 128634: [76264, 22974],\n",
       " 188217: [85849, 28856],\n",
       " 60: [37156, 12059],\n",
       " 913: [10007, 35714],\n",
       " 1356: [9992, 5560],\n",
       " 3489: [146397, 4885],\n",
       " 4950: [1839, 8226],\n",
       " 7010: [90565, 47586],\n",
       " 8159: [9437, 5481],\n",
       " 9617: [3655, 148122],\n",
       " 10607: [58739, 37901],\n",
       " 12962: [35734, 28856],\n",
       " 13293: [333182, 396882],\n",
       " 13629: [19588, 90732],\n",
       " 14536: [14545, 14538],\n",
       " 14860: [7360, 380079],\n",
       " 14912: [83711, 30725],\n",
       " 34382: [11123, 33416],\n",
       " 35980: [13804, 146397],\n",
       " 40464: [39090, 12034],\n",
       " 46871: [7016, 68663],\n",
       " 48576: [34530, 148860],\n",
       " 58166: [25319, 58164],\n",
       " 58736: [1757, 96787],\n",
       " 66004: [6727, 233992],\n",
       " 68398: [31248, 53328],\n",
       " 80451: [40697, 83849],\n",
       " 376973: [161039, 377089],\n",
       " 388617: [33459, 375219],\n",
       " 801: [30817, 380850],\n",
       " 5031: [64551, 12000],\n",
       " 6848: [36083, 5582],\n",
       " 7015: [19459, 164310],\n",
       " 8028: [9642, 56115],\n",
       " 9642: [34527, 56115],\n",
       " 10746: [10747, 136360],\n",
       " 10805: [67313, 128087],\n",
       " 11057: [22894, 118620],\n",
       " 11354: [3299, 3246],\n",
       " 13960: [19588, 77232],\n",
       " 22894: [11057, 118620],\n",
       " 27312: [72404, 9368],\n",
       " 28821: [90884, 1839],\n",
       " 30580: [8397, 30587],\n",
       " 30895: [31163, 5855],\n",
       " 31313: [232957, 79830],\n",
       " 31570: [5061, 39078],\n",
       " 31574: [38133, 80461],\n",
       " 32327: [32628, 10598],\n",
       " 32665: [41874, 1705],\n",
       " 33159: [93439, 36425],\n",
       " 34968: [4453, 57802],\n",
       " 35772: [25432, 11945],\n",
       " 35888: [543, 47017],\n",
       " 36548: [12006, 35824],\n",
       " 36642: [16819, 30254],\n",
       " 36688: [24167, 181643],\n",
       " 36881: [36878, 126514],\n",
       " 36884: [58638, 35473],\n",
       " 47357: [6582, 128785],\n",
       " 47818: [90565, 14526],\n",
       " 57583: [5516, 24900],\n",
       " 58958: [8104, 70457],\n",
       " 67416: [26077, 31464],\n",
       " 68533: [133406, 166270],\n",
       " 69350: [30281, 64094],\n",
       " 69390: [80133, 3122],\n",
       " 79178: [5450, 85631],\n",
       " 79956: [14517, 36878],\n",
       " 85469: [65921, 10275],\n",
       " 86715: [198997, 13971],\n",
       " 90035: [375531, 35369],\n",
       " 98665: [74782, 11945],\n",
       " 375219: [383035, 375647],\n",
       " 376414: [15286, 474],\n",
       " 380074: [379023, 376973],\n",
       " 381687: [377089, 58152],\n",
       " 124630: [14311, 149595],\n",
       " 125290: [81175, 55074],\n",
       " 126514: [14517, 36879],\n",
       " 392208: [403671, 376526],\n",
       " 130138: [29961, 88766],\n",
       " 161039: [376973, 377089],\n",
       " 923: [3246, 6721],\n",
       " 1805: [59672, 76569],\n",
       " 3011: [34212, 149371],\n",
       " 3666: [2540, 44544],\n",
       " 3719: [2373, 3440],\n",
       " 5583: [57526, 1002],\n",
       " 5659: [35810, 3453],\n",
       " 7249: [10298, 377403],\n",
       " 7783: [33386, 13792],\n",
       " 8158: [70798, 93439],\n",
       " 8383: [374959, 20484],\n",
       " 8742: [17704, 146397],\n",
       " 10787: [513, 125321],\n",
       " 11385: [35063, 7448],\n",
       " 12208: [34479, 6408],\n",
       " 12862: [54168, 86512],\n",
       " 13804: [146397, 57880],\n",
       " 23945: [174921, 33800],\n",
       " 24058: [45, 4339],\n",
       " 25348: [35656, 128781],\n",
       " 27268: [2415, 1210],\n",
       " 32005: [14851, 71672],\n",
       " 33969: [41750, 30711],\n",
       " 34038: [61492, 62726],\n",
       " 34154: [13737, 35520],\n",
       " 34472: [67898, 20108],\n",
       " 35473: [407786, 25645],\n",
       " 39353: [68131, 24935],\n",
       " 53307: [32489, 138374],\n",
       " 60663: [6327, 5489],\n",
       " 68981: [131257, 128778],\n",
       " 68984: [181658, 136261],\n",
       " 79218: [6727, 233992],\n",
       " 80334: [63419, 30739],\n",
       " 90774: [380235, 374959],\n",
       " 374791: [376089, 195674],\n",
       " 376301: [72404, 5155],\n",
       " 383035: [375219, 375647],\n",
       " 122788: [143316, 87483],\n",
       " 204767: [175626, 166206],\n",
       " 208817: [404952, 150111],\n",
       " 882: [23284, 67416],\n",
       " 1285: [82312, 3719],\n",
       " 1839: [8226, 4950],\n",
       " 1907: [67846, 130930],\n",
       " 1981: [1988, 51406],\n",
       " 2279: [31756, 33484],\n",
       " 2919: [85882, 31464],\n",
       " 3122: [11300, 12857],\n",
       " 3395: [11057, 22894],\n",
       " 3541: [34142, 44064],\n",
       " 5301: [9308, 30165],\n",
       " 7020: [14517, 14515],\n",
       " 7095: [197670, 73224],\n",
       " 8342: [384104, 12726],\n",
       " 10295: [102819, 32072],\n",
       " 11338: [319, 31369],\n",
       " 11945: [376414, 46282],\n",
       " 12948: [173639, 3617],\n",
       " 13064: [12621, 7448],\n",
       " 14622: [69421, 90284],\n",
       " 14850: [1520, 178460],\n",
       " 18723: [48439, 4540],\n",
       " 20675: [16652, 65921],\n",
       " 26219: [1702, 59345],\n",
       " 30761: [49804, 1253],\n",
       " 30975: [69466, 47765],\n",
       " 31092: [402831, 124522],\n",
       " 31710: [3131, 301329],\n",
       " 32338: [3348, 26077],\n",
       " 33459: [388617, 375219],\n",
       " 33890: [63109, 31395],\n",
       " 34915: [332, 37940],\n",
       " 36255: [228568, 198997],\n",
       " 36602: [61431, 69419],\n",
       " 36643: [36386, 79130],\n",
       " 38268: [523, 281512],\n",
       " 45487: [9616, 169781],\n",
       " 45949: [20205, 89725],\n",
       " 46007: [36252, 174426],\n",
       " 57283: [14408, 380646],\n",
       " 58131: [36784, 14000],\n",
       " 58579: [5155, 25769],\n",
       " 59203: [616, 10219],\n",
       " 60913: [85574, 9013],\n",
       " 67313: [10805, 128087],\n",
       " 78666: [76663, 10450],\n",
       " 80645: [33416, 198],\n",
       " 84268: [12053, 30281],\n",
       " 88729: [7104, 376727],\n",
       " 90568: [407786, 41214],\n",
       " 125065: [92445, 14292],\n",
       " 128781: [36461, 128778],\n",
       " 131257: [164406, 166270],\n",
       " 162348: [376536, 76534],\n",
       " 171541: [223200, 20486],\n",
       " 175658: [173413, 166229],\n",
       " 260206: [163464, 168785],\n",
       " 1260: [16082, 84268],\n",
       " 1705: [30720, 32665],\n",
       " 2921: [53294, 31638],\n",
       " 3024: [35338, 36342],\n",
       " 5132: [64067, 30981],\n",
       " 5417: [51537, 114476],\n",
       " 6566: [128778, 128785],\n",
       " 8329: [49920, 40908],\n",
       " 8597: [57674, 1979],\n",
       " 8826: [60769, 36118],\n",
       " 9539: [198997, 13971],\n",
       " 9699: [86216, 10983],\n",
       " 9971: [9317, 5481],\n",
       " 10177: [2389, 32758],\n",
       " 10450: [70797, 78666],\n",
       " 10467: [53484, 12249],\n",
       " 10691: [32489, 4442],\n",
       " 10747: [10746, 10589],\n",
       " 10951: [1880, 5819],\n",
       " 11815: [2148, 39353],\n",
       " 12792: [5951, 12316],\n",
       " 12841: [34053, 33373],\n",
       " 13520: [133052, 19556],\n",
       " 13851: [36706, 36613],\n",
       " 14248: [129944, 1803],\n",
       " 14408: [380646, 79886],\n",
       " 14517: [126514, 36879],\n",
       " 14596: [24755, 79964],\n",
       " 15397: [126002, 34491],\n",
       " 15555: [162878, 9592],\n",
       " 16553: [44064, 11809],\n",
       " 17885: [62086, 48383],\n",
       " 18174: [77299, 41310],\n",
       " 19149: [59965, 36521],\n",
       " 20313: [14767, 68303],\n",
       " 22135: [97404, 40615],\n",
       " 30181: [32873, 135871],\n",
       " 30981: [32255, 33404],\n",
       " 31322: [48391, 129944],\n",
       " 31511: [5275, 837],\n",
       " 31981: [30996, 199677],\n",
       " 32209: [73403, 84132],\n",
       " 34491: [15397, 1483],\n",
       " 35150: [404574, 33602],\n",
       " 36364: [9287, 55989],\n",
       " 36685: [4523, 6850],\n",
       " 37082: [12841, 34053],\n",
       " 37787: [32313, 109099],\n",
       " 44119: [42187, 7891],\n",
       " 46931: [8327, 2537],\n",
       " 49804: [350, 30761],\n",
       " 51974: [66439, 28195],\n",
       " 55952: [26488, 126604],\n",
       " 59345: [1702, 26219],\n",
       " 59851: [8359, 13327],\n",
       " 62904: [134226, 777],\n",
       " 64246: [79278, 12889],\n",
       " 64359: [24566, 1530],\n",
       " 65921: [16652, 85469],\n",
       " 69421: [14622, 90284],\n",
       " 71394: [74109, 26525],\n",
       " 77232: [13960, 11855],\n",
       " 80043: [18867, 83667],\n",
       " 82729: [16120, 27322],\n",
       " 88379: [375, 10002],\n",
       " 89941: [128781, 14098],\n",
       " 95219: [142719, 26954],\n",
       " 95808: [72190, 75267],\n",
       " 105842: [57526, 1002],\n",
       " 128197: [174713, 4335],\n",
       " 130771: [27174, 83972],\n",
       " 131160: [18140, 1234],\n",
       " 134226: [62904, 777],\n",
       " 136400: [377403, 173639],\n",
       " 403671: [392208, 376526],\n",
       " 173672: [375898, 181750],\n",
       " 192930: [7107, 136611],\n",
       " 504: [375081, 375868],\n",
       " 647: [59000, 38185],\n",
       " 907: [2039, 43670],\n",
       " 2148: [11815, 68131],\n",
       " 2670: [7982, 12463],\n",
       " 3617: [12697, 13360],\n",
       " 5413: [36148, 206051],\n",
       " 5516: [57583, 13432],\n",
       " 5766: [35338, 36342],\n",
       " 5787: [14587, 9827],\n",
       " 6544: [35714, 13941],\n",
       " 7821: [36121, 58582],\n",
       " 8078: [30627, 111492],\n",
       " 8320: [15734, 21468],\n",
       " 8886: [35520, 5489],\n",
       " 9879: [40507, 10674],\n",
       " 9989: [36522, 9476],\n",
       " 10133: [80451, 37116],\n",
       " 10162: [3904, 35332],\n",
       " 10196: [31071, 60654],\n",
       " 10565: [49806, 9523],\n",
       " 12262: [55209, 6939],\n",
       " 12315: [2103, 49115],\n",
       " 12316: [5951, 12792],\n",
       " 12352: [146397, 57880],\n",
       " 12445: [12963, 7101],\n",
       " 13695: [35888, 36101],\n",
       " 13931: [18773, 57559],\n",
       " 14127: [6875, 90364],\n",
       " 14311: [149595, 124630],\n",
       " 14529: [7143, 8048],\n",
       " 14896: [72561, 72562],\n",
       " 18790: [24167, 181643],\n",
       " 19909: [40507, 10674],\n",
       " 24566: [64359, 1510],\n",
       " 25270: [35063, 79709],\n",
       " 28195: [10982, 20402],\n",
       " 30084: [3205, 9642],\n",
       " 30122: [2778, 9476],\n",
       " 30248: [35084, 33644],\n",
       " 30539: [78122, 70797],\n",
       " 31083: [60727, 128634],\n",
       " 32758: [82984, 2389],\n",
       " 34641: [36266, 2820],\n",
       " 35409: [35408, 31484],\n",
       " 35418: [381927, 151085],\n",
       " 36425: [36688, 33159],\n",
       " 46895: [131008, 7268],\n",
       " 47017: [35888, 13695],\n",
       " 48439: [18723, 65921],\n",
       " 49115: [12315, 2103],\n",
       " 51304: [97404, 113634],\n",
       " 53598: [32506, 75143],\n",
       " 54168: [11032, 86512],\n",
       " 57674: [4594, 7323],\n",
       " 57961: [90732, 29769],\n",
       " 63532: [77839, 12445],\n",
       " 68966: [7448, 142338],\n",
       " 68979: [6576, 126076],\n",
       " 69013: [6639, 36486],\n",
       " 70487: [18867, 75457],\n",
       " 71376: [8510, 15917],\n",
       " 74837: [142827, 22046],\n",
       " 77299: [18174, 41310],\n",
       " 80428: [5301, 30165],\n",
       " 83849: [34815, 64641],\n",
       " 90621: [164310, 179886],\n",
       " 90732: [29769, 57961],\n",
       " 375888: [913, 35714],\n",
       " 375966: [13630, 6428],\n",
       " 377403: [136400, 375074],\n",
       " 129850: [35092, 6727],\n",
       " 160851: [19807, 11616],\n",
       " 178919: [7107, 192930],\n",
       " 197670: [7095, 135708],\n",
       " 203487: [146397, 57880],\n",
       " 206093: [206092, 142463],\n",
       " 110: [465, 71236],\n",
       " 1087: [1150, 71376],\n",
       " 1788: [68627, 30151],\n",
       " 2006: [5560, 12059],\n",
       " 2176: [54803, 68131],\n",
       " 2645: [69197, 103581],\n",
       " 2723: [129268, 32826],\n",
       " 2877: [27198, 2866],\n",
       " 3131: [301329, 117789],\n",
       " 4076: [37311, 172382],\n",
       " 4168: [56997, 5031],\n",
       " 5033: [36958, 9315],\n",
       " 5140: [9148, 8327],\n",
       " 5780: [136360, 35714],\n",
       " 5951: [12316, 12792],\n",
       " 7442: [39068, 4788],\n",
       " 7726: [30165, 9308],\n",
       " 8328: [89757, 6808],\n",
       " 9291: [36364, 9287],\n",
       " 9992: [1356, 3093],\n",
       " 10276: [13624, 122001],\n",
       " 11123: [34382, 33416],\n",
       " 11183: [35338, 36342],\n",
       " 11377: [147057, 30894],\n",
       " 12034: [40464, 2449],\n",
       " 13693: [35967, 36340],\n",
       " 13791: [9664, 2231],\n",
       " 14027: [13870, 6322],\n",
       " 14072: [12, 32584],\n",
       " 14098: [36463, 6572],\n",
       " 14383: [13127, 6875],\n",
       " 14448: [58739, 37901],\n",
       " 14652: [6731, 34401],\n",
       " 14895: [133052, 13520],\n",
       " 16002: [21958, 245489],\n",
       " 19636: [131151, 51459],\n",
       " 21890: [75457, 36332],\n",
       " 21958: [16002, 252709],\n",
       " 22702: [3511, 31951],\n",
       " 23180: [3535, 84752],\n",
       " 24167: [18790, 36688],\n",
       " 25043: [32209, 73403],\n",
       " 25273: [7848, 87307],\n",
       " 25432: [9795, 129279],\n",
       " 28593: [32665, 20205],\n",
       " 29545: [25074, 375219],\n",
       " 30329: [14311, 119293],\n",
       " 31400: [37962, 52340],\n",
       " 32216: [85631, 78317],\n",
       " 32268: [70368, 81976],\n",
       " 33050: [81081, 8404],\n",
       " 33111: [60769, 384862],\n",
       " 33228: [210070, 57526],\n",
       " 33313: [11057, 22894],\n",
       " 33525: [2863, 34216],\n",
       " 34142: [3541, 146397],\n",
       " 34698: [5819, 30293],\n",
       " 35235: [7020, 126514],\n",
       " 35408: [35409, 31484],\n",
       " 36340: [13693, 71171],\n",
       " 36608: [375074, 19909],\n",
       " 37156: [60, 12059],\n",
       " 40126: [64246, 49562],\n",
       " 41935: [9673, 35404],\n",
       " 42482: [33008, 44419],\n",
       " 43530: [160109, 104427],\n",
       " 44064: [16553, 11809],\n",
       " 45925: [4950, 10573],\n",
       " 47765: [69466, 30975],\n",
       " 47926: [32769, 1189],\n",
       " 49790: [19789, 45882],\n",
       " 51221: [73711, 30444],\n",
       " 55074: [81175, 28161],\n",
       " 58638: [36884, 9710],\n",
       " 59000: [647, 38185],\n",
       " 68072: [24900, 130883],\n",
       " 68996: [126435, 6931],\n",
       " 69042: [380081, 1281],\n",
       " 69239: [14517, 7018],\n",
       " 69867: [54803, 25109],\n",
       " 70989: [109099, 110230],\n",
       " 79130: [375344, 36643],\n",
       " 80461: [70815, 39661],\n",
       " 81081: [14447, 31460],\n",
       " 82091: [1932, 9992],\n",
       " 83920: [135871, 32873],\n",
       " 90483: [30539, 58305],\n",
       " 90743: [60636, 160836],\n",
       " 102323: [1985, 29516],\n",
       " 113634: [97404, 40615],\n",
       " 376952: [9496, 81175],\n",
       " 121986: [33386, 13792],\n",
       " 124958: [16148, 162787],\n",
       " 125140: [27594, 173026],\n",
       " 125851: [59125, 25160],\n",
       " 128966: [60709, 11734],\n",
       " 132840: [17980, 67792],\n",
       " 136025: [36460, 36461],\n",
       " 136227: [151312, 32775],\n",
       " 140129: [160739, 90284],\n",
       " 415713: [424039, 36854],\n",
       " 176017: [2780, 45493],\n",
       " 181658: [68984, 136261],\n",
       " 194221: [40156, 15632],\n",
       " 203488: [80135, 12397],\n",
       " 204820: [25257, 86471],\n",
       " 211659: [142463, 151009],\n",
       " 374: [68980, 58164],\n",
       " 704: [1980, 20499],\n",
       " 894: [13746, 128966],\n",
       " 1596: [513, 10787],\n",
       " 1979: [4594, 8597],\n",
       " 2103: [12315, 49115],\n",
       " 2160: [2750, 52731],\n",
       " 2229: [82729, 125140],\n",
       " 2521: [32464, 10147],\n",
       " 2581: [10066, 51438],\n",
       " 2650: [39068, 129407],\n",
       " 2750: [2160, 52731],\n",
       " 3115: [1209, 32338],\n",
       " 3299: [86216, 11354],\n",
       " 3687: [82187, 11780],\n",
       " 4053: [135871, 382],\n",
       " 4540: [16652, 9186],\n",
       " 5348: [32706, 67846],\n",
       " 5414: [12963, 12445],\n",
       " 5513: [176011, 25899],\n",
       " 5521: [35829, 86715],\n",
       " 5819: [30293, 74297],\n",
       " 6469: [39068, 129407],\n",
       " 6665: [35383, 375344],\n",
       " 6779: [42187, 7891],\n",
       " 6875: [90364, 14383],\n",
       " 7075: [170, 149561],\n",
       " 7360: [14860, 380079],\n",
       " 7457: [83535, 79527],\n",
       " 7685: [2606, 18773],\n",
       " 8008: [2556, 25826],\n",
       " 8022: [81007, 14311],\n",
       " 8327: [46931, 5140],\n",
       " 8404: [81444, 14447],\n",
       " 9154: [33321, 208524],\n",
       " 9313: [14747, 2873],\n",
       " 9338: [151080, 40986],\n",
       " 9437: [8159, 5275],\n",
       " 9515: [128833, 14273],\n",
       " 9571: [9710, 704],\n",
       " 9616: [45487, 90443],\n",
       " 10091: [10969, 11319],\n",
       " 10301: [30981, 32255],\n",
       " 11135: [24552, 69390],\n",
       " 11519: [2463, 146397],\n",
       " 11693: [67167, 133895],\n",
       " 12072: [9037, 68131],\n",
       " 12221: [54365, 30248],\n",
       " 12449: [12914, 57532],\n",
       " 13029: [40592, 45493],\n",
       " 13296: [24804, 35663],\n",
       " 13362: [55580, 32754],\n",
       " 13630: [6428, 169560],\n",
       " 13696: [6449, 35874],\n",
       " 13972: [13453, 6449],\n",
       " 14869: [36521, 34952],\n",
       " 15998: [85882, 208524],\n",
       " 16148: [310373, 124958],\n",
       " 17828: [14747, 33695],\n",
       " 19872: [126325, 7143],\n",
       " 19906: [6576, 2873],\n",
       " 19944: [69945, 8005],\n",
       " 20925: [15397, 126002],\n",
       " 21133: [110230, 31793],\n",
       " 23724: [14391, 62726],\n",
       " 24546: [7848, 87307],\n",
       " 24674: [171660, 35039],\n",
       " 24755: [79964, 90561],\n",
       " 25189: [25307, 92881],\n",
       " 25211: [169597, 6757],\n",
       " 25257: [19850, 19856],\n",
       " 25287: [126325, 19823],\n",
       " 27174: [83972, 20160],\n",
       " 27198: [2877, 2866],\n",
       " 29685: [31801, 2195],\n",
       " 30254: [30792, 36642],\n",
       " 30370: [3131, 5630],\n",
       " 30507: [543, 333182],\n",
       " 30572: [109099, 31793],\n",
       " 30591: [169687, 13822],\n",
       " 30817: [801, 6327],\n",
       " 30894: [415713, 424039],\n",
       " 30996: [199677, 412697],\n",
       " 31484: [12992, 35408],\n",
       " 31793: [30572, 109099],\n",
       " 32090: [2172, 4788],\n",
       " 32255: [30981, 33404],\n",
       " 32408: [31629, 59386],\n",
       " 32773: [2866, 35297],\n",
       " 32870: [74268, 2287],\n",
       " 33177: [89725, 20205],\n",
       " 33404: [30981, 32255],\n",
       " 33644: [35084, 7982],\n",
       " 34053: [12841, 33373],\n",
       " 34190: [31295, 62086],\n",
       " 34260: [4320, 30260],\n",
       " 34310: [66753, 12914],\n",
       " 35051: [37156, 33157],\n",
       " 35380: [131160, 18140],\n",
       " 35381: [19909, 12974],\n",
       " 35404: [30059, 103161],\n",
       " 35967: [13693, 89757],\n",
       " 36195: [6313, 30151],\n",
       " 36322: [415713, 424039],\n",
       " 36333: [5352, 38133],\n",
       " 36522: [9989, 25020],\n",
       " 36732: [136378, 14383],\n",
       " 37451: [17444, 29216],\n",
       " 37940: [102747, 15218],\n",
       " 38817: [29216, 7574],\n",
       " 39068: [129407, 94811],\n",
       " 39360: [130823, 155215],\n",
       " 45493: [89757, 47913],\n",
       " 46840: [42187, 7891],\n",
       " 47792: [92445, 125065],\n",
       " 47917: [69168, 7481],\n",
       " 49562: [6279, 9523],\n",
       " 53484: [10467, 15397],\n",
       " 54803: [69867, 68131],\n",
       " 58581: [136611, 20486],\n",
       " 59312: [166670, 13749],\n",
       " 61431: [69419, 35109],\n",
       " 64821: [10805, 67313],\n",
       " 65027: [18583, 197308],\n",
       " 65360: [18067, 36992],\n",
       " 67311: [56487, 74561],\n",
       " 69179: [85517, 8963],\n",
       " 71236: [465, 73775],\n",
       " 71299: [39068, 129407],\n",
       " 72190: [95808, 3118],\n",
       " 74109: [71394, 26525],\n",
       " 74887: [45852, 26806],\n",
       " 80133: [69390, 90724],\n",
       " 81439: [8319, 4412],\n",
       " 83190: [84577, 7770],\n",
       " 85517: [32950, 69179],\n",
       " 85849: [188217, 28856],\n",
       " 85888: [169914, 14747],\n",
       " 86216: [64798, 9699],\n",
       " 89283: [162878, 125290],\n",
       " 89286: [375531, 14530],\n",
       " 99648: [31057, 50534],\n",
       " 102819: [10295, 32072],\n",
       " 103161: [85046, 118421],\n",
       " 376542: [43546, 376279],\n",
       " 378421: [376635, 300458],\n",
       " 126435: [6688, 68996],\n",
       " 128087: [10805, 67313],\n",
       " 128778: [128781, 68981],\n",
       " 128833: [14273, 9515],\n",
       " 130883: [24900, 68072],\n",
       " 132173: [14311, 149595],\n",
       " 136360: [69587, 133720],\n",
       " 137028: [81155, 7918],\n",
       " 160109: [43530, 104427],\n",
       " 175626: [135871, 32873],\n",
       " 175655: [6322, 7393],\n",
       " 255379: [34911, 87320],\n",
       " 49: [32778, 9700],\n",
       " 170: [4382, 7730],\n",
       " 474: [15286, 376414],\n",
       " 607: [14427, 31331],\n",
       " 2389: [10177, 7311],\n",
       " 2395: [1530, 85631],\n",
       " 3043: [32189, 98308],\n",
       " 3205: [30084, 34527],\n",
       " 4535: [89757, 6808],\n",
       " 5186: [133940, 5858],\n",
       " 5293: [5489, 49959],\n",
       " 5446: [63721, 35332],\n",
       " 5595: [36351, 3511],\n",
       " 5949: [31273, 73711],\n",
       " 6422: [12925, 128733],\n",
       " 6572: [14098, 128782],\n",
       " 6681: [84131, 41144],\n",
       " 6731: [14652, 21388],\n",
       " 6837: [68131, 24935],\n",
       " 6935: [6067, 13453],\n",
       " 7016: [179886, 46871],\n",
       " 7250: [6697, 90724],\n",
       " 7276: [90622, 89764],\n",
       " 7730: [170, 4382],\n",
       " 8867: [9053, 30711],\n",
       " 9053: [8867, 30711],\n",
       " 9308: [31460, 1453],\n",
       " 9758: [35886, 581],\n",
       " 9794: [92076, 64884],\n",
       " 10182: [73224, 13766],\n",
       " 10992: [597, 206051],\n",
       " 11180: [23346, 4761],\n",
       " 11616: [121104, 49766],\n",
       " 11908: [62409, 12005],\n",
       " 12336: [5121, 1577],\n",
       " 13077: [381164, 40156],\n",
       " 13557: [28856, 188217],\n",
       " 13749: [1914, 59312],\n",
       " 13841: [6322, 405952],\n",
       " 14000: [25211, 6757],\n",
       " 14210: [6931, 6688],\n",
       " 14289: [9795, 393],\n",
       " 14530: [7025, 375531],\n",
       " 14890: [381927, 27907],\n",
       " 16470: [523, 2994],\n",
       " 19155: [125967, 25654],\n",
       " 281512: [44356, 523],\n",
       " 19556: [133052, 13520],\n",
       " 19823: [13220, 69403],\n",
       " 19850: [19856, 19791],\n",
       " 24773: [381927, 31722],\n",
       " 25487: [6850, 10573],\n",
       " 28794: [51125, 40210],\n",
       " 29847: [12792, 5951],\n",
       " 30444: [1652, 51221],\n",
       " 30627: [83491, 8867],\n",
       " 31027: [45882, 61472],\n",
       " 31053: [11542, 79419],\n",
       " 31273: [5949, 2449],\n",
       " 31375: [128634, 66044],\n",
       " 31460: [1453, 9308],\n",
       " 31923: [1885, 68703],\n",
       " 32464: [2521, 47864],\n",
       " 32718: [35719, 9739],\n",
       " 33157: [3093, 110],\n",
       " 33416: [8774, 5323],\n",
       " 34216: [33525, 10957],\n",
       " 34911: [255379, 32489],\n",
       " 35267: [35370, 5787],\n",
       " 35297: [32773, 74840],\n",
       " 35714: [46935, 46941],\n",
       " 36461: [24825, 128781],\n",
       " 36473: [4956, 13962],\n",
       " 36734: [6875, 90364],\n",
       " 36796: [36780, 16120],\n",
       " 37311: [172382, 4076],\n",
       " 38460: [32313, 30572],\n",
       " 39320: [45882, 61472],\n",
       " 40210: [40986, 51125],\n",
       " 40546: [76569, 112510],\n",
       " 45326: [31460, 1453],\n",
       " 47289: [20499, 49442],\n",
       " 47625: [20402, 25654],\n",
       " 47902: [30411, 119887],\n",
       " 49766: [82552, 11616],\n",
       " 50472: [79419, 92929],\n",
       " 51459: [274526, 31378],\n",
       " 57526: [1002, 105842],\n",
       " 58026: [14447, 37968],\n",
       " 58181: [36462, 128785],\n",
       " 60636: [90743, 160836],\n",
       " 60709: [128966, 10095],\n",
       " 63768: [77839, 22615],\n",
       " 68663: [36319, 7016],\n",
       " 68980: [73139, 374],\n",
       " 69036: [5489, 49959],\n",
       " 69445: [206092, 378237],\n",
       " 69587: [136360, 133720],\n",
       " 74821: [85515, 69179],\n",
       " 75342: [12352, 146397],\n",
       " 75955: [9496, 488],\n",
       " 82842: [162877, 21327],\n",
       " 84723: [59736, 70335],\n",
       " 86259: [53598, 31261],\n",
       " 86512: [34486, 86488],\n",
       " 87342: [707, 58127],\n",
       " 89704: [14587, 32259],\n",
       " 90534: [84010, 83491],\n",
       " 90757: [11707, 10467],\n",
       " 92929: [11420, 50472],\n",
       " 117285: [53025, 32072],\n",
       " 380081: [176612, 379322],\n",
       " 126696: [380850, 169914],\n",
       " 128604: [35954, 29501],\n",
       " 129108: [70815, 39661],\n",
       " 133406: [68533, 128785],\n",
       " 136261: [68984, 6567],\n",
       " 144281: [294, 1904],\n",
       " 163227: [99988, 14310],\n",
       " 163639: [27995, 124630],\n",
       " 166206: [167947, 131151],\n",
       " 169687: [30591, 13822],\n",
       " 169781: [9575, 60636],\n",
       " 169782: [12327, 15555],\n",
       " 169828: [27995, 62726],\n",
       " 175652: [19706, 25189],\n",
       " 176612: [380081, 39360],\n",
       " 177869: [198997, 13971],\n",
       " 179616: [124630, 163639],\n",
       " 198997: [13971, 174969],\n",
       " 206051: [71417, 31331],\n",
       " 207857: [128541, 6322],\n",
       " 116: [2540, 3666],\n",
       " 444: [2389, 10274],\n",
       " 1211: [9085, 1209],\n",
       " 1803: [15389, 128866],\n",
       " 2172: [32090, 1988],\n",
       " 2373: [31756, 33484],\n",
       " 2449: [5949, 31273],\n",
       " 2548: [107119, 908],\n",
       " 2780: [71745, 31322],\n",
       " 2873: [14747, 9313],\n",
       " 3246: [6721, 923],\n",
       " 3337: [57473, 35338],\n",
       " 3731: [129022, 30792],\n",
       " 4442: [64067, 30981],\n",
       " ...}"
      ]
     },
     "execution_count": 153,
     "metadata": {},
     "output_type": "execute_result"
    }
   ],
   "source": [
    "M = compute_item_similarity(C,n,'cos')\n",
    "M"
   ]
  },
  {
   "cell_type": "code",
   "execution_count": 149,
   "id": "fb29db0e",
   "metadata": {},
   "outputs": [
    {
     "data": {
      "text/plain": [
       "{40156: [2349, 2121],\n",
       " 15632: [2975, 2013],\n",
       " 36956: [2276, 13],\n",
       " 34157: [1122, 2415],\n",
       " 4953: [33, 1269],\n",
       " 14614: [2282, 1882],\n",
       " 32394: [28, 1657],\n",
       " 32769: [93, 19],\n",
       " 31013: [608, 140],\n",
       " 14889: [897, 475],\n",
       " 9186: [146, 712],\n",
       " 14179: [44, 2518],\n",
       " 4099: [2719, 1023],\n",
       " 14784: [1288, 1168],\n",
       " 6576: [1088, 756],\n",
       " 43548: [365, 1882],\n",
       " 49272: [2675, 1389],\n",
       " 1049: [1381, 316],\n",
       " 7017: [274, 286],\n",
       " 6445: [1192, 7],\n",
       " 1364: [553, 1262],\n",
       " 2843: [170, 453],\n",
       " 6909: [1857, 1799],\n",
       " 375755: [2882, 1246],\n",
       " 6249: [893, 211],\n",
       " 10858: [411, 921],\n",
       " 75457: [572, 625],\n",
       " 332: [409, 804],\n",
       " 8758: [2011, 6],\n",
       " 11986: [2198, 1625],\n",
       " 13831: [38, 231],\n",
       " 30340: [152, 2694],\n",
       " 32757: [1670, 42],\n",
       " 67334: [4, 2587],\n",
       " 35015: [85, 72],\n",
       " 36462: [943, 249],\n",
       " 375069: [1402, 98],\n",
       " 4453: [305, 173],\n",
       " 6327: [2981, 30],\n",
       " 7101: [537, 568],\n",
       " 60992: [2392, 2240],\n",
       " 9654: [147, 309],\n",
       " 10274: [233, 717],\n",
       " 4954: [1291, 1100],\n",
       " 8047: [11, 542],\n",
       " 11542: [911, 1321],\n",
       " 60638: [497, 2813],\n",
       " 131151: [624, 974],\n",
       " 5285: [231, 1325],\n",
       " 10573: [905, 303],\n",
       " 14515: [461, 389],\n",
       " 25769: [2341, 494],\n",
       " 35889: [560, 614],\n",
       " 67792: [685, 224],\n",
       " 103581: [2535, 1317],\n",
       " 12970: [1562, 1584],\n",
       " 30711: [878, 879],\n",
       " 34952: [2689, 1364],\n",
       " 36121: [523, 1194],\n",
       " 36351: [1162, 68],\n",
       " 82984: [1650, 554],\n",
       " 128733: [1034, 868],\n",
       " 129045: [1191, 431],\n",
       " 7771: [227, 457],\n",
       " 15394: [214, 1726],\n",
       " 30440: [544, 534],\n",
       " 32138: [1383, 30],\n",
       " 64884: [1845, 882],\n",
       " 3511: [2134, 627],\n",
       " 7258: [1629, 1365],\n",
       " 33073: [159, 2623],\n",
       " 35383: [719, 2413],\n",
       " 81684: [198, 2000],\n",
       " 2905: [107, 401],\n",
       " 6828: [1314, 1651],\n",
       " 14520: [150, 389],\n",
       " 35311: [1636, 1277],\n",
       " 36083: [204, 285],\n",
       " 36780: [2794, 928],\n",
       " 73719: [801, 152],\n",
       " 76663: [2280, 1527],\n",
       " 88855: [1464, 1188],\n",
       " 89764: [876, 1761],\n",
       " 381164: [460, 889],\n",
       " 594: [2392, 2240],\n",
       " 768: [72, 1240],\n",
       " 918: [198, 1643],\n",
       " 7107: [511, 1590],\n",
       " 8960: [115, 153],\n",
       " 14096: [1876, 1196],\n",
       " 53294: [437, 384],\n",
       " 68131: [183, 1582],\n",
       " 79141: [2225, 2856],\n",
       " 2866: [784, 596],\n",
       " 3113: [2392, 2240],\n",
       " 7096: [1351, 966],\n",
       " 7492: [370, 126],\n",
       " 22046: [798, 1193],\n",
       " 34797: [2882, 1579],\n",
       " 34972: [310, 629],\n",
       " 35378: [440, 1636],\n",
       " 35734: [2511, 2571],\n",
       " 49920: [1065, 442],\n",
       " 69276: [2942, 2675],\n",
       " 70368: [705, 2224],\n",
       " 181750: [1604, 1159],\n",
       " 1255: [1525, 2270],\n",
       " 1702: [401, 488],\n",
       " 2322: [1555, 835],\n",
       " 2453: [1003, 1340],\n",
       " 5275: [123, 733],\n",
       " 5400: [1199, 1298],\n",
       " 7268: [567, 2089],\n",
       " 7589: [1410, 2991],\n",
       " 9582: [1543, 652],\n",
       " 30720: [436, 153],\n",
       " 35106: [2501, 2938],\n",
       " 36992: [2069, 2365],\n",
       " 74782: [1555, 326],\n",
       " 90068: [1273, 2085],\n",
       " 90884: [2280, 80],\n",
       " 124306: [1596, 2044],\n",
       " 126492: [1124, 2363],\n",
       " 45: [110, 733],\n",
       " 488: [1647, 1826],\n",
       " 1189: [1078, 1411],\n",
       " 1253: [244, 402],\n",
       " 2633: [2733, 1753],\n",
       " 4523: [786, 207],\n",
       " 6961: [1841, 1328],\n",
       " 9460: [1422, 1084],\n",
       " 14620: [314, 241],\n",
       " 32826: [595, 2368],\n",
       " 34804: [1633, 2595],\n",
       " 36334: [1764, 2682],\n",
       " 40986: [2609, 732],\n",
       " 90565: [261, 314],\n",
       " 204060: [768, 2903],\n",
       " 2115: [2304, 1988],\n",
       " 2377: [168, 2595],\n",
       " 3093: [608, 918],\n",
       " 3439: [2392, 2240],\n",
       " 6240: [287, 456],\n",
       " 6582: [313, 195],\n",
       " 7985: [1453, 1405],\n",
       " 10147: [704, 2979],\n",
       " 16652: [493, 10],\n",
       " 30792: [771, 1585],\n",
       " 34990: [2392, 1702],\n",
       " 35261: [2651, 346],\n",
       " 36885: [1351, 1094],\n",
       " 57539: [1034, 868],\n",
       " 64100: [1000, 2694],\n",
       " 89725: [1448, 786],\n",
       " 6428: [1771, 1964],\n",
       " 7005: [150, 2214],\n",
       " 8000: [65, 449],\n",
       " 8848: [177, 2471],\n",
       " 9752: [1424, 88],\n",
       " 10352: [1261, 1267],\n",
       " 11250: [214, 64],\n",
       " 11700: [2093, 1974],\n",
       " 11816: [1590, 2372],\n",
       " 274954: [1668, 290],\n",
       " 13327: [1240, 1998],\n",
       " 17415: [653, 2204],\n",
       " 23370: [1956, 743],\n",
       " 30059: [796, 989],\n",
       " 31160: [139, 28],\n",
       " 32135: [1456, 2053],\n",
       " 32756: [21, 1020],\n",
       " 57107: [544, 99],\n",
       " 62086: [790, 2643],\n",
       " 70797: [552, 449],\n",
       " 81988: [2309, 2523],\n",
       " 387: [164, 2815],\n",
       " 777: [2801, 490],\n",
       " 2399: [157, 2471],\n",
       " 3138: [309, 771],\n",
       " 5288: [1176, 2544],\n",
       " 11000: [2641, 871],\n",
       " 12726: [391, 2495],\n",
       " 20486: [432, 1338],\n",
       " 24935: [91, 1582],\n",
       " 33567: [2524, 2181],\n",
       " 35369: [2062, 325],\n",
       " 36101: [1787, 307],\n",
       " 41874: [303, 49],\n",
       " 46935: [924, 2213],\n",
       " 58565: [2914, 1331],\n",
       " 83866: [308, 1422],\n",
       " 84405: [1672, 1653],\n",
       " 87320: [921, 2276],\n",
       " 377089: [2740, 330],\n",
       " 126325: [767, 755],\n",
       " 128785: [1357, 2108],\n",
       " 142338: [1199, 2562],\n",
       " 204989: [2652, 1151],\n",
       " 764: [72, 1240],\n",
       " 2815: [2079, 2392],\n",
       " 2820: [555, 1514],\n",
       " 3655: [263, 2393],\n",
       " 4562: [2897, 398],\n",
       " 4885: [259, 1652],\n",
       " 5582: [2168, 77],\n",
       " 6297: [2583, 2151],\n",
       " 6440: [1984, 2720],\n",
       " 6850: [1448, 905],\n",
       " 7481: [1739, 1296],\n",
       " 8104: [316, 2964],\n",
       " 9249: [1558, 2971],\n",
       " 10354: [527, 1295],\n",
       " 10617: [2582, 1843],\n",
       " 13283: [2314, 1592],\n",
       " 25149: [160, 64],\n",
       " 25645: [363, 874],\n",
       " 30165: [605, 880],\n",
       " 31395: [383, 2752],\n",
       " 31629: [783, 0],\n",
       " 34401: [621, 871],\n",
       " 43546: [840, 1338],\n",
       " 45852: [827, 1214],\n",
       " 47586: [261, 1340],\n",
       " 74925: [2304, 2159],\n",
       " 76264: [254, 1599],\n",
       " 83484: [1383, 2161],\n",
       " 379857: [2850, 840],\n",
       " 133052: [457, 901],\n",
       " 169560: [1600, 689],\n",
       " 465: [823, 2274],\n",
       " 2756: [383, 1738],\n",
       " 2863: [643, 30],\n",
       " 2920: [1507, 577],\n",
       " 3148: [717, 1470],\n",
       " 4320: [791, 2996],\n",
       " 6870: [290, 422],\n",
       " 6913: [359, 2729],\n",
       " 7956: [108, 2046],\n",
       " 9476: [528, 1471],\n",
       " 13360: [2417, 517],\n",
       " 14447: [942, 672],\n",
       " 14526: [1094, 150],\n",
       " 23016: [1081, 1052],\n",
       " 23284: [1601, 2995],\n",
       " 30739: [126, 1173],\n",
       " 41750: [359, 56],\n",
       " 49585: [1193, 1293],\n",
       " 58385: [1709, 520],\n",
       " 68530: [1100, 1426],\n",
       " 68986: [1088, 35],\n",
       " 80317: [1492, 2757],\n",
       " 90273: [2113, 2483],\n",
       " 90622: [876, 1322],\n",
       " 376727: [585, 426],\n",
       " 128634: [224, 1251],\n",
       " 188217: [832, 1467],\n",
       " 60: [650, 1423],\n",
       " 913: [2012, 924],\n",
       " 1356: [608, 2504],\n",
       " 3489: [2392, 203],\n",
       " 4950: [380, 2527],\n",
       " 7010: [136, 222],\n",
       " 8159: [733, 1003],\n",
       " 9617: [201, 2393],\n",
       " 10607: [2745, 1503],\n",
       " 12962: [101, 1467],\n",
       " 13293: [2770, 2901],\n",
       " 13629: [2089, 579],\n",
       " 14536: [2581, 2580],\n",
       " 14860: [723, 2863],\n",
       " 14912: [2811, 2121],\n",
       " 34382: [610, 919],\n",
       " 35980: [353, 2392],\n",
       " 40464: [2191, 613],\n",
       " 46871: [874, 947],\n",
       " 48576: [1492, 1352],\n",
       " 58166: [1719, 1303],\n",
       " 58736: [2988, 1849],\n",
       " 66004: [1645, 2958],\n",
       " 68398: [1259, 1104],\n",
       " 80451: [1507, 577],\n",
       " 376973: [336, 193],\n",
       " 388617: [407, 327],\n",
       " 801: [776, 1340],\n",
       " 5031: [2755, 2042],\n",
       " 6848: [77, 204],\n",
       " 7015: [1446, 1595],\n",
       " 8028: [288, 2234],\n",
       " 9642: [2665, 2234],\n",
       " 10746: [452, 848],\n",
       " 10805: [422, 843],\n",
       " 11057: [294, 2350],\n",
       " 11354: [709, 996],\n",
       " 13960: [2089, 496],\n",
       " 22894: [291, 2350],\n",
       " 27312: [1543, 1661],\n",
       " 28821: [120, 380],\n",
       " 30580: [1206, 1473],\n",
       " 30895: [2127, 1392],\n",
       " 31313: [1920, 2291],\n",
       " 31570: [2495, 2699],\n",
       " 31574: [2694, 671],\n",
       " 32327: [2142, 2550],\n",
       " 32665: [187, 436],\n",
       " 33159: [2320, 558],\n",
       " 34968: [37, 1524],\n",
       " 35772: [632, 394],\n",
       " 35888: [1931, 560],\n",
       " 36548: [1422, 1084],\n",
       " 36642: [2075, 771],\n",
       " 36688: [629, 2424],\n",
       " 36881: [1282, 333],\n",
       " 36884: [662, 363],\n",
       " 47357: [143, 195],\n",
       " 47818: [136, 241],\n",
       " 57583: [519, 1715],\n",
       " 58958: [209, 2267],\n",
       " 67416: [2110, 1261],\n",
       " 68533: [969, 1598],\n",
       " 69350: [2637, 1795],\n",
       " 69390: [828, 385],\n",
       " 79178: [1636, 2308],\n",
       " 79956: [461, 1282],\n",
       " 85469: [493, 2017],\n",
       " 86715: [983, 1430],\n",
       " 90035: [2849, 185],\n",
       " 98665: [118, 394],\n",
       " 375219: [374, 1146],\n",
       " 376414: [1694, 856],\n",
       " 380074: [2861, 281],\n",
       " 381687: [193, 2740],\n",
       " 124630: [541, 2396],\n",
       " 125290: [1826, 661],\n",
       " 126514: [461, 1094],\n",
       " 392208: [509, 2340],\n",
       " 130138: [2634, 1565],\n",
       " 161039: [281, 193],\n",
       " 923: [996, 1981],\n",
       " 1805: [2250, 2277],\n",
       " 3011: [1074, 2922],\n",
       " 3666: [2473, 2713],\n",
       " 3719: [991, 1955],\n",
       " 5583: [941, 2455],\n",
       " 5659: [2682, 1382],\n",
       " 7249: [2019, 582],\n",
       " 7783: [2151, 2572],\n",
       " 8158: [1315, 2320],\n",
       " 8383: [1856, 1246],\n",
       " 8742: [2079, 2392],\n",
       " 10787: [2449, 2356],\n",
       " 11385: [2668, 1199],\n",
       " 12208: [1076, 1975],\n",
       " 12862: [565, 958],\n",
       " 13804: [2392, 2240],\n",
       " 23945: [1361, 2153],\n",
       " 24058: [123, 1632],\n",
       " 25348: [2679, 429],\n",
       " 27268: [1178, 2460],\n",
       " 32005: [2066, 2772],\n",
       " 33969: [245, 56],\n",
       " 34038: [2256, 2258],\n",
       " 34154: [1231, 2677],\n",
       " 34472: [1311, 2092],\n",
       " 35473: [2919, 215],\n",
       " 39353: [91, 183],\n",
       " 53307: [2652, 1151],\n",
       " 60663: [38, 1193],\n",
       " 68981: [430, 844],\n",
       " 68984: [691, 970],\n",
       " 79218: [1645, 2958],\n",
       " 80334: [2259, 244],\n",
       " 90774: [1579, 1856],\n",
       " 374791: [1859, 2427],\n",
       " 376301: [1543, 1635],\n",
       " 383035: [327, 1146],\n",
       " 122788: [1592, 2314],\n",
       " 204767: [851, 974],\n",
       " 208817: [1889, 2397],\n",
       " 882: [243, 317],\n",
       " 1285: [1829, 341],\n",
       " 1839: [2527, 260],\n",
       " 1907: [1537, 1588],\n",
       " 1981: [1174, 2223],\n",
       " 2279: [1738, 1749],\n",
       " 2919: [1140, 1261],\n",
       " 3122: [1219, 1225],\n",
       " 3395: [291, 294],\n",
       " 3541: [644, 655],\n",
       " 5301: [880, 216],\n",
       " 7020: [461, 50],\n",
       " 7095: [586, 1316],\n",
       " 8342: [2870, 181],\n",
       " 10295: [838, 1742],\n",
       " 11338: [1609, 2644],\n",
       " 11945: [328, 2209],\n",
       " 12948: [2417, 517],\n",
       " 13064: [2562, 1199],\n",
       " 14622: [494, 1142],\n",
       " 14850: [2984, 1602],\n",
       " 18723: [561, 712],\n",
       " 20675: [146, 493],\n",
       " 26219: [107, 488],\n",
       " 30761: [485, 126],\n",
       " 30975: [1125, 657],\n",
       " 31092: [2387, 2871],\n",
       " 31710: [597, 2192],\n",
       " 32338: [1380, 2110],\n",
       " 33459: [282, 327],\n",
       " 33890: [2752, 217],\n",
       " 34915: [27, 804],\n",
       " 36255: [1919, 983],\n",
       " 36602: [817, 2265],\n",
       " 36643: [2176, 670],\n",
       " 38268: [1165, 900],\n",
       " 45487: [736, 976],\n",
       " 45949: [1448, 153],\n",
       " 46007: [1499, 2946],\n",
       " 57283: [460, 1580],\n",
       " 58131: [1762, 893],\n",
       " 58579: [1635, 51],\n",
       " 59203: [2453, 1416],\n",
       " 60913: [1561, 1658],\n",
       " 67313: [290, 843],\n",
       " 78666: [80, 449],\n",
       " 80645: [919, 1162],\n",
       " 84268: [2559, 2637],\n",
       " 88729: [2520, 253],\n",
       " 90568: [2919, 1099],\n",
       " 125065: [2833, 2578],\n",
       " 128781: [925, 844],\n",
       " 131257: [1357, 1598],\n",
       " 162348: [2341, 2276],\n",
       " 171541: [2438, 182],\n",
       " 175658: [1907, 2939],\n",
       " 260206: [2409, 2941],\n",
       " 1260: [2073, 425],\n",
       " 1705: [115, 303],\n",
       " 2921: [90, 2130],\n",
       " 3024: [1081, 2174],\n",
       " 5132: [1309, 472],\n",
       " 5417: [2225, 2856],\n",
       " 6566: [844, 195],\n",
       " 8329: [102, 1098],\n",
       " 8597: [566, 700],\n",
       " 8826: [1793, 2169],\n",
       " 9539: [983, 1430],\n",
       " 9699: [834, 1216],\n",
       " 9971: [2534, 1003],\n",
       " 10177: [858, 554],\n",
       " 10450: [173, 423],\n",
       " 10467: [813, 1033],\n",
       " 10691: [2652, 999],\n",
       " 10747: [289, 1026],\n",
       " 10951: [1376, 717],\n",
       " 11815: [515, 364],\n",
       " 12792: [603, 535],\n",
       " 12841: [789, 1272],\n",
       " 13520: [227, 901],\n",
       " 13851: [2691, 2690],\n",
       " 14248: [1878, 989],\n",
       " 14408: [1580, 1820],\n",
       " 14517: [333, 1094],\n",
       " 14596: [763, 1821],\n",
       " 15397: [2359, 477],\n",
       " 15555: [2936, 1662],\n",
       " 16553: [655, 2039],\n",
       " 17885: [172, 1291],\n",
       " 18174: [575, 2198],\n",
       " 19149: [1304, 2689],\n",
       " 20313: [1238, 1802],\n",
       " 22135: [1850, 1506],\n",
       " 30181: [1484, 1883],\n",
       " 30981: [782, 787],\n",
       " 31322: [1777, 1878],\n",
       " 31511: [110, 1938],\n",
       " 31981: [778, 1606],\n",
       " 32209: [2273, 2300],\n",
       " 34491: [463, 1373],\n",
       " 35150: [2388, 2660],\n",
       " 36364: [2532, 1106],\n",
       " 36685: [128, 207],\n",
       " 37082: [456, 789],\n",
       " 37787: [1743, 2333],\n",
       " 44119: [1767, 1991],\n",
       " 46931: [728, 1945],\n",
       " 49804: [1929, 402],\n",
       " 51974: [2758, 548],\n",
       " 55952: [2623, 1583],\n",
       " 59345: [107, 401],\n",
       " 59851: [1998, 164],\n",
       " 62904: [507, 176],\n",
       " 64246: [2284, 2051],\n",
       " 64359: [546, 1170],\n",
       " 65921: [146, 323],\n",
       " 69421: [397, 1142],\n",
       " 71394: [826, 2111],\n",
       " 77232: [293, 1223],\n",
       " 80043: [1046, 1831],\n",
       " 82729: [1241, 1254],\n",
       " 88379: [1164, 1413],\n",
       " 89941: [429, 618],\n",
       " 95219: [2917, 1464],\n",
       " 95808: [825, 1549],\n",
       " 105842: [941, 2455],\n",
       " 128197: [1601, 2490],\n",
       " 130771: [768, 1138],\n",
       " 131160: [1442, 1939],\n",
       " 134226: [490, 176],\n",
       " 136400: [582, 2417],\n",
       " 403671: [334, 2340],\n",
       " 173672: [1577, 105],\n",
       " 192930: [87, 1590],\n",
       " 504: [1576, 1858],\n",
       " 647: [663, 2695],\n",
       " 907: [2469, 2709],\n",
       " 2148: [454, 91],\n",
       " 2670: [1204, 2560],\n",
       " 3617: [1675, 239],\n",
       " 5413: [2170, 984],\n",
       " 5516: [315, 1038],\n",
       " 5766: [1081, 2174],\n",
       " 5787: [2582, 2544],\n",
       " 6544: [924, 1234],\n",
       " 7821: [58, 2744],\n",
       " 8078: [909, 1855],\n",
       " 8320: [2071, 1452],\n",
       " 8886: [2677, 1193],\n",
       " 9879: [2702, 2025],\n",
       " 9989: [801, 238],\n",
       " 10133: [280, 1096],\n",
       " 10162: [1383, 2161],\n",
       " 10196: [2126, 2254],\n",
       " 10565: [1779, 2008],\n",
       " 12262: [1298, 1197],\n",
       " 12315: [701, 562],\n",
       " 12316: [603, 455],\n",
       " 12352: [2392, 2240],\n",
       " 12445: [2052, 39],\n",
       " 13695: [307, 186],\n",
       " 13931: [2595, 2737],\n",
       " 14127: [721, 1143],\n",
       " 14311: [2396, 331],\n",
       " 14529: [2522, 1993],\n",
       " 14896: [1812, 1544],\n",
       " 18790: [629, 2424],\n",
       " 19909: [2702, 2025],\n",
       " 24566: [492, 2464],\n",
       " 25270: [2668, 2289],\n",
       " 28195: [2030, 1706],\n",
       " 30084: [861, 288],\n",
       " 30122: [2476, 238],\n",
       " 30248: [2669, 788],\n",
       " 30539: [2280, 173],\n",
       " 31083: [1792, 254],\n",
       " 32758: [60, 858],\n",
       " 34641: [2172, 200],\n",
       " 35409: [647, 779],\n",
       " 35418: [1581, 2926],\n",
       " 36425: [310, 304],\n",
       " 46895: [2884, 112],\n",
       " 47017: [307, 538],\n",
       " 48439: [399, 493],\n",
       " 49115: [534, 701],\n",
       " 51304: [1850, 678],\n",
       " 53598: [2653, 2780],\n",
       " 54168: [1028, 958],\n",
       " 57674: [1000, 1983],\n",
       " 57961: [579, 2633],\n",
       " 63532: [2785, 537],\n",
       " 68966: [1199, 196],\n",
       " 68979: [14, 1872],\n",
       " 69013: [1399, 1090],\n",
       " 70487: [1046, 26],\n",
       " 71376: [1654, 1441],\n",
       " 74837: [2390, 97],\n",
       " 77299: [467, 2198],\n",
       " 80428: [388, 216],\n",
       " 83849: [1276, 1797],\n",
       " 90621: [1595, 2948],\n",
       " 90732: [2633, 567],\n",
       " 375888: [257, 924],\n",
       " 375966: [748, 154],\n",
       " 377403: [508, 1575],\n",
       " 129850: [2670, 1645],\n",
       " 160851: [2600, 886],\n",
       " 178919: [87, 511],\n",
       " 197670: [390, 1882],\n",
       " 203487: [2392, 2240],\n",
       " 206093: [1161, 1591],\n",
       " 110: [229, 823],\n",
       " 1087: [1372, 573],\n",
       " 1788: [1803, 2636],\n",
       " 2006: [2504, 1423],\n",
       " 2176: [814, 91],\n",
       " 2645: [1124, 54],\n",
       " 2723: [2368, 132],\n",
       " 2877: [769, 93],\n",
       " 3131: [2192, 2348],\n",
       " 4076: [929, 1360],\n",
       " 4168: [1784, 284],\n",
       " 5033: [2692, 2533],\n",
       " 5140: [2006, 728],\n",
       " 5780: [848, 924],\n",
       " 5951: [535, 455],\n",
       " 7442: [806, 1187],\n",
       " 7726: [216, 880],\n",
       " 8328: [2317, 2515],\n",
       " 9291: [479, 2532],\n",
       " 9992: [258, 140],\n",
       " 10276: [2569, 1867],\n",
       " 11123: [271, 919],\n",
       " 11183: [1081, 2174],\n",
       " 11377: [2921, 777],\n",
       " 12034: [273, 992],\n",
       " 13693: [797, 648],\n",
       " 13791: [1663, 1176],\n",
       " 14027: [1688, 1397],\n",
       " 14072: [1608, 1744],\n",
       " 14098: [1088, 869],\n",
       " 14383: [1227, 721],\n",
       " 14448: [2745, 1503],\n",
       " 14652: [871, 219],\n",
       " 14895: [227, 457],\n",
       " 16002: [626, 1921],\n",
       " 19636: [47, 940],\n",
       " 21890: [26, 2173],\n",
       " 21958: [623, 1922],\n",
       " 22702: [68, 2134],\n",
       " 23180: [1957, 2816],\n",
       " 24167: [544, 310],\n",
       " 25043: [476, 2273],\n",
       " 25273: [1651, 2313],\n",
       " 25432: [2543, 1149],\n",
       " 28593: [303, 1448],\n",
       " 29545: [2107, 327],\n",
       " 30329: [541, 2352],\n",
       " 31400: [2185, 2227],\n",
       " 32216: [2308, 2787],\n",
       " 32268: [104, 1828],\n",
       " 33050: [672, 729],\n",
       " 33111: [1793, 1868],\n",
       " 33228: [2437, 941],\n",
       " 33313: [291, 294],\n",
       " 33525: [231, 920],\n",
       " 34142: [387, 2392],\n",
       " 34698: [717, 1470],\n",
       " 35235: [389, 333],\n",
       " 35408: [556, 779],\n",
       " 36340: [614, 1129],\n",
       " 36608: [1575, 545],\n",
       " 37156: [256, 1423],\n",
       " 40126: [491, 812],\n",
       " 41935: [1664, 796],\n",
       " 42482: [2148, 2204],\n",
       " 43530: [850, 1853],\n",
       " 44064: [465, 2039],\n",
       " 45925: [260, 49],\n",
       " 47765: [1125, 403],\n",
       " 47926: [7, 125],\n",
       " 49790: [2599, 1289],\n",
       " 51221: [2777, 908],\n",
       " 55074: [1826, 1255],\n",
       " 58638: [312, 2542],\n",
       " 59000: [513, 2695],\n",
       " 68072: [1715, 846],\n",
       " 68996: [842, 1010],\n",
       " 69042: [965, 1168],\n",
       " 69239: [461, 1011],\n",
       " 69867: [814, 1055],\n",
       " 70989: [2333, 2335],\n",
       " 79130: [2847, 412],\n",
       " 80461: [1808, 2701],\n",
       " 81081: [240, 914],\n",
       " 82091: [2991, 608],\n",
       " 83920: [1883, 1484],\n",
       " 90483: [552, 1527],\n",
       " 90743: [944, 2932],\n",
       " 102323: [1942, 2631],\n",
       " 113634: [1850, 1506],\n",
       " 376952: [2537, 1826],\n",
       " 121986: [2151, 2572],\n",
       " 124958: [753, 1356],\n",
       " 125140: [1465, 1906],\n",
       " 125851: [2248, 1459],\n",
       " 128966: [945, 2035],\n",
       " 132840: [1045, 53],\n",
       " 136025: [1280, 925],\n",
       " 136227: [1353, 2145],\n",
       " 140129: [1354, 1142],\n",
       " 415713: [1155, 1501],\n",
       " 176017: [994, 808],\n",
       " 181658: [368, 970],\n",
       " 194221: [0, 1],\n",
       " 203488: [2294, 1425],\n",
       " 204820: [766, 2311],\n",
       " 211659: [1591, 2399],\n",
       " 374: [948, 1303],\n",
       " 704: [1173, 2093],\n",
       " 894: [1232, 684],\n",
       " 1596: [2449, 349],\n",
       " 1979: [1000, 443],\n",
       " 2103: [534, 562],\n",
       " 2160: [707, 1297],\n",
       " 2229: [498, 682],\n",
       " 2521: [916, 145],\n",
       " 2581: [1666, 2224],\n",
       " 2650: [806, 1587],\n",
       " 2750: [702, 1297],\n",
       " 3115: [1618, 406],\n",
       " 3299: [834, 292],\n",
       " 3687: [1134, 2037],\n",
       " 4053: [1883, 1365],\n",
       " 4540: [146, 10],\n",
       " 5348: [1483, 1537],\n",
       " 5414: [2052, 537],\n",
       " 5513: [1158, 1721],\n",
       " 5521: [2164, 324],\n",
       " 5819: [1470, 1547],\n",
       " 6469: [806, 1587],\n",
       " 6665: [71, 2847],\n",
       " 6779: [1767, 1991],\n",
       " 6875: [1143, 619],\n",
       " 7075: [855, 2395],\n",
       " 7360: [269, 2863],\n",
       " 7457: [1135, 2286],\n",
       " 7685: [2474, 2595],\n",
       " 8008: [2998, 1253],\n",
       " 8022: [1133, 541],\n",
       " 8327: [484, 601],\n",
       " 8404: [2799, 240],\n",
       " 9154: [1748, 2435],\n",
       " 9313: [2065, 995],\n",
       " 9338: [2925, 135],\n",
       " 9437: [262, 110],\n",
       " 9515: [845, 1236],\n",
       " 9571: [2542, 697],\n",
       " 9616: [414, 2831],\n",
       " 10091: [2029, 2031],\n",
       " 10301: [472, 782],\n",
       " 11135: [2613, 320],\n",
       " 11519: [2997, 2392],\n",
       " 11693: [1536, 2374],\n",
       " 12072: [1211, 91],\n",
       " 12221: [2231, 551],\n",
       " 12449: [2566, 1523],\n",
       " 13029: [1286, 808],\n",
       " 13296: [1457, 1498],\n",
       " 13362: [2233, 2654],\n",
       " 13630: [154, 228],\n",
       " 13696: [1007, 1085],\n",
       " 13972: [1039, 1007],\n",
       " 14869: [2689, 57],\n",
       " 15998: [1140, 2435],\n",
       " 16148: [2724, 681],\n",
       " 17828: [2065, 1274],\n",
       " 19872: [194, 2522],\n",
       " 19906: [14, 995],\n",
       " 19944: [1126, 1992],\n",
       " 20925: [463, 2359],\n",
       " 21133: [2335, 780],\n",
       " 23724: [1043, 2258],\n",
       " 24546: [1651, 2313],\n",
       " 24674: [2944, 1079],\n",
       " 24755: [1821, 1844],\n",
       " 25189: [2619, 1846],\n",
       " 25211: [1359, 2514],\n",
       " 25257: [903, 2602],\n",
       " 25287: [194, 902],\n",
       " 27174: [1138, 1705],\n",
       " 27198: [596, 93],\n",
       " 29685: [2646, 1943],\n",
       " 30254: [147, 309],\n",
       " 30370: [597, 1637],\n",
       " 30507: [1931, 2770],\n",
       " 30572: [2333, 780],\n",
       " 30591: [975, 1686],\n",
       " 30817: [283, 38],\n",
       " 30894: [689, 1155],\n",
       " 30996: [1606, 2398],\n",
       " 31484: [1679, 647],\n",
       " 31793: [774, 2333],\n",
       " 32090: [990, 1187],\n",
       " 32255: [472, 787],\n",
       " 32408: [218, 1113],\n",
       " 32773: [93, 923],\n",
       " 32870: [2779, 1378],\n",
       " 33177: [153, 1448],\n",
       " 33404: [472, 782],\n",
       " 33644: [2669, 1204],\n",
       " 34053: [456, 1272],\n",
       " 34190: [2643, 172],\n",
       " 34260: [234, 1256],\n",
       " 34310: [1800, 2566],\n",
       " 35051: [650, 918],\n",
       " 35380: [506, 1442],\n",
       " 35381: [545, 1678],\n",
       " 35404: [167, 839],\n",
       " 35967: [614, 2317],\n",
       " 36195: [1974, 2636],\n",
       " 36322: [689, 1155],\n",
       " 36333: [1192, 2694],\n",
       " 36522: [528, 1716],\n",
       " 36732: [2385, 619],\n",
       " 37451: [2592, 1728],\n",
       " 37940: [1332, 1439],\n",
       " 38817: [1728, 2525],\n",
       " 39068: [1587, 1848],\n",
       " 39360: [2883, 2927],\n",
       " 45493: [2317, 2723],\n",
       " 46840: [1767, 1991],\n",
       " 47792: [2833, 428],\n",
       " 47917: [2766, 208],\n",
       " 49562: [1972, 2008],\n",
       " 53484: [450, 463],\n",
       " 54803: [668, 91],\n",
       " 58581: [1590, 182],\n",
       " 59312: [1358, 891],\n",
       " 61431: [2265, 2671],\n",
       " 64821: [290, 422],\n",
       " 65027: [1443, 2430],\n",
       " 65360: [2081, 117],\n",
       " 67311: [2236, 1814],\n",
       " 69179: [831, 1210],\n",
       " 71236: [229, 2274],\n",
       " 71299: [806, 1587],\n",
       " 72190: [502, 1950],\n",
       " 74109: [495, 2111],\n",
       " 74887: [221, 2113],\n",
       " 80133: [320, 1144],\n",
       " 81439: [1997, 1184],\n",
       " 83190: [2304, 1988],\n",
       " 85517: [1746, 822],\n",
       " 85849: [255, 1467],\n",
       " 85888: [1599, 2065],\n",
       " 86216: [2756, 446],\n",
       " 89283: [2936, 332],\n",
       " 89286: [2849, 896],\n",
       " 99648: [2125, 2221],\n",
       " 102819: [392, 1742],\n",
       " 103161: [2820, 1339],\n",
       " 376542: [220, 1578],\n",
       " 378421: [2343, 2696],\n",
       " 126435: [1979, 665],\n",
       " 128087: [290, 422],\n",
       " 128778: [429, 367],\n",
       " 128833: [1236, 734],\n",
       " 130883: [1715, 664],\n",
       " 132173: [541, 2396],\n",
       " 136360: [951, 2373],\n",
       " 137028: [1825, 1203],\n",
       " 160109: [654, 1853],\n",
       " 175626: [1883, 1484],\n",
       " 175655: [1397, 1984],\n",
       " 255379: [921, 192],\n",
       " 49: [2655, 1022],\n",
       " 170: [2491, 877],\n",
       " 474: [1694, 328],\n",
       " 607: [2579, 1735],\n",
       " 2389: [448, 1650],\n",
       " 2395: [1170, 2308],\n",
       " 3043: [1265, 1330],\n",
       " 3205: [549, 2665],\n",
       " 4535: [2317, 2515],\n",
       " 5186: [1881, 2508],\n",
       " 5293: [1193, 1293],\n",
       " 5446: [2753, 2161],\n",
       " 5595: [59, 68],\n",
       " 5949: [912, 2777],\n",
       " 6422: [1034, 61],\n",
       " 6572: [618, 1876],\n",
       " 6681: [2299, 2197],\n",
       " 6731: [621, 2097],\n",
       " 6837: [91, 183],\n",
       " 6935: [1641, 1039],\n",
       " 7016: [2948, 274],\n",
       " 7250: [1400, 1144],\n",
       " 7276: [252, 82],\n",
       " 7730: [855, 2491],\n",
       " 8867: [879, 56],\n",
       " 9053: [878, 56],\n",
       " 9308: [914, 1169],\n",
       " 9758: [2683, 1933],\n",
       " 9794: [1845, 67],\n",
       " 10182: [1316, 1427],\n",
       " 10992: [1934, 984],\n",
       " 11180: [1709, 1186],\n",
       " 11616: [1866, 938],\n",
       " 11908: [1531, 2558],\n",
       " 12336: [2498, 1621],\n",
       " 13077: [83, 0],\n",
       " 13557: [1467, 255],\n",
       " 13749: [1172, 816],\n",
       " 13841: [1397, 1890],\n",
       " 14000: [765, 2514],\n",
       " 14210: [1010, 1979],\n",
       " 14289: [2543, 1930],\n",
       " 14530: [2518, 2849],\n",
       " 14890: [1581, 2628],\n",
       " 16470: [1165, 1181],\n",
       " 19155: [2873, 1461],\n",
       " 281512: [2712, 1165],\n",
       " 19556: [227, 457],\n",
       " 19823: [2053, 2767],\n",
       " 19850: [2602, 1244],\n",
       " 24773: [1581, 2131],\n",
       " 25487: [207, 49],\n",
       " 28794: [1103, 932],\n",
       " 29847: [455, 603],\n",
       " 30444: [1941, 660],\n",
       " 30627: [2810, 878],\n",
       " 31027: [1289, 1530],\n",
       " 31053: [45, 2285],\n",
       " 31273: [867, 992],\n",
       " 31375: [254, 1118],\n",
       " 31460: [1169, 880],\n",
       " 31923: [1171, 1123],\n",
       " 32464: [704, 1518],\n",
       " 32718: [1083, 1023],\n",
       " 33157: [140, 589],\n",
       " 33416: [1408, 1967],\n",
       " 34216: [643, 1670],\n",
       " 34911: [853, 2652],\n",
       " 35267: [1754, 521],\n",
       " 35297: [784, 1317],\n",
       " 35714: [188, 2213],\n",
       " 36461: [2615, 429],\n",
       " 36473: [1189, 1429],\n",
       " 36734: [721, 1143],\n",
       " 36796: [78, 1241],\n",
       " 37311: [1360, 598],\n",
       " 38460: [1743, 774],\n",
       " 39320: [1289, 1530],\n",
       " 40210: [135, 1103],\n",
       " 40546: [2277, 2844],\n",
       " 45326: [914, 1169],\n",
       " 47289: [2093, 1292],\n",
       " 47625: [1706, 1461],\n",
       " 47902: [2639, 2867],\n",
       " 49766: [2806, 886],\n",
       " 50472: [2285, 963],\n",
       " 51459: [1673, 2645],\n",
       " 57526: [2455, 503],\n",
       " 58026: [240, 2186],\n",
       " 58181: [35, 195],\n",
       " 60636: [676, 2932],\n",
       " 60709: [684, 1414],\n",
       " 63768: [2785, 1051],\n",
       " 68663: [1759, 874],\n",
       " 68980: [2272, 696],\n",
       " 69036: [1193, 1293],\n",
       " 69445: [1161, 1337],\n",
       " 69587: [848, 2373],\n",
       " 74821: [2307, 822],\n",
       " 75342: [536, 2392],\n",
       " 75955: [2537, 124],\n",
       " 82842: [2935, 1451],\n",
       " 84723: [1528, 2266],\n",
       " 86259: [564, 1734],\n",
       " 86512: [1491, 1836],\n",
       " 87342: [1611, 2242],\n",
       " 89704: [2582, 1481],\n",
       " 90534: [2812, 2810],\n",
       " 90757: [1030, 450],\n",
       " 92929: [2554, 939],\n",
       " 117285: [2228, 1742],\n",
       " 380081: [980, 1338],\n",
       " 126696: [1340, 1599],\n",
       " 128604: [1278, 1730],\n",
       " 129108: [1808, 2701],\n",
       " 133406: [318, 195],\n",
       " 136261: [368, 1978],\n",
       " 144281: [1928, 2990],\n",
       " 163227: [2837, 1433],\n",
       " 163639: [2116, 331],\n",
       " 166206: [1156, 47],\n",
       " 169687: [775, 1686],\n",
       " 169781: [1021, 944],\n",
       " 169782: [2046, 464],\n",
       " 169828: [2116, 2258],\n",
       " 175652: [1447, 764],\n",
       " 176612: [965, 807],\n",
       " 177869: [983, 1430],\n",
       " 179616: [331, 973],\n",
       " 198997: [1430, 2419],\n",
       " 206051: [2771, 1735],\n",
       " 207857: [2877, 1397],\n",
       " 116: [2473, 340],\n",
       " 444: [858, 42],\n",
       " 1211: [1018, 1618],\n",
       " 1803: [2069, 2365],\n",
       " 2172: [781, 1174],\n",
       " 2373: [1738, 1749],\n",
       " 2449: [867, 912],\n",
       " 2548: [2841, 1367],\n",
       " 2780: [1810, 473],\n",
       " 2873: [2065, 731],\n",
       " 3246: [1981, 337],\n",
       " 3337: [2736, 1081],\n",
       " 3731: [1585, 147],\n",
       " 4442: [1309, 472],\n",
       " ...}"
      ]
     },
     "execution_count": 149,
     "metadata": {},
     "output_type": "execute_result"
    }
   ],
   "source": [
    "M"
   ]
  },
  {
   "cell_type": "markdown",
   "id": "4bcd396a",
   "metadata": {},
   "source": [
    "### Learning parameters"
   ]
  },
  {
   "cell_type": "code",
   "execution_count": 23,
   "id": "3ee8ea0c",
   "metadata": {},
   "outputs": [],
   "source": [
    "import math"
   ]
  },
  {
   "cell_type": "code",
   "execution_count": 24,
   "id": "4647de4e",
   "metadata": {},
   "outputs": [],
   "source": [
    "def f(t, l):\n",
    "    try:\n",
    "        return math.exp(-l*t)\n",
    "    except:\n",
    "        return -1 "
   ]
  },
  {
   "cell_type": "code",
   "execution_count": 25,
   "id": "74d0c98e",
   "metadata": {},
   "outputs": [],
   "source": [
    "def pred_time(user, item1, i, j, t):\n",
    "    '''\n",
    "    Predict opinion of user i on item j\n",
    "    '''\n",
    "    \n",
    "    s1, s2 = 0, 0\n",
    "    for c in M[df.columns[j]]:\n",
    "        p = float(C[i][item_id[item_id[0] == c][1]]) # pred(user, item2, i, c, t)\n",
    "        q = cosine_sim(item1, C.T[item_id[item_id[0] == c][1]], j)*f(T[i][item_id[item_id[0] == c][1]], 1/t)\n",
    "        s1 += p*q\n",
    "        s2 += q\n",
    "    return s1 / s2"
   ]
  },
  {
   "cell_type": "code",
   "execution_count": 26,
   "id": "ee1ccc9c",
   "metadata": {},
   "outputs": [
    {
     "data": {
      "text/plain": [
       "2349    2349\n",
       "Name: 1, dtype: int64"
      ]
     },
     "execution_count": 26,
     "metadata": {},
     "output_type": "execute_result"
    }
   ],
   "source": [
    "item_id[item_id[0] == 118410][1]"
   ]
  },
  {
   "cell_type": "code",
   "execution_count": 38,
   "id": "11993469",
   "metadata": {},
   "outputs": [],
   "source": [
    "def pred(user, item1, i, j, M):\n",
    "    '''\n",
    "    Predict opinion of user i on item j\n",
    "    '''\n",
    "    s1, s2 = 0, 0\n",
    "    for c in M[df.columns[j]]:\n",
    "        p = float(C[i][item_id[item_id[0] == c][1]]) # pred(user, item2, i, c, t)\n",
    "        q = cosine_sim(item1, C.T[item_id[item_id[0] == c][1]], j)\n",
    "        s1 += p*q\n",
    "        s2 += q\n",
    "    return s1 / s2"
   ]
  },
  {
   "cell_type": "code",
   "execution_count": 28,
   "id": "448e9822",
   "metadata": {},
   "outputs": [],
   "source": [
    "def find_T02(user, i):\n",
    "    s, m, t_0 = 0, 0, 100\n",
    "    for j, item in enumerate(C.T):\n",
    "        pred_ij = pred_time(user, item, i, j, t_0)\n",
    "        q_ij = C[i][item_id[item_id[0] == j][1]]\n",
    "        s += abs(pred_ij - q_ij) / len(C.T)\n",
    "    return t_0"
   ]
  },
  {
   "cell_type": "code",
   "execution_count": 29,
   "id": "348d9b3d",
   "metadata": {},
   "outputs": [
    {
     "name": "stdout",
     "output_type": "stream",
     "text": [
      "255\n",
      "0\n"
     ]
    },
    {
     "data": {
      "text/plain": [
       "array([  0,   1,   2,   3,   4,   5,   6,   7,   8,   9,  10,  11,  12,\n",
       "        13,  14,  15,  16,  17,  18,  19,  20,  21,  22,  23,  24,  25,\n",
       "        26,  27,  28,  29,  30,  31,  32,  33,  34,  35,  36,  37,  38,\n",
       "        39,  41,  42,  43,  44,  45,  46,  47,  48,  49,  50,  51,  52,\n",
       "        53,  54,  55,  56,  57,  58,  59,  60,  61,  62,  63,  64,  65,\n",
       "        66,  67,  68,  69,  70,  71,  72,  73,  74,  75,  76,  77,  78,\n",
       "        79,  80,  81,  82,  83,  84,  85,  86,  87,  88,  89,  90,  91,\n",
       "        92,  93,  94,  95,  96,  97,  98,  99, 100, 101, 102, 103, 104,\n",
       "       105, 106, 107, 108, 109, 110, 111, 112, 113, 114, 115, 116, 117,\n",
       "       118, 119, 120, 122, 123, 124, 126, 127, 130, 131, 134, 135, 138,\n",
       "       144, 147, 148, 149], dtype=uint8)"
      ]
     },
     "execution_count": 29,
     "metadata": {},
     "output_type": "execute_result"
    }
   ],
   "source": [
    "print(np.amax(T) - np.amin(T))\n",
    "print(np.amin(T))\n",
    "np.unique(T)[:-1]"
   ]
  },
  {
   "cell_type": "code",
   "execution_count": 30,
   "id": "0538e012",
   "metadata": {},
   "outputs": [
    {
     "data": {
      "text/plain": [
       "array([[255, 255, 255, ..., 255,  72, 255],\n",
       "       [255, 255, 255, ..., 255, 255, 255],\n",
       "       [255, 255,  21, ..., 255, 255, 255],\n",
       "       ...,\n",
       "       [255, 255, 255, ..., 255, 255, 255],\n",
       "       [255, 255, 255, ..., 255, 255, 255],\n",
       "       [255, 255, 255, ..., 255, 255, 255]], dtype=uint8)"
      ]
     },
     "execution_count": 30,
     "metadata": {},
     "output_type": "execute_result"
    }
   ],
   "source": [
    "T"
   ]
  },
  {
   "cell_type": "code",
   "execution_count": 31,
   "id": "74d7b826",
   "metadata": {},
   "outputs": [],
   "source": [
    "def find_T0(user, i, T):\n",
    "    s, m, t_0 = 0, 564124554, 1\n",
    "    for t in range(1, max(np.unique(T)[:-1]) - min(np.unique(T)[:-1])):\n",
    "        if t == 0:\n",
    "            continue\n",
    "        s = 0\n",
    "        for j, item in enumerate(C.T):\n",
    "            pred_ij = pred_time(user, item, i, j, t)\n",
    "            q_ij = C[i][item_id[item_id[0] == j][1]]\n",
    "            s += abs(pred_ij - q_ij) / len(C.T)\n",
    "        if s < m:\n",
    "            m = s\n",
    "            t_0 = t\n",
    "    return t_0"
   ]
  },
  {
   "cell_type": "code",
   "execution_count": 32,
   "id": "c11c5662",
   "metadata": {},
   "outputs": [],
   "source": [
    "def learning_parameters(C,M,T,n,K,l):\n",
    "    '''\n",
    "    Search T0 for each user such that the error is minimum\n",
    "    '''\n",
    "    parameters = {}\n",
    "    nb = len(C)\n",
    "    for i, user in enumerate(C):\n",
    "        print(f'{i}/{nb}', end='\\r')\n",
    "        parameters[df.index[i]] = find_T0(user, i, T)\n",
    "    return parameters"
   ]
  },
  {
   "cell_type": "code",
   "execution_count": 189,
   "id": "f3337f44",
   "metadata": {},
   "outputs": [
    {
     "name": "stdout",
     "output_type": "stream",
     "text": [
      "0/1000\r"
     ]
    },
    {
     "name": "stderr",
     "output_type": "stream",
     "text": [
      "/tmp/ipykernel_3458/3480545298.py:12: RuntimeWarning: invalid value encountered in double_scalars\n",
      "  return s1 / s2\n",
      "/tmp/ipykernel_3458/3993797755.py:11: DeprecationWarning: The truth value of an empty array is ambiguous. Returning False, but in future this will result in an error. Use `array.size > 0` to check that an array is not empty.\n",
      "  if s < m:\n"
     ]
    },
    {
     "ename": "KeyboardInterrupt",
     "evalue": "",
     "output_type": "error",
     "traceback": [
      "\u001b[0;31m---------------------------------------------------------------------------\u001b[0m",
      "\u001b[0;31mKeyboardInterrupt\u001b[0m                         Traceback (most recent call last)",
      "Input \u001b[0;32mIn [189]\u001b[0m, in \u001b[0;36m<module>\u001b[0;34m\u001b[0m\n\u001b[0;32m----> 1\u001b[0m \u001b[43mlearning_parameters\u001b[49m\u001b[43m(\u001b[49m\u001b[43mC\u001b[49m\u001b[43m,\u001b[49m\u001b[43mM\u001b[49m\u001b[43m,\u001b[49m\u001b[43mT\u001b[49m\u001b[43m,\u001b[49m\u001b[43mn\u001b[49m\u001b[43m,\u001b[49m\u001b[43mK\u001b[49m\u001b[43m,\u001b[49m\u001b[43ml\u001b[49m\u001b[43m)\u001b[49m\n",
      "Input \u001b[0;32mIn [188]\u001b[0m, in \u001b[0;36mlearning_parameters\u001b[0;34m(C, M, T, n, K, l)\u001b[0m\n\u001b[1;32m      7\u001b[0m \u001b[38;5;28;01mfor\u001b[39;00m i, user \u001b[38;5;129;01min\u001b[39;00m \u001b[38;5;28menumerate\u001b[39m(C):\n\u001b[1;32m      8\u001b[0m     \u001b[38;5;28mprint\u001b[39m(\u001b[38;5;124mf\u001b[39m\u001b[38;5;124m'\u001b[39m\u001b[38;5;132;01m{\u001b[39;00mi\u001b[38;5;132;01m}\u001b[39;00m\u001b[38;5;124m/\u001b[39m\u001b[38;5;132;01m{\u001b[39;00mnb\u001b[38;5;132;01m}\u001b[39;00m\u001b[38;5;124m'\u001b[39m, end\u001b[38;5;241m=\u001b[39m\u001b[38;5;124m'\u001b[39m\u001b[38;5;130;01m\\r\u001b[39;00m\u001b[38;5;124m'\u001b[39m)\n\u001b[0;32m----> 9\u001b[0m     parameters[df\u001b[38;5;241m.\u001b[39mindex[i]] \u001b[38;5;241m=\u001b[39m \u001b[43mfind_T0\u001b[49m\u001b[43m(\u001b[49m\u001b[43muser\u001b[49m\u001b[43m,\u001b[49m\u001b[43m \u001b[49m\u001b[43mi\u001b[49m\u001b[43m,\u001b[49m\u001b[43m \u001b[49m\u001b[43mT\u001b[49m\u001b[43m)\u001b[49m\n\u001b[1;32m     10\u001b[0m \u001b[38;5;28;01mreturn\u001b[39;00m parameters\n",
      "Input \u001b[0;32mIn [187]\u001b[0m, in \u001b[0;36mfind_T0\u001b[0;34m(user, i, T)\u001b[0m\n\u001b[1;32m      6\u001b[0m s \u001b[38;5;241m=\u001b[39m \u001b[38;5;241m0\u001b[39m\n\u001b[1;32m      7\u001b[0m \u001b[38;5;28;01mfor\u001b[39;00m j, item \u001b[38;5;129;01min\u001b[39;00m \u001b[38;5;28menumerate\u001b[39m(C\u001b[38;5;241m.\u001b[39mT):\n\u001b[0;32m----> 8\u001b[0m     pred_ij \u001b[38;5;241m=\u001b[39m \u001b[43mpred_time\u001b[49m\u001b[43m(\u001b[49m\u001b[43muser\u001b[49m\u001b[43m,\u001b[49m\u001b[43m \u001b[49m\u001b[43mitem\u001b[49m\u001b[43m,\u001b[49m\u001b[43m \u001b[49m\u001b[43mi\u001b[49m\u001b[43m,\u001b[49m\u001b[43m \u001b[49m\u001b[43mj\u001b[49m\u001b[43m,\u001b[49m\u001b[43m \u001b[49m\u001b[43mt\u001b[49m\u001b[43m)\u001b[49m\n\u001b[1;32m      9\u001b[0m     q_ij \u001b[38;5;241m=\u001b[39m C[i][item_id[item_id[\u001b[38;5;241m0\u001b[39m] \u001b[38;5;241m==\u001b[39m j][\u001b[38;5;241m1\u001b[39m]]\n\u001b[1;32m     10\u001b[0m     s \u001b[38;5;241m+\u001b[39m\u001b[38;5;241m=\u001b[39m \u001b[38;5;28mabs\u001b[39m(pred_ij \u001b[38;5;241m-\u001b[39m q_ij) \u001b[38;5;241m/\u001b[39m \u001b[38;5;28mlen\u001b[39m(C\u001b[38;5;241m.\u001b[39mT)\n",
      "Input \u001b[0;32mIn [175]\u001b[0m, in \u001b[0;36mpred_time\u001b[0;34m(user, item1, i, j, t)\u001b[0m\n\u001b[1;32m      7\u001b[0m \u001b[38;5;28;01mfor\u001b[39;00m c \u001b[38;5;129;01min\u001b[39;00m M[df\u001b[38;5;241m.\u001b[39mcolumns[j]]:\n\u001b[1;32m      8\u001b[0m     p \u001b[38;5;241m=\u001b[39m \u001b[38;5;28mfloat\u001b[39m(C[i][item_id[item_id[\u001b[38;5;241m0\u001b[39m] \u001b[38;5;241m==\u001b[39m c][\u001b[38;5;241m1\u001b[39m]]) \u001b[38;5;66;03m# pred(user, item2, i, c, t)\u001b[39;00m\n\u001b[0;32m----> 9\u001b[0m     q \u001b[38;5;241m=\u001b[39m cosine_sim(item1, C\u001b[38;5;241m.\u001b[39mT[item_id[\u001b[43mitem_id\u001b[49m\u001b[43m[\u001b[49m\u001b[38;5;241;43m0\u001b[39;49m\u001b[43m]\u001b[49m\u001b[43m \u001b[49m\u001b[38;5;241;43m==\u001b[39;49m\u001b[43m \u001b[49m\u001b[43mc\u001b[49m][\u001b[38;5;241m1\u001b[39m]], j)\u001b[38;5;241m*\u001b[39mf(T[i][item_id[item_id[\u001b[38;5;241m0\u001b[39m] \u001b[38;5;241m==\u001b[39m c][\u001b[38;5;241m1\u001b[39m]], \u001b[38;5;241m1\u001b[39m\u001b[38;5;241m/\u001b[39mt)\n\u001b[1;32m     10\u001b[0m     s1 \u001b[38;5;241m+\u001b[39m\u001b[38;5;241m=\u001b[39m p\u001b[38;5;241m*\u001b[39mq\n\u001b[1;32m     11\u001b[0m     s2 \u001b[38;5;241m+\u001b[39m\u001b[38;5;241m=\u001b[39m q\n",
      "File \u001b[0;32m~/Master/S9/Recommender_systems/ve-rs/lib/python3.8/site-packages/pandas/core/ops/common.py:70\u001b[0m, in \u001b[0;36m_unpack_zerodim_and_defer.<locals>.new_method\u001b[0;34m(self, other)\u001b[0m\n\u001b[1;32m     66\u001b[0m             \u001b[38;5;28;01mreturn\u001b[39;00m \u001b[38;5;28mNotImplemented\u001b[39m\n\u001b[1;32m     68\u001b[0m other \u001b[38;5;241m=\u001b[39m item_from_zerodim(other)\n\u001b[0;32m---> 70\u001b[0m \u001b[38;5;28;01mreturn\u001b[39;00m \u001b[43mmethod\u001b[49m\u001b[43m(\u001b[49m\u001b[38;5;28;43mself\u001b[39;49m\u001b[43m,\u001b[49m\u001b[43m \u001b[49m\u001b[43mother\u001b[49m\u001b[43m)\u001b[49m\n",
      "File \u001b[0;32m~/Master/S9/Recommender_systems/ve-rs/lib/python3.8/site-packages/pandas/core/arraylike.py:40\u001b[0m, in \u001b[0;36mOpsMixin.__eq__\u001b[0;34m(self, other)\u001b[0m\n\u001b[1;32m     38\u001b[0m \u001b[38;5;129m@unpack_zerodim_and_defer\u001b[39m(\u001b[38;5;124m\"\u001b[39m\u001b[38;5;124m__eq__\u001b[39m\u001b[38;5;124m\"\u001b[39m)\n\u001b[1;32m     39\u001b[0m \u001b[38;5;28;01mdef\u001b[39;00m \u001b[38;5;21m__eq__\u001b[39m(\u001b[38;5;28mself\u001b[39m, other):\n\u001b[0;32m---> 40\u001b[0m     \u001b[38;5;28;01mreturn\u001b[39;00m \u001b[38;5;28;43mself\u001b[39;49m\u001b[38;5;241;43m.\u001b[39;49m\u001b[43m_cmp_method\u001b[49m\u001b[43m(\u001b[49m\u001b[43mother\u001b[49m\u001b[43m,\u001b[49m\u001b[43m \u001b[49m\u001b[43moperator\u001b[49m\u001b[38;5;241;43m.\u001b[39;49m\u001b[43meq\u001b[49m\u001b[43m)\u001b[49m\n",
      "File \u001b[0;32m~/Master/S9/Recommender_systems/ve-rs/lib/python3.8/site-packages/pandas/core/series.py:5622\u001b[0m, in \u001b[0;36mSeries._cmp_method\u001b[0;34m(self, other, op)\u001b[0m\n\u001b[1;32m   5619\u001b[0m \u001b[38;5;28;01mwith\u001b[39;00m np\u001b[38;5;241m.\u001b[39merrstate(\u001b[38;5;28mall\u001b[39m\u001b[38;5;241m=\u001b[39m\u001b[38;5;124m\"\u001b[39m\u001b[38;5;124mignore\u001b[39m\u001b[38;5;124m\"\u001b[39m):\n\u001b[1;32m   5620\u001b[0m     res_values \u001b[38;5;241m=\u001b[39m ops\u001b[38;5;241m.\u001b[39mcomparison_op(lvalues, rvalues, op)\n\u001b[0;32m-> 5622\u001b[0m \u001b[38;5;28;01mreturn\u001b[39;00m \u001b[38;5;28;43mself\u001b[39;49m\u001b[38;5;241;43m.\u001b[39;49m\u001b[43m_construct_result\u001b[49m\u001b[43m(\u001b[49m\u001b[43mres_values\u001b[49m\u001b[43m,\u001b[49m\u001b[43m \u001b[49m\u001b[43mname\u001b[49m\u001b[38;5;241;43m=\u001b[39;49m\u001b[43mres_name\u001b[49m\u001b[43m)\u001b[49m\n",
      "File \u001b[0;32m~/Master/S9/Recommender_systems/ve-rs/lib/python3.8/site-packages/pandas/core/series.py:3021\u001b[0m, in \u001b[0;36mSeries._construct_result\u001b[0;34m(self, result, name)\u001b[0m\n\u001b[1;32m   3018\u001b[0m \u001b[38;5;66;03m# We do not pass dtype to ensure that the Series constructor\u001b[39;00m\n\u001b[1;32m   3019\u001b[0m \u001b[38;5;66;03m#  does inference in the case where `result` has object-dtype.\u001b[39;00m\n\u001b[1;32m   3020\u001b[0m out \u001b[38;5;241m=\u001b[39m \u001b[38;5;28mself\u001b[39m\u001b[38;5;241m.\u001b[39m_constructor(result, index\u001b[38;5;241m=\u001b[39m\u001b[38;5;28mself\u001b[39m\u001b[38;5;241m.\u001b[39mindex)\n\u001b[0;32m-> 3021\u001b[0m out \u001b[38;5;241m=\u001b[39m \u001b[43mout\u001b[49m\u001b[38;5;241;43m.\u001b[39;49m\u001b[43m__finalize__\u001b[49m\u001b[43m(\u001b[49m\u001b[38;5;28;43mself\u001b[39;49m\u001b[43m)\u001b[49m\n\u001b[1;32m   3023\u001b[0m \u001b[38;5;66;03m# Set the result's name after __finalize__ is called because __finalize__\u001b[39;00m\n\u001b[1;32m   3024\u001b[0m \u001b[38;5;66;03m#  would set it back to self.name\u001b[39;00m\n\u001b[1;32m   3025\u001b[0m out\u001b[38;5;241m.\u001b[39mname \u001b[38;5;241m=\u001b[39m name\n",
      "File \u001b[0;32m~/Master/S9/Recommender_systems/ve-rs/lib/python3.8/site-packages/pandas/core/generic.py:5551\u001b[0m, in \u001b[0;36mNDFrame.__finalize__\u001b[0;34m(self, other, method, **kwargs)\u001b[0m\n\u001b[1;32m   5549\u001b[0m \u001b[38;5;28mself\u001b[39m\u001b[38;5;241m.\u001b[39mflags\u001b[38;5;241m.\u001b[39mallows_duplicate_labels \u001b[38;5;241m=\u001b[39m other\u001b[38;5;241m.\u001b[39mflags\u001b[38;5;241m.\u001b[39mallows_duplicate_labels\n\u001b[1;32m   5550\u001b[0m \u001b[38;5;66;03m# For subclasses using _metadata.\u001b[39;00m\n\u001b[0;32m-> 5551\u001b[0m \u001b[38;5;28;01mfor\u001b[39;00m name \u001b[38;5;129;01min\u001b[39;00m \u001b[38;5;28;43mset\u001b[39;49m\u001b[43m(\u001b[49m\u001b[38;5;28;43mself\u001b[39;49m\u001b[38;5;241;43m.\u001b[39;49m\u001b[43m_metadata\u001b[49m\u001b[43m)\u001b[49m \u001b[38;5;241m&\u001b[39m \u001b[38;5;28mset\u001b[39m(other\u001b[38;5;241m.\u001b[39m_metadata):\n\u001b[1;32m   5552\u001b[0m     \u001b[38;5;28;01massert\u001b[39;00m \u001b[38;5;28misinstance\u001b[39m(name, \u001b[38;5;28mstr\u001b[39m)\n\u001b[1;32m   5553\u001b[0m     \u001b[38;5;28mobject\u001b[39m\u001b[38;5;241m.\u001b[39m\u001b[38;5;21m__setattr__\u001b[39m(\u001b[38;5;28mself\u001b[39m, name, \u001b[38;5;28mgetattr\u001b[39m(other, name, \u001b[38;5;28;01mNone\u001b[39;00m))\n",
      "\u001b[0;31mKeyboardInterrupt\u001b[0m: "
     ]
    }
   ],
   "source": [
    "learning_parameters(C,M,T,n,K,l)"
   ]
  },
  {
   "cell_type": "code",
   "execution_count": 115,
   "id": "a00157d2",
   "metadata": {},
   "outputs": [],
   "source": [
    "def n_max(l, n):\n",
    "    maximums = []\n",
    "    for i in range(n):\n",
    "        m = max(l)\n",
    "        maximums.append(m)\n",
    "        l.remove(m)\n",
    "    return maximums"
   ]
  },
  {
   "cell_type": "code",
   "execution_count": null,
   "id": "43697e70",
   "metadata": {},
   "outputs": [],
   "source": [
    "users_df = "
   ]
  },
  {
   "cell_type": "code",
   "execution_count": 43,
   "id": "bf50233e",
   "metadata": {},
   "outputs": [
    {
     "data": {
      "text/plain": [
       "17732"
      ]
     },
     "execution_count": 43,
     "metadata": {},
     "output_type": "execute_result"
    }
   ],
   "source": [
    "df.index[0]"
   ]
  },
  {
   "cell_type": "code",
   "execution_count": 97,
   "id": "16ef11e0",
   "metadata": {},
   "outputs": [],
   "source": [
    "n = 3"
   ]
  },
  {
   "cell_type": "code",
   "execution_count": 98,
   "id": "22b26c14",
   "metadata": {},
   "outputs": [
    {
     "name": "stdout",
     "output_type": "stream",
     "text": [
      "2999/3000\r"
     ]
    }
   ],
   "source": [
    "M = compute_item_similarity(C,n,'cos')"
   ]
  },
  {
   "cell_type": "code",
   "execution_count": 73,
   "id": "19523b97",
   "metadata": {},
   "outputs": [],
   "source": [
    "def predict_items(C, n, l, M):\n",
    "    #M = compute_item_similarity(C,n,'cos')\n",
    "    predictions = {}\n",
    "    for i, user in enumerate(C):\n",
    "        print(f'{i}/{len(C)}', end=\"\\r\")\n",
    "        pred_i = []\n",
    "        for j, item in enumerate(C.T):\n",
    "            pred_i.append(pred(user, item, i, j, M))\n",
    "        \n",
    "        predictions[df.index[i]] = [df.columns[x] for x in pd.Series(pred_i).nlargest(n).index.values.tolist()]\n",
    "    return predictions"
   ]
  },
  {
   "cell_type": "code",
   "execution_count": 74,
   "id": "620237b6",
   "metadata": {},
   "outputs": [
    {
     "name": "stdout",
     "output_type": "stream",
     "text": [
      "0/1000\r"
     ]
    },
    {
     "name": "stderr",
     "output_type": "stream",
     "text": [
      "/tmp/ipykernel_3079/2671635211.py:11: RuntimeWarning: invalid value encountered in double_scalars\n",
      "  return s1 / s2\n"
     ]
    },
    {
     "name": "stdout",
     "output_type": "stream",
     "text": [
      "1/1000\r"
     ]
    },
    {
     "name": "stderr",
     "output_type": "stream",
     "text": [
      "/tmp/ipykernel_3079/2671635211.py:11: RuntimeWarning: invalid value encountered in double_scalars\n",
      "  return s1 / s2\n"
     ]
    },
    {
     "name": "stdout",
     "output_type": "stream",
     "text": [
      "2/1000\r"
     ]
    },
    {
     "name": "stderr",
     "output_type": "stream",
     "text": [
      "/tmp/ipykernel_3079/2671635211.py:11: RuntimeWarning: invalid value encountered in double_scalars\n",
      "  return s1 / s2\n"
     ]
    },
    {
     "name": "stdout",
     "output_type": "stream",
     "text": [
      "3/1000\r"
     ]
    },
    {
     "name": "stderr",
     "output_type": "stream",
     "text": [
      "/tmp/ipykernel_3079/2671635211.py:11: RuntimeWarning: invalid value encountered in double_scalars\n",
      "  return s1 / s2\n"
     ]
    },
    {
     "name": "stdout",
     "output_type": "stream",
     "text": [
      "4/1000\r"
     ]
    },
    {
     "name": "stderr",
     "output_type": "stream",
     "text": [
      "/tmp/ipykernel_3079/2671635211.py:11: RuntimeWarning: invalid value encountered in double_scalars\n",
      "  return s1 / s2\n"
     ]
    },
    {
     "name": "stdout",
     "output_type": "stream",
     "text": [
      "5/1000\r"
     ]
    },
    {
     "name": "stderr",
     "output_type": "stream",
     "text": [
      "/tmp/ipykernel_3079/2671635211.py:11: RuntimeWarning: invalid value encountered in double_scalars\n",
      "  return s1 / s2\n"
     ]
    },
    {
     "name": "stdout",
     "output_type": "stream",
     "text": [
      "6/1000\r"
     ]
    },
    {
     "name": "stderr",
     "output_type": "stream",
     "text": [
      "/tmp/ipykernel_3079/2671635211.py:11: RuntimeWarning: invalid value encountered in double_scalars\n",
      "  return s1 / s2\n"
     ]
    },
    {
     "name": "stdout",
     "output_type": "stream",
     "text": [
      "7/1000\r"
     ]
    },
    {
     "name": "stderr",
     "output_type": "stream",
     "text": [
      "/tmp/ipykernel_3079/2671635211.py:11: RuntimeWarning: invalid value encountered in double_scalars\n",
      "  return s1 / s2\n"
     ]
    },
    {
     "name": "stdout",
     "output_type": "stream",
     "text": [
      "8/1000\r"
     ]
    },
    {
     "name": "stderr",
     "output_type": "stream",
     "text": [
      "/tmp/ipykernel_3079/2671635211.py:11: RuntimeWarning: invalid value encountered in double_scalars\n",
      "  return s1 / s2\n"
     ]
    },
    {
     "name": "stdout",
     "output_type": "stream",
     "text": [
      "9/1000\r"
     ]
    },
    {
     "name": "stderr",
     "output_type": "stream",
     "text": [
      "/tmp/ipykernel_3079/2671635211.py:11: RuntimeWarning: invalid value encountered in double_scalars\n",
      "  return s1 / s2\n"
     ]
    },
    {
     "name": "stdout",
     "output_type": "stream",
     "text": [
      "10/1000\r"
     ]
    },
    {
     "name": "stderr",
     "output_type": "stream",
     "text": [
      "/tmp/ipykernel_3079/2671635211.py:11: RuntimeWarning: invalid value encountered in double_scalars\n",
      "  return s1 / s2\n"
     ]
    },
    {
     "name": "stdout",
     "output_type": "stream",
     "text": [
      "11/1000\r"
     ]
    },
    {
     "name": "stderr",
     "output_type": "stream",
     "text": [
      "/tmp/ipykernel_3079/2671635211.py:11: RuntimeWarning: invalid value encountered in double_scalars\n",
      "  return s1 / s2\n"
     ]
    },
    {
     "name": "stdout",
     "output_type": "stream",
     "text": [
      "12/1000\r"
     ]
    },
    {
     "name": "stderr",
     "output_type": "stream",
     "text": [
      "/tmp/ipykernel_3079/2671635211.py:11: RuntimeWarning: invalid value encountered in double_scalars\n",
      "  return s1 / s2\n"
     ]
    },
    {
     "name": "stdout",
     "output_type": "stream",
     "text": [
      "13/1000\r"
     ]
    },
    {
     "name": "stderr",
     "output_type": "stream",
     "text": [
      "/tmp/ipykernel_3079/2671635211.py:11: RuntimeWarning: invalid value encountered in double_scalars\n",
      "  return s1 / s2\n"
     ]
    },
    {
     "name": "stdout",
     "output_type": "stream",
     "text": [
      "14/1000\r"
     ]
    },
    {
     "name": "stderr",
     "output_type": "stream",
     "text": [
      "/tmp/ipykernel_3079/2671635211.py:11: RuntimeWarning: invalid value encountered in double_scalars\n",
      "  return s1 / s2\n"
     ]
    },
    {
     "name": "stdout",
     "output_type": "stream",
     "text": [
      "15/1000\r"
     ]
    },
    {
     "name": "stderr",
     "output_type": "stream",
     "text": [
      "/tmp/ipykernel_3079/2671635211.py:11: RuntimeWarning: invalid value encountered in double_scalars\n",
      "  return s1 / s2\n"
     ]
    },
    {
     "name": "stdout",
     "output_type": "stream",
     "text": [
      "16/1000\r"
     ]
    },
    {
     "name": "stderr",
     "output_type": "stream",
     "text": [
      "/tmp/ipykernel_3079/2671635211.py:11: RuntimeWarning: invalid value encountered in double_scalars\n",
      "  return s1 / s2\n"
     ]
    },
    {
     "name": "stdout",
     "output_type": "stream",
     "text": [
      "17/1000\r"
     ]
    },
    {
     "name": "stderr",
     "output_type": "stream",
     "text": [
      "/tmp/ipykernel_3079/2671635211.py:11: RuntimeWarning: invalid value encountered in double_scalars\n",
      "  return s1 / s2\n"
     ]
    },
    {
     "name": "stdout",
     "output_type": "stream",
     "text": [
      "18/1000\r"
     ]
    },
    {
     "name": "stderr",
     "output_type": "stream",
     "text": [
      "/tmp/ipykernel_3079/2671635211.py:11: RuntimeWarning: invalid value encountered in double_scalars\n",
      "  return s1 / s2\n"
     ]
    },
    {
     "name": "stdout",
     "output_type": "stream",
     "text": [
      "19/1000\r"
     ]
    },
    {
     "name": "stderr",
     "output_type": "stream",
     "text": [
      "/tmp/ipykernel_3079/2671635211.py:11: RuntimeWarning: invalid value encountered in double_scalars\n",
      "  return s1 / s2\n"
     ]
    },
    {
     "name": "stdout",
     "output_type": "stream",
     "text": [
      "20/1000\r"
     ]
    },
    {
     "name": "stderr",
     "output_type": "stream",
     "text": [
      "/tmp/ipykernel_3079/2671635211.py:11: RuntimeWarning: invalid value encountered in double_scalars\n",
      "  return s1 / s2\n"
     ]
    },
    {
     "name": "stdout",
     "output_type": "stream",
     "text": [
      "21/1000\r"
     ]
    },
    {
     "name": "stderr",
     "output_type": "stream",
     "text": [
      "/tmp/ipykernel_3079/2671635211.py:11: RuntimeWarning: invalid value encountered in double_scalars\n",
      "  return s1 / s2\n"
     ]
    },
    {
     "name": "stdout",
     "output_type": "stream",
     "text": [
      "22/1000\r"
     ]
    },
    {
     "name": "stderr",
     "output_type": "stream",
     "text": [
      "/tmp/ipykernel_3079/2671635211.py:11: RuntimeWarning: invalid value encountered in double_scalars\n",
      "  return s1 / s2\n"
     ]
    },
    {
     "name": "stdout",
     "output_type": "stream",
     "text": [
      "23/1000\r"
     ]
    },
    {
     "name": "stderr",
     "output_type": "stream",
     "text": [
      "/tmp/ipykernel_3079/2671635211.py:11: RuntimeWarning: invalid value encountered in double_scalars\n",
      "  return s1 / s2\n"
     ]
    },
    {
     "name": "stdout",
     "output_type": "stream",
     "text": [
      "24/1000\r"
     ]
    },
    {
     "name": "stderr",
     "output_type": "stream",
     "text": [
      "/tmp/ipykernel_3079/2671635211.py:11: RuntimeWarning: invalid value encountered in double_scalars\n",
      "  return s1 / s2\n"
     ]
    },
    {
     "name": "stdout",
     "output_type": "stream",
     "text": [
      "25/1000\r"
     ]
    },
    {
     "name": "stderr",
     "output_type": "stream",
     "text": [
      "/tmp/ipykernel_3079/2671635211.py:11: RuntimeWarning: invalid value encountered in double_scalars\n",
      "  return s1 / s2\n"
     ]
    },
    {
     "name": "stdout",
     "output_type": "stream",
     "text": [
      "26/1000\r"
     ]
    },
    {
     "name": "stderr",
     "output_type": "stream",
     "text": [
      "/tmp/ipykernel_3079/2671635211.py:11: RuntimeWarning: invalid value encountered in double_scalars\n",
      "  return s1 / s2\n"
     ]
    },
    {
     "name": "stdout",
     "output_type": "stream",
     "text": [
      "27/1000\r"
     ]
    },
    {
     "name": "stderr",
     "output_type": "stream",
     "text": [
      "/tmp/ipykernel_3079/2671635211.py:11: RuntimeWarning: invalid value encountered in double_scalars\n",
      "  return s1 / s2\n"
     ]
    },
    {
     "name": "stdout",
     "output_type": "stream",
     "text": [
      "28/1000\r"
     ]
    },
    {
     "name": "stderr",
     "output_type": "stream",
     "text": [
      "/tmp/ipykernel_3079/2671635211.py:11: RuntimeWarning: invalid value encountered in double_scalars\n",
      "  return s1 / s2\n"
     ]
    },
    {
     "name": "stdout",
     "output_type": "stream",
     "text": [
      "29/1000\r"
     ]
    },
    {
     "name": "stderr",
     "output_type": "stream",
     "text": [
      "/tmp/ipykernel_3079/2671635211.py:11: RuntimeWarning: invalid value encountered in double_scalars\n",
      "  return s1 / s2\n"
     ]
    },
    {
     "name": "stdout",
     "output_type": "stream",
     "text": [
      "30/1000\r"
     ]
    },
    {
     "name": "stderr",
     "output_type": "stream",
     "text": [
      "/tmp/ipykernel_3079/2671635211.py:11: RuntimeWarning: invalid value encountered in double_scalars\n",
      "  return s1 / s2\n"
     ]
    },
    {
     "name": "stdout",
     "output_type": "stream",
     "text": [
      "31/1000\r"
     ]
    },
    {
     "name": "stderr",
     "output_type": "stream",
     "text": [
      "/tmp/ipykernel_3079/2671635211.py:11: RuntimeWarning: invalid value encountered in double_scalars\n",
      "  return s1 / s2\n"
     ]
    },
    {
     "name": "stdout",
     "output_type": "stream",
     "text": [
      "32/1000\r"
     ]
    },
    {
     "name": "stderr",
     "output_type": "stream",
     "text": [
      "/tmp/ipykernel_3079/2671635211.py:11: RuntimeWarning: invalid value encountered in double_scalars\n",
      "  return s1 / s2\n"
     ]
    },
    {
     "name": "stdout",
     "output_type": "stream",
     "text": [
      "33/1000\r"
     ]
    },
    {
     "name": "stderr",
     "output_type": "stream",
     "text": [
      "/tmp/ipykernel_3079/2671635211.py:11: RuntimeWarning: invalid value encountered in double_scalars\n",
      "  return s1 / s2\n"
     ]
    },
    {
     "name": "stdout",
     "output_type": "stream",
     "text": [
      "34/1000\r"
     ]
    },
    {
     "name": "stderr",
     "output_type": "stream",
     "text": [
      "/tmp/ipykernel_3079/2671635211.py:11: RuntimeWarning: invalid value encountered in double_scalars\n",
      "  return s1 / s2\n"
     ]
    },
    {
     "name": "stdout",
     "output_type": "stream",
     "text": [
      "35/1000\r"
     ]
    },
    {
     "name": "stderr",
     "output_type": "stream",
     "text": [
      "/tmp/ipykernel_3079/2671635211.py:11: RuntimeWarning: invalid value encountered in double_scalars\n",
      "  return s1 / s2\n"
     ]
    },
    {
     "name": "stdout",
     "output_type": "stream",
     "text": [
      "36/1000\r"
     ]
    },
    {
     "name": "stderr",
     "output_type": "stream",
     "text": [
      "/tmp/ipykernel_3079/2671635211.py:11: RuntimeWarning: invalid value encountered in double_scalars\n",
      "  return s1 / s2\n"
     ]
    },
    {
     "name": "stdout",
     "output_type": "stream",
     "text": [
      "37/1000\r"
     ]
    },
    {
     "name": "stderr",
     "output_type": "stream",
     "text": [
      "/tmp/ipykernel_3079/2671635211.py:11: RuntimeWarning: invalid value encountered in double_scalars\n",
      "  return s1 / s2\n"
     ]
    },
    {
     "name": "stdout",
     "output_type": "stream",
     "text": [
      "38/1000\r"
     ]
    },
    {
     "name": "stderr",
     "output_type": "stream",
     "text": [
      "/tmp/ipykernel_3079/2671635211.py:11: RuntimeWarning: invalid value encountered in double_scalars\n",
      "  return s1 / s2\n"
     ]
    },
    {
     "name": "stdout",
     "output_type": "stream",
     "text": [
      "39/1000\r"
     ]
    },
    {
     "name": "stderr",
     "output_type": "stream",
     "text": [
      "/tmp/ipykernel_3079/2671635211.py:11: RuntimeWarning: invalid value encountered in double_scalars\n",
      "  return s1 / s2\n"
     ]
    },
    {
     "name": "stdout",
     "output_type": "stream",
     "text": [
      "40/1000\r"
     ]
    },
    {
     "name": "stderr",
     "output_type": "stream",
     "text": [
      "/tmp/ipykernel_3079/2671635211.py:11: RuntimeWarning: invalid value encountered in double_scalars\n",
      "  return s1 / s2\n"
     ]
    },
    {
     "name": "stdout",
     "output_type": "stream",
     "text": [
      "41/1000\r"
     ]
    },
    {
     "name": "stderr",
     "output_type": "stream",
     "text": [
      "/tmp/ipykernel_3079/2671635211.py:11: RuntimeWarning: invalid value encountered in double_scalars\n",
      "  return s1 / s2\n"
     ]
    },
    {
     "name": "stdout",
     "output_type": "stream",
     "text": [
      "42/1000\r"
     ]
    },
    {
     "name": "stderr",
     "output_type": "stream",
     "text": [
      "/tmp/ipykernel_3079/2671635211.py:11: RuntimeWarning: invalid value encountered in double_scalars\n",
      "  return s1 / s2\n"
     ]
    },
    {
     "name": "stdout",
     "output_type": "stream",
     "text": [
      "43/1000\r"
     ]
    },
    {
     "name": "stderr",
     "output_type": "stream",
     "text": [
      "/tmp/ipykernel_3079/2671635211.py:11: RuntimeWarning: invalid value encountered in double_scalars\n",
      "  return s1 / s2\n"
     ]
    },
    {
     "name": "stdout",
     "output_type": "stream",
     "text": [
      "44/1000\r"
     ]
    },
    {
     "name": "stderr",
     "output_type": "stream",
     "text": [
      "/tmp/ipykernel_3079/2671635211.py:11: RuntimeWarning: invalid value encountered in double_scalars\n",
      "  return s1 / s2\n"
     ]
    },
    {
     "name": "stdout",
     "output_type": "stream",
     "text": [
      "45/1000\r"
     ]
    },
    {
     "name": "stderr",
     "output_type": "stream",
     "text": [
      "/tmp/ipykernel_3079/2671635211.py:11: RuntimeWarning: invalid value encountered in double_scalars\n",
      "  return s1 / s2\n"
     ]
    },
    {
     "name": "stdout",
     "output_type": "stream",
     "text": [
      "46/1000\r"
     ]
    },
    {
     "name": "stderr",
     "output_type": "stream",
     "text": [
      "/tmp/ipykernel_3079/2671635211.py:11: RuntimeWarning: invalid value encountered in double_scalars\n",
      "  return s1 / s2\n"
     ]
    },
    {
     "name": "stdout",
     "output_type": "stream",
     "text": [
      "47/1000\r"
     ]
    },
    {
     "name": "stderr",
     "output_type": "stream",
     "text": [
      "/tmp/ipykernel_3079/2671635211.py:11: RuntimeWarning: invalid value encountered in double_scalars\n",
      "  return s1 / s2\n"
     ]
    },
    {
     "name": "stdout",
     "output_type": "stream",
     "text": [
      "48/1000\r"
     ]
    },
    {
     "name": "stderr",
     "output_type": "stream",
     "text": [
      "/tmp/ipykernel_3079/2671635211.py:11: RuntimeWarning: invalid value encountered in double_scalars\n",
      "  return s1 / s2\n"
     ]
    },
    {
     "name": "stdout",
     "output_type": "stream",
     "text": [
      "49/1000\r"
     ]
    },
    {
     "name": "stderr",
     "output_type": "stream",
     "text": [
      "/tmp/ipykernel_3079/2671635211.py:11: RuntimeWarning: invalid value encountered in double_scalars\n",
      "  return s1 / s2\n"
     ]
    },
    {
     "name": "stdout",
     "output_type": "stream",
     "text": [
      "50/1000\r"
     ]
    },
    {
     "name": "stderr",
     "output_type": "stream",
     "text": [
      "/tmp/ipykernel_3079/2671635211.py:11: RuntimeWarning: invalid value encountered in double_scalars\n",
      "  return s1 / s2\n"
     ]
    },
    {
     "name": "stdout",
     "output_type": "stream",
     "text": [
      "51/1000\r"
     ]
    },
    {
     "name": "stderr",
     "output_type": "stream",
     "text": [
      "/tmp/ipykernel_3079/2671635211.py:11: RuntimeWarning: invalid value encountered in double_scalars\n",
      "  return s1 / s2\n"
     ]
    },
    {
     "name": "stdout",
     "output_type": "stream",
     "text": [
      "52/1000\r"
     ]
    },
    {
     "name": "stderr",
     "output_type": "stream",
     "text": [
      "/tmp/ipykernel_3079/2671635211.py:11: RuntimeWarning: invalid value encountered in double_scalars\n",
      "  return s1 / s2\n"
     ]
    },
    {
     "name": "stdout",
     "output_type": "stream",
     "text": [
      "53/1000\r"
     ]
    },
    {
     "name": "stderr",
     "output_type": "stream",
     "text": [
      "/tmp/ipykernel_3079/2671635211.py:11: RuntimeWarning: invalid value encountered in double_scalars\n",
      "  return s1 / s2\n"
     ]
    },
    {
     "name": "stdout",
     "output_type": "stream",
     "text": [
      "54/1000\r"
     ]
    },
    {
     "name": "stderr",
     "output_type": "stream",
     "text": [
      "/tmp/ipykernel_3079/2671635211.py:11: RuntimeWarning: invalid value encountered in double_scalars\n",
      "  return s1 / s2\n"
     ]
    },
    {
     "name": "stdout",
     "output_type": "stream",
     "text": [
      "55/1000\r"
     ]
    },
    {
     "name": "stderr",
     "output_type": "stream",
     "text": [
      "/tmp/ipykernel_3079/2671635211.py:11: RuntimeWarning: invalid value encountered in double_scalars\n",
      "  return s1 / s2\n"
     ]
    },
    {
     "name": "stdout",
     "output_type": "stream",
     "text": [
      "56/1000\r"
     ]
    },
    {
     "name": "stderr",
     "output_type": "stream",
     "text": [
      "/tmp/ipykernel_3079/2671635211.py:11: RuntimeWarning: invalid value encountered in double_scalars\n",
      "  return s1 / s2\n"
     ]
    },
    {
     "name": "stdout",
     "output_type": "stream",
     "text": [
      "57/1000\r"
     ]
    },
    {
     "name": "stderr",
     "output_type": "stream",
     "text": [
      "/tmp/ipykernel_3079/2671635211.py:11: RuntimeWarning: invalid value encountered in double_scalars\n",
      "  return s1 / s2\n"
     ]
    },
    {
     "name": "stdout",
     "output_type": "stream",
     "text": [
      "58/1000\r"
     ]
    },
    {
     "name": "stderr",
     "output_type": "stream",
     "text": [
      "/tmp/ipykernel_3079/2671635211.py:11: RuntimeWarning: invalid value encountered in double_scalars\n",
      "  return s1 / s2\n"
     ]
    },
    {
     "name": "stdout",
     "output_type": "stream",
     "text": [
      "59/1000\r"
     ]
    },
    {
     "name": "stderr",
     "output_type": "stream",
     "text": [
      "/tmp/ipykernel_3079/2671635211.py:11: RuntimeWarning: invalid value encountered in double_scalars\n",
      "  return s1 / s2\n"
     ]
    },
    {
     "name": "stdout",
     "output_type": "stream",
     "text": [
      "60/1000\r"
     ]
    },
    {
     "name": "stderr",
     "output_type": "stream",
     "text": [
      "/tmp/ipykernel_3079/2671635211.py:11: RuntimeWarning: invalid value encountered in double_scalars\n",
      "  return s1 / s2\n"
     ]
    },
    {
     "name": "stdout",
     "output_type": "stream",
     "text": [
      "61/1000\r"
     ]
    },
    {
     "name": "stderr",
     "output_type": "stream",
     "text": [
      "/tmp/ipykernel_3079/2671635211.py:11: RuntimeWarning: invalid value encountered in double_scalars\n",
      "  return s1 / s2\n"
     ]
    },
    {
     "name": "stdout",
     "output_type": "stream",
     "text": [
      "62/1000\r"
     ]
    },
    {
     "name": "stderr",
     "output_type": "stream",
     "text": [
      "/tmp/ipykernel_3079/2671635211.py:11: RuntimeWarning: invalid value encountered in double_scalars\n",
      "  return s1 / s2\n"
     ]
    },
    {
     "name": "stdout",
     "output_type": "stream",
     "text": [
      "63/1000\r"
     ]
    },
    {
     "name": "stderr",
     "output_type": "stream",
     "text": [
      "/tmp/ipykernel_3079/2671635211.py:11: RuntimeWarning: invalid value encountered in double_scalars\n",
      "  return s1 / s2\n"
     ]
    },
    {
     "name": "stdout",
     "output_type": "stream",
     "text": [
      "64/1000\r"
     ]
    },
    {
     "name": "stderr",
     "output_type": "stream",
     "text": [
      "/tmp/ipykernel_3079/2671635211.py:11: RuntimeWarning: invalid value encountered in double_scalars\n",
      "  return s1 / s2\n"
     ]
    },
    {
     "name": "stdout",
     "output_type": "stream",
     "text": [
      "65/1000\r"
     ]
    },
    {
     "name": "stderr",
     "output_type": "stream",
     "text": [
      "/tmp/ipykernel_3079/2671635211.py:11: RuntimeWarning: invalid value encountered in double_scalars\n",
      "  return s1 / s2\n"
     ]
    },
    {
     "name": "stdout",
     "output_type": "stream",
     "text": [
      "66/1000\r"
     ]
    },
    {
     "name": "stderr",
     "output_type": "stream",
     "text": [
      "/tmp/ipykernel_3079/2671635211.py:11: RuntimeWarning: invalid value encountered in double_scalars\n",
      "  return s1 / s2\n"
     ]
    },
    {
     "name": "stdout",
     "output_type": "stream",
     "text": [
      "67/1000\r"
     ]
    },
    {
     "name": "stderr",
     "output_type": "stream",
     "text": [
      "/tmp/ipykernel_3079/2671635211.py:11: RuntimeWarning: invalid value encountered in double_scalars\n",
      "  return s1 / s2\n"
     ]
    },
    {
     "name": "stdout",
     "output_type": "stream",
     "text": [
      "68/1000\r"
     ]
    },
    {
     "name": "stderr",
     "output_type": "stream",
     "text": [
      "/tmp/ipykernel_3079/2671635211.py:11: RuntimeWarning: invalid value encountered in double_scalars\n",
      "  return s1 / s2\n"
     ]
    },
    {
     "name": "stdout",
     "output_type": "stream",
     "text": [
      "69/1000\r"
     ]
    },
    {
     "name": "stderr",
     "output_type": "stream",
     "text": [
      "/tmp/ipykernel_3079/2671635211.py:11: RuntimeWarning: invalid value encountered in double_scalars\n",
      "  return s1 / s2\n"
     ]
    },
    {
     "name": "stdout",
     "output_type": "stream",
     "text": [
      "70/1000\r"
     ]
    },
    {
     "name": "stderr",
     "output_type": "stream",
     "text": [
      "/tmp/ipykernel_3079/2671635211.py:11: RuntimeWarning: invalid value encountered in double_scalars\n",
      "  return s1 / s2\n"
     ]
    },
    {
     "name": "stdout",
     "output_type": "stream",
     "text": [
      "71/1000\r"
     ]
    },
    {
     "name": "stderr",
     "output_type": "stream",
     "text": [
      "/tmp/ipykernel_3079/2671635211.py:11: RuntimeWarning: invalid value encountered in double_scalars\n",
      "  return s1 / s2\n"
     ]
    },
    {
     "name": "stdout",
     "output_type": "stream",
     "text": [
      "72/1000\r"
     ]
    },
    {
     "name": "stderr",
     "output_type": "stream",
     "text": [
      "/tmp/ipykernel_3079/2671635211.py:11: RuntimeWarning: invalid value encountered in double_scalars\n",
      "  return s1 / s2\n"
     ]
    },
    {
     "name": "stdout",
     "output_type": "stream",
     "text": [
      "73/1000\r"
     ]
    },
    {
     "name": "stderr",
     "output_type": "stream",
     "text": [
      "/tmp/ipykernel_3079/2671635211.py:11: RuntimeWarning: invalid value encountered in double_scalars\n",
      "  return s1 / s2\n"
     ]
    },
    {
     "name": "stdout",
     "output_type": "stream",
     "text": [
      "74/1000\r"
     ]
    },
    {
     "name": "stderr",
     "output_type": "stream",
     "text": [
      "/tmp/ipykernel_3079/2671635211.py:11: RuntimeWarning: invalid value encountered in double_scalars\n",
      "  return s1 / s2\n"
     ]
    },
    {
     "name": "stdout",
     "output_type": "stream",
     "text": [
      "75/1000\r"
     ]
    },
    {
     "name": "stderr",
     "output_type": "stream",
     "text": [
      "/tmp/ipykernel_3079/2671635211.py:11: RuntimeWarning: invalid value encountered in double_scalars\n",
      "  return s1 / s2\n"
     ]
    },
    {
     "name": "stdout",
     "output_type": "stream",
     "text": [
      "76/1000\r"
     ]
    },
    {
     "name": "stderr",
     "output_type": "stream",
     "text": [
      "/tmp/ipykernel_3079/2671635211.py:11: RuntimeWarning: invalid value encountered in double_scalars\n",
      "  return s1 / s2\n"
     ]
    },
    {
     "name": "stdout",
     "output_type": "stream",
     "text": [
      "77/1000\r"
     ]
    },
    {
     "name": "stderr",
     "output_type": "stream",
     "text": [
      "/tmp/ipykernel_3079/2671635211.py:11: RuntimeWarning: invalid value encountered in double_scalars\n",
      "  return s1 / s2\n"
     ]
    },
    {
     "name": "stdout",
     "output_type": "stream",
     "text": [
      "78/1000\r"
     ]
    },
    {
     "name": "stderr",
     "output_type": "stream",
     "text": [
      "/tmp/ipykernel_3079/2671635211.py:11: RuntimeWarning: invalid value encountered in double_scalars\n",
      "  return s1 / s2\n"
     ]
    },
    {
     "name": "stdout",
     "output_type": "stream",
     "text": [
      "79/1000\r"
     ]
    },
    {
     "name": "stderr",
     "output_type": "stream",
     "text": [
      "/tmp/ipykernel_3079/2671635211.py:11: RuntimeWarning: invalid value encountered in double_scalars\n",
      "  return s1 / s2\n"
     ]
    },
    {
     "name": "stdout",
     "output_type": "stream",
     "text": [
      "80/1000\r"
     ]
    },
    {
     "name": "stderr",
     "output_type": "stream",
     "text": [
      "/tmp/ipykernel_3079/2671635211.py:11: RuntimeWarning: invalid value encountered in double_scalars\n",
      "  return s1 / s2\n"
     ]
    },
    {
     "name": "stdout",
     "output_type": "stream",
     "text": [
      "81/1000\r"
     ]
    },
    {
     "name": "stderr",
     "output_type": "stream",
     "text": [
      "/tmp/ipykernel_3079/2671635211.py:11: RuntimeWarning: invalid value encountered in double_scalars\n",
      "  return s1 / s2\n"
     ]
    },
    {
     "name": "stdout",
     "output_type": "stream",
     "text": [
      "82/1000\r"
     ]
    },
    {
     "name": "stderr",
     "output_type": "stream",
     "text": [
      "/tmp/ipykernel_3079/2671635211.py:11: RuntimeWarning: invalid value encountered in double_scalars\n",
      "  return s1 / s2\n"
     ]
    },
    {
     "name": "stdout",
     "output_type": "stream",
     "text": [
      "83/1000\r"
     ]
    },
    {
     "name": "stderr",
     "output_type": "stream",
     "text": [
      "/tmp/ipykernel_3079/2671635211.py:11: RuntimeWarning: invalid value encountered in double_scalars\n",
      "  return s1 / s2\n"
     ]
    },
    {
     "name": "stdout",
     "output_type": "stream",
     "text": [
      "84/1000\r"
     ]
    },
    {
     "name": "stderr",
     "output_type": "stream",
     "text": [
      "/tmp/ipykernel_3079/2671635211.py:11: RuntimeWarning: invalid value encountered in double_scalars\n",
      "  return s1 / s2\n"
     ]
    },
    {
     "name": "stdout",
     "output_type": "stream",
     "text": [
      "85/1000\r"
     ]
    },
    {
     "name": "stderr",
     "output_type": "stream",
     "text": [
      "/tmp/ipykernel_3079/2671635211.py:11: RuntimeWarning: invalid value encountered in double_scalars\n",
      "  return s1 / s2\n"
     ]
    },
    {
     "name": "stdout",
     "output_type": "stream",
     "text": [
      "86/1000\r"
     ]
    },
    {
     "name": "stderr",
     "output_type": "stream",
     "text": [
      "/tmp/ipykernel_3079/2671635211.py:11: RuntimeWarning: invalid value encountered in double_scalars\n",
      "  return s1 / s2\n"
     ]
    },
    {
     "name": "stdout",
     "output_type": "stream",
     "text": [
      "87/1000\r"
     ]
    },
    {
     "name": "stderr",
     "output_type": "stream",
     "text": [
      "/tmp/ipykernel_3079/2671635211.py:11: RuntimeWarning: invalid value encountered in double_scalars\n",
      "  return s1 / s2\n"
     ]
    },
    {
     "name": "stdout",
     "output_type": "stream",
     "text": [
      "88/1000\r"
     ]
    },
    {
     "name": "stderr",
     "output_type": "stream",
     "text": [
      "/tmp/ipykernel_3079/2671635211.py:11: RuntimeWarning: invalid value encountered in double_scalars\n",
      "  return s1 / s2\n"
     ]
    },
    {
     "name": "stdout",
     "output_type": "stream",
     "text": [
      "89/1000\r"
     ]
    },
    {
     "name": "stderr",
     "output_type": "stream",
     "text": [
      "/tmp/ipykernel_3079/2671635211.py:11: RuntimeWarning: invalid value encountered in double_scalars\n",
      "  return s1 / s2\n"
     ]
    },
    {
     "name": "stdout",
     "output_type": "stream",
     "text": [
      "90/1000\r"
     ]
    },
    {
     "name": "stderr",
     "output_type": "stream",
     "text": [
      "/tmp/ipykernel_3079/2671635211.py:11: RuntimeWarning: invalid value encountered in double_scalars\n",
      "  return s1 / s2\n"
     ]
    },
    {
     "name": "stdout",
     "output_type": "stream",
     "text": [
      "91/1000\r"
     ]
    },
    {
     "name": "stderr",
     "output_type": "stream",
     "text": [
      "/tmp/ipykernel_3079/2671635211.py:11: RuntimeWarning: invalid value encountered in double_scalars\n",
      "  return s1 / s2\n"
     ]
    },
    {
     "name": "stdout",
     "output_type": "stream",
     "text": [
      "92/1000\r"
     ]
    },
    {
     "name": "stderr",
     "output_type": "stream",
     "text": [
      "/tmp/ipykernel_3079/2671635211.py:11: RuntimeWarning: invalid value encountered in double_scalars\n",
      "  return s1 / s2\n"
     ]
    },
    {
     "name": "stdout",
     "output_type": "stream",
     "text": [
      "93/1000\r"
     ]
    },
    {
     "name": "stderr",
     "output_type": "stream",
     "text": [
      "/tmp/ipykernel_3079/2671635211.py:11: RuntimeWarning: invalid value encountered in double_scalars\n",
      "  return s1 / s2\n"
     ]
    },
    {
     "name": "stdout",
     "output_type": "stream",
     "text": [
      "94/1000\r"
     ]
    },
    {
     "name": "stderr",
     "output_type": "stream",
     "text": [
      "/tmp/ipykernel_3079/2671635211.py:11: RuntimeWarning: invalid value encountered in double_scalars\n",
      "  return s1 / s2\n"
     ]
    },
    {
     "name": "stdout",
     "output_type": "stream",
     "text": [
      "95/1000\r"
     ]
    },
    {
     "name": "stderr",
     "output_type": "stream",
     "text": [
      "/tmp/ipykernel_3079/2671635211.py:11: RuntimeWarning: invalid value encountered in double_scalars\n",
      "  return s1 / s2\n"
     ]
    },
    {
     "name": "stdout",
     "output_type": "stream",
     "text": [
      "96/1000\r"
     ]
    },
    {
     "name": "stderr",
     "output_type": "stream",
     "text": [
      "/tmp/ipykernel_3079/2671635211.py:11: RuntimeWarning: invalid value encountered in double_scalars\n",
      "  return s1 / s2\n"
     ]
    },
    {
     "name": "stdout",
     "output_type": "stream",
     "text": [
      "97/1000\r"
     ]
    },
    {
     "name": "stderr",
     "output_type": "stream",
     "text": [
      "/tmp/ipykernel_3079/2671635211.py:11: RuntimeWarning: invalid value encountered in double_scalars\n",
      "  return s1 / s2\n"
     ]
    },
    {
     "name": "stdout",
     "output_type": "stream",
     "text": [
      "98/1000\r"
     ]
    },
    {
     "name": "stderr",
     "output_type": "stream",
     "text": [
      "/tmp/ipykernel_3079/2671635211.py:11: RuntimeWarning: invalid value encountered in double_scalars\n",
      "  return s1 / s2\n"
     ]
    },
    {
     "name": "stdout",
     "output_type": "stream",
     "text": [
      "99/1000\r"
     ]
    },
    {
     "name": "stderr",
     "output_type": "stream",
     "text": [
      "/tmp/ipykernel_3079/2671635211.py:11: RuntimeWarning: invalid value encountered in double_scalars\n",
      "  return s1 / s2\n"
     ]
    },
    {
     "name": "stdout",
     "output_type": "stream",
     "text": [
      "100/1000\r"
     ]
    },
    {
     "name": "stderr",
     "output_type": "stream",
     "text": [
      "/tmp/ipykernel_3079/2671635211.py:11: RuntimeWarning: invalid value encountered in double_scalars\n",
      "  return s1 / s2\n"
     ]
    },
    {
     "name": "stdout",
     "output_type": "stream",
     "text": [
      "101/1000\r"
     ]
    },
    {
     "name": "stderr",
     "output_type": "stream",
     "text": [
      "/tmp/ipykernel_3079/2671635211.py:11: RuntimeWarning: invalid value encountered in double_scalars\n",
      "  return s1 / s2\n"
     ]
    },
    {
     "name": "stdout",
     "output_type": "stream",
     "text": [
      "102/1000\r"
     ]
    },
    {
     "name": "stderr",
     "output_type": "stream",
     "text": [
      "/tmp/ipykernel_3079/2671635211.py:11: RuntimeWarning: invalid value encountered in double_scalars\n",
      "  return s1 / s2\n"
     ]
    },
    {
     "name": "stdout",
     "output_type": "stream",
     "text": [
      "103/1000\r"
     ]
    },
    {
     "name": "stderr",
     "output_type": "stream",
     "text": [
      "/tmp/ipykernel_3079/2671635211.py:11: RuntimeWarning: invalid value encountered in double_scalars\n",
      "  return s1 / s2\n"
     ]
    },
    {
     "name": "stdout",
     "output_type": "stream",
     "text": [
      "104/1000\r"
     ]
    },
    {
     "name": "stderr",
     "output_type": "stream",
     "text": [
      "/tmp/ipykernel_3079/2671635211.py:11: RuntimeWarning: invalid value encountered in double_scalars\n",
      "  return s1 / s2\n"
     ]
    },
    {
     "name": "stdout",
     "output_type": "stream",
     "text": [
      "105/1000\r"
     ]
    },
    {
     "name": "stderr",
     "output_type": "stream",
     "text": [
      "/tmp/ipykernel_3079/2671635211.py:11: RuntimeWarning: invalid value encountered in double_scalars\n",
      "  return s1 / s2\n"
     ]
    },
    {
     "name": "stdout",
     "output_type": "stream",
     "text": [
      "106/1000\r"
     ]
    },
    {
     "name": "stderr",
     "output_type": "stream",
     "text": [
      "/tmp/ipykernel_3079/2671635211.py:11: RuntimeWarning: invalid value encountered in double_scalars\n",
      "  return s1 / s2\n"
     ]
    },
    {
     "name": "stdout",
     "output_type": "stream",
     "text": [
      "107/1000\r"
     ]
    },
    {
     "name": "stderr",
     "output_type": "stream",
     "text": [
      "/tmp/ipykernel_3079/2671635211.py:11: RuntimeWarning: invalid value encountered in double_scalars\n",
      "  return s1 / s2\n"
     ]
    },
    {
     "name": "stdout",
     "output_type": "stream",
     "text": [
      "108/1000\r"
     ]
    },
    {
     "name": "stderr",
     "output_type": "stream",
     "text": [
      "/tmp/ipykernel_3079/2671635211.py:11: RuntimeWarning: invalid value encountered in double_scalars\n",
      "  return s1 / s2\n"
     ]
    },
    {
     "name": "stdout",
     "output_type": "stream",
     "text": [
      "109/1000\r"
     ]
    },
    {
     "name": "stderr",
     "output_type": "stream",
     "text": [
      "/tmp/ipykernel_3079/2671635211.py:11: RuntimeWarning: invalid value encountered in double_scalars\n",
      "  return s1 / s2\n"
     ]
    },
    {
     "name": "stdout",
     "output_type": "stream",
     "text": [
      "110/1000\r"
     ]
    },
    {
     "name": "stderr",
     "output_type": "stream",
     "text": [
      "/tmp/ipykernel_3079/2671635211.py:11: RuntimeWarning: invalid value encountered in double_scalars\n",
      "  return s1 / s2\n"
     ]
    },
    {
     "name": "stdout",
     "output_type": "stream",
     "text": [
      "111/1000\r"
     ]
    },
    {
     "name": "stderr",
     "output_type": "stream",
     "text": [
      "/tmp/ipykernel_3079/2671635211.py:11: RuntimeWarning: invalid value encountered in double_scalars\n",
      "  return s1 / s2\n"
     ]
    },
    {
     "name": "stdout",
     "output_type": "stream",
     "text": [
      "112/1000\r"
     ]
    },
    {
     "name": "stderr",
     "output_type": "stream",
     "text": [
      "/tmp/ipykernel_3079/2671635211.py:11: RuntimeWarning: invalid value encountered in double_scalars\n",
      "  return s1 / s2\n"
     ]
    },
    {
     "name": "stdout",
     "output_type": "stream",
     "text": [
      "113/1000\r"
     ]
    },
    {
     "name": "stderr",
     "output_type": "stream",
     "text": [
      "/tmp/ipykernel_3079/2671635211.py:11: RuntimeWarning: invalid value encountered in double_scalars\n",
      "  return s1 / s2\n"
     ]
    },
    {
     "name": "stdout",
     "output_type": "stream",
     "text": [
      "114/1000\r"
     ]
    },
    {
     "name": "stderr",
     "output_type": "stream",
     "text": [
      "/tmp/ipykernel_3079/2671635211.py:11: RuntimeWarning: invalid value encountered in double_scalars\n",
      "  return s1 / s2\n"
     ]
    },
    {
     "name": "stdout",
     "output_type": "stream",
     "text": [
      "115/1000\r"
     ]
    },
    {
     "name": "stderr",
     "output_type": "stream",
     "text": [
      "/tmp/ipykernel_3079/2671635211.py:11: RuntimeWarning: invalid value encountered in double_scalars\n",
      "  return s1 / s2\n"
     ]
    },
    {
     "name": "stdout",
     "output_type": "stream",
     "text": [
      "116/1000\r"
     ]
    },
    {
     "name": "stderr",
     "output_type": "stream",
     "text": [
      "/tmp/ipykernel_3079/2671635211.py:11: RuntimeWarning: invalid value encountered in double_scalars\n",
      "  return s1 / s2\n"
     ]
    },
    {
     "name": "stdout",
     "output_type": "stream",
     "text": [
      "117/1000\r"
     ]
    },
    {
     "name": "stderr",
     "output_type": "stream",
     "text": [
      "/tmp/ipykernel_3079/2671635211.py:11: RuntimeWarning: invalid value encountered in double_scalars\n",
      "  return s1 / s2\n"
     ]
    },
    {
     "name": "stdout",
     "output_type": "stream",
     "text": [
      "118/1000\r"
     ]
    },
    {
     "name": "stderr",
     "output_type": "stream",
     "text": [
      "/tmp/ipykernel_3079/2671635211.py:11: RuntimeWarning: invalid value encountered in double_scalars\n",
      "  return s1 / s2\n"
     ]
    },
    {
     "name": "stdout",
     "output_type": "stream",
     "text": [
      "119/1000\r"
     ]
    },
    {
     "name": "stderr",
     "output_type": "stream",
     "text": [
      "/tmp/ipykernel_3079/2671635211.py:11: RuntimeWarning: invalid value encountered in double_scalars\n",
      "  return s1 / s2\n"
     ]
    },
    {
     "name": "stdout",
     "output_type": "stream",
     "text": [
      "120/1000\r"
     ]
    },
    {
     "name": "stderr",
     "output_type": "stream",
     "text": [
      "/tmp/ipykernel_3079/2671635211.py:11: RuntimeWarning: invalid value encountered in double_scalars\n",
      "  return s1 / s2\n"
     ]
    },
    {
     "name": "stdout",
     "output_type": "stream",
     "text": [
      "121/1000\r"
     ]
    },
    {
     "name": "stderr",
     "output_type": "stream",
     "text": [
      "/tmp/ipykernel_3079/2671635211.py:11: RuntimeWarning: invalid value encountered in double_scalars\n",
      "  return s1 / s2\n"
     ]
    },
    {
     "name": "stdout",
     "output_type": "stream",
     "text": [
      "122/1000\r"
     ]
    },
    {
     "name": "stderr",
     "output_type": "stream",
     "text": [
      "/tmp/ipykernel_3079/2671635211.py:11: RuntimeWarning: invalid value encountered in double_scalars\n",
      "  return s1 / s2\n"
     ]
    },
    {
     "name": "stdout",
     "output_type": "stream",
     "text": [
      "123/1000\r"
     ]
    },
    {
     "name": "stderr",
     "output_type": "stream",
     "text": [
      "/tmp/ipykernel_3079/2671635211.py:11: RuntimeWarning: invalid value encountered in double_scalars\n",
      "  return s1 / s2\n"
     ]
    },
    {
     "name": "stdout",
     "output_type": "stream",
     "text": [
      "124/1000\r"
     ]
    },
    {
     "name": "stderr",
     "output_type": "stream",
     "text": [
      "/tmp/ipykernel_3079/2671635211.py:11: RuntimeWarning: invalid value encountered in double_scalars\n",
      "  return s1 / s2\n"
     ]
    },
    {
     "name": "stdout",
     "output_type": "stream",
     "text": [
      "125/1000\r"
     ]
    },
    {
     "name": "stderr",
     "output_type": "stream",
     "text": [
      "/tmp/ipykernel_3079/2671635211.py:11: RuntimeWarning: invalid value encountered in double_scalars\n",
      "  return s1 / s2\n"
     ]
    },
    {
     "name": "stdout",
     "output_type": "stream",
     "text": [
      "126/1000\r"
     ]
    },
    {
     "name": "stderr",
     "output_type": "stream",
     "text": [
      "/tmp/ipykernel_3079/2671635211.py:11: RuntimeWarning: invalid value encountered in double_scalars\n",
      "  return s1 / s2\n"
     ]
    },
    {
     "name": "stdout",
     "output_type": "stream",
     "text": [
      "127/1000\r"
     ]
    },
    {
     "name": "stderr",
     "output_type": "stream",
     "text": [
      "/tmp/ipykernel_3079/2671635211.py:11: RuntimeWarning: invalid value encountered in double_scalars\n",
      "  return s1 / s2\n"
     ]
    },
    {
     "name": "stdout",
     "output_type": "stream",
     "text": [
      "128/1000\r"
     ]
    },
    {
     "name": "stderr",
     "output_type": "stream",
     "text": [
      "/tmp/ipykernel_3079/2671635211.py:11: RuntimeWarning: invalid value encountered in double_scalars\n",
      "  return s1 / s2\n"
     ]
    },
    {
     "name": "stdout",
     "output_type": "stream",
     "text": [
      "129/1000\r"
     ]
    },
    {
     "name": "stderr",
     "output_type": "stream",
     "text": [
      "/tmp/ipykernel_3079/2671635211.py:11: RuntimeWarning: invalid value encountered in double_scalars\n",
      "  return s1 / s2\n"
     ]
    },
    {
     "name": "stdout",
     "output_type": "stream",
     "text": [
      "130/1000\r"
     ]
    },
    {
     "name": "stderr",
     "output_type": "stream",
     "text": [
      "/tmp/ipykernel_3079/2671635211.py:11: RuntimeWarning: invalid value encountered in double_scalars\n",
      "  return s1 / s2\n"
     ]
    },
    {
     "name": "stdout",
     "output_type": "stream",
     "text": [
      "131/1000\r"
     ]
    },
    {
     "name": "stderr",
     "output_type": "stream",
     "text": [
      "/tmp/ipykernel_3079/2671635211.py:11: RuntimeWarning: invalid value encountered in double_scalars\n",
      "  return s1 / s2\n"
     ]
    },
    {
     "name": "stdout",
     "output_type": "stream",
     "text": [
      "132/1000\r"
     ]
    },
    {
     "name": "stderr",
     "output_type": "stream",
     "text": [
      "/tmp/ipykernel_3079/2671635211.py:11: RuntimeWarning: invalid value encountered in double_scalars\n",
      "  return s1 / s2\n"
     ]
    },
    {
     "name": "stdout",
     "output_type": "stream",
     "text": [
      "133/1000\r"
     ]
    },
    {
     "name": "stderr",
     "output_type": "stream",
     "text": [
      "/tmp/ipykernel_3079/2671635211.py:11: RuntimeWarning: invalid value encountered in double_scalars\n",
      "  return s1 / s2\n"
     ]
    },
    {
     "name": "stdout",
     "output_type": "stream",
     "text": [
      "134/1000\r"
     ]
    },
    {
     "name": "stderr",
     "output_type": "stream",
     "text": [
      "/tmp/ipykernel_3079/2671635211.py:11: RuntimeWarning: invalid value encountered in double_scalars\n",
      "  return s1 / s2\n"
     ]
    },
    {
     "name": "stdout",
     "output_type": "stream",
     "text": [
      "135/1000\r"
     ]
    },
    {
     "name": "stderr",
     "output_type": "stream",
     "text": [
      "/tmp/ipykernel_3079/2671635211.py:11: RuntimeWarning: invalid value encountered in double_scalars\n",
      "  return s1 / s2\n"
     ]
    },
    {
     "name": "stdout",
     "output_type": "stream",
     "text": [
      "136/1000\r"
     ]
    },
    {
     "name": "stderr",
     "output_type": "stream",
     "text": [
      "/tmp/ipykernel_3079/2671635211.py:11: RuntimeWarning: invalid value encountered in double_scalars\n",
      "  return s1 / s2\n"
     ]
    },
    {
     "name": "stdout",
     "output_type": "stream",
     "text": [
      "137/1000\r"
     ]
    },
    {
     "name": "stderr",
     "output_type": "stream",
     "text": [
      "/tmp/ipykernel_3079/2671635211.py:11: RuntimeWarning: invalid value encountered in double_scalars\n",
      "  return s1 / s2\n"
     ]
    },
    {
     "name": "stdout",
     "output_type": "stream",
     "text": [
      "138/1000\r"
     ]
    },
    {
     "name": "stderr",
     "output_type": "stream",
     "text": [
      "/tmp/ipykernel_3079/2671635211.py:11: RuntimeWarning: invalid value encountered in double_scalars\n",
      "  return s1 / s2\n"
     ]
    },
    {
     "name": "stdout",
     "output_type": "stream",
     "text": [
      "139/1000\r"
     ]
    },
    {
     "name": "stderr",
     "output_type": "stream",
     "text": [
      "/tmp/ipykernel_3079/2671635211.py:11: RuntimeWarning: invalid value encountered in double_scalars\n",
      "  return s1 / s2\n"
     ]
    },
    {
     "name": "stdout",
     "output_type": "stream",
     "text": [
      "140/1000\r"
     ]
    },
    {
     "name": "stderr",
     "output_type": "stream",
     "text": [
      "/tmp/ipykernel_3079/2671635211.py:11: RuntimeWarning: invalid value encountered in double_scalars\n",
      "  return s1 / s2\n"
     ]
    },
    {
     "name": "stdout",
     "output_type": "stream",
     "text": [
      "141/1000\r"
     ]
    },
    {
     "name": "stderr",
     "output_type": "stream",
     "text": [
      "/tmp/ipykernel_3079/2671635211.py:11: RuntimeWarning: invalid value encountered in double_scalars\n",
      "  return s1 / s2\n"
     ]
    },
    {
     "name": "stdout",
     "output_type": "stream",
     "text": [
      "142/1000\r"
     ]
    },
    {
     "name": "stderr",
     "output_type": "stream",
     "text": [
      "/tmp/ipykernel_3079/2671635211.py:11: RuntimeWarning: invalid value encountered in double_scalars\n",
      "  return s1 / s2\n"
     ]
    },
    {
     "name": "stdout",
     "output_type": "stream",
     "text": [
      "143/1000\r"
     ]
    },
    {
     "name": "stderr",
     "output_type": "stream",
     "text": [
      "/tmp/ipykernel_3079/2671635211.py:11: RuntimeWarning: invalid value encountered in double_scalars\n",
      "  return s1 / s2\n"
     ]
    },
    {
     "name": "stdout",
     "output_type": "stream",
     "text": [
      "144/1000\r"
     ]
    },
    {
     "name": "stderr",
     "output_type": "stream",
     "text": [
      "/tmp/ipykernel_3079/2671635211.py:11: RuntimeWarning: invalid value encountered in double_scalars\n",
      "  return s1 / s2\n"
     ]
    },
    {
     "name": "stdout",
     "output_type": "stream",
     "text": [
      "145/1000\r"
     ]
    },
    {
     "name": "stderr",
     "output_type": "stream",
     "text": [
      "/tmp/ipykernel_3079/2671635211.py:11: RuntimeWarning: invalid value encountered in double_scalars\n",
      "  return s1 / s2\n"
     ]
    },
    {
     "name": "stdout",
     "output_type": "stream",
     "text": [
      "146/1000\r"
     ]
    },
    {
     "name": "stderr",
     "output_type": "stream",
     "text": [
      "/tmp/ipykernel_3079/2671635211.py:11: RuntimeWarning: invalid value encountered in double_scalars\n",
      "  return s1 / s2\n"
     ]
    },
    {
     "name": "stdout",
     "output_type": "stream",
     "text": [
      "147/1000\r"
     ]
    },
    {
     "name": "stderr",
     "output_type": "stream",
     "text": [
      "/tmp/ipykernel_3079/2671635211.py:11: RuntimeWarning: invalid value encountered in double_scalars\n",
      "  return s1 / s2\n"
     ]
    },
    {
     "name": "stdout",
     "output_type": "stream",
     "text": [
      "148/1000\r"
     ]
    },
    {
     "name": "stderr",
     "output_type": "stream",
     "text": [
      "/tmp/ipykernel_3079/2671635211.py:11: RuntimeWarning: invalid value encountered in double_scalars\n",
      "  return s1 / s2\n"
     ]
    },
    {
     "name": "stdout",
     "output_type": "stream",
     "text": [
      "149/1000\r"
     ]
    },
    {
     "name": "stderr",
     "output_type": "stream",
     "text": [
      "/tmp/ipykernel_3079/2671635211.py:11: RuntimeWarning: invalid value encountered in double_scalars\n",
      "  return s1 / s2\n"
     ]
    },
    {
     "name": "stdout",
     "output_type": "stream",
     "text": [
      "150/1000\r"
     ]
    },
    {
     "name": "stderr",
     "output_type": "stream",
     "text": [
      "/tmp/ipykernel_3079/2671635211.py:11: RuntimeWarning: invalid value encountered in double_scalars\n",
      "  return s1 / s2\n"
     ]
    },
    {
     "name": "stdout",
     "output_type": "stream",
     "text": [
      "151/1000\r"
     ]
    },
    {
     "name": "stderr",
     "output_type": "stream",
     "text": [
      "/tmp/ipykernel_3079/2671635211.py:11: RuntimeWarning: invalid value encountered in double_scalars\n",
      "  return s1 / s2\n"
     ]
    },
    {
     "name": "stdout",
     "output_type": "stream",
     "text": [
      "152/1000\r"
     ]
    },
    {
     "name": "stderr",
     "output_type": "stream",
     "text": [
      "/tmp/ipykernel_3079/2671635211.py:11: RuntimeWarning: invalid value encountered in double_scalars\n",
      "  return s1 / s2\n"
     ]
    },
    {
     "name": "stdout",
     "output_type": "stream",
     "text": [
      "153/1000\r"
     ]
    },
    {
     "name": "stderr",
     "output_type": "stream",
     "text": [
      "/tmp/ipykernel_3079/2671635211.py:11: RuntimeWarning: invalid value encountered in double_scalars\n",
      "  return s1 / s2\n"
     ]
    },
    {
     "name": "stdout",
     "output_type": "stream",
     "text": [
      "154/1000\r"
     ]
    },
    {
     "name": "stderr",
     "output_type": "stream",
     "text": [
      "/tmp/ipykernel_3079/2671635211.py:11: RuntimeWarning: invalid value encountered in double_scalars\n",
      "  return s1 / s2\n"
     ]
    },
    {
     "name": "stdout",
     "output_type": "stream",
     "text": [
      "155/1000\r"
     ]
    },
    {
     "name": "stderr",
     "output_type": "stream",
     "text": [
      "/tmp/ipykernel_3079/2671635211.py:11: RuntimeWarning: invalid value encountered in double_scalars\n",
      "  return s1 / s2\n"
     ]
    },
    {
     "name": "stdout",
     "output_type": "stream",
     "text": [
      "156/1000\r"
     ]
    },
    {
     "name": "stderr",
     "output_type": "stream",
     "text": [
      "/tmp/ipykernel_3079/2671635211.py:11: RuntimeWarning: invalid value encountered in double_scalars\n",
      "  return s1 / s2\n"
     ]
    },
    {
     "name": "stdout",
     "output_type": "stream",
     "text": [
      "157/1000\r"
     ]
    },
    {
     "name": "stderr",
     "output_type": "stream",
     "text": [
      "/tmp/ipykernel_3079/2671635211.py:11: RuntimeWarning: invalid value encountered in double_scalars\n",
      "  return s1 / s2\n"
     ]
    },
    {
     "name": "stdout",
     "output_type": "stream",
     "text": [
      "158/1000\r"
     ]
    },
    {
     "name": "stderr",
     "output_type": "stream",
     "text": [
      "/tmp/ipykernel_3079/2671635211.py:11: RuntimeWarning: invalid value encountered in double_scalars\n",
      "  return s1 / s2\n"
     ]
    },
    {
     "name": "stdout",
     "output_type": "stream",
     "text": [
      "159/1000\r"
     ]
    },
    {
     "name": "stderr",
     "output_type": "stream",
     "text": [
      "/tmp/ipykernel_3079/2671635211.py:11: RuntimeWarning: invalid value encountered in double_scalars\n",
      "  return s1 / s2\n"
     ]
    },
    {
     "name": "stdout",
     "output_type": "stream",
     "text": [
      "160/1000\r"
     ]
    },
    {
     "name": "stderr",
     "output_type": "stream",
     "text": [
      "/tmp/ipykernel_3079/2671635211.py:11: RuntimeWarning: invalid value encountered in double_scalars\n",
      "  return s1 / s2\n"
     ]
    },
    {
     "name": "stdout",
     "output_type": "stream",
     "text": [
      "161/1000\r"
     ]
    },
    {
     "name": "stderr",
     "output_type": "stream",
     "text": [
      "/tmp/ipykernel_3079/2671635211.py:11: RuntimeWarning: invalid value encountered in double_scalars\n",
      "  return s1 / s2\n"
     ]
    },
    {
     "name": "stdout",
     "output_type": "stream",
     "text": [
      "162/1000\r"
     ]
    },
    {
     "name": "stderr",
     "output_type": "stream",
     "text": [
      "/tmp/ipykernel_3079/2671635211.py:11: RuntimeWarning: invalid value encountered in double_scalars\n",
      "  return s1 / s2\n"
     ]
    },
    {
     "name": "stdout",
     "output_type": "stream",
     "text": [
      "163/1000\r"
     ]
    },
    {
     "name": "stderr",
     "output_type": "stream",
     "text": [
      "/tmp/ipykernel_3079/2671635211.py:11: RuntimeWarning: invalid value encountered in double_scalars\n",
      "  return s1 / s2\n"
     ]
    },
    {
     "name": "stdout",
     "output_type": "stream",
     "text": [
      "164/1000\r"
     ]
    },
    {
     "name": "stderr",
     "output_type": "stream",
     "text": [
      "/tmp/ipykernel_3079/2671635211.py:11: RuntimeWarning: invalid value encountered in double_scalars\n",
      "  return s1 / s2\n"
     ]
    },
    {
     "name": "stdout",
     "output_type": "stream",
     "text": [
      "165/1000\r"
     ]
    },
    {
     "name": "stderr",
     "output_type": "stream",
     "text": [
      "/tmp/ipykernel_3079/2671635211.py:11: RuntimeWarning: invalid value encountered in double_scalars\n",
      "  return s1 / s2\n"
     ]
    },
    {
     "name": "stdout",
     "output_type": "stream",
     "text": [
      "166/1000\r"
     ]
    },
    {
     "name": "stderr",
     "output_type": "stream",
     "text": [
      "/tmp/ipykernel_3079/2671635211.py:11: RuntimeWarning: invalid value encountered in double_scalars\n",
      "  return s1 / s2\n"
     ]
    },
    {
     "name": "stdout",
     "output_type": "stream",
     "text": [
      "167/1000\r"
     ]
    },
    {
     "name": "stderr",
     "output_type": "stream",
     "text": [
      "/tmp/ipykernel_3079/2671635211.py:11: RuntimeWarning: invalid value encountered in double_scalars\n",
      "  return s1 / s2\n"
     ]
    },
    {
     "name": "stdout",
     "output_type": "stream",
     "text": [
      "168/1000\r"
     ]
    },
    {
     "name": "stderr",
     "output_type": "stream",
     "text": [
      "/tmp/ipykernel_3079/2671635211.py:11: RuntimeWarning: invalid value encountered in double_scalars\n",
      "  return s1 / s2\n"
     ]
    },
    {
     "name": "stdout",
     "output_type": "stream",
     "text": [
      "169/1000\r"
     ]
    },
    {
     "name": "stderr",
     "output_type": "stream",
     "text": [
      "/tmp/ipykernel_3079/2671635211.py:11: RuntimeWarning: invalid value encountered in double_scalars\n",
      "  return s1 / s2\n"
     ]
    },
    {
     "name": "stdout",
     "output_type": "stream",
     "text": [
      "170/1000\r"
     ]
    },
    {
     "name": "stderr",
     "output_type": "stream",
     "text": [
      "/tmp/ipykernel_3079/2671635211.py:11: RuntimeWarning: invalid value encountered in double_scalars\n",
      "  return s1 / s2\n"
     ]
    },
    {
     "name": "stdout",
     "output_type": "stream",
     "text": [
      "171/1000\r"
     ]
    },
    {
     "name": "stderr",
     "output_type": "stream",
     "text": [
      "/tmp/ipykernel_3079/2671635211.py:11: RuntimeWarning: invalid value encountered in double_scalars\n",
      "  return s1 / s2\n"
     ]
    },
    {
     "name": "stdout",
     "output_type": "stream",
     "text": [
      "172/1000\r"
     ]
    },
    {
     "name": "stderr",
     "output_type": "stream",
     "text": [
      "/tmp/ipykernel_3079/2671635211.py:11: RuntimeWarning: invalid value encountered in double_scalars\n",
      "  return s1 / s2\n"
     ]
    },
    {
     "name": "stdout",
     "output_type": "stream",
     "text": [
      "173/1000\r"
     ]
    },
    {
     "name": "stderr",
     "output_type": "stream",
     "text": [
      "/tmp/ipykernel_3079/2671635211.py:11: RuntimeWarning: invalid value encountered in double_scalars\n",
      "  return s1 / s2\n"
     ]
    },
    {
     "name": "stdout",
     "output_type": "stream",
     "text": [
      "174/1000\r"
     ]
    },
    {
     "name": "stderr",
     "output_type": "stream",
     "text": [
      "/tmp/ipykernel_3079/2671635211.py:11: RuntimeWarning: invalid value encountered in double_scalars\n",
      "  return s1 / s2\n"
     ]
    },
    {
     "name": "stdout",
     "output_type": "stream",
     "text": [
      "175/1000\r"
     ]
    },
    {
     "name": "stderr",
     "output_type": "stream",
     "text": [
      "/tmp/ipykernel_3079/2671635211.py:11: RuntimeWarning: invalid value encountered in double_scalars\n",
      "  return s1 / s2\n"
     ]
    },
    {
     "name": "stdout",
     "output_type": "stream",
     "text": [
      "176/1000\r"
     ]
    },
    {
     "name": "stderr",
     "output_type": "stream",
     "text": [
      "/tmp/ipykernel_3079/2671635211.py:11: RuntimeWarning: invalid value encountered in double_scalars\n",
      "  return s1 / s2\n"
     ]
    },
    {
     "name": "stdout",
     "output_type": "stream",
     "text": [
      "177/1000\r"
     ]
    },
    {
     "name": "stderr",
     "output_type": "stream",
     "text": [
      "/tmp/ipykernel_3079/2671635211.py:11: RuntimeWarning: invalid value encountered in double_scalars\n",
      "  return s1 / s2\n"
     ]
    },
    {
     "name": "stdout",
     "output_type": "stream",
     "text": [
      "178/1000\r"
     ]
    },
    {
     "name": "stderr",
     "output_type": "stream",
     "text": [
      "/tmp/ipykernel_3079/2671635211.py:11: RuntimeWarning: invalid value encountered in double_scalars\n",
      "  return s1 / s2\n"
     ]
    },
    {
     "name": "stdout",
     "output_type": "stream",
     "text": [
      "179/1000\r"
     ]
    },
    {
     "name": "stderr",
     "output_type": "stream",
     "text": [
      "/tmp/ipykernel_3079/2671635211.py:11: RuntimeWarning: invalid value encountered in double_scalars\n",
      "  return s1 / s2\n"
     ]
    },
    {
     "name": "stdout",
     "output_type": "stream",
     "text": [
      "180/1000\r"
     ]
    },
    {
     "name": "stderr",
     "output_type": "stream",
     "text": [
      "/tmp/ipykernel_3079/2671635211.py:11: RuntimeWarning: invalid value encountered in double_scalars\n",
      "  return s1 / s2\n"
     ]
    },
    {
     "name": "stdout",
     "output_type": "stream",
     "text": [
      "181/1000\r"
     ]
    },
    {
     "name": "stderr",
     "output_type": "stream",
     "text": [
      "/tmp/ipykernel_3079/2671635211.py:11: RuntimeWarning: invalid value encountered in double_scalars\n",
      "  return s1 / s2\n"
     ]
    },
    {
     "name": "stdout",
     "output_type": "stream",
     "text": [
      "182/1000\r"
     ]
    },
    {
     "name": "stderr",
     "output_type": "stream",
     "text": [
      "/tmp/ipykernel_3079/2671635211.py:11: RuntimeWarning: invalid value encountered in double_scalars\n",
      "  return s1 / s2\n"
     ]
    },
    {
     "name": "stdout",
     "output_type": "stream",
     "text": [
      "183/1000\r"
     ]
    },
    {
     "name": "stderr",
     "output_type": "stream",
     "text": [
      "/tmp/ipykernel_3079/2671635211.py:11: RuntimeWarning: invalid value encountered in double_scalars\n",
      "  return s1 / s2\n"
     ]
    },
    {
     "name": "stdout",
     "output_type": "stream",
     "text": [
      "184/1000\r"
     ]
    },
    {
     "name": "stderr",
     "output_type": "stream",
     "text": [
      "/tmp/ipykernel_3079/2671635211.py:11: RuntimeWarning: invalid value encountered in double_scalars\n",
      "  return s1 / s2\n"
     ]
    },
    {
     "name": "stdout",
     "output_type": "stream",
     "text": [
      "185/1000\r"
     ]
    },
    {
     "name": "stderr",
     "output_type": "stream",
     "text": [
      "/tmp/ipykernel_3079/2671635211.py:11: RuntimeWarning: invalid value encountered in double_scalars\n",
      "  return s1 / s2\n"
     ]
    },
    {
     "name": "stdout",
     "output_type": "stream",
     "text": [
      "186/1000\r"
     ]
    },
    {
     "name": "stderr",
     "output_type": "stream",
     "text": [
      "/tmp/ipykernel_3079/2671635211.py:11: RuntimeWarning: invalid value encountered in double_scalars\n",
      "  return s1 / s2\n"
     ]
    },
    {
     "name": "stdout",
     "output_type": "stream",
     "text": [
      "187/1000\r"
     ]
    },
    {
     "name": "stderr",
     "output_type": "stream",
     "text": [
      "/tmp/ipykernel_3079/2671635211.py:11: RuntimeWarning: invalid value encountered in double_scalars\n",
      "  return s1 / s2\n"
     ]
    },
    {
     "name": "stdout",
     "output_type": "stream",
     "text": [
      "188/1000\r"
     ]
    },
    {
     "name": "stderr",
     "output_type": "stream",
     "text": [
      "/tmp/ipykernel_3079/2671635211.py:11: RuntimeWarning: invalid value encountered in double_scalars\n",
      "  return s1 / s2\n"
     ]
    },
    {
     "name": "stdout",
     "output_type": "stream",
     "text": [
      "189/1000\r"
     ]
    },
    {
     "name": "stderr",
     "output_type": "stream",
     "text": [
      "/tmp/ipykernel_3079/2671635211.py:11: RuntimeWarning: invalid value encountered in double_scalars\n",
      "  return s1 / s2\n"
     ]
    },
    {
     "name": "stdout",
     "output_type": "stream",
     "text": [
      "190/1000\r"
     ]
    },
    {
     "name": "stderr",
     "output_type": "stream",
     "text": [
      "/tmp/ipykernel_3079/2671635211.py:11: RuntimeWarning: invalid value encountered in double_scalars\n",
      "  return s1 / s2\n"
     ]
    },
    {
     "name": "stdout",
     "output_type": "stream",
     "text": [
      "191/1000\r"
     ]
    },
    {
     "name": "stderr",
     "output_type": "stream",
     "text": [
      "/tmp/ipykernel_3079/2671635211.py:11: RuntimeWarning: invalid value encountered in double_scalars\n",
      "  return s1 / s2\n"
     ]
    },
    {
     "name": "stdout",
     "output_type": "stream",
     "text": [
      "192/1000\r"
     ]
    },
    {
     "name": "stderr",
     "output_type": "stream",
     "text": [
      "/tmp/ipykernel_3079/2671635211.py:11: RuntimeWarning: invalid value encountered in double_scalars\n",
      "  return s1 / s2\n"
     ]
    },
    {
     "name": "stdout",
     "output_type": "stream",
     "text": [
      "193/1000\r"
     ]
    },
    {
     "name": "stderr",
     "output_type": "stream",
     "text": [
      "/tmp/ipykernel_3079/2671635211.py:11: RuntimeWarning: invalid value encountered in double_scalars\n",
      "  return s1 / s2\n"
     ]
    },
    {
     "name": "stdout",
     "output_type": "stream",
     "text": [
      "194/1000\r"
     ]
    },
    {
     "name": "stderr",
     "output_type": "stream",
     "text": [
      "/tmp/ipykernel_3079/2671635211.py:11: RuntimeWarning: invalid value encountered in double_scalars\n",
      "  return s1 / s2\n"
     ]
    },
    {
     "name": "stdout",
     "output_type": "stream",
     "text": [
      "195/1000\r"
     ]
    },
    {
     "name": "stderr",
     "output_type": "stream",
     "text": [
      "/tmp/ipykernel_3079/2671635211.py:11: RuntimeWarning: invalid value encountered in double_scalars\n",
      "  return s1 / s2\n"
     ]
    },
    {
     "name": "stdout",
     "output_type": "stream",
     "text": [
      "196/1000\r"
     ]
    },
    {
     "name": "stderr",
     "output_type": "stream",
     "text": [
      "/tmp/ipykernel_3079/2671635211.py:11: RuntimeWarning: invalid value encountered in double_scalars\n",
      "  return s1 / s2\n"
     ]
    },
    {
     "name": "stdout",
     "output_type": "stream",
     "text": [
      "197/1000\r"
     ]
    },
    {
     "name": "stderr",
     "output_type": "stream",
     "text": [
      "/tmp/ipykernel_3079/2671635211.py:11: RuntimeWarning: invalid value encountered in double_scalars\n",
      "  return s1 / s2\n"
     ]
    },
    {
     "name": "stdout",
     "output_type": "stream",
     "text": [
      "198/1000\r"
     ]
    },
    {
     "name": "stderr",
     "output_type": "stream",
     "text": [
      "/tmp/ipykernel_3079/2671635211.py:11: RuntimeWarning: invalid value encountered in double_scalars\n",
      "  return s1 / s2\n"
     ]
    },
    {
     "name": "stdout",
     "output_type": "stream",
     "text": [
      "199/1000\r"
     ]
    },
    {
     "name": "stderr",
     "output_type": "stream",
     "text": [
      "/tmp/ipykernel_3079/2671635211.py:11: RuntimeWarning: invalid value encountered in double_scalars\n",
      "  return s1 / s2\n"
     ]
    },
    {
     "name": "stdout",
     "output_type": "stream",
     "text": [
      "200/1000\r"
     ]
    },
    {
     "name": "stderr",
     "output_type": "stream",
     "text": [
      "/tmp/ipykernel_3079/2671635211.py:11: RuntimeWarning: invalid value encountered in double_scalars\n",
      "  return s1 / s2\n"
     ]
    },
    {
     "name": "stdout",
     "output_type": "stream",
     "text": [
      "201/1000\r"
     ]
    },
    {
     "name": "stderr",
     "output_type": "stream",
     "text": [
      "/tmp/ipykernel_3079/2671635211.py:11: RuntimeWarning: invalid value encountered in double_scalars\n",
      "  return s1 / s2\n"
     ]
    },
    {
     "name": "stdout",
     "output_type": "stream",
     "text": [
      "202/1000\r"
     ]
    },
    {
     "name": "stderr",
     "output_type": "stream",
     "text": [
      "/tmp/ipykernel_3079/2671635211.py:11: RuntimeWarning: invalid value encountered in double_scalars\n",
      "  return s1 / s2\n"
     ]
    },
    {
     "name": "stdout",
     "output_type": "stream",
     "text": [
      "203/1000\r"
     ]
    },
    {
     "name": "stderr",
     "output_type": "stream",
     "text": [
      "/tmp/ipykernel_3079/2671635211.py:11: RuntimeWarning: invalid value encountered in double_scalars\n",
      "  return s1 / s2\n"
     ]
    },
    {
     "name": "stdout",
     "output_type": "stream",
     "text": [
      "204/1000\r"
     ]
    },
    {
     "name": "stderr",
     "output_type": "stream",
     "text": [
      "/tmp/ipykernel_3079/2671635211.py:11: RuntimeWarning: invalid value encountered in double_scalars\n",
      "  return s1 / s2\n"
     ]
    },
    {
     "name": "stdout",
     "output_type": "stream",
     "text": [
      "205/1000\r"
     ]
    },
    {
     "name": "stderr",
     "output_type": "stream",
     "text": [
      "/tmp/ipykernel_3079/2671635211.py:11: RuntimeWarning: invalid value encountered in double_scalars\n",
      "  return s1 / s2\n"
     ]
    },
    {
     "name": "stdout",
     "output_type": "stream",
     "text": [
      "206/1000\r"
     ]
    },
    {
     "name": "stderr",
     "output_type": "stream",
     "text": [
      "/tmp/ipykernel_3079/2671635211.py:11: RuntimeWarning: invalid value encountered in double_scalars\n",
      "  return s1 / s2\n"
     ]
    },
    {
     "name": "stdout",
     "output_type": "stream",
     "text": [
      "207/1000\r"
     ]
    },
    {
     "name": "stderr",
     "output_type": "stream",
     "text": [
      "/tmp/ipykernel_3079/2671635211.py:11: RuntimeWarning: invalid value encountered in double_scalars\n",
      "  return s1 / s2\n"
     ]
    },
    {
     "name": "stdout",
     "output_type": "stream",
     "text": [
      "208/1000\r"
     ]
    },
    {
     "name": "stderr",
     "output_type": "stream",
     "text": [
      "/tmp/ipykernel_3079/2671635211.py:11: RuntimeWarning: invalid value encountered in double_scalars\n",
      "  return s1 / s2\n"
     ]
    },
    {
     "name": "stdout",
     "output_type": "stream",
     "text": [
      "209/1000\r"
     ]
    },
    {
     "name": "stderr",
     "output_type": "stream",
     "text": [
      "/tmp/ipykernel_3079/2671635211.py:11: RuntimeWarning: invalid value encountered in double_scalars\n",
      "  return s1 / s2\n"
     ]
    },
    {
     "name": "stdout",
     "output_type": "stream",
     "text": [
      "210/1000\r"
     ]
    },
    {
     "name": "stderr",
     "output_type": "stream",
     "text": [
      "/tmp/ipykernel_3079/2671635211.py:11: RuntimeWarning: invalid value encountered in double_scalars\n",
      "  return s1 / s2\n"
     ]
    },
    {
     "name": "stdout",
     "output_type": "stream",
     "text": [
      "211/1000\r"
     ]
    },
    {
     "name": "stderr",
     "output_type": "stream",
     "text": [
      "/tmp/ipykernel_3079/2671635211.py:11: RuntimeWarning: invalid value encountered in double_scalars\n",
      "  return s1 / s2\n"
     ]
    },
    {
     "name": "stdout",
     "output_type": "stream",
     "text": [
      "212/1000\r"
     ]
    },
    {
     "name": "stderr",
     "output_type": "stream",
     "text": [
      "/tmp/ipykernel_3079/2671635211.py:11: RuntimeWarning: invalid value encountered in double_scalars\n",
      "  return s1 / s2\n"
     ]
    },
    {
     "name": "stdout",
     "output_type": "stream",
     "text": [
      "213/1000\r"
     ]
    },
    {
     "name": "stderr",
     "output_type": "stream",
     "text": [
      "/tmp/ipykernel_3079/2671635211.py:11: RuntimeWarning: invalid value encountered in double_scalars\n",
      "  return s1 / s2\n"
     ]
    },
    {
     "name": "stdout",
     "output_type": "stream",
     "text": [
      "214/1000\r"
     ]
    },
    {
     "name": "stderr",
     "output_type": "stream",
     "text": [
      "/tmp/ipykernel_3079/2671635211.py:11: RuntimeWarning: invalid value encountered in double_scalars\n",
      "  return s1 / s2\n"
     ]
    },
    {
     "name": "stdout",
     "output_type": "stream",
     "text": [
      "215/1000\r"
     ]
    },
    {
     "name": "stderr",
     "output_type": "stream",
     "text": [
      "/tmp/ipykernel_3079/2671635211.py:11: RuntimeWarning: invalid value encountered in double_scalars\n",
      "  return s1 / s2\n"
     ]
    },
    {
     "name": "stdout",
     "output_type": "stream",
     "text": [
      "216/1000\r"
     ]
    },
    {
     "name": "stderr",
     "output_type": "stream",
     "text": [
      "/tmp/ipykernel_3079/2671635211.py:11: RuntimeWarning: invalid value encountered in double_scalars\n",
      "  return s1 / s2\n"
     ]
    },
    {
     "name": "stdout",
     "output_type": "stream",
     "text": [
      "217/1000\r"
     ]
    },
    {
     "name": "stderr",
     "output_type": "stream",
     "text": [
      "/tmp/ipykernel_3079/2671635211.py:11: RuntimeWarning: invalid value encountered in double_scalars\n",
      "  return s1 / s2\n"
     ]
    },
    {
     "name": "stdout",
     "output_type": "stream",
     "text": [
      "218/1000\r"
     ]
    },
    {
     "name": "stderr",
     "output_type": "stream",
     "text": [
      "/tmp/ipykernel_3079/2671635211.py:11: RuntimeWarning: invalid value encountered in double_scalars\n",
      "  return s1 / s2\n"
     ]
    },
    {
     "name": "stdout",
     "output_type": "stream",
     "text": [
      "219/1000\r"
     ]
    },
    {
     "name": "stderr",
     "output_type": "stream",
     "text": [
      "/tmp/ipykernel_3079/2671635211.py:11: RuntimeWarning: invalid value encountered in double_scalars\n",
      "  return s1 / s2\n"
     ]
    },
    {
     "name": "stdout",
     "output_type": "stream",
     "text": [
      "220/1000\r"
     ]
    },
    {
     "name": "stderr",
     "output_type": "stream",
     "text": [
      "/tmp/ipykernel_3079/2671635211.py:11: RuntimeWarning: invalid value encountered in double_scalars\n",
      "  return s1 / s2\n"
     ]
    },
    {
     "name": "stdout",
     "output_type": "stream",
     "text": [
      "221/1000\r"
     ]
    },
    {
     "name": "stderr",
     "output_type": "stream",
     "text": [
      "/tmp/ipykernel_3079/2671635211.py:11: RuntimeWarning: invalid value encountered in double_scalars\n",
      "  return s1 / s2\n"
     ]
    },
    {
     "name": "stdout",
     "output_type": "stream",
     "text": [
      "222/1000\r"
     ]
    },
    {
     "name": "stderr",
     "output_type": "stream",
     "text": [
      "/tmp/ipykernel_3079/2671635211.py:11: RuntimeWarning: invalid value encountered in double_scalars\n",
      "  return s1 / s2\n"
     ]
    },
    {
     "name": "stdout",
     "output_type": "stream",
     "text": [
      "223/1000\r"
     ]
    },
    {
     "name": "stderr",
     "output_type": "stream",
     "text": [
      "/tmp/ipykernel_3079/2671635211.py:11: RuntimeWarning: invalid value encountered in double_scalars\n",
      "  return s1 / s2\n"
     ]
    },
    {
     "name": "stdout",
     "output_type": "stream",
     "text": [
      "224/1000\r"
     ]
    },
    {
     "name": "stderr",
     "output_type": "stream",
     "text": [
      "/tmp/ipykernel_3079/2671635211.py:11: RuntimeWarning: invalid value encountered in double_scalars\n",
      "  return s1 / s2\n"
     ]
    },
    {
     "name": "stdout",
     "output_type": "stream",
     "text": [
      "225/1000\r"
     ]
    },
    {
     "name": "stderr",
     "output_type": "stream",
     "text": [
      "/tmp/ipykernel_3079/2671635211.py:11: RuntimeWarning: invalid value encountered in double_scalars\n",
      "  return s1 / s2\n"
     ]
    },
    {
     "name": "stdout",
     "output_type": "stream",
     "text": [
      "226/1000\r"
     ]
    },
    {
     "name": "stderr",
     "output_type": "stream",
     "text": [
      "/tmp/ipykernel_3079/2671635211.py:11: RuntimeWarning: invalid value encountered in double_scalars\n",
      "  return s1 / s2\n"
     ]
    },
    {
     "name": "stdout",
     "output_type": "stream",
     "text": [
      "227/1000\r"
     ]
    },
    {
     "name": "stderr",
     "output_type": "stream",
     "text": [
      "/tmp/ipykernel_3079/2671635211.py:11: RuntimeWarning: invalid value encountered in double_scalars\n",
      "  return s1 / s2\n"
     ]
    },
    {
     "name": "stdout",
     "output_type": "stream",
     "text": [
      "228/1000\r"
     ]
    },
    {
     "name": "stderr",
     "output_type": "stream",
     "text": [
      "/tmp/ipykernel_3079/2671635211.py:11: RuntimeWarning: invalid value encountered in double_scalars\n",
      "  return s1 / s2\n"
     ]
    },
    {
     "name": "stdout",
     "output_type": "stream",
     "text": [
      "229/1000\r"
     ]
    },
    {
     "name": "stderr",
     "output_type": "stream",
     "text": [
      "/tmp/ipykernel_3079/2671635211.py:11: RuntimeWarning: invalid value encountered in double_scalars\n",
      "  return s1 / s2\n"
     ]
    },
    {
     "name": "stdout",
     "output_type": "stream",
     "text": [
      "230/1000\r"
     ]
    },
    {
     "name": "stderr",
     "output_type": "stream",
     "text": [
      "/tmp/ipykernel_3079/2671635211.py:11: RuntimeWarning: invalid value encountered in double_scalars\n",
      "  return s1 / s2\n"
     ]
    },
    {
     "name": "stdout",
     "output_type": "stream",
     "text": [
      "231/1000\r"
     ]
    },
    {
     "name": "stderr",
     "output_type": "stream",
     "text": [
      "/tmp/ipykernel_3079/2671635211.py:11: RuntimeWarning: invalid value encountered in double_scalars\n",
      "  return s1 / s2\n"
     ]
    },
    {
     "name": "stdout",
     "output_type": "stream",
     "text": [
      "232/1000\r"
     ]
    },
    {
     "name": "stderr",
     "output_type": "stream",
     "text": [
      "/tmp/ipykernel_3079/2671635211.py:11: RuntimeWarning: invalid value encountered in double_scalars\n",
      "  return s1 / s2\n"
     ]
    },
    {
     "name": "stdout",
     "output_type": "stream",
     "text": [
      "233/1000\r"
     ]
    },
    {
     "name": "stderr",
     "output_type": "stream",
     "text": [
      "/tmp/ipykernel_3079/2671635211.py:11: RuntimeWarning: invalid value encountered in double_scalars\n",
      "  return s1 / s2\n"
     ]
    },
    {
     "name": "stdout",
     "output_type": "stream",
     "text": [
      "234/1000\r"
     ]
    },
    {
     "name": "stderr",
     "output_type": "stream",
     "text": [
      "/tmp/ipykernel_3079/2671635211.py:11: RuntimeWarning: invalid value encountered in double_scalars\n",
      "  return s1 / s2\n"
     ]
    },
    {
     "name": "stdout",
     "output_type": "stream",
     "text": [
      "235/1000\r"
     ]
    },
    {
     "name": "stderr",
     "output_type": "stream",
     "text": [
      "/tmp/ipykernel_3079/2671635211.py:11: RuntimeWarning: invalid value encountered in double_scalars\n",
      "  return s1 / s2\n"
     ]
    },
    {
     "name": "stdout",
     "output_type": "stream",
     "text": [
      "236/1000\r"
     ]
    },
    {
     "name": "stderr",
     "output_type": "stream",
     "text": [
      "/tmp/ipykernel_3079/2671635211.py:11: RuntimeWarning: invalid value encountered in double_scalars\n",
      "  return s1 / s2\n"
     ]
    },
    {
     "name": "stdout",
     "output_type": "stream",
     "text": [
      "237/1000\r"
     ]
    },
    {
     "name": "stderr",
     "output_type": "stream",
     "text": [
      "/tmp/ipykernel_3079/2671635211.py:11: RuntimeWarning: invalid value encountered in double_scalars\n",
      "  return s1 / s2\n"
     ]
    },
    {
     "name": "stdout",
     "output_type": "stream",
     "text": [
      "238/1000\r"
     ]
    },
    {
     "name": "stderr",
     "output_type": "stream",
     "text": [
      "/tmp/ipykernel_3079/2671635211.py:11: RuntimeWarning: invalid value encountered in double_scalars\n",
      "  return s1 / s2\n"
     ]
    },
    {
     "name": "stdout",
     "output_type": "stream",
     "text": [
      "239/1000\r"
     ]
    },
    {
     "name": "stderr",
     "output_type": "stream",
     "text": [
      "/tmp/ipykernel_3079/2671635211.py:11: RuntimeWarning: invalid value encountered in double_scalars\n",
      "  return s1 / s2\n"
     ]
    },
    {
     "name": "stdout",
     "output_type": "stream",
     "text": [
      "240/1000\r"
     ]
    },
    {
     "name": "stderr",
     "output_type": "stream",
     "text": [
      "/tmp/ipykernel_3079/2671635211.py:11: RuntimeWarning: invalid value encountered in double_scalars\n",
      "  return s1 / s2\n"
     ]
    },
    {
     "name": "stdout",
     "output_type": "stream",
     "text": [
      "241/1000\r"
     ]
    },
    {
     "name": "stderr",
     "output_type": "stream",
     "text": [
      "/tmp/ipykernel_3079/2671635211.py:11: RuntimeWarning: invalid value encountered in double_scalars\n",
      "  return s1 / s2\n"
     ]
    },
    {
     "name": "stdout",
     "output_type": "stream",
     "text": [
      "242/1000\r"
     ]
    },
    {
     "name": "stderr",
     "output_type": "stream",
     "text": [
      "/tmp/ipykernel_3079/2671635211.py:11: RuntimeWarning: invalid value encountered in double_scalars\n",
      "  return s1 / s2\n"
     ]
    },
    {
     "name": "stdout",
     "output_type": "stream",
     "text": [
      "243/1000\r"
     ]
    },
    {
     "name": "stderr",
     "output_type": "stream",
     "text": [
      "/tmp/ipykernel_3079/2671635211.py:11: RuntimeWarning: invalid value encountered in double_scalars\n",
      "  return s1 / s2\n"
     ]
    },
    {
     "name": "stdout",
     "output_type": "stream",
     "text": [
      "244/1000\r"
     ]
    },
    {
     "name": "stderr",
     "output_type": "stream",
     "text": [
      "/tmp/ipykernel_3079/2671635211.py:11: RuntimeWarning: invalid value encountered in double_scalars\n",
      "  return s1 / s2\n"
     ]
    },
    {
     "name": "stdout",
     "output_type": "stream",
     "text": [
      "245/1000\r"
     ]
    },
    {
     "name": "stderr",
     "output_type": "stream",
     "text": [
      "/tmp/ipykernel_3079/2671635211.py:11: RuntimeWarning: invalid value encountered in double_scalars\n",
      "  return s1 / s2\n"
     ]
    },
    {
     "name": "stdout",
     "output_type": "stream",
     "text": [
      "246/1000\r"
     ]
    },
    {
     "name": "stderr",
     "output_type": "stream",
     "text": [
      "/tmp/ipykernel_3079/2671635211.py:11: RuntimeWarning: invalid value encountered in double_scalars\n",
      "  return s1 / s2\n"
     ]
    },
    {
     "name": "stdout",
     "output_type": "stream",
     "text": [
      "247/1000\r"
     ]
    },
    {
     "name": "stderr",
     "output_type": "stream",
     "text": [
      "/tmp/ipykernel_3079/2671635211.py:11: RuntimeWarning: invalid value encountered in double_scalars\n",
      "  return s1 / s2\n"
     ]
    },
    {
     "name": "stdout",
     "output_type": "stream",
     "text": [
      "248/1000\r"
     ]
    },
    {
     "name": "stderr",
     "output_type": "stream",
     "text": [
      "/tmp/ipykernel_3079/2671635211.py:11: RuntimeWarning: invalid value encountered in double_scalars\n",
      "  return s1 / s2\n"
     ]
    },
    {
     "name": "stdout",
     "output_type": "stream",
     "text": [
      "249/1000\r"
     ]
    },
    {
     "name": "stderr",
     "output_type": "stream",
     "text": [
      "/tmp/ipykernel_3079/2671635211.py:11: RuntimeWarning: invalid value encountered in double_scalars\n",
      "  return s1 / s2\n"
     ]
    },
    {
     "name": "stdout",
     "output_type": "stream",
     "text": [
      "250/1000\r"
     ]
    },
    {
     "name": "stderr",
     "output_type": "stream",
     "text": [
      "/tmp/ipykernel_3079/2671635211.py:11: RuntimeWarning: invalid value encountered in double_scalars\n",
      "  return s1 / s2\n"
     ]
    },
    {
     "name": "stdout",
     "output_type": "stream",
     "text": [
      "251/1000\r"
     ]
    },
    {
     "name": "stderr",
     "output_type": "stream",
     "text": [
      "/tmp/ipykernel_3079/2671635211.py:11: RuntimeWarning: invalid value encountered in double_scalars\n",
      "  return s1 / s2\n"
     ]
    },
    {
     "name": "stdout",
     "output_type": "stream",
     "text": [
      "252/1000\r"
     ]
    },
    {
     "name": "stderr",
     "output_type": "stream",
     "text": [
      "/tmp/ipykernel_3079/2671635211.py:11: RuntimeWarning: invalid value encountered in double_scalars\n",
      "  return s1 / s2\n"
     ]
    },
    {
     "name": "stdout",
     "output_type": "stream",
     "text": [
      "253/1000\r"
     ]
    },
    {
     "name": "stderr",
     "output_type": "stream",
     "text": [
      "/tmp/ipykernel_3079/2671635211.py:11: RuntimeWarning: invalid value encountered in double_scalars\n",
      "  return s1 / s2\n"
     ]
    },
    {
     "name": "stdout",
     "output_type": "stream",
     "text": [
      "254/1000\r"
     ]
    },
    {
     "name": "stderr",
     "output_type": "stream",
     "text": [
      "/tmp/ipykernel_3079/2671635211.py:11: RuntimeWarning: invalid value encountered in double_scalars\n",
      "  return s1 / s2\n"
     ]
    },
    {
     "name": "stdout",
     "output_type": "stream",
     "text": [
      "255/1000\r"
     ]
    },
    {
     "name": "stderr",
     "output_type": "stream",
     "text": [
      "/tmp/ipykernel_3079/2671635211.py:11: RuntimeWarning: invalid value encountered in double_scalars\n",
      "  return s1 / s2\n"
     ]
    },
    {
     "name": "stdout",
     "output_type": "stream",
     "text": [
      "256/1000\r"
     ]
    },
    {
     "name": "stderr",
     "output_type": "stream",
     "text": [
      "/tmp/ipykernel_3079/2671635211.py:11: RuntimeWarning: invalid value encountered in double_scalars\n",
      "  return s1 / s2\n"
     ]
    },
    {
     "name": "stdout",
     "output_type": "stream",
     "text": [
      "257/1000\r"
     ]
    },
    {
     "name": "stderr",
     "output_type": "stream",
     "text": [
      "/tmp/ipykernel_3079/2671635211.py:11: RuntimeWarning: invalid value encountered in double_scalars\n",
      "  return s1 / s2\n"
     ]
    },
    {
     "name": "stdout",
     "output_type": "stream",
     "text": [
      "258/1000\r"
     ]
    },
    {
     "name": "stderr",
     "output_type": "stream",
     "text": [
      "/tmp/ipykernel_3079/2671635211.py:11: RuntimeWarning: invalid value encountered in double_scalars\n",
      "  return s1 / s2\n"
     ]
    },
    {
     "name": "stdout",
     "output_type": "stream",
     "text": [
      "259/1000\r"
     ]
    },
    {
     "name": "stderr",
     "output_type": "stream",
     "text": [
      "/tmp/ipykernel_3079/2671635211.py:11: RuntimeWarning: invalid value encountered in double_scalars\n",
      "  return s1 / s2\n"
     ]
    },
    {
     "name": "stdout",
     "output_type": "stream",
     "text": [
      "260/1000\r"
     ]
    },
    {
     "name": "stderr",
     "output_type": "stream",
     "text": [
      "/tmp/ipykernel_3079/2671635211.py:11: RuntimeWarning: invalid value encountered in double_scalars\n",
      "  return s1 / s2\n"
     ]
    },
    {
     "name": "stdout",
     "output_type": "stream",
     "text": [
      "261/1000\r"
     ]
    },
    {
     "name": "stderr",
     "output_type": "stream",
     "text": [
      "/tmp/ipykernel_3079/2671635211.py:11: RuntimeWarning: invalid value encountered in double_scalars\n",
      "  return s1 / s2\n"
     ]
    },
    {
     "name": "stdout",
     "output_type": "stream",
     "text": [
      "262/1000\r"
     ]
    },
    {
     "name": "stderr",
     "output_type": "stream",
     "text": [
      "/tmp/ipykernel_3079/2671635211.py:11: RuntimeWarning: invalid value encountered in double_scalars\n",
      "  return s1 / s2\n"
     ]
    },
    {
     "name": "stdout",
     "output_type": "stream",
     "text": [
      "263/1000\r"
     ]
    },
    {
     "name": "stderr",
     "output_type": "stream",
     "text": [
      "/tmp/ipykernel_3079/2671635211.py:11: RuntimeWarning: invalid value encountered in double_scalars\n",
      "  return s1 / s2\n"
     ]
    },
    {
     "name": "stdout",
     "output_type": "stream",
     "text": [
      "264/1000\r"
     ]
    },
    {
     "name": "stderr",
     "output_type": "stream",
     "text": [
      "/tmp/ipykernel_3079/2671635211.py:11: RuntimeWarning: invalid value encountered in double_scalars\n",
      "  return s1 / s2\n"
     ]
    },
    {
     "name": "stdout",
     "output_type": "stream",
     "text": [
      "265/1000\r"
     ]
    },
    {
     "name": "stderr",
     "output_type": "stream",
     "text": [
      "/tmp/ipykernel_3079/2671635211.py:11: RuntimeWarning: invalid value encountered in double_scalars\n",
      "  return s1 / s2\n"
     ]
    },
    {
     "name": "stdout",
     "output_type": "stream",
     "text": [
      "266/1000\r"
     ]
    },
    {
     "name": "stderr",
     "output_type": "stream",
     "text": [
      "/tmp/ipykernel_3079/2671635211.py:11: RuntimeWarning: invalid value encountered in double_scalars\n",
      "  return s1 / s2\n"
     ]
    },
    {
     "name": "stdout",
     "output_type": "stream",
     "text": [
      "267/1000\r"
     ]
    },
    {
     "name": "stderr",
     "output_type": "stream",
     "text": [
      "/tmp/ipykernel_3079/2671635211.py:11: RuntimeWarning: invalid value encountered in double_scalars\n",
      "  return s1 / s2\n"
     ]
    },
    {
     "name": "stdout",
     "output_type": "stream",
     "text": [
      "268/1000\r"
     ]
    },
    {
     "name": "stderr",
     "output_type": "stream",
     "text": [
      "/tmp/ipykernel_3079/2671635211.py:11: RuntimeWarning: invalid value encountered in double_scalars\n",
      "  return s1 / s2\n"
     ]
    },
    {
     "name": "stdout",
     "output_type": "stream",
     "text": [
      "269/1000\r"
     ]
    },
    {
     "name": "stderr",
     "output_type": "stream",
     "text": [
      "/tmp/ipykernel_3079/2671635211.py:11: RuntimeWarning: invalid value encountered in double_scalars\n",
      "  return s1 / s2\n"
     ]
    },
    {
     "name": "stdout",
     "output_type": "stream",
     "text": [
      "270/1000\r"
     ]
    },
    {
     "name": "stderr",
     "output_type": "stream",
     "text": [
      "/tmp/ipykernel_3079/2671635211.py:11: RuntimeWarning: invalid value encountered in double_scalars\n",
      "  return s1 / s2\n"
     ]
    },
    {
     "name": "stdout",
     "output_type": "stream",
     "text": [
      "271/1000\r"
     ]
    },
    {
     "name": "stderr",
     "output_type": "stream",
     "text": [
      "/tmp/ipykernel_3079/2671635211.py:11: RuntimeWarning: invalid value encountered in double_scalars\n",
      "  return s1 / s2\n"
     ]
    },
    {
     "name": "stdout",
     "output_type": "stream",
     "text": [
      "272/1000\r"
     ]
    },
    {
     "name": "stderr",
     "output_type": "stream",
     "text": [
      "/tmp/ipykernel_3079/2671635211.py:11: RuntimeWarning: invalid value encountered in double_scalars\n",
      "  return s1 / s2\n"
     ]
    },
    {
     "name": "stdout",
     "output_type": "stream",
     "text": [
      "273/1000\r"
     ]
    },
    {
     "name": "stderr",
     "output_type": "stream",
     "text": [
      "/tmp/ipykernel_3079/2671635211.py:11: RuntimeWarning: invalid value encountered in double_scalars\n",
      "  return s1 / s2\n"
     ]
    },
    {
     "name": "stdout",
     "output_type": "stream",
     "text": [
      "274/1000\r"
     ]
    },
    {
     "name": "stderr",
     "output_type": "stream",
     "text": [
      "/tmp/ipykernel_3079/2671635211.py:11: RuntimeWarning: invalid value encountered in double_scalars\n",
      "  return s1 / s2\n"
     ]
    },
    {
     "name": "stdout",
     "output_type": "stream",
     "text": [
      "275/1000\r"
     ]
    },
    {
     "name": "stderr",
     "output_type": "stream",
     "text": [
      "/tmp/ipykernel_3079/2671635211.py:11: RuntimeWarning: invalid value encountered in double_scalars\n",
      "  return s1 / s2\n"
     ]
    },
    {
     "name": "stdout",
     "output_type": "stream",
     "text": [
      "276/1000\r"
     ]
    },
    {
     "name": "stderr",
     "output_type": "stream",
     "text": [
      "/tmp/ipykernel_3079/2671635211.py:11: RuntimeWarning: invalid value encountered in double_scalars\n",
      "  return s1 / s2\n"
     ]
    },
    {
     "name": "stdout",
     "output_type": "stream",
     "text": [
      "277/1000\r"
     ]
    },
    {
     "name": "stderr",
     "output_type": "stream",
     "text": [
      "/tmp/ipykernel_3079/2671635211.py:11: RuntimeWarning: invalid value encountered in double_scalars\n",
      "  return s1 / s2\n"
     ]
    },
    {
     "name": "stdout",
     "output_type": "stream",
     "text": [
      "278/1000\r"
     ]
    },
    {
     "name": "stderr",
     "output_type": "stream",
     "text": [
      "/tmp/ipykernel_3079/2671635211.py:11: RuntimeWarning: invalid value encountered in double_scalars\n",
      "  return s1 / s2\n"
     ]
    },
    {
     "name": "stdout",
     "output_type": "stream",
     "text": [
      "279/1000\r"
     ]
    },
    {
     "name": "stderr",
     "output_type": "stream",
     "text": [
      "/tmp/ipykernel_3079/2671635211.py:11: RuntimeWarning: invalid value encountered in double_scalars\n",
      "  return s1 / s2\n"
     ]
    },
    {
     "name": "stdout",
     "output_type": "stream",
     "text": [
      "280/1000\r"
     ]
    },
    {
     "name": "stderr",
     "output_type": "stream",
     "text": [
      "/tmp/ipykernel_3079/2671635211.py:11: RuntimeWarning: invalid value encountered in double_scalars\n",
      "  return s1 / s2\n"
     ]
    },
    {
     "name": "stdout",
     "output_type": "stream",
     "text": [
      "281/1000\r"
     ]
    },
    {
     "name": "stderr",
     "output_type": "stream",
     "text": [
      "/tmp/ipykernel_3079/2671635211.py:11: RuntimeWarning: invalid value encountered in double_scalars\n",
      "  return s1 / s2\n"
     ]
    },
    {
     "name": "stdout",
     "output_type": "stream",
     "text": [
      "282/1000\r"
     ]
    },
    {
     "name": "stderr",
     "output_type": "stream",
     "text": [
      "/tmp/ipykernel_3079/2671635211.py:11: RuntimeWarning: invalid value encountered in double_scalars\n",
      "  return s1 / s2\n"
     ]
    },
    {
     "name": "stdout",
     "output_type": "stream",
     "text": [
      "283/1000\r"
     ]
    },
    {
     "name": "stderr",
     "output_type": "stream",
     "text": [
      "/tmp/ipykernel_3079/2671635211.py:11: RuntimeWarning: invalid value encountered in double_scalars\n",
      "  return s1 / s2\n"
     ]
    },
    {
     "name": "stdout",
     "output_type": "stream",
     "text": [
      "284/1000\r"
     ]
    },
    {
     "name": "stderr",
     "output_type": "stream",
     "text": [
      "/tmp/ipykernel_3079/2671635211.py:11: RuntimeWarning: invalid value encountered in double_scalars\n",
      "  return s1 / s2\n"
     ]
    },
    {
     "name": "stdout",
     "output_type": "stream",
     "text": [
      "285/1000\r"
     ]
    },
    {
     "name": "stderr",
     "output_type": "stream",
     "text": [
      "/tmp/ipykernel_3079/2671635211.py:11: RuntimeWarning: invalid value encountered in double_scalars\n",
      "  return s1 / s2\n"
     ]
    },
    {
     "name": "stdout",
     "output_type": "stream",
     "text": [
      "286/1000\r"
     ]
    },
    {
     "name": "stderr",
     "output_type": "stream",
     "text": [
      "/tmp/ipykernel_3079/2671635211.py:11: RuntimeWarning: invalid value encountered in double_scalars\n",
      "  return s1 / s2\n"
     ]
    },
    {
     "name": "stdout",
     "output_type": "stream",
     "text": [
      "287/1000\r"
     ]
    },
    {
     "name": "stderr",
     "output_type": "stream",
     "text": [
      "/tmp/ipykernel_3079/2671635211.py:11: RuntimeWarning: invalid value encountered in double_scalars\n",
      "  return s1 / s2\n"
     ]
    },
    {
     "name": "stdout",
     "output_type": "stream",
     "text": [
      "288/1000\r"
     ]
    },
    {
     "name": "stderr",
     "output_type": "stream",
     "text": [
      "/tmp/ipykernel_3079/2671635211.py:11: RuntimeWarning: invalid value encountered in double_scalars\n",
      "  return s1 / s2\n"
     ]
    },
    {
     "name": "stdout",
     "output_type": "stream",
     "text": [
      "289/1000\r"
     ]
    },
    {
     "name": "stderr",
     "output_type": "stream",
     "text": [
      "/tmp/ipykernel_3079/2671635211.py:11: RuntimeWarning: invalid value encountered in double_scalars\n",
      "  return s1 / s2\n"
     ]
    },
    {
     "name": "stdout",
     "output_type": "stream",
     "text": [
      "290/1000\r"
     ]
    },
    {
     "name": "stderr",
     "output_type": "stream",
     "text": [
      "/tmp/ipykernel_3079/2671635211.py:11: RuntimeWarning: invalid value encountered in double_scalars\n",
      "  return s1 / s2\n"
     ]
    },
    {
     "name": "stdout",
     "output_type": "stream",
     "text": [
      "291/1000\r"
     ]
    },
    {
     "name": "stderr",
     "output_type": "stream",
     "text": [
      "/tmp/ipykernel_3079/2671635211.py:11: RuntimeWarning: invalid value encountered in double_scalars\n",
      "  return s1 / s2\n"
     ]
    },
    {
     "name": "stdout",
     "output_type": "stream",
     "text": [
      "292/1000\r"
     ]
    },
    {
     "name": "stderr",
     "output_type": "stream",
     "text": [
      "/tmp/ipykernel_3079/2671635211.py:11: RuntimeWarning: invalid value encountered in double_scalars\n",
      "  return s1 / s2\n"
     ]
    },
    {
     "name": "stdout",
     "output_type": "stream",
     "text": [
      "293/1000\r"
     ]
    },
    {
     "name": "stderr",
     "output_type": "stream",
     "text": [
      "/tmp/ipykernel_3079/2671635211.py:11: RuntimeWarning: invalid value encountered in double_scalars\n",
      "  return s1 / s2\n"
     ]
    },
    {
     "name": "stdout",
     "output_type": "stream",
     "text": [
      "294/1000\r"
     ]
    },
    {
     "name": "stderr",
     "output_type": "stream",
     "text": [
      "/tmp/ipykernel_3079/2671635211.py:11: RuntimeWarning: invalid value encountered in double_scalars\n",
      "  return s1 / s2\n"
     ]
    },
    {
     "name": "stdout",
     "output_type": "stream",
     "text": [
      "295/1000\r"
     ]
    },
    {
     "name": "stderr",
     "output_type": "stream",
     "text": [
      "/tmp/ipykernel_3079/2671635211.py:11: RuntimeWarning: invalid value encountered in double_scalars\n",
      "  return s1 / s2\n"
     ]
    },
    {
     "name": "stdout",
     "output_type": "stream",
     "text": [
      "296/1000\r"
     ]
    },
    {
     "name": "stderr",
     "output_type": "stream",
     "text": [
      "/tmp/ipykernel_3079/2671635211.py:11: RuntimeWarning: invalid value encountered in double_scalars\n",
      "  return s1 / s2\n"
     ]
    },
    {
     "name": "stdout",
     "output_type": "stream",
     "text": [
      "297/1000\r"
     ]
    },
    {
     "name": "stderr",
     "output_type": "stream",
     "text": [
      "/tmp/ipykernel_3079/2671635211.py:11: RuntimeWarning: invalid value encountered in double_scalars\n",
      "  return s1 / s2\n"
     ]
    },
    {
     "name": "stdout",
     "output_type": "stream",
     "text": [
      "298/1000\r"
     ]
    },
    {
     "name": "stderr",
     "output_type": "stream",
     "text": [
      "/tmp/ipykernel_3079/2671635211.py:11: RuntimeWarning: invalid value encountered in double_scalars\n",
      "  return s1 / s2\n"
     ]
    },
    {
     "name": "stdout",
     "output_type": "stream",
     "text": [
      "299/1000\r"
     ]
    },
    {
     "name": "stderr",
     "output_type": "stream",
     "text": [
      "/tmp/ipykernel_3079/2671635211.py:11: RuntimeWarning: invalid value encountered in double_scalars\n",
      "  return s1 / s2\n"
     ]
    },
    {
     "name": "stdout",
     "output_type": "stream",
     "text": [
      "300/1000\r"
     ]
    },
    {
     "name": "stderr",
     "output_type": "stream",
     "text": [
      "/tmp/ipykernel_3079/2671635211.py:11: RuntimeWarning: invalid value encountered in double_scalars\n",
      "  return s1 / s2\n"
     ]
    },
    {
     "name": "stdout",
     "output_type": "stream",
     "text": [
      "301/1000\r"
     ]
    },
    {
     "name": "stderr",
     "output_type": "stream",
     "text": [
      "/tmp/ipykernel_3079/2671635211.py:11: RuntimeWarning: invalid value encountered in double_scalars\n",
      "  return s1 / s2\n"
     ]
    },
    {
     "name": "stdout",
     "output_type": "stream",
     "text": [
      "302/1000\r"
     ]
    },
    {
     "name": "stderr",
     "output_type": "stream",
     "text": [
      "/tmp/ipykernel_3079/2671635211.py:11: RuntimeWarning: invalid value encountered in double_scalars\n",
      "  return s1 / s2\n"
     ]
    },
    {
     "name": "stdout",
     "output_type": "stream",
     "text": [
      "303/1000\r"
     ]
    },
    {
     "name": "stderr",
     "output_type": "stream",
     "text": [
      "/tmp/ipykernel_3079/2671635211.py:11: RuntimeWarning: invalid value encountered in double_scalars\n",
      "  return s1 / s2\n"
     ]
    },
    {
     "name": "stdout",
     "output_type": "stream",
     "text": [
      "304/1000\r"
     ]
    },
    {
     "name": "stderr",
     "output_type": "stream",
     "text": [
      "/tmp/ipykernel_3079/2671635211.py:11: RuntimeWarning: invalid value encountered in double_scalars\n",
      "  return s1 / s2\n"
     ]
    },
    {
     "name": "stdout",
     "output_type": "stream",
     "text": [
      "305/1000\r"
     ]
    },
    {
     "name": "stderr",
     "output_type": "stream",
     "text": [
      "/tmp/ipykernel_3079/2671635211.py:11: RuntimeWarning: invalid value encountered in double_scalars\n",
      "  return s1 / s2\n"
     ]
    },
    {
     "name": "stdout",
     "output_type": "stream",
     "text": [
      "306/1000\r"
     ]
    },
    {
     "name": "stderr",
     "output_type": "stream",
     "text": [
      "/tmp/ipykernel_3079/2671635211.py:11: RuntimeWarning: invalid value encountered in double_scalars\n",
      "  return s1 / s2\n"
     ]
    },
    {
     "name": "stdout",
     "output_type": "stream",
     "text": [
      "307/1000\r"
     ]
    },
    {
     "name": "stderr",
     "output_type": "stream",
     "text": [
      "/tmp/ipykernel_3079/2671635211.py:11: RuntimeWarning: invalid value encountered in double_scalars\n",
      "  return s1 / s2\n"
     ]
    },
    {
     "name": "stdout",
     "output_type": "stream",
     "text": [
      "308/1000\r"
     ]
    },
    {
     "name": "stderr",
     "output_type": "stream",
     "text": [
      "/tmp/ipykernel_3079/2671635211.py:11: RuntimeWarning: invalid value encountered in double_scalars\n",
      "  return s1 / s2\n"
     ]
    },
    {
     "name": "stdout",
     "output_type": "stream",
     "text": [
      "309/1000\r"
     ]
    },
    {
     "name": "stderr",
     "output_type": "stream",
     "text": [
      "/tmp/ipykernel_3079/2671635211.py:11: RuntimeWarning: invalid value encountered in double_scalars\n",
      "  return s1 / s2\n"
     ]
    },
    {
     "name": "stdout",
     "output_type": "stream",
     "text": [
      "310/1000\r"
     ]
    },
    {
     "name": "stderr",
     "output_type": "stream",
     "text": [
      "/tmp/ipykernel_3079/2671635211.py:11: RuntimeWarning: invalid value encountered in double_scalars\n",
      "  return s1 / s2\n"
     ]
    },
    {
     "name": "stdout",
     "output_type": "stream",
     "text": [
      "311/1000\r"
     ]
    },
    {
     "name": "stderr",
     "output_type": "stream",
     "text": [
      "/tmp/ipykernel_3079/2671635211.py:11: RuntimeWarning: invalid value encountered in double_scalars\n",
      "  return s1 / s2\n"
     ]
    },
    {
     "name": "stdout",
     "output_type": "stream",
     "text": [
      "312/1000\r"
     ]
    },
    {
     "name": "stderr",
     "output_type": "stream",
     "text": [
      "/tmp/ipykernel_3079/2671635211.py:11: RuntimeWarning: invalid value encountered in double_scalars\n",
      "  return s1 / s2\n"
     ]
    },
    {
     "name": "stdout",
     "output_type": "stream",
     "text": [
      "313/1000\r"
     ]
    },
    {
     "name": "stderr",
     "output_type": "stream",
     "text": [
      "/tmp/ipykernel_3079/2671635211.py:11: RuntimeWarning: invalid value encountered in double_scalars\n",
      "  return s1 / s2\n"
     ]
    },
    {
     "name": "stdout",
     "output_type": "stream",
     "text": [
      "314/1000\r"
     ]
    },
    {
     "name": "stderr",
     "output_type": "stream",
     "text": [
      "/tmp/ipykernel_3079/2671635211.py:11: RuntimeWarning: invalid value encountered in double_scalars\n",
      "  return s1 / s2\n"
     ]
    },
    {
     "name": "stdout",
     "output_type": "stream",
     "text": [
      "315/1000\r"
     ]
    },
    {
     "name": "stderr",
     "output_type": "stream",
     "text": [
      "/tmp/ipykernel_3079/2671635211.py:11: RuntimeWarning: invalid value encountered in double_scalars\n",
      "  return s1 / s2\n"
     ]
    },
    {
     "name": "stdout",
     "output_type": "stream",
     "text": [
      "316/1000\r"
     ]
    },
    {
     "name": "stderr",
     "output_type": "stream",
     "text": [
      "/tmp/ipykernel_3079/2671635211.py:11: RuntimeWarning: invalid value encountered in double_scalars\n",
      "  return s1 / s2\n"
     ]
    },
    {
     "name": "stdout",
     "output_type": "stream",
     "text": [
      "317/1000\r"
     ]
    },
    {
     "name": "stderr",
     "output_type": "stream",
     "text": [
      "/tmp/ipykernel_3079/2671635211.py:11: RuntimeWarning: invalid value encountered in double_scalars\n",
      "  return s1 / s2\n"
     ]
    },
    {
     "name": "stdout",
     "output_type": "stream",
     "text": [
      "318/1000\r"
     ]
    },
    {
     "name": "stderr",
     "output_type": "stream",
     "text": [
      "/tmp/ipykernel_3079/2671635211.py:11: RuntimeWarning: invalid value encountered in double_scalars\n",
      "  return s1 / s2\n"
     ]
    },
    {
     "name": "stdout",
     "output_type": "stream",
     "text": [
      "319/1000\r"
     ]
    },
    {
     "name": "stderr",
     "output_type": "stream",
     "text": [
      "/tmp/ipykernel_3079/2671635211.py:11: RuntimeWarning: invalid value encountered in double_scalars\n",
      "  return s1 / s2\n"
     ]
    },
    {
     "name": "stdout",
     "output_type": "stream",
     "text": [
      "320/1000\r"
     ]
    },
    {
     "name": "stderr",
     "output_type": "stream",
     "text": [
      "/tmp/ipykernel_3079/2671635211.py:11: RuntimeWarning: invalid value encountered in double_scalars\n",
      "  return s1 / s2\n"
     ]
    },
    {
     "name": "stdout",
     "output_type": "stream",
     "text": [
      "321/1000\r"
     ]
    },
    {
     "name": "stderr",
     "output_type": "stream",
     "text": [
      "/tmp/ipykernel_3079/2671635211.py:11: RuntimeWarning: invalid value encountered in double_scalars\n",
      "  return s1 / s2\n"
     ]
    },
    {
     "name": "stdout",
     "output_type": "stream",
     "text": [
      "322/1000\r"
     ]
    },
    {
     "name": "stderr",
     "output_type": "stream",
     "text": [
      "/tmp/ipykernel_3079/2671635211.py:11: RuntimeWarning: invalid value encountered in double_scalars\n",
      "  return s1 / s2\n"
     ]
    },
    {
     "name": "stdout",
     "output_type": "stream",
     "text": [
      "323/1000\r"
     ]
    },
    {
     "name": "stderr",
     "output_type": "stream",
     "text": [
      "/tmp/ipykernel_3079/2671635211.py:11: RuntimeWarning: invalid value encountered in double_scalars\n",
      "  return s1 / s2\n"
     ]
    },
    {
     "name": "stdout",
     "output_type": "stream",
     "text": [
      "324/1000\r"
     ]
    },
    {
     "name": "stderr",
     "output_type": "stream",
     "text": [
      "/tmp/ipykernel_3079/2671635211.py:11: RuntimeWarning: invalid value encountered in double_scalars\n",
      "  return s1 / s2\n"
     ]
    },
    {
     "name": "stdout",
     "output_type": "stream",
     "text": [
      "325/1000\r"
     ]
    },
    {
     "name": "stderr",
     "output_type": "stream",
     "text": [
      "/tmp/ipykernel_3079/2671635211.py:11: RuntimeWarning: invalid value encountered in double_scalars\n",
      "  return s1 / s2\n"
     ]
    },
    {
     "name": "stdout",
     "output_type": "stream",
     "text": [
      "326/1000\r"
     ]
    },
    {
     "name": "stderr",
     "output_type": "stream",
     "text": [
      "/tmp/ipykernel_3079/2671635211.py:11: RuntimeWarning: invalid value encountered in double_scalars\n",
      "  return s1 / s2\n"
     ]
    },
    {
     "name": "stdout",
     "output_type": "stream",
     "text": [
      "327/1000\r"
     ]
    },
    {
     "name": "stderr",
     "output_type": "stream",
     "text": [
      "/tmp/ipykernel_3079/2671635211.py:11: RuntimeWarning: invalid value encountered in double_scalars\n",
      "  return s1 / s2\n"
     ]
    },
    {
     "name": "stdout",
     "output_type": "stream",
     "text": [
      "328/1000\r"
     ]
    },
    {
     "name": "stderr",
     "output_type": "stream",
     "text": [
      "/tmp/ipykernel_3079/2671635211.py:11: RuntimeWarning: invalid value encountered in double_scalars\n",
      "  return s1 / s2\n"
     ]
    },
    {
     "name": "stdout",
     "output_type": "stream",
     "text": [
      "329/1000\r"
     ]
    },
    {
     "name": "stderr",
     "output_type": "stream",
     "text": [
      "/tmp/ipykernel_3079/2671635211.py:11: RuntimeWarning: invalid value encountered in double_scalars\n",
      "  return s1 / s2\n"
     ]
    },
    {
     "name": "stdout",
     "output_type": "stream",
     "text": [
      "330/1000\r"
     ]
    },
    {
     "name": "stderr",
     "output_type": "stream",
     "text": [
      "/tmp/ipykernel_3079/2671635211.py:11: RuntimeWarning: invalid value encountered in double_scalars\n",
      "  return s1 / s2\n"
     ]
    },
    {
     "name": "stdout",
     "output_type": "stream",
     "text": [
      "331/1000\r"
     ]
    },
    {
     "name": "stderr",
     "output_type": "stream",
     "text": [
      "/tmp/ipykernel_3079/2671635211.py:11: RuntimeWarning: invalid value encountered in double_scalars\n",
      "  return s1 / s2\n"
     ]
    },
    {
     "name": "stdout",
     "output_type": "stream",
     "text": [
      "332/1000\r"
     ]
    },
    {
     "name": "stderr",
     "output_type": "stream",
     "text": [
      "/tmp/ipykernel_3079/2671635211.py:11: RuntimeWarning: invalid value encountered in double_scalars\n",
      "  return s1 / s2\n"
     ]
    },
    {
     "name": "stdout",
     "output_type": "stream",
     "text": [
      "333/1000\r"
     ]
    },
    {
     "name": "stderr",
     "output_type": "stream",
     "text": [
      "/tmp/ipykernel_3079/2671635211.py:11: RuntimeWarning: invalid value encountered in double_scalars\n",
      "  return s1 / s2\n"
     ]
    },
    {
     "name": "stdout",
     "output_type": "stream",
     "text": [
      "334/1000\r"
     ]
    },
    {
     "name": "stderr",
     "output_type": "stream",
     "text": [
      "/tmp/ipykernel_3079/2671635211.py:11: RuntimeWarning: invalid value encountered in double_scalars\n",
      "  return s1 / s2\n"
     ]
    },
    {
     "name": "stdout",
     "output_type": "stream",
     "text": [
      "335/1000\r"
     ]
    },
    {
     "name": "stderr",
     "output_type": "stream",
     "text": [
      "/tmp/ipykernel_3079/2671635211.py:11: RuntimeWarning: invalid value encountered in double_scalars\n",
      "  return s1 / s2\n"
     ]
    },
    {
     "name": "stdout",
     "output_type": "stream",
     "text": [
      "336/1000\r"
     ]
    },
    {
     "name": "stderr",
     "output_type": "stream",
     "text": [
      "/tmp/ipykernel_3079/2671635211.py:11: RuntimeWarning: invalid value encountered in double_scalars\n",
      "  return s1 / s2\n"
     ]
    },
    {
     "name": "stdout",
     "output_type": "stream",
     "text": [
      "337/1000\r"
     ]
    },
    {
     "name": "stderr",
     "output_type": "stream",
     "text": [
      "/tmp/ipykernel_3079/2671635211.py:11: RuntimeWarning: invalid value encountered in double_scalars\n",
      "  return s1 / s2\n"
     ]
    },
    {
     "name": "stdout",
     "output_type": "stream",
     "text": [
      "338/1000\r"
     ]
    },
    {
     "name": "stderr",
     "output_type": "stream",
     "text": [
      "/tmp/ipykernel_3079/2671635211.py:11: RuntimeWarning: invalid value encountered in double_scalars\n",
      "  return s1 / s2\n"
     ]
    },
    {
     "name": "stdout",
     "output_type": "stream",
     "text": [
      "339/1000\r"
     ]
    },
    {
     "name": "stderr",
     "output_type": "stream",
     "text": [
      "/tmp/ipykernel_3079/2671635211.py:11: RuntimeWarning: invalid value encountered in double_scalars\n",
      "  return s1 / s2\n"
     ]
    },
    {
     "name": "stdout",
     "output_type": "stream",
     "text": [
      "340/1000\r"
     ]
    },
    {
     "name": "stderr",
     "output_type": "stream",
     "text": [
      "/tmp/ipykernel_3079/2671635211.py:11: RuntimeWarning: invalid value encountered in double_scalars\n",
      "  return s1 / s2\n"
     ]
    },
    {
     "name": "stdout",
     "output_type": "stream",
     "text": [
      "341/1000\r"
     ]
    },
    {
     "name": "stderr",
     "output_type": "stream",
     "text": [
      "/tmp/ipykernel_3079/2671635211.py:11: RuntimeWarning: invalid value encountered in double_scalars\n",
      "  return s1 / s2\n"
     ]
    },
    {
     "name": "stdout",
     "output_type": "stream",
     "text": [
      "342/1000\r"
     ]
    },
    {
     "name": "stderr",
     "output_type": "stream",
     "text": [
      "/tmp/ipykernel_3079/2671635211.py:11: RuntimeWarning: invalid value encountered in double_scalars\n",
      "  return s1 / s2\n"
     ]
    },
    {
     "name": "stdout",
     "output_type": "stream",
     "text": [
      "343/1000\r"
     ]
    },
    {
     "name": "stderr",
     "output_type": "stream",
     "text": [
      "/tmp/ipykernel_3079/2671635211.py:11: RuntimeWarning: invalid value encountered in double_scalars\n",
      "  return s1 / s2\n"
     ]
    },
    {
     "name": "stdout",
     "output_type": "stream",
     "text": [
      "344/1000\r"
     ]
    },
    {
     "name": "stderr",
     "output_type": "stream",
     "text": [
      "/tmp/ipykernel_3079/2671635211.py:11: RuntimeWarning: invalid value encountered in double_scalars\n",
      "  return s1 / s2\n"
     ]
    },
    {
     "name": "stdout",
     "output_type": "stream",
     "text": [
      "345/1000\r"
     ]
    },
    {
     "name": "stderr",
     "output_type": "stream",
     "text": [
      "/tmp/ipykernel_3079/2671635211.py:11: RuntimeWarning: invalid value encountered in double_scalars\n",
      "  return s1 / s2\n"
     ]
    },
    {
     "name": "stdout",
     "output_type": "stream",
     "text": [
      "346/1000\r"
     ]
    },
    {
     "name": "stderr",
     "output_type": "stream",
     "text": [
      "/tmp/ipykernel_3079/2671635211.py:11: RuntimeWarning: invalid value encountered in double_scalars\n",
      "  return s1 / s2\n"
     ]
    },
    {
     "name": "stdout",
     "output_type": "stream",
     "text": [
      "347/1000\r"
     ]
    },
    {
     "name": "stderr",
     "output_type": "stream",
     "text": [
      "/tmp/ipykernel_3079/2671635211.py:11: RuntimeWarning: invalid value encountered in double_scalars\n",
      "  return s1 / s2\n"
     ]
    },
    {
     "name": "stdout",
     "output_type": "stream",
     "text": [
      "348/1000\r"
     ]
    },
    {
     "name": "stderr",
     "output_type": "stream",
     "text": [
      "/tmp/ipykernel_3079/2671635211.py:11: RuntimeWarning: invalid value encountered in double_scalars\n",
      "  return s1 / s2\n"
     ]
    },
    {
     "name": "stdout",
     "output_type": "stream",
     "text": [
      "349/1000\r"
     ]
    },
    {
     "name": "stderr",
     "output_type": "stream",
     "text": [
      "/tmp/ipykernel_3079/2671635211.py:11: RuntimeWarning: invalid value encountered in double_scalars\n",
      "  return s1 / s2\n"
     ]
    },
    {
     "name": "stdout",
     "output_type": "stream",
     "text": [
      "350/1000\r"
     ]
    },
    {
     "name": "stderr",
     "output_type": "stream",
     "text": [
      "/tmp/ipykernel_3079/2671635211.py:11: RuntimeWarning: invalid value encountered in double_scalars\n",
      "  return s1 / s2\n"
     ]
    },
    {
     "name": "stdout",
     "output_type": "stream",
     "text": [
      "351/1000\r"
     ]
    },
    {
     "name": "stderr",
     "output_type": "stream",
     "text": [
      "/tmp/ipykernel_3079/2671635211.py:11: RuntimeWarning: invalid value encountered in double_scalars\n",
      "  return s1 / s2\n"
     ]
    },
    {
     "name": "stdout",
     "output_type": "stream",
     "text": [
      "352/1000\r"
     ]
    },
    {
     "name": "stderr",
     "output_type": "stream",
     "text": [
      "/tmp/ipykernel_3079/2671635211.py:11: RuntimeWarning: invalid value encountered in double_scalars\n",
      "  return s1 / s2\n"
     ]
    },
    {
     "name": "stdout",
     "output_type": "stream",
     "text": [
      "353/1000\r"
     ]
    },
    {
     "name": "stderr",
     "output_type": "stream",
     "text": [
      "/tmp/ipykernel_3079/2671635211.py:11: RuntimeWarning: invalid value encountered in double_scalars\n",
      "  return s1 / s2\n"
     ]
    },
    {
     "name": "stdout",
     "output_type": "stream",
     "text": [
      "354/1000\r"
     ]
    },
    {
     "name": "stderr",
     "output_type": "stream",
     "text": [
      "/tmp/ipykernel_3079/2671635211.py:11: RuntimeWarning: invalid value encountered in double_scalars\n",
      "  return s1 / s2\n"
     ]
    },
    {
     "name": "stdout",
     "output_type": "stream",
     "text": [
      "355/1000\r"
     ]
    },
    {
     "name": "stderr",
     "output_type": "stream",
     "text": [
      "/tmp/ipykernel_3079/2671635211.py:11: RuntimeWarning: invalid value encountered in double_scalars\n",
      "  return s1 / s2\n"
     ]
    },
    {
     "name": "stdout",
     "output_type": "stream",
     "text": [
      "356/1000\r"
     ]
    },
    {
     "name": "stderr",
     "output_type": "stream",
     "text": [
      "/tmp/ipykernel_3079/2671635211.py:11: RuntimeWarning: invalid value encountered in double_scalars\n",
      "  return s1 / s2\n"
     ]
    },
    {
     "name": "stdout",
     "output_type": "stream",
     "text": [
      "357/1000\r"
     ]
    },
    {
     "name": "stderr",
     "output_type": "stream",
     "text": [
      "/tmp/ipykernel_3079/2671635211.py:11: RuntimeWarning: invalid value encountered in double_scalars\n",
      "  return s1 / s2\n"
     ]
    },
    {
     "name": "stdout",
     "output_type": "stream",
     "text": [
      "358/1000\r"
     ]
    },
    {
     "name": "stderr",
     "output_type": "stream",
     "text": [
      "/tmp/ipykernel_3079/2671635211.py:11: RuntimeWarning: invalid value encountered in double_scalars\n",
      "  return s1 / s2\n"
     ]
    },
    {
     "name": "stdout",
     "output_type": "stream",
     "text": [
      "359/1000\r"
     ]
    },
    {
     "name": "stderr",
     "output_type": "stream",
     "text": [
      "/tmp/ipykernel_3079/2671635211.py:11: RuntimeWarning: invalid value encountered in double_scalars\n",
      "  return s1 / s2\n"
     ]
    },
    {
     "name": "stdout",
     "output_type": "stream",
     "text": [
      "360/1000\r"
     ]
    },
    {
     "name": "stderr",
     "output_type": "stream",
     "text": [
      "/tmp/ipykernel_3079/2671635211.py:11: RuntimeWarning: invalid value encountered in double_scalars\n",
      "  return s1 / s2\n"
     ]
    },
    {
     "name": "stdout",
     "output_type": "stream",
     "text": [
      "361/1000\r"
     ]
    },
    {
     "name": "stderr",
     "output_type": "stream",
     "text": [
      "/tmp/ipykernel_3079/2671635211.py:11: RuntimeWarning: invalid value encountered in double_scalars\n",
      "  return s1 / s2\n"
     ]
    },
    {
     "name": "stdout",
     "output_type": "stream",
     "text": [
      "362/1000\r"
     ]
    },
    {
     "name": "stderr",
     "output_type": "stream",
     "text": [
      "/tmp/ipykernel_3079/2671635211.py:11: RuntimeWarning: invalid value encountered in double_scalars\n",
      "  return s1 / s2\n"
     ]
    },
    {
     "name": "stdout",
     "output_type": "stream",
     "text": [
      "363/1000\r"
     ]
    },
    {
     "name": "stderr",
     "output_type": "stream",
     "text": [
      "/tmp/ipykernel_3079/2671635211.py:11: RuntimeWarning: invalid value encountered in double_scalars\n",
      "  return s1 / s2\n"
     ]
    },
    {
     "name": "stdout",
     "output_type": "stream",
     "text": [
      "364/1000\r"
     ]
    },
    {
     "name": "stderr",
     "output_type": "stream",
     "text": [
      "/tmp/ipykernel_3079/2671635211.py:11: RuntimeWarning: invalid value encountered in double_scalars\n",
      "  return s1 / s2\n"
     ]
    },
    {
     "name": "stdout",
     "output_type": "stream",
     "text": [
      "365/1000\r"
     ]
    },
    {
     "name": "stderr",
     "output_type": "stream",
     "text": [
      "/tmp/ipykernel_3079/2671635211.py:11: RuntimeWarning: invalid value encountered in double_scalars\n",
      "  return s1 / s2\n"
     ]
    },
    {
     "name": "stdout",
     "output_type": "stream",
     "text": [
      "366/1000\r"
     ]
    },
    {
     "name": "stderr",
     "output_type": "stream",
     "text": [
      "/tmp/ipykernel_3079/2671635211.py:11: RuntimeWarning: invalid value encountered in double_scalars\n",
      "  return s1 / s2\n"
     ]
    },
    {
     "name": "stdout",
     "output_type": "stream",
     "text": [
      "367/1000\r"
     ]
    },
    {
     "name": "stderr",
     "output_type": "stream",
     "text": [
      "/tmp/ipykernel_3079/2671635211.py:11: RuntimeWarning: invalid value encountered in double_scalars\n",
      "  return s1 / s2\n"
     ]
    },
    {
     "name": "stdout",
     "output_type": "stream",
     "text": [
      "368/1000\r"
     ]
    },
    {
     "name": "stderr",
     "output_type": "stream",
     "text": [
      "/tmp/ipykernel_3079/2671635211.py:11: RuntimeWarning: invalid value encountered in double_scalars\n",
      "  return s1 / s2\n"
     ]
    },
    {
     "name": "stdout",
     "output_type": "stream",
     "text": [
      "369/1000\r"
     ]
    },
    {
     "name": "stderr",
     "output_type": "stream",
     "text": [
      "/tmp/ipykernel_3079/2671635211.py:11: RuntimeWarning: invalid value encountered in double_scalars\n",
      "  return s1 / s2\n"
     ]
    },
    {
     "name": "stdout",
     "output_type": "stream",
     "text": [
      "370/1000\r"
     ]
    },
    {
     "name": "stderr",
     "output_type": "stream",
     "text": [
      "/tmp/ipykernel_3079/2671635211.py:11: RuntimeWarning: invalid value encountered in double_scalars\n",
      "  return s1 / s2\n"
     ]
    },
    {
     "name": "stdout",
     "output_type": "stream",
     "text": [
      "371/1000\r"
     ]
    },
    {
     "name": "stderr",
     "output_type": "stream",
     "text": [
      "/tmp/ipykernel_3079/2671635211.py:11: RuntimeWarning: invalid value encountered in double_scalars\n",
      "  return s1 / s2\n"
     ]
    },
    {
     "name": "stdout",
     "output_type": "stream",
     "text": [
      "372/1000\r"
     ]
    },
    {
     "name": "stderr",
     "output_type": "stream",
     "text": [
      "/tmp/ipykernel_3079/2671635211.py:11: RuntimeWarning: invalid value encountered in double_scalars\n",
      "  return s1 / s2\n"
     ]
    },
    {
     "name": "stdout",
     "output_type": "stream",
     "text": [
      "373/1000\r"
     ]
    },
    {
     "name": "stderr",
     "output_type": "stream",
     "text": [
      "/tmp/ipykernel_3079/2671635211.py:11: RuntimeWarning: invalid value encountered in double_scalars\n",
      "  return s1 / s2\n"
     ]
    },
    {
     "name": "stdout",
     "output_type": "stream",
     "text": [
      "374/1000\r"
     ]
    },
    {
     "name": "stderr",
     "output_type": "stream",
     "text": [
      "/tmp/ipykernel_3079/2671635211.py:11: RuntimeWarning: invalid value encountered in double_scalars\n",
      "  return s1 / s2\n"
     ]
    },
    {
     "name": "stdout",
     "output_type": "stream",
     "text": [
      "375/1000\r"
     ]
    },
    {
     "name": "stderr",
     "output_type": "stream",
     "text": [
      "/tmp/ipykernel_3079/2671635211.py:11: RuntimeWarning: invalid value encountered in double_scalars\n",
      "  return s1 / s2\n"
     ]
    },
    {
     "name": "stdout",
     "output_type": "stream",
     "text": [
      "376/1000\r"
     ]
    },
    {
     "name": "stderr",
     "output_type": "stream",
     "text": [
      "/tmp/ipykernel_3079/2671635211.py:11: RuntimeWarning: invalid value encountered in double_scalars\n",
      "  return s1 / s2\n"
     ]
    },
    {
     "name": "stdout",
     "output_type": "stream",
     "text": [
      "377/1000\r"
     ]
    },
    {
     "name": "stderr",
     "output_type": "stream",
     "text": [
      "/tmp/ipykernel_3079/2671635211.py:11: RuntimeWarning: invalid value encountered in double_scalars\n",
      "  return s1 / s2\n"
     ]
    },
    {
     "name": "stdout",
     "output_type": "stream",
     "text": [
      "378/1000\r"
     ]
    },
    {
     "name": "stderr",
     "output_type": "stream",
     "text": [
      "/tmp/ipykernel_3079/2671635211.py:11: RuntimeWarning: invalid value encountered in double_scalars\n",
      "  return s1 / s2\n"
     ]
    },
    {
     "name": "stdout",
     "output_type": "stream",
     "text": [
      "379/1000\r"
     ]
    },
    {
     "name": "stderr",
     "output_type": "stream",
     "text": [
      "/tmp/ipykernel_3079/2671635211.py:11: RuntimeWarning: invalid value encountered in double_scalars\n",
      "  return s1 / s2\n"
     ]
    },
    {
     "name": "stdout",
     "output_type": "stream",
     "text": [
      "380/1000\r"
     ]
    },
    {
     "name": "stderr",
     "output_type": "stream",
     "text": [
      "/tmp/ipykernel_3079/2671635211.py:11: RuntimeWarning: invalid value encountered in double_scalars\n",
      "  return s1 / s2\n"
     ]
    },
    {
     "name": "stdout",
     "output_type": "stream",
     "text": [
      "381/1000\r"
     ]
    },
    {
     "name": "stderr",
     "output_type": "stream",
     "text": [
      "/tmp/ipykernel_3079/2671635211.py:11: RuntimeWarning: invalid value encountered in double_scalars\n",
      "  return s1 / s2\n"
     ]
    },
    {
     "name": "stdout",
     "output_type": "stream",
     "text": [
      "382/1000\r"
     ]
    },
    {
     "name": "stderr",
     "output_type": "stream",
     "text": [
      "/tmp/ipykernel_3079/2671635211.py:11: RuntimeWarning: invalid value encountered in double_scalars\n",
      "  return s1 / s2\n"
     ]
    },
    {
     "name": "stdout",
     "output_type": "stream",
     "text": [
      "383/1000\r"
     ]
    },
    {
     "name": "stderr",
     "output_type": "stream",
     "text": [
      "/tmp/ipykernel_3079/2671635211.py:11: RuntimeWarning: invalid value encountered in double_scalars\n",
      "  return s1 / s2\n"
     ]
    },
    {
     "name": "stdout",
     "output_type": "stream",
     "text": [
      "384/1000\r"
     ]
    },
    {
     "name": "stderr",
     "output_type": "stream",
     "text": [
      "/tmp/ipykernel_3079/2671635211.py:11: RuntimeWarning: invalid value encountered in double_scalars\n",
      "  return s1 / s2\n"
     ]
    },
    {
     "name": "stdout",
     "output_type": "stream",
     "text": [
      "385/1000\r"
     ]
    },
    {
     "name": "stderr",
     "output_type": "stream",
     "text": [
      "/tmp/ipykernel_3079/2671635211.py:11: RuntimeWarning: invalid value encountered in double_scalars\n",
      "  return s1 / s2\n"
     ]
    },
    {
     "name": "stdout",
     "output_type": "stream",
     "text": [
      "386/1000\r"
     ]
    },
    {
     "name": "stderr",
     "output_type": "stream",
     "text": [
      "/tmp/ipykernel_3079/2671635211.py:11: RuntimeWarning: invalid value encountered in double_scalars\n",
      "  return s1 / s2\n"
     ]
    },
    {
     "name": "stdout",
     "output_type": "stream",
     "text": [
      "387/1000\r"
     ]
    },
    {
     "name": "stderr",
     "output_type": "stream",
     "text": [
      "/tmp/ipykernel_3079/2671635211.py:11: RuntimeWarning: invalid value encountered in double_scalars\n",
      "  return s1 / s2\n"
     ]
    },
    {
     "name": "stdout",
     "output_type": "stream",
     "text": [
      "388/1000\r"
     ]
    },
    {
     "name": "stderr",
     "output_type": "stream",
     "text": [
      "/tmp/ipykernel_3079/2671635211.py:11: RuntimeWarning: invalid value encountered in double_scalars\n",
      "  return s1 / s2\n"
     ]
    },
    {
     "name": "stdout",
     "output_type": "stream",
     "text": [
      "389/1000\r"
     ]
    },
    {
     "name": "stderr",
     "output_type": "stream",
     "text": [
      "/tmp/ipykernel_3079/2671635211.py:11: RuntimeWarning: invalid value encountered in double_scalars\n",
      "  return s1 / s2\n"
     ]
    },
    {
     "name": "stdout",
     "output_type": "stream",
     "text": [
      "390/1000\r"
     ]
    },
    {
     "name": "stderr",
     "output_type": "stream",
     "text": [
      "/tmp/ipykernel_3079/2671635211.py:11: RuntimeWarning: invalid value encountered in double_scalars\n",
      "  return s1 / s2\n"
     ]
    },
    {
     "name": "stdout",
     "output_type": "stream",
     "text": [
      "391/1000\r"
     ]
    },
    {
     "name": "stderr",
     "output_type": "stream",
     "text": [
      "/tmp/ipykernel_3079/2671635211.py:11: RuntimeWarning: invalid value encountered in double_scalars\n",
      "  return s1 / s2\n"
     ]
    },
    {
     "name": "stdout",
     "output_type": "stream",
     "text": [
      "392/1000\r"
     ]
    },
    {
     "name": "stderr",
     "output_type": "stream",
     "text": [
      "/tmp/ipykernel_3079/2671635211.py:11: RuntimeWarning: invalid value encountered in double_scalars\n",
      "  return s1 / s2\n"
     ]
    },
    {
     "name": "stdout",
     "output_type": "stream",
     "text": [
      "393/1000\r"
     ]
    },
    {
     "name": "stderr",
     "output_type": "stream",
     "text": [
      "/tmp/ipykernel_3079/2671635211.py:11: RuntimeWarning: invalid value encountered in double_scalars\n",
      "  return s1 / s2\n"
     ]
    },
    {
     "name": "stdout",
     "output_type": "stream",
     "text": [
      "394/1000\r"
     ]
    },
    {
     "name": "stderr",
     "output_type": "stream",
     "text": [
      "/tmp/ipykernel_3079/2671635211.py:11: RuntimeWarning: invalid value encountered in double_scalars\n",
      "  return s1 / s2\n"
     ]
    },
    {
     "name": "stdout",
     "output_type": "stream",
     "text": [
      "395/1000\r"
     ]
    },
    {
     "name": "stderr",
     "output_type": "stream",
     "text": [
      "/tmp/ipykernel_3079/2671635211.py:11: RuntimeWarning: invalid value encountered in double_scalars\n",
      "  return s1 / s2\n"
     ]
    },
    {
     "name": "stdout",
     "output_type": "stream",
     "text": [
      "396/1000\r"
     ]
    },
    {
     "name": "stderr",
     "output_type": "stream",
     "text": [
      "/tmp/ipykernel_3079/2671635211.py:11: RuntimeWarning: invalid value encountered in double_scalars\n",
      "  return s1 / s2\n"
     ]
    },
    {
     "name": "stdout",
     "output_type": "stream",
     "text": [
      "397/1000\r"
     ]
    },
    {
     "name": "stderr",
     "output_type": "stream",
     "text": [
      "/tmp/ipykernel_3079/2671635211.py:11: RuntimeWarning: invalid value encountered in double_scalars\n",
      "  return s1 / s2\n"
     ]
    },
    {
     "name": "stdout",
     "output_type": "stream",
     "text": [
      "398/1000\r"
     ]
    },
    {
     "name": "stderr",
     "output_type": "stream",
     "text": [
      "/tmp/ipykernel_3079/2671635211.py:11: RuntimeWarning: invalid value encountered in double_scalars\n",
      "  return s1 / s2\n"
     ]
    },
    {
     "name": "stdout",
     "output_type": "stream",
     "text": [
      "399/1000\r"
     ]
    },
    {
     "name": "stderr",
     "output_type": "stream",
     "text": [
      "/tmp/ipykernel_3079/2671635211.py:11: RuntimeWarning: invalid value encountered in double_scalars\n",
      "  return s1 / s2\n"
     ]
    },
    {
     "name": "stdout",
     "output_type": "stream",
     "text": [
      "400/1000\r"
     ]
    },
    {
     "name": "stderr",
     "output_type": "stream",
     "text": [
      "/tmp/ipykernel_3079/2671635211.py:11: RuntimeWarning: invalid value encountered in double_scalars\n",
      "  return s1 / s2\n"
     ]
    },
    {
     "name": "stdout",
     "output_type": "stream",
     "text": [
      "401/1000\r"
     ]
    },
    {
     "name": "stderr",
     "output_type": "stream",
     "text": [
      "/tmp/ipykernel_3079/2671635211.py:11: RuntimeWarning: invalid value encountered in double_scalars\n",
      "  return s1 / s2\n"
     ]
    },
    {
     "name": "stdout",
     "output_type": "stream",
     "text": [
      "402/1000\r"
     ]
    },
    {
     "name": "stderr",
     "output_type": "stream",
     "text": [
      "/tmp/ipykernel_3079/2671635211.py:11: RuntimeWarning: invalid value encountered in double_scalars\n",
      "  return s1 / s2\n"
     ]
    },
    {
     "name": "stdout",
     "output_type": "stream",
     "text": [
      "403/1000\r"
     ]
    },
    {
     "name": "stderr",
     "output_type": "stream",
     "text": [
      "/tmp/ipykernel_3079/2671635211.py:11: RuntimeWarning: invalid value encountered in double_scalars\n",
      "  return s1 / s2\n"
     ]
    },
    {
     "name": "stdout",
     "output_type": "stream",
     "text": [
      "404/1000\r"
     ]
    },
    {
     "name": "stderr",
     "output_type": "stream",
     "text": [
      "/tmp/ipykernel_3079/2671635211.py:11: RuntimeWarning: invalid value encountered in double_scalars\n",
      "  return s1 / s2\n"
     ]
    },
    {
     "name": "stdout",
     "output_type": "stream",
     "text": [
      "405/1000\r"
     ]
    },
    {
     "name": "stderr",
     "output_type": "stream",
     "text": [
      "/tmp/ipykernel_3079/2671635211.py:11: RuntimeWarning: invalid value encountered in double_scalars\n",
      "  return s1 / s2\n"
     ]
    },
    {
     "name": "stdout",
     "output_type": "stream",
     "text": [
      "406/1000\r"
     ]
    },
    {
     "name": "stderr",
     "output_type": "stream",
     "text": [
      "/tmp/ipykernel_3079/2671635211.py:11: RuntimeWarning: invalid value encountered in double_scalars\n",
      "  return s1 / s2\n"
     ]
    },
    {
     "name": "stdout",
     "output_type": "stream",
     "text": [
      "407/1000\r"
     ]
    },
    {
     "name": "stderr",
     "output_type": "stream",
     "text": [
      "/tmp/ipykernel_3079/2671635211.py:11: RuntimeWarning: invalid value encountered in double_scalars\n",
      "  return s1 / s2\n"
     ]
    },
    {
     "name": "stdout",
     "output_type": "stream",
     "text": [
      "408/1000\r"
     ]
    },
    {
     "name": "stderr",
     "output_type": "stream",
     "text": [
      "/tmp/ipykernel_3079/2671635211.py:11: RuntimeWarning: invalid value encountered in double_scalars\n",
      "  return s1 / s2\n"
     ]
    },
    {
     "name": "stdout",
     "output_type": "stream",
     "text": [
      "409/1000\r"
     ]
    },
    {
     "name": "stderr",
     "output_type": "stream",
     "text": [
      "/tmp/ipykernel_3079/2671635211.py:11: RuntimeWarning: invalid value encountered in double_scalars\n",
      "  return s1 / s2\n"
     ]
    },
    {
     "name": "stdout",
     "output_type": "stream",
     "text": [
      "410/1000\r"
     ]
    },
    {
     "name": "stderr",
     "output_type": "stream",
     "text": [
      "/tmp/ipykernel_3079/2671635211.py:11: RuntimeWarning: invalid value encountered in double_scalars\n",
      "  return s1 / s2\n"
     ]
    },
    {
     "name": "stdout",
     "output_type": "stream",
     "text": [
      "411/1000\r"
     ]
    },
    {
     "name": "stderr",
     "output_type": "stream",
     "text": [
      "/tmp/ipykernel_3079/2671635211.py:11: RuntimeWarning: invalid value encountered in double_scalars\n",
      "  return s1 / s2\n"
     ]
    },
    {
     "name": "stdout",
     "output_type": "stream",
     "text": [
      "412/1000\r"
     ]
    },
    {
     "name": "stderr",
     "output_type": "stream",
     "text": [
      "/tmp/ipykernel_3079/2671635211.py:11: RuntimeWarning: invalid value encountered in double_scalars\n",
      "  return s1 / s2\n"
     ]
    },
    {
     "name": "stdout",
     "output_type": "stream",
     "text": [
      "413/1000\r"
     ]
    },
    {
     "name": "stderr",
     "output_type": "stream",
     "text": [
      "/tmp/ipykernel_3079/2671635211.py:11: RuntimeWarning: invalid value encountered in double_scalars\n",
      "  return s1 / s2\n"
     ]
    },
    {
     "name": "stdout",
     "output_type": "stream",
     "text": [
      "414/1000\r"
     ]
    },
    {
     "name": "stderr",
     "output_type": "stream",
     "text": [
      "/tmp/ipykernel_3079/2671635211.py:11: RuntimeWarning: invalid value encountered in double_scalars\n",
      "  return s1 / s2\n"
     ]
    },
    {
     "name": "stdout",
     "output_type": "stream",
     "text": [
      "415/1000\r"
     ]
    },
    {
     "name": "stderr",
     "output_type": "stream",
     "text": [
      "/tmp/ipykernel_3079/2671635211.py:11: RuntimeWarning: invalid value encountered in double_scalars\n",
      "  return s1 / s2\n"
     ]
    },
    {
     "name": "stdout",
     "output_type": "stream",
     "text": [
      "416/1000\r"
     ]
    },
    {
     "name": "stderr",
     "output_type": "stream",
     "text": [
      "/tmp/ipykernel_3079/2671635211.py:11: RuntimeWarning: invalid value encountered in double_scalars\n",
      "  return s1 / s2\n"
     ]
    },
    {
     "name": "stdout",
     "output_type": "stream",
     "text": [
      "417/1000\r"
     ]
    },
    {
     "name": "stderr",
     "output_type": "stream",
     "text": [
      "/tmp/ipykernel_3079/2671635211.py:11: RuntimeWarning: invalid value encountered in double_scalars\n",
      "  return s1 / s2\n"
     ]
    },
    {
     "name": "stdout",
     "output_type": "stream",
     "text": [
      "418/1000\r"
     ]
    },
    {
     "name": "stderr",
     "output_type": "stream",
     "text": [
      "/tmp/ipykernel_3079/2671635211.py:11: RuntimeWarning: invalid value encountered in double_scalars\n",
      "  return s1 / s2\n"
     ]
    },
    {
     "name": "stdout",
     "output_type": "stream",
     "text": [
      "419/1000\r"
     ]
    },
    {
     "name": "stderr",
     "output_type": "stream",
     "text": [
      "/tmp/ipykernel_3079/2671635211.py:11: RuntimeWarning: invalid value encountered in double_scalars\n",
      "  return s1 / s2\n"
     ]
    },
    {
     "name": "stdout",
     "output_type": "stream",
     "text": [
      "420/1000\r"
     ]
    },
    {
     "name": "stderr",
     "output_type": "stream",
     "text": [
      "/tmp/ipykernel_3079/2671635211.py:11: RuntimeWarning: invalid value encountered in double_scalars\n",
      "  return s1 / s2\n"
     ]
    },
    {
     "name": "stdout",
     "output_type": "stream",
     "text": [
      "421/1000\r"
     ]
    },
    {
     "name": "stderr",
     "output_type": "stream",
     "text": [
      "/tmp/ipykernel_3079/2671635211.py:11: RuntimeWarning: invalid value encountered in double_scalars\n",
      "  return s1 / s2\n"
     ]
    },
    {
     "name": "stdout",
     "output_type": "stream",
     "text": [
      "422/1000\r"
     ]
    },
    {
     "name": "stderr",
     "output_type": "stream",
     "text": [
      "/tmp/ipykernel_3079/2671635211.py:11: RuntimeWarning: invalid value encountered in double_scalars\n",
      "  return s1 / s2\n"
     ]
    },
    {
     "name": "stdout",
     "output_type": "stream",
     "text": [
      "423/1000\r"
     ]
    },
    {
     "name": "stderr",
     "output_type": "stream",
     "text": [
      "/tmp/ipykernel_3079/2671635211.py:11: RuntimeWarning: invalid value encountered in double_scalars\n",
      "  return s1 / s2\n"
     ]
    },
    {
     "name": "stdout",
     "output_type": "stream",
     "text": [
      "424/1000\r"
     ]
    },
    {
     "name": "stderr",
     "output_type": "stream",
     "text": [
      "/tmp/ipykernel_3079/2671635211.py:11: RuntimeWarning: invalid value encountered in double_scalars\n",
      "  return s1 / s2\n"
     ]
    },
    {
     "name": "stdout",
     "output_type": "stream",
     "text": [
      "425/1000\r"
     ]
    },
    {
     "name": "stderr",
     "output_type": "stream",
     "text": [
      "/tmp/ipykernel_3079/2671635211.py:11: RuntimeWarning: invalid value encountered in double_scalars\n",
      "  return s1 / s2\n"
     ]
    },
    {
     "name": "stdout",
     "output_type": "stream",
     "text": [
      "426/1000\r"
     ]
    },
    {
     "name": "stderr",
     "output_type": "stream",
     "text": [
      "/tmp/ipykernel_3079/2671635211.py:11: RuntimeWarning: invalid value encountered in double_scalars\n",
      "  return s1 / s2\n"
     ]
    },
    {
     "name": "stdout",
     "output_type": "stream",
     "text": [
      "427/1000\r"
     ]
    },
    {
     "name": "stderr",
     "output_type": "stream",
     "text": [
      "/tmp/ipykernel_3079/2671635211.py:11: RuntimeWarning: invalid value encountered in double_scalars\n",
      "  return s1 / s2\n"
     ]
    },
    {
     "name": "stdout",
     "output_type": "stream",
     "text": [
      "428/1000\r"
     ]
    },
    {
     "name": "stderr",
     "output_type": "stream",
     "text": [
      "/tmp/ipykernel_3079/2671635211.py:11: RuntimeWarning: invalid value encountered in double_scalars\n",
      "  return s1 / s2\n"
     ]
    },
    {
     "name": "stdout",
     "output_type": "stream",
     "text": [
      "429/1000\r"
     ]
    },
    {
     "name": "stderr",
     "output_type": "stream",
     "text": [
      "/tmp/ipykernel_3079/2671635211.py:11: RuntimeWarning: invalid value encountered in double_scalars\n",
      "  return s1 / s2\n"
     ]
    },
    {
     "name": "stdout",
     "output_type": "stream",
     "text": [
      "430/1000\r"
     ]
    },
    {
     "name": "stderr",
     "output_type": "stream",
     "text": [
      "/tmp/ipykernel_3079/2671635211.py:11: RuntimeWarning: invalid value encountered in double_scalars\n",
      "  return s1 / s2\n"
     ]
    },
    {
     "name": "stdout",
     "output_type": "stream",
     "text": [
      "431/1000\r"
     ]
    },
    {
     "name": "stderr",
     "output_type": "stream",
     "text": [
      "/tmp/ipykernel_3079/2671635211.py:11: RuntimeWarning: invalid value encountered in double_scalars\n",
      "  return s1 / s2\n"
     ]
    },
    {
     "name": "stdout",
     "output_type": "stream",
     "text": [
      "432/1000\r"
     ]
    },
    {
     "name": "stderr",
     "output_type": "stream",
     "text": [
      "/tmp/ipykernel_3079/2671635211.py:11: RuntimeWarning: invalid value encountered in double_scalars\n",
      "  return s1 / s2\n"
     ]
    },
    {
     "name": "stdout",
     "output_type": "stream",
     "text": [
      "433/1000\r"
     ]
    },
    {
     "name": "stderr",
     "output_type": "stream",
     "text": [
      "/tmp/ipykernel_3079/2671635211.py:11: RuntimeWarning: invalid value encountered in double_scalars\n",
      "  return s1 / s2\n"
     ]
    },
    {
     "name": "stdout",
     "output_type": "stream",
     "text": [
      "434/1000\r"
     ]
    },
    {
     "name": "stderr",
     "output_type": "stream",
     "text": [
      "/tmp/ipykernel_3079/2671635211.py:11: RuntimeWarning: invalid value encountered in double_scalars\n",
      "  return s1 / s2\n"
     ]
    },
    {
     "name": "stdout",
     "output_type": "stream",
     "text": [
      "435/1000\r"
     ]
    },
    {
     "name": "stderr",
     "output_type": "stream",
     "text": [
      "/tmp/ipykernel_3079/2671635211.py:11: RuntimeWarning: invalid value encountered in double_scalars\n",
      "  return s1 / s2\n"
     ]
    },
    {
     "name": "stdout",
     "output_type": "stream",
     "text": [
      "436/1000\r"
     ]
    },
    {
     "name": "stderr",
     "output_type": "stream",
     "text": [
      "/tmp/ipykernel_3079/2671635211.py:11: RuntimeWarning: invalid value encountered in double_scalars\n",
      "  return s1 / s2\n"
     ]
    },
    {
     "name": "stdout",
     "output_type": "stream",
     "text": [
      "437/1000\r"
     ]
    },
    {
     "name": "stderr",
     "output_type": "stream",
     "text": [
      "/tmp/ipykernel_3079/2671635211.py:11: RuntimeWarning: invalid value encountered in double_scalars\n",
      "  return s1 / s2\n"
     ]
    },
    {
     "name": "stdout",
     "output_type": "stream",
     "text": [
      "438/1000\r"
     ]
    },
    {
     "name": "stderr",
     "output_type": "stream",
     "text": [
      "/tmp/ipykernel_3079/2671635211.py:11: RuntimeWarning: invalid value encountered in double_scalars\n",
      "  return s1 / s2\n"
     ]
    },
    {
     "name": "stdout",
     "output_type": "stream",
     "text": [
      "439/1000\r"
     ]
    },
    {
     "name": "stderr",
     "output_type": "stream",
     "text": [
      "/tmp/ipykernel_3079/2671635211.py:11: RuntimeWarning: invalid value encountered in double_scalars\n",
      "  return s1 / s2\n"
     ]
    },
    {
     "name": "stdout",
     "output_type": "stream",
     "text": [
      "440/1000\r"
     ]
    },
    {
     "name": "stderr",
     "output_type": "stream",
     "text": [
      "/tmp/ipykernel_3079/2671635211.py:11: RuntimeWarning: invalid value encountered in double_scalars\n",
      "  return s1 / s2\n"
     ]
    },
    {
     "name": "stdout",
     "output_type": "stream",
     "text": [
      "441/1000\r"
     ]
    },
    {
     "name": "stderr",
     "output_type": "stream",
     "text": [
      "/tmp/ipykernel_3079/2671635211.py:11: RuntimeWarning: invalid value encountered in double_scalars\n",
      "  return s1 / s2\n"
     ]
    },
    {
     "name": "stdout",
     "output_type": "stream",
     "text": [
      "442/1000\r"
     ]
    },
    {
     "name": "stderr",
     "output_type": "stream",
     "text": [
      "/tmp/ipykernel_3079/2671635211.py:11: RuntimeWarning: invalid value encountered in double_scalars\n",
      "  return s1 / s2\n"
     ]
    },
    {
     "name": "stdout",
     "output_type": "stream",
     "text": [
      "443/1000\r"
     ]
    },
    {
     "name": "stderr",
     "output_type": "stream",
     "text": [
      "/tmp/ipykernel_3079/2671635211.py:11: RuntimeWarning: invalid value encountered in double_scalars\n",
      "  return s1 / s2\n"
     ]
    },
    {
     "name": "stdout",
     "output_type": "stream",
     "text": [
      "444/1000\r"
     ]
    },
    {
     "name": "stderr",
     "output_type": "stream",
     "text": [
      "/tmp/ipykernel_3079/2671635211.py:11: RuntimeWarning: invalid value encountered in double_scalars\n",
      "  return s1 / s2\n"
     ]
    },
    {
     "name": "stdout",
     "output_type": "stream",
     "text": [
      "445/1000\r"
     ]
    },
    {
     "name": "stderr",
     "output_type": "stream",
     "text": [
      "/tmp/ipykernel_3079/2671635211.py:11: RuntimeWarning: invalid value encountered in double_scalars\n",
      "  return s1 / s2\n"
     ]
    },
    {
     "name": "stdout",
     "output_type": "stream",
     "text": [
      "446/1000\r"
     ]
    },
    {
     "name": "stderr",
     "output_type": "stream",
     "text": [
      "/tmp/ipykernel_3079/2671635211.py:11: RuntimeWarning: invalid value encountered in double_scalars\n",
      "  return s1 / s2\n"
     ]
    },
    {
     "name": "stdout",
     "output_type": "stream",
     "text": [
      "447/1000\r"
     ]
    },
    {
     "name": "stderr",
     "output_type": "stream",
     "text": [
      "/tmp/ipykernel_3079/2671635211.py:11: RuntimeWarning: invalid value encountered in double_scalars\n",
      "  return s1 / s2\n"
     ]
    },
    {
     "name": "stdout",
     "output_type": "stream",
     "text": [
      "448/1000\r"
     ]
    },
    {
     "name": "stderr",
     "output_type": "stream",
     "text": [
      "/tmp/ipykernel_3079/2671635211.py:11: RuntimeWarning: invalid value encountered in double_scalars\n",
      "  return s1 / s2\n"
     ]
    },
    {
     "name": "stdout",
     "output_type": "stream",
     "text": [
      "449/1000\r"
     ]
    },
    {
     "name": "stderr",
     "output_type": "stream",
     "text": [
      "/tmp/ipykernel_3079/2671635211.py:11: RuntimeWarning: invalid value encountered in double_scalars\n",
      "  return s1 / s2\n"
     ]
    },
    {
     "name": "stdout",
     "output_type": "stream",
     "text": [
      "450/1000\r"
     ]
    },
    {
     "name": "stderr",
     "output_type": "stream",
     "text": [
      "/tmp/ipykernel_3079/2671635211.py:11: RuntimeWarning: invalid value encountered in double_scalars\n",
      "  return s1 / s2\n"
     ]
    },
    {
     "name": "stdout",
     "output_type": "stream",
     "text": [
      "451/1000\r"
     ]
    },
    {
     "name": "stderr",
     "output_type": "stream",
     "text": [
      "/tmp/ipykernel_3079/2671635211.py:11: RuntimeWarning: invalid value encountered in double_scalars\n",
      "  return s1 / s2\n"
     ]
    },
    {
     "name": "stdout",
     "output_type": "stream",
     "text": [
      "452/1000\r"
     ]
    },
    {
     "name": "stderr",
     "output_type": "stream",
     "text": [
      "/tmp/ipykernel_3079/2671635211.py:11: RuntimeWarning: invalid value encountered in double_scalars\n",
      "  return s1 / s2\n"
     ]
    },
    {
     "name": "stdout",
     "output_type": "stream",
     "text": [
      "453/1000\r"
     ]
    },
    {
     "name": "stderr",
     "output_type": "stream",
     "text": [
      "/tmp/ipykernel_3079/2671635211.py:11: RuntimeWarning: invalid value encountered in double_scalars\n",
      "  return s1 / s2\n"
     ]
    },
    {
     "name": "stdout",
     "output_type": "stream",
     "text": [
      "454/1000\r"
     ]
    },
    {
     "name": "stderr",
     "output_type": "stream",
     "text": [
      "/tmp/ipykernel_3079/2671635211.py:11: RuntimeWarning: invalid value encountered in double_scalars\n",
      "  return s1 / s2\n"
     ]
    },
    {
     "name": "stdout",
     "output_type": "stream",
     "text": [
      "455/1000\r"
     ]
    },
    {
     "name": "stderr",
     "output_type": "stream",
     "text": [
      "/tmp/ipykernel_3079/2671635211.py:11: RuntimeWarning: invalid value encountered in double_scalars\n",
      "  return s1 / s2\n"
     ]
    },
    {
     "name": "stdout",
     "output_type": "stream",
     "text": [
      "456/1000\r"
     ]
    },
    {
     "name": "stderr",
     "output_type": "stream",
     "text": [
      "/tmp/ipykernel_3079/2671635211.py:11: RuntimeWarning: invalid value encountered in double_scalars\n",
      "  return s1 / s2\n"
     ]
    },
    {
     "name": "stdout",
     "output_type": "stream",
     "text": [
      "457/1000\r"
     ]
    },
    {
     "name": "stderr",
     "output_type": "stream",
     "text": [
      "/tmp/ipykernel_3079/2671635211.py:11: RuntimeWarning: invalid value encountered in double_scalars\n",
      "  return s1 / s2\n"
     ]
    },
    {
     "name": "stdout",
     "output_type": "stream",
     "text": [
      "458/1000\r"
     ]
    },
    {
     "name": "stderr",
     "output_type": "stream",
     "text": [
      "/tmp/ipykernel_3079/2671635211.py:11: RuntimeWarning: invalid value encountered in double_scalars\n",
      "  return s1 / s2\n"
     ]
    },
    {
     "name": "stdout",
     "output_type": "stream",
     "text": [
      "459/1000\r"
     ]
    },
    {
     "name": "stderr",
     "output_type": "stream",
     "text": [
      "/tmp/ipykernel_3079/2671635211.py:11: RuntimeWarning: invalid value encountered in double_scalars\n",
      "  return s1 / s2\n"
     ]
    },
    {
     "name": "stdout",
     "output_type": "stream",
     "text": [
      "460/1000\r"
     ]
    },
    {
     "name": "stderr",
     "output_type": "stream",
     "text": [
      "/tmp/ipykernel_3079/2671635211.py:11: RuntimeWarning: invalid value encountered in double_scalars\n",
      "  return s1 / s2\n"
     ]
    },
    {
     "name": "stdout",
     "output_type": "stream",
     "text": [
      "461/1000\r"
     ]
    },
    {
     "name": "stderr",
     "output_type": "stream",
     "text": [
      "/tmp/ipykernel_3079/2671635211.py:11: RuntimeWarning: invalid value encountered in double_scalars\n",
      "  return s1 / s2\n"
     ]
    },
    {
     "name": "stdout",
     "output_type": "stream",
     "text": [
      "462/1000\r"
     ]
    },
    {
     "name": "stderr",
     "output_type": "stream",
     "text": [
      "/tmp/ipykernel_3079/2671635211.py:11: RuntimeWarning: invalid value encountered in double_scalars\n",
      "  return s1 / s2\n"
     ]
    },
    {
     "name": "stdout",
     "output_type": "stream",
     "text": [
      "463/1000\r"
     ]
    },
    {
     "name": "stderr",
     "output_type": "stream",
     "text": [
      "/tmp/ipykernel_3079/2671635211.py:11: RuntimeWarning: invalid value encountered in double_scalars\n",
      "  return s1 / s2\n"
     ]
    },
    {
     "name": "stdout",
     "output_type": "stream",
     "text": [
      "464/1000\r"
     ]
    },
    {
     "name": "stderr",
     "output_type": "stream",
     "text": [
      "/tmp/ipykernel_3079/2671635211.py:11: RuntimeWarning: invalid value encountered in double_scalars\n",
      "  return s1 / s2\n"
     ]
    },
    {
     "name": "stdout",
     "output_type": "stream",
     "text": [
      "465/1000\r"
     ]
    },
    {
     "name": "stderr",
     "output_type": "stream",
     "text": [
      "/tmp/ipykernel_3079/2671635211.py:11: RuntimeWarning: invalid value encountered in double_scalars\n",
      "  return s1 / s2\n"
     ]
    },
    {
     "name": "stdout",
     "output_type": "stream",
     "text": [
      "466/1000\r"
     ]
    },
    {
     "name": "stderr",
     "output_type": "stream",
     "text": [
      "/tmp/ipykernel_3079/2671635211.py:11: RuntimeWarning: invalid value encountered in double_scalars\n",
      "  return s1 / s2\n"
     ]
    },
    {
     "name": "stdout",
     "output_type": "stream",
     "text": [
      "467/1000\r"
     ]
    },
    {
     "name": "stderr",
     "output_type": "stream",
     "text": [
      "/tmp/ipykernel_3079/2671635211.py:11: RuntimeWarning: invalid value encountered in double_scalars\n",
      "  return s1 / s2\n"
     ]
    },
    {
     "name": "stdout",
     "output_type": "stream",
     "text": [
      "468/1000\r"
     ]
    },
    {
     "name": "stderr",
     "output_type": "stream",
     "text": [
      "/tmp/ipykernel_3079/2671635211.py:11: RuntimeWarning: invalid value encountered in double_scalars\n",
      "  return s1 / s2\n"
     ]
    },
    {
     "name": "stdout",
     "output_type": "stream",
     "text": [
      "469/1000\r"
     ]
    },
    {
     "name": "stderr",
     "output_type": "stream",
     "text": [
      "/tmp/ipykernel_3079/2671635211.py:11: RuntimeWarning: invalid value encountered in double_scalars\n",
      "  return s1 / s2\n"
     ]
    },
    {
     "name": "stdout",
     "output_type": "stream",
     "text": [
      "470/1000\r"
     ]
    },
    {
     "name": "stderr",
     "output_type": "stream",
     "text": [
      "/tmp/ipykernel_3079/2671635211.py:11: RuntimeWarning: invalid value encountered in double_scalars\n",
      "  return s1 / s2\n"
     ]
    },
    {
     "name": "stdout",
     "output_type": "stream",
     "text": [
      "471/1000\r"
     ]
    },
    {
     "name": "stderr",
     "output_type": "stream",
     "text": [
      "/tmp/ipykernel_3079/2671635211.py:11: RuntimeWarning: invalid value encountered in double_scalars\n",
      "  return s1 / s2\n"
     ]
    },
    {
     "name": "stdout",
     "output_type": "stream",
     "text": [
      "472/1000\r"
     ]
    },
    {
     "name": "stderr",
     "output_type": "stream",
     "text": [
      "/tmp/ipykernel_3079/2671635211.py:11: RuntimeWarning: invalid value encountered in double_scalars\n",
      "  return s1 / s2\n"
     ]
    },
    {
     "name": "stdout",
     "output_type": "stream",
     "text": [
      "473/1000\r"
     ]
    },
    {
     "name": "stderr",
     "output_type": "stream",
     "text": [
      "/tmp/ipykernel_3079/2671635211.py:11: RuntimeWarning: invalid value encountered in double_scalars\n",
      "  return s1 / s2\n"
     ]
    },
    {
     "name": "stdout",
     "output_type": "stream",
     "text": [
      "474/1000\r"
     ]
    },
    {
     "name": "stderr",
     "output_type": "stream",
     "text": [
      "/tmp/ipykernel_3079/2671635211.py:11: RuntimeWarning: invalid value encountered in double_scalars\n",
      "  return s1 / s2\n"
     ]
    },
    {
     "name": "stdout",
     "output_type": "stream",
     "text": [
      "475/1000\r"
     ]
    },
    {
     "name": "stderr",
     "output_type": "stream",
     "text": [
      "/tmp/ipykernel_3079/2671635211.py:11: RuntimeWarning: invalid value encountered in double_scalars\n",
      "  return s1 / s2\n"
     ]
    },
    {
     "name": "stdout",
     "output_type": "stream",
     "text": [
      "476/1000\r"
     ]
    },
    {
     "name": "stderr",
     "output_type": "stream",
     "text": [
      "/tmp/ipykernel_3079/2671635211.py:11: RuntimeWarning: invalid value encountered in double_scalars\n",
      "  return s1 / s2\n"
     ]
    },
    {
     "name": "stdout",
     "output_type": "stream",
     "text": [
      "477/1000\r"
     ]
    },
    {
     "name": "stderr",
     "output_type": "stream",
     "text": [
      "/tmp/ipykernel_3079/2671635211.py:11: RuntimeWarning: invalid value encountered in double_scalars\n",
      "  return s1 / s2\n"
     ]
    },
    {
     "name": "stdout",
     "output_type": "stream",
     "text": [
      "478/1000\r"
     ]
    },
    {
     "name": "stderr",
     "output_type": "stream",
     "text": [
      "/tmp/ipykernel_3079/2671635211.py:11: RuntimeWarning: invalid value encountered in double_scalars\n",
      "  return s1 / s2\n"
     ]
    },
    {
     "name": "stdout",
     "output_type": "stream",
     "text": [
      "479/1000\r"
     ]
    },
    {
     "name": "stderr",
     "output_type": "stream",
     "text": [
      "/tmp/ipykernel_3079/2671635211.py:11: RuntimeWarning: invalid value encountered in double_scalars\n",
      "  return s1 / s2\n"
     ]
    },
    {
     "name": "stdout",
     "output_type": "stream",
     "text": [
      "480/1000\r"
     ]
    },
    {
     "name": "stderr",
     "output_type": "stream",
     "text": [
      "/tmp/ipykernel_3079/2671635211.py:11: RuntimeWarning: invalid value encountered in double_scalars\n",
      "  return s1 / s2\n"
     ]
    },
    {
     "name": "stdout",
     "output_type": "stream",
     "text": [
      "481/1000\r"
     ]
    },
    {
     "name": "stderr",
     "output_type": "stream",
     "text": [
      "/tmp/ipykernel_3079/2671635211.py:11: RuntimeWarning: invalid value encountered in double_scalars\n",
      "  return s1 / s2\n"
     ]
    },
    {
     "name": "stdout",
     "output_type": "stream",
     "text": [
      "482/1000\r"
     ]
    },
    {
     "name": "stderr",
     "output_type": "stream",
     "text": [
      "/tmp/ipykernel_3079/2671635211.py:11: RuntimeWarning: invalid value encountered in double_scalars\n",
      "  return s1 / s2\n"
     ]
    },
    {
     "name": "stdout",
     "output_type": "stream",
     "text": [
      "483/1000\r"
     ]
    },
    {
     "name": "stderr",
     "output_type": "stream",
     "text": [
      "/tmp/ipykernel_3079/2671635211.py:11: RuntimeWarning: invalid value encountered in double_scalars\n",
      "  return s1 / s2\n"
     ]
    },
    {
     "name": "stdout",
     "output_type": "stream",
     "text": [
      "484/1000\r"
     ]
    },
    {
     "name": "stderr",
     "output_type": "stream",
     "text": [
      "/tmp/ipykernel_3079/2671635211.py:11: RuntimeWarning: invalid value encountered in double_scalars\n",
      "  return s1 / s2\n"
     ]
    },
    {
     "name": "stdout",
     "output_type": "stream",
     "text": [
      "485/1000\r"
     ]
    },
    {
     "name": "stderr",
     "output_type": "stream",
     "text": [
      "/tmp/ipykernel_3079/2671635211.py:11: RuntimeWarning: invalid value encountered in double_scalars\n",
      "  return s1 / s2\n"
     ]
    },
    {
     "name": "stdout",
     "output_type": "stream",
     "text": [
      "486/1000\r"
     ]
    },
    {
     "name": "stderr",
     "output_type": "stream",
     "text": [
      "/tmp/ipykernel_3079/2671635211.py:11: RuntimeWarning: invalid value encountered in double_scalars\n",
      "  return s1 / s2\n"
     ]
    },
    {
     "name": "stdout",
     "output_type": "stream",
     "text": [
      "487/1000\r"
     ]
    },
    {
     "name": "stderr",
     "output_type": "stream",
     "text": [
      "/tmp/ipykernel_3079/2671635211.py:11: RuntimeWarning: invalid value encountered in double_scalars\n",
      "  return s1 / s2\n"
     ]
    },
    {
     "name": "stdout",
     "output_type": "stream",
     "text": [
      "488/1000\r"
     ]
    },
    {
     "name": "stderr",
     "output_type": "stream",
     "text": [
      "/tmp/ipykernel_3079/2671635211.py:11: RuntimeWarning: invalid value encountered in double_scalars\n",
      "  return s1 / s2\n"
     ]
    },
    {
     "name": "stdout",
     "output_type": "stream",
     "text": [
      "489/1000\r"
     ]
    },
    {
     "name": "stderr",
     "output_type": "stream",
     "text": [
      "/tmp/ipykernel_3079/2671635211.py:11: RuntimeWarning: invalid value encountered in double_scalars\n",
      "  return s1 / s2\n"
     ]
    },
    {
     "name": "stdout",
     "output_type": "stream",
     "text": [
      "490/1000\r"
     ]
    },
    {
     "name": "stderr",
     "output_type": "stream",
     "text": [
      "/tmp/ipykernel_3079/2671635211.py:11: RuntimeWarning: invalid value encountered in double_scalars\n",
      "  return s1 / s2\n"
     ]
    },
    {
     "name": "stdout",
     "output_type": "stream",
     "text": [
      "491/1000\r"
     ]
    },
    {
     "name": "stderr",
     "output_type": "stream",
     "text": [
      "/tmp/ipykernel_3079/2671635211.py:11: RuntimeWarning: invalid value encountered in double_scalars\n",
      "  return s1 / s2\n"
     ]
    },
    {
     "name": "stdout",
     "output_type": "stream",
     "text": [
      "492/1000\r"
     ]
    },
    {
     "name": "stderr",
     "output_type": "stream",
     "text": [
      "/tmp/ipykernel_3079/2671635211.py:11: RuntimeWarning: invalid value encountered in double_scalars\n",
      "  return s1 / s2\n"
     ]
    },
    {
     "name": "stdout",
     "output_type": "stream",
     "text": [
      "493/1000\r"
     ]
    },
    {
     "name": "stderr",
     "output_type": "stream",
     "text": [
      "/tmp/ipykernel_3079/2671635211.py:11: RuntimeWarning: invalid value encountered in double_scalars\n",
      "  return s1 / s2\n"
     ]
    },
    {
     "name": "stdout",
     "output_type": "stream",
     "text": [
      "494/1000\r"
     ]
    },
    {
     "name": "stderr",
     "output_type": "stream",
     "text": [
      "/tmp/ipykernel_3079/2671635211.py:11: RuntimeWarning: invalid value encountered in double_scalars\n",
      "  return s1 / s2\n"
     ]
    },
    {
     "name": "stdout",
     "output_type": "stream",
     "text": [
      "495/1000\r"
     ]
    },
    {
     "name": "stderr",
     "output_type": "stream",
     "text": [
      "/tmp/ipykernel_3079/2671635211.py:11: RuntimeWarning: invalid value encountered in double_scalars\n",
      "  return s1 / s2\n"
     ]
    },
    {
     "name": "stdout",
     "output_type": "stream",
     "text": [
      "496/1000\r"
     ]
    },
    {
     "name": "stderr",
     "output_type": "stream",
     "text": [
      "/tmp/ipykernel_3079/2671635211.py:11: RuntimeWarning: invalid value encountered in double_scalars\n",
      "  return s1 / s2\n"
     ]
    },
    {
     "name": "stdout",
     "output_type": "stream",
     "text": [
      "497/1000\r"
     ]
    },
    {
     "name": "stderr",
     "output_type": "stream",
     "text": [
      "/tmp/ipykernel_3079/2671635211.py:11: RuntimeWarning: invalid value encountered in double_scalars\n",
      "  return s1 / s2\n"
     ]
    },
    {
     "name": "stdout",
     "output_type": "stream",
     "text": [
      "498/1000\r"
     ]
    },
    {
     "name": "stderr",
     "output_type": "stream",
     "text": [
      "/tmp/ipykernel_3079/2671635211.py:11: RuntimeWarning: invalid value encountered in double_scalars\n",
      "  return s1 / s2\n"
     ]
    },
    {
     "name": "stdout",
     "output_type": "stream",
     "text": [
      "499/1000\r"
     ]
    },
    {
     "name": "stderr",
     "output_type": "stream",
     "text": [
      "/tmp/ipykernel_3079/2671635211.py:11: RuntimeWarning: invalid value encountered in double_scalars\n",
      "  return s1 / s2\n"
     ]
    },
    {
     "name": "stdout",
     "output_type": "stream",
     "text": [
      "500/1000\r"
     ]
    },
    {
     "name": "stderr",
     "output_type": "stream",
     "text": [
      "/tmp/ipykernel_3079/2671635211.py:11: RuntimeWarning: invalid value encountered in double_scalars\n",
      "  return s1 / s2\n"
     ]
    },
    {
     "name": "stdout",
     "output_type": "stream",
     "text": [
      "501/1000\r"
     ]
    },
    {
     "name": "stderr",
     "output_type": "stream",
     "text": [
      "/tmp/ipykernel_3079/2671635211.py:11: RuntimeWarning: invalid value encountered in double_scalars\n",
      "  return s1 / s2\n"
     ]
    },
    {
     "name": "stdout",
     "output_type": "stream",
     "text": [
      "502/1000\r"
     ]
    },
    {
     "name": "stderr",
     "output_type": "stream",
     "text": [
      "/tmp/ipykernel_3079/2671635211.py:11: RuntimeWarning: invalid value encountered in double_scalars\n",
      "  return s1 / s2\n"
     ]
    },
    {
     "name": "stdout",
     "output_type": "stream",
     "text": [
      "503/1000\r"
     ]
    },
    {
     "name": "stderr",
     "output_type": "stream",
     "text": [
      "/tmp/ipykernel_3079/2671635211.py:11: RuntimeWarning: invalid value encountered in double_scalars\n",
      "  return s1 / s2\n"
     ]
    },
    {
     "name": "stdout",
     "output_type": "stream",
     "text": [
      "504/1000\r"
     ]
    },
    {
     "name": "stderr",
     "output_type": "stream",
     "text": [
      "/tmp/ipykernel_3079/2671635211.py:11: RuntimeWarning: invalid value encountered in double_scalars\n",
      "  return s1 / s2\n"
     ]
    },
    {
     "name": "stdout",
     "output_type": "stream",
     "text": [
      "505/1000\r"
     ]
    },
    {
     "name": "stderr",
     "output_type": "stream",
     "text": [
      "/tmp/ipykernel_3079/2671635211.py:11: RuntimeWarning: invalid value encountered in double_scalars\n",
      "  return s1 / s2\n"
     ]
    },
    {
     "name": "stdout",
     "output_type": "stream",
     "text": [
      "506/1000\r"
     ]
    },
    {
     "name": "stderr",
     "output_type": "stream",
     "text": [
      "/tmp/ipykernel_3079/2671635211.py:11: RuntimeWarning: invalid value encountered in double_scalars\n",
      "  return s1 / s2\n"
     ]
    },
    {
     "name": "stdout",
     "output_type": "stream",
     "text": [
      "507/1000\r"
     ]
    },
    {
     "name": "stderr",
     "output_type": "stream",
     "text": [
      "/tmp/ipykernel_3079/2671635211.py:11: RuntimeWarning: invalid value encountered in double_scalars\n",
      "  return s1 / s2\n"
     ]
    },
    {
     "name": "stdout",
     "output_type": "stream",
     "text": [
      "508/1000\r"
     ]
    },
    {
     "name": "stderr",
     "output_type": "stream",
     "text": [
      "/tmp/ipykernel_3079/2671635211.py:11: RuntimeWarning: invalid value encountered in double_scalars\n",
      "  return s1 / s2\n"
     ]
    },
    {
     "name": "stdout",
     "output_type": "stream",
     "text": [
      "509/1000\r"
     ]
    },
    {
     "name": "stderr",
     "output_type": "stream",
     "text": [
      "/tmp/ipykernel_3079/2671635211.py:11: RuntimeWarning: invalid value encountered in double_scalars\n",
      "  return s1 / s2\n"
     ]
    },
    {
     "name": "stdout",
     "output_type": "stream",
     "text": [
      "510/1000\r"
     ]
    },
    {
     "name": "stderr",
     "output_type": "stream",
     "text": [
      "/tmp/ipykernel_3079/2671635211.py:11: RuntimeWarning: invalid value encountered in double_scalars\n",
      "  return s1 / s2\n"
     ]
    },
    {
     "name": "stdout",
     "output_type": "stream",
     "text": [
      "511/1000\r"
     ]
    },
    {
     "name": "stderr",
     "output_type": "stream",
     "text": [
      "/tmp/ipykernel_3079/2671635211.py:11: RuntimeWarning: invalid value encountered in double_scalars\n",
      "  return s1 / s2\n"
     ]
    },
    {
     "name": "stdout",
     "output_type": "stream",
     "text": [
      "512/1000\r"
     ]
    },
    {
     "name": "stderr",
     "output_type": "stream",
     "text": [
      "/tmp/ipykernel_3079/2671635211.py:11: RuntimeWarning: invalid value encountered in double_scalars\n",
      "  return s1 / s2\n"
     ]
    },
    {
     "name": "stdout",
     "output_type": "stream",
     "text": [
      "513/1000\r"
     ]
    },
    {
     "name": "stderr",
     "output_type": "stream",
     "text": [
      "/tmp/ipykernel_3079/2671635211.py:11: RuntimeWarning: invalid value encountered in double_scalars\n",
      "  return s1 / s2\n"
     ]
    },
    {
     "name": "stdout",
     "output_type": "stream",
     "text": [
      "514/1000\r"
     ]
    },
    {
     "name": "stderr",
     "output_type": "stream",
     "text": [
      "/tmp/ipykernel_3079/2671635211.py:11: RuntimeWarning: invalid value encountered in double_scalars\n",
      "  return s1 / s2\n"
     ]
    },
    {
     "name": "stdout",
     "output_type": "stream",
     "text": [
      "515/1000\r"
     ]
    },
    {
     "name": "stderr",
     "output_type": "stream",
     "text": [
      "/tmp/ipykernel_3079/2671635211.py:11: RuntimeWarning: invalid value encountered in double_scalars\n",
      "  return s1 / s2\n"
     ]
    },
    {
     "name": "stdout",
     "output_type": "stream",
     "text": [
      "516/1000\r"
     ]
    },
    {
     "name": "stderr",
     "output_type": "stream",
     "text": [
      "/tmp/ipykernel_3079/2671635211.py:11: RuntimeWarning: invalid value encountered in double_scalars\n",
      "  return s1 / s2\n"
     ]
    },
    {
     "name": "stdout",
     "output_type": "stream",
     "text": [
      "517/1000\r"
     ]
    },
    {
     "name": "stderr",
     "output_type": "stream",
     "text": [
      "/tmp/ipykernel_3079/2671635211.py:11: RuntimeWarning: invalid value encountered in double_scalars\n",
      "  return s1 / s2\n"
     ]
    },
    {
     "name": "stdout",
     "output_type": "stream",
     "text": [
      "518/1000\r"
     ]
    },
    {
     "name": "stderr",
     "output_type": "stream",
     "text": [
      "/tmp/ipykernel_3079/2671635211.py:11: RuntimeWarning: invalid value encountered in double_scalars\n",
      "  return s1 / s2\n"
     ]
    },
    {
     "name": "stdout",
     "output_type": "stream",
     "text": [
      "519/1000\r"
     ]
    },
    {
     "name": "stderr",
     "output_type": "stream",
     "text": [
      "/tmp/ipykernel_3079/2671635211.py:11: RuntimeWarning: invalid value encountered in double_scalars\n",
      "  return s1 / s2\n"
     ]
    },
    {
     "name": "stdout",
     "output_type": "stream",
     "text": [
      "520/1000\r"
     ]
    },
    {
     "name": "stderr",
     "output_type": "stream",
     "text": [
      "/tmp/ipykernel_3079/2671635211.py:11: RuntimeWarning: invalid value encountered in double_scalars\n",
      "  return s1 / s2\n"
     ]
    },
    {
     "name": "stdout",
     "output_type": "stream",
     "text": [
      "521/1000\r"
     ]
    },
    {
     "name": "stderr",
     "output_type": "stream",
     "text": [
      "/tmp/ipykernel_3079/2671635211.py:11: RuntimeWarning: invalid value encountered in double_scalars\n",
      "  return s1 / s2\n"
     ]
    },
    {
     "name": "stdout",
     "output_type": "stream",
     "text": [
      "522/1000\r"
     ]
    },
    {
     "name": "stderr",
     "output_type": "stream",
     "text": [
      "/tmp/ipykernel_3079/2671635211.py:11: RuntimeWarning: invalid value encountered in double_scalars\n",
      "  return s1 / s2\n"
     ]
    },
    {
     "name": "stdout",
     "output_type": "stream",
     "text": [
      "523/1000\r"
     ]
    },
    {
     "name": "stderr",
     "output_type": "stream",
     "text": [
      "/tmp/ipykernel_3079/2671635211.py:11: RuntimeWarning: invalid value encountered in double_scalars\n",
      "  return s1 / s2\n"
     ]
    },
    {
     "name": "stdout",
     "output_type": "stream",
     "text": [
      "524/1000\r"
     ]
    },
    {
     "name": "stderr",
     "output_type": "stream",
     "text": [
      "/tmp/ipykernel_3079/2671635211.py:11: RuntimeWarning: invalid value encountered in double_scalars\n",
      "  return s1 / s2\n"
     ]
    },
    {
     "name": "stdout",
     "output_type": "stream",
     "text": [
      "525/1000\r"
     ]
    },
    {
     "name": "stderr",
     "output_type": "stream",
     "text": [
      "/tmp/ipykernel_3079/2671635211.py:11: RuntimeWarning: invalid value encountered in double_scalars\n",
      "  return s1 / s2\n"
     ]
    },
    {
     "name": "stdout",
     "output_type": "stream",
     "text": [
      "526/1000\r"
     ]
    },
    {
     "name": "stderr",
     "output_type": "stream",
     "text": [
      "/tmp/ipykernel_3079/2671635211.py:11: RuntimeWarning: invalid value encountered in double_scalars\n",
      "  return s1 / s2\n"
     ]
    },
    {
     "name": "stdout",
     "output_type": "stream",
     "text": [
      "527/1000\r"
     ]
    },
    {
     "name": "stderr",
     "output_type": "stream",
     "text": [
      "/tmp/ipykernel_3079/2671635211.py:11: RuntimeWarning: invalid value encountered in double_scalars\n",
      "  return s1 / s2\n"
     ]
    },
    {
     "name": "stdout",
     "output_type": "stream",
     "text": [
      "528/1000\r"
     ]
    },
    {
     "name": "stderr",
     "output_type": "stream",
     "text": [
      "/tmp/ipykernel_3079/2671635211.py:11: RuntimeWarning: invalid value encountered in double_scalars\n",
      "  return s1 / s2\n"
     ]
    },
    {
     "name": "stdout",
     "output_type": "stream",
     "text": [
      "529/1000\r"
     ]
    },
    {
     "name": "stderr",
     "output_type": "stream",
     "text": [
      "/tmp/ipykernel_3079/2671635211.py:11: RuntimeWarning: invalid value encountered in double_scalars\n",
      "  return s1 / s2\n"
     ]
    },
    {
     "name": "stdout",
     "output_type": "stream",
     "text": [
      "530/1000\r"
     ]
    },
    {
     "name": "stderr",
     "output_type": "stream",
     "text": [
      "/tmp/ipykernel_3079/2671635211.py:11: RuntimeWarning: invalid value encountered in double_scalars\n",
      "  return s1 / s2\n"
     ]
    },
    {
     "name": "stdout",
     "output_type": "stream",
     "text": [
      "531/1000\r"
     ]
    },
    {
     "name": "stderr",
     "output_type": "stream",
     "text": [
      "/tmp/ipykernel_3079/2671635211.py:11: RuntimeWarning: invalid value encountered in double_scalars\n",
      "  return s1 / s2\n"
     ]
    },
    {
     "name": "stdout",
     "output_type": "stream",
     "text": [
      "532/1000\r"
     ]
    },
    {
     "name": "stderr",
     "output_type": "stream",
     "text": [
      "/tmp/ipykernel_3079/2671635211.py:11: RuntimeWarning: invalid value encountered in double_scalars\n",
      "  return s1 / s2\n"
     ]
    },
    {
     "name": "stdout",
     "output_type": "stream",
     "text": [
      "533/1000\r"
     ]
    },
    {
     "name": "stderr",
     "output_type": "stream",
     "text": [
      "/tmp/ipykernel_3079/2671635211.py:11: RuntimeWarning: invalid value encountered in double_scalars\n",
      "  return s1 / s2\n"
     ]
    },
    {
     "name": "stdout",
     "output_type": "stream",
     "text": [
      "534/1000\r"
     ]
    },
    {
     "name": "stderr",
     "output_type": "stream",
     "text": [
      "/tmp/ipykernel_3079/2671635211.py:11: RuntimeWarning: invalid value encountered in double_scalars\n",
      "  return s1 / s2\n"
     ]
    },
    {
     "name": "stdout",
     "output_type": "stream",
     "text": [
      "535/1000\r"
     ]
    },
    {
     "name": "stderr",
     "output_type": "stream",
     "text": [
      "/tmp/ipykernel_3079/2671635211.py:11: RuntimeWarning: invalid value encountered in double_scalars\n",
      "  return s1 / s2\n"
     ]
    },
    {
     "name": "stdout",
     "output_type": "stream",
     "text": [
      "536/1000\r"
     ]
    },
    {
     "name": "stderr",
     "output_type": "stream",
     "text": [
      "/tmp/ipykernel_3079/2671635211.py:11: RuntimeWarning: invalid value encountered in double_scalars\n",
      "  return s1 / s2\n"
     ]
    },
    {
     "name": "stdout",
     "output_type": "stream",
     "text": [
      "537/1000\r"
     ]
    },
    {
     "name": "stderr",
     "output_type": "stream",
     "text": [
      "/tmp/ipykernel_3079/2671635211.py:11: RuntimeWarning: invalid value encountered in double_scalars\n",
      "  return s1 / s2\n"
     ]
    },
    {
     "name": "stdout",
     "output_type": "stream",
     "text": [
      "538/1000\r"
     ]
    },
    {
     "name": "stderr",
     "output_type": "stream",
     "text": [
      "/tmp/ipykernel_3079/2671635211.py:11: RuntimeWarning: invalid value encountered in double_scalars\n",
      "  return s1 / s2\n"
     ]
    },
    {
     "name": "stdout",
     "output_type": "stream",
     "text": [
      "539/1000\r"
     ]
    },
    {
     "name": "stderr",
     "output_type": "stream",
     "text": [
      "/tmp/ipykernel_3079/2671635211.py:11: RuntimeWarning: invalid value encountered in double_scalars\n",
      "  return s1 / s2\n"
     ]
    },
    {
     "name": "stdout",
     "output_type": "stream",
     "text": [
      "540/1000\r"
     ]
    },
    {
     "name": "stderr",
     "output_type": "stream",
     "text": [
      "/tmp/ipykernel_3079/2671635211.py:11: RuntimeWarning: invalid value encountered in double_scalars\n",
      "  return s1 / s2\n"
     ]
    },
    {
     "name": "stdout",
     "output_type": "stream",
     "text": [
      "541/1000\r"
     ]
    },
    {
     "name": "stderr",
     "output_type": "stream",
     "text": [
      "/tmp/ipykernel_3079/2671635211.py:11: RuntimeWarning: invalid value encountered in double_scalars\n",
      "  return s1 / s2\n"
     ]
    },
    {
     "name": "stdout",
     "output_type": "stream",
     "text": [
      "542/1000\r"
     ]
    },
    {
     "name": "stderr",
     "output_type": "stream",
     "text": [
      "/tmp/ipykernel_3079/2671635211.py:11: RuntimeWarning: invalid value encountered in double_scalars\n",
      "  return s1 / s2\n"
     ]
    },
    {
     "name": "stdout",
     "output_type": "stream",
     "text": [
      "543/1000\r"
     ]
    },
    {
     "name": "stderr",
     "output_type": "stream",
     "text": [
      "/tmp/ipykernel_3079/2671635211.py:11: RuntimeWarning: invalid value encountered in double_scalars\n",
      "  return s1 / s2\n"
     ]
    },
    {
     "name": "stdout",
     "output_type": "stream",
     "text": [
      "544/1000\r"
     ]
    },
    {
     "name": "stderr",
     "output_type": "stream",
     "text": [
      "/tmp/ipykernel_3079/2671635211.py:11: RuntimeWarning: invalid value encountered in double_scalars\n",
      "  return s1 / s2\n"
     ]
    },
    {
     "name": "stdout",
     "output_type": "stream",
     "text": [
      "545/1000\r"
     ]
    },
    {
     "name": "stderr",
     "output_type": "stream",
     "text": [
      "/tmp/ipykernel_3079/2671635211.py:11: RuntimeWarning: invalid value encountered in double_scalars\n",
      "  return s1 / s2\n"
     ]
    },
    {
     "name": "stdout",
     "output_type": "stream",
     "text": [
      "546/1000\r"
     ]
    },
    {
     "name": "stderr",
     "output_type": "stream",
     "text": [
      "/tmp/ipykernel_3079/2671635211.py:11: RuntimeWarning: invalid value encountered in double_scalars\n",
      "  return s1 / s2\n"
     ]
    },
    {
     "name": "stdout",
     "output_type": "stream",
     "text": [
      "547/1000\r"
     ]
    },
    {
     "name": "stderr",
     "output_type": "stream",
     "text": [
      "/tmp/ipykernel_3079/2671635211.py:11: RuntimeWarning: invalid value encountered in double_scalars\n",
      "  return s1 / s2\n"
     ]
    },
    {
     "name": "stdout",
     "output_type": "stream",
     "text": [
      "548/1000\r"
     ]
    },
    {
     "name": "stderr",
     "output_type": "stream",
     "text": [
      "/tmp/ipykernel_3079/2671635211.py:11: RuntimeWarning: invalid value encountered in double_scalars\n",
      "  return s1 / s2\n"
     ]
    },
    {
     "name": "stdout",
     "output_type": "stream",
     "text": [
      "549/1000\r"
     ]
    },
    {
     "name": "stderr",
     "output_type": "stream",
     "text": [
      "/tmp/ipykernel_3079/2671635211.py:11: RuntimeWarning: invalid value encountered in double_scalars\n",
      "  return s1 / s2\n"
     ]
    },
    {
     "name": "stdout",
     "output_type": "stream",
     "text": [
      "550/1000\r"
     ]
    },
    {
     "name": "stderr",
     "output_type": "stream",
     "text": [
      "/tmp/ipykernel_3079/2671635211.py:11: RuntimeWarning: invalid value encountered in double_scalars\n",
      "  return s1 / s2\n"
     ]
    },
    {
     "name": "stdout",
     "output_type": "stream",
     "text": [
      "551/1000\r"
     ]
    },
    {
     "name": "stderr",
     "output_type": "stream",
     "text": [
      "/tmp/ipykernel_3079/2671635211.py:11: RuntimeWarning: invalid value encountered in double_scalars\n",
      "  return s1 / s2\n"
     ]
    },
    {
     "name": "stdout",
     "output_type": "stream",
     "text": [
      "552/1000\r"
     ]
    },
    {
     "name": "stderr",
     "output_type": "stream",
     "text": [
      "/tmp/ipykernel_3079/2671635211.py:11: RuntimeWarning: invalid value encountered in double_scalars\n",
      "  return s1 / s2\n"
     ]
    },
    {
     "name": "stdout",
     "output_type": "stream",
     "text": [
      "553/1000\r"
     ]
    },
    {
     "name": "stderr",
     "output_type": "stream",
     "text": [
      "/tmp/ipykernel_3079/2671635211.py:11: RuntimeWarning: invalid value encountered in double_scalars\n",
      "  return s1 / s2\n"
     ]
    },
    {
     "name": "stdout",
     "output_type": "stream",
     "text": [
      "554/1000\r"
     ]
    },
    {
     "name": "stderr",
     "output_type": "stream",
     "text": [
      "/tmp/ipykernel_3079/2671635211.py:11: RuntimeWarning: invalid value encountered in double_scalars\n",
      "  return s1 / s2\n"
     ]
    },
    {
     "name": "stdout",
     "output_type": "stream",
     "text": [
      "555/1000\r"
     ]
    },
    {
     "name": "stderr",
     "output_type": "stream",
     "text": [
      "/tmp/ipykernel_3079/2671635211.py:11: RuntimeWarning: invalid value encountered in double_scalars\n",
      "  return s1 / s2\n"
     ]
    },
    {
     "name": "stdout",
     "output_type": "stream",
     "text": [
      "556/1000\r"
     ]
    },
    {
     "name": "stderr",
     "output_type": "stream",
     "text": [
      "/tmp/ipykernel_3079/2671635211.py:11: RuntimeWarning: invalid value encountered in double_scalars\n",
      "  return s1 / s2\n"
     ]
    },
    {
     "name": "stdout",
     "output_type": "stream",
     "text": [
      "557/1000\r"
     ]
    },
    {
     "name": "stderr",
     "output_type": "stream",
     "text": [
      "/tmp/ipykernel_3079/2671635211.py:11: RuntimeWarning: invalid value encountered in double_scalars\n",
      "  return s1 / s2\n"
     ]
    },
    {
     "name": "stdout",
     "output_type": "stream",
     "text": [
      "558/1000\r"
     ]
    },
    {
     "name": "stderr",
     "output_type": "stream",
     "text": [
      "/tmp/ipykernel_3079/2671635211.py:11: RuntimeWarning: invalid value encountered in double_scalars\n",
      "  return s1 / s2\n"
     ]
    },
    {
     "name": "stdout",
     "output_type": "stream",
     "text": [
      "559/1000\r"
     ]
    },
    {
     "name": "stderr",
     "output_type": "stream",
     "text": [
      "/tmp/ipykernel_3079/2671635211.py:11: RuntimeWarning: invalid value encountered in double_scalars\n",
      "  return s1 / s2\n"
     ]
    },
    {
     "name": "stdout",
     "output_type": "stream",
     "text": [
      "560/1000\r"
     ]
    },
    {
     "name": "stderr",
     "output_type": "stream",
     "text": [
      "/tmp/ipykernel_3079/2671635211.py:11: RuntimeWarning: invalid value encountered in double_scalars\n",
      "  return s1 / s2\n"
     ]
    },
    {
     "name": "stdout",
     "output_type": "stream",
     "text": [
      "561/1000\r"
     ]
    },
    {
     "name": "stderr",
     "output_type": "stream",
     "text": [
      "/tmp/ipykernel_3079/2671635211.py:11: RuntimeWarning: invalid value encountered in double_scalars\n",
      "  return s1 / s2\n"
     ]
    },
    {
     "name": "stdout",
     "output_type": "stream",
     "text": [
      "562/1000\r"
     ]
    },
    {
     "name": "stderr",
     "output_type": "stream",
     "text": [
      "/tmp/ipykernel_3079/2671635211.py:11: RuntimeWarning: invalid value encountered in double_scalars\n",
      "  return s1 / s2\n"
     ]
    },
    {
     "name": "stdout",
     "output_type": "stream",
     "text": [
      "563/1000\r"
     ]
    },
    {
     "name": "stderr",
     "output_type": "stream",
     "text": [
      "/tmp/ipykernel_3079/2671635211.py:11: RuntimeWarning: invalid value encountered in double_scalars\n",
      "  return s1 / s2\n"
     ]
    },
    {
     "name": "stdout",
     "output_type": "stream",
     "text": [
      "564/1000\r"
     ]
    },
    {
     "name": "stderr",
     "output_type": "stream",
     "text": [
      "/tmp/ipykernel_3079/2671635211.py:11: RuntimeWarning: invalid value encountered in double_scalars\n",
      "  return s1 / s2\n"
     ]
    },
    {
     "name": "stdout",
     "output_type": "stream",
     "text": [
      "565/1000\r"
     ]
    },
    {
     "name": "stderr",
     "output_type": "stream",
     "text": [
      "/tmp/ipykernel_3079/2671635211.py:11: RuntimeWarning: invalid value encountered in double_scalars\n",
      "  return s1 / s2\n"
     ]
    },
    {
     "name": "stdout",
     "output_type": "stream",
     "text": [
      "566/1000\r"
     ]
    },
    {
     "name": "stderr",
     "output_type": "stream",
     "text": [
      "/tmp/ipykernel_3079/2671635211.py:11: RuntimeWarning: invalid value encountered in double_scalars\n",
      "  return s1 / s2\n"
     ]
    },
    {
     "name": "stdout",
     "output_type": "stream",
     "text": [
      "567/1000\r"
     ]
    },
    {
     "name": "stderr",
     "output_type": "stream",
     "text": [
      "/tmp/ipykernel_3079/2671635211.py:11: RuntimeWarning: invalid value encountered in double_scalars\n",
      "  return s1 / s2\n"
     ]
    },
    {
     "name": "stdout",
     "output_type": "stream",
     "text": [
      "568/1000\r"
     ]
    },
    {
     "name": "stderr",
     "output_type": "stream",
     "text": [
      "/tmp/ipykernel_3079/2671635211.py:11: RuntimeWarning: invalid value encountered in double_scalars\n",
      "  return s1 / s2\n"
     ]
    },
    {
     "name": "stdout",
     "output_type": "stream",
     "text": [
      "569/1000\r"
     ]
    },
    {
     "name": "stderr",
     "output_type": "stream",
     "text": [
      "/tmp/ipykernel_3079/2671635211.py:11: RuntimeWarning: invalid value encountered in double_scalars\n",
      "  return s1 / s2\n"
     ]
    },
    {
     "name": "stdout",
     "output_type": "stream",
     "text": [
      "570/1000\r"
     ]
    },
    {
     "name": "stderr",
     "output_type": "stream",
     "text": [
      "/tmp/ipykernel_3079/2671635211.py:11: RuntimeWarning: invalid value encountered in double_scalars\n",
      "  return s1 / s2\n"
     ]
    },
    {
     "name": "stdout",
     "output_type": "stream",
     "text": [
      "571/1000\r"
     ]
    },
    {
     "name": "stderr",
     "output_type": "stream",
     "text": [
      "/tmp/ipykernel_3079/2671635211.py:11: RuntimeWarning: invalid value encountered in double_scalars\n",
      "  return s1 / s2\n"
     ]
    },
    {
     "name": "stdout",
     "output_type": "stream",
     "text": [
      "572/1000\r"
     ]
    },
    {
     "name": "stderr",
     "output_type": "stream",
     "text": [
      "/tmp/ipykernel_3079/2671635211.py:11: RuntimeWarning: invalid value encountered in double_scalars\n",
      "  return s1 / s2\n"
     ]
    },
    {
     "name": "stdout",
     "output_type": "stream",
     "text": [
      "573/1000\r"
     ]
    },
    {
     "name": "stderr",
     "output_type": "stream",
     "text": [
      "/tmp/ipykernel_3079/2671635211.py:11: RuntimeWarning: invalid value encountered in double_scalars\n",
      "  return s1 / s2\n"
     ]
    },
    {
     "name": "stdout",
     "output_type": "stream",
     "text": [
      "574/1000\r"
     ]
    },
    {
     "name": "stderr",
     "output_type": "stream",
     "text": [
      "/tmp/ipykernel_3079/2671635211.py:11: RuntimeWarning: invalid value encountered in double_scalars\n",
      "  return s1 / s2\n"
     ]
    },
    {
     "name": "stdout",
     "output_type": "stream",
     "text": [
      "575/1000\r"
     ]
    },
    {
     "name": "stderr",
     "output_type": "stream",
     "text": [
      "/tmp/ipykernel_3079/2671635211.py:11: RuntimeWarning: invalid value encountered in double_scalars\n",
      "  return s1 / s2\n"
     ]
    },
    {
     "name": "stdout",
     "output_type": "stream",
     "text": [
      "576/1000\r"
     ]
    },
    {
     "name": "stderr",
     "output_type": "stream",
     "text": [
      "/tmp/ipykernel_3079/2671635211.py:11: RuntimeWarning: invalid value encountered in double_scalars\n",
      "  return s1 / s2\n"
     ]
    },
    {
     "name": "stdout",
     "output_type": "stream",
     "text": [
      "577/1000\r"
     ]
    },
    {
     "name": "stderr",
     "output_type": "stream",
     "text": [
      "/tmp/ipykernel_3079/2671635211.py:11: RuntimeWarning: invalid value encountered in double_scalars\n",
      "  return s1 / s2\n"
     ]
    },
    {
     "name": "stdout",
     "output_type": "stream",
     "text": [
      "578/1000\r"
     ]
    },
    {
     "name": "stderr",
     "output_type": "stream",
     "text": [
      "/tmp/ipykernel_3079/2671635211.py:11: RuntimeWarning: invalid value encountered in double_scalars\n",
      "  return s1 / s2\n"
     ]
    },
    {
     "name": "stdout",
     "output_type": "stream",
     "text": [
      "579/1000\r"
     ]
    },
    {
     "name": "stderr",
     "output_type": "stream",
     "text": [
      "/tmp/ipykernel_3079/2671635211.py:11: RuntimeWarning: invalid value encountered in double_scalars\n",
      "  return s1 / s2\n"
     ]
    },
    {
     "name": "stdout",
     "output_type": "stream",
     "text": [
      "580/1000\r"
     ]
    },
    {
     "name": "stderr",
     "output_type": "stream",
     "text": [
      "/tmp/ipykernel_3079/2671635211.py:11: RuntimeWarning: invalid value encountered in double_scalars\n",
      "  return s1 / s2\n"
     ]
    },
    {
     "name": "stdout",
     "output_type": "stream",
     "text": [
      "581/1000\r"
     ]
    },
    {
     "name": "stderr",
     "output_type": "stream",
     "text": [
      "/tmp/ipykernel_3079/2671635211.py:11: RuntimeWarning: invalid value encountered in double_scalars\n",
      "  return s1 / s2\n"
     ]
    },
    {
     "name": "stdout",
     "output_type": "stream",
     "text": [
      "582/1000\r"
     ]
    },
    {
     "name": "stderr",
     "output_type": "stream",
     "text": [
      "/tmp/ipykernel_3079/2671635211.py:11: RuntimeWarning: invalid value encountered in double_scalars\n",
      "  return s1 / s2\n"
     ]
    },
    {
     "name": "stdout",
     "output_type": "stream",
     "text": [
      "583/1000\r"
     ]
    },
    {
     "name": "stderr",
     "output_type": "stream",
     "text": [
      "/tmp/ipykernel_3079/2671635211.py:11: RuntimeWarning: invalid value encountered in double_scalars\n",
      "  return s1 / s2\n"
     ]
    },
    {
     "name": "stdout",
     "output_type": "stream",
     "text": [
      "584/1000\r"
     ]
    },
    {
     "name": "stderr",
     "output_type": "stream",
     "text": [
      "/tmp/ipykernel_3079/2671635211.py:11: RuntimeWarning: invalid value encountered in double_scalars\n",
      "  return s1 / s2\n"
     ]
    },
    {
     "name": "stdout",
     "output_type": "stream",
     "text": [
      "585/1000\r"
     ]
    },
    {
     "name": "stderr",
     "output_type": "stream",
     "text": [
      "/tmp/ipykernel_3079/2671635211.py:11: RuntimeWarning: invalid value encountered in double_scalars\n",
      "  return s1 / s2\n"
     ]
    },
    {
     "name": "stdout",
     "output_type": "stream",
     "text": [
      "586/1000\r"
     ]
    },
    {
     "name": "stderr",
     "output_type": "stream",
     "text": [
      "/tmp/ipykernel_3079/2671635211.py:11: RuntimeWarning: invalid value encountered in double_scalars\n",
      "  return s1 / s2\n"
     ]
    },
    {
     "name": "stdout",
     "output_type": "stream",
     "text": [
      "587/1000\r"
     ]
    },
    {
     "name": "stderr",
     "output_type": "stream",
     "text": [
      "/tmp/ipykernel_3079/2671635211.py:11: RuntimeWarning: invalid value encountered in double_scalars\n",
      "  return s1 / s2\n"
     ]
    },
    {
     "name": "stdout",
     "output_type": "stream",
     "text": [
      "588/1000\r"
     ]
    },
    {
     "name": "stderr",
     "output_type": "stream",
     "text": [
      "/tmp/ipykernel_3079/2671635211.py:11: RuntimeWarning: invalid value encountered in double_scalars\n",
      "  return s1 / s2\n"
     ]
    },
    {
     "name": "stdout",
     "output_type": "stream",
     "text": [
      "589/1000\r"
     ]
    },
    {
     "name": "stderr",
     "output_type": "stream",
     "text": [
      "/tmp/ipykernel_3079/2671635211.py:11: RuntimeWarning: invalid value encountered in double_scalars\n",
      "  return s1 / s2\n"
     ]
    },
    {
     "name": "stdout",
     "output_type": "stream",
     "text": [
      "590/1000\r"
     ]
    },
    {
     "name": "stderr",
     "output_type": "stream",
     "text": [
      "/tmp/ipykernel_3079/2671635211.py:11: RuntimeWarning: invalid value encountered in double_scalars\n",
      "  return s1 / s2\n"
     ]
    },
    {
     "name": "stdout",
     "output_type": "stream",
     "text": [
      "591/1000\r"
     ]
    },
    {
     "name": "stderr",
     "output_type": "stream",
     "text": [
      "/tmp/ipykernel_3079/2671635211.py:11: RuntimeWarning: invalid value encountered in double_scalars\n",
      "  return s1 / s2\n"
     ]
    },
    {
     "name": "stdout",
     "output_type": "stream",
     "text": [
      "592/1000\r"
     ]
    },
    {
     "name": "stderr",
     "output_type": "stream",
     "text": [
      "/tmp/ipykernel_3079/2671635211.py:11: RuntimeWarning: invalid value encountered in double_scalars\n",
      "  return s1 / s2\n"
     ]
    },
    {
     "name": "stdout",
     "output_type": "stream",
     "text": [
      "593/1000\r"
     ]
    },
    {
     "name": "stderr",
     "output_type": "stream",
     "text": [
      "/tmp/ipykernel_3079/2671635211.py:11: RuntimeWarning: invalid value encountered in double_scalars\n",
      "  return s1 / s2\n"
     ]
    },
    {
     "name": "stdout",
     "output_type": "stream",
     "text": [
      "594/1000\r"
     ]
    },
    {
     "name": "stderr",
     "output_type": "stream",
     "text": [
      "/tmp/ipykernel_3079/2671635211.py:11: RuntimeWarning: invalid value encountered in double_scalars\n",
      "  return s1 / s2\n"
     ]
    },
    {
     "name": "stdout",
     "output_type": "stream",
     "text": [
      "595/1000\r"
     ]
    },
    {
     "name": "stderr",
     "output_type": "stream",
     "text": [
      "/tmp/ipykernel_3079/2671635211.py:11: RuntimeWarning: invalid value encountered in double_scalars\n",
      "  return s1 / s2\n"
     ]
    },
    {
     "name": "stdout",
     "output_type": "stream",
     "text": [
      "596/1000\r"
     ]
    },
    {
     "name": "stderr",
     "output_type": "stream",
     "text": [
      "/tmp/ipykernel_3079/2671635211.py:11: RuntimeWarning: invalid value encountered in double_scalars\n",
      "  return s1 / s2\n"
     ]
    },
    {
     "name": "stdout",
     "output_type": "stream",
     "text": [
      "597/1000\r"
     ]
    },
    {
     "name": "stderr",
     "output_type": "stream",
     "text": [
      "/tmp/ipykernel_3079/2671635211.py:11: RuntimeWarning: invalid value encountered in double_scalars\n",
      "  return s1 / s2\n"
     ]
    },
    {
     "name": "stdout",
     "output_type": "stream",
     "text": [
      "598/1000\r"
     ]
    },
    {
     "name": "stderr",
     "output_type": "stream",
     "text": [
      "/tmp/ipykernel_3079/2671635211.py:11: RuntimeWarning: invalid value encountered in double_scalars\n",
      "  return s1 / s2\n"
     ]
    },
    {
     "name": "stdout",
     "output_type": "stream",
     "text": [
      "599/1000\r"
     ]
    },
    {
     "name": "stderr",
     "output_type": "stream",
     "text": [
      "/tmp/ipykernel_3079/2671635211.py:11: RuntimeWarning: invalid value encountered in double_scalars\n",
      "  return s1 / s2\n"
     ]
    },
    {
     "name": "stdout",
     "output_type": "stream",
     "text": [
      "600/1000\r"
     ]
    },
    {
     "name": "stderr",
     "output_type": "stream",
     "text": [
      "/tmp/ipykernel_3079/2671635211.py:11: RuntimeWarning: invalid value encountered in double_scalars\n",
      "  return s1 / s2\n"
     ]
    },
    {
     "name": "stdout",
     "output_type": "stream",
     "text": [
      "601/1000\r"
     ]
    },
    {
     "name": "stderr",
     "output_type": "stream",
     "text": [
      "/tmp/ipykernel_3079/2671635211.py:11: RuntimeWarning: invalid value encountered in double_scalars\n",
      "  return s1 / s2\n"
     ]
    },
    {
     "name": "stdout",
     "output_type": "stream",
     "text": [
      "602/1000\r"
     ]
    },
    {
     "name": "stderr",
     "output_type": "stream",
     "text": [
      "/tmp/ipykernel_3079/2671635211.py:11: RuntimeWarning: invalid value encountered in double_scalars\n",
      "  return s1 / s2\n"
     ]
    },
    {
     "name": "stdout",
     "output_type": "stream",
     "text": [
      "603/1000\r"
     ]
    },
    {
     "name": "stderr",
     "output_type": "stream",
     "text": [
      "/tmp/ipykernel_3079/2671635211.py:11: RuntimeWarning: invalid value encountered in double_scalars\n",
      "  return s1 / s2\n"
     ]
    },
    {
     "name": "stdout",
     "output_type": "stream",
     "text": [
      "604/1000\r"
     ]
    },
    {
     "name": "stderr",
     "output_type": "stream",
     "text": [
      "/tmp/ipykernel_3079/2671635211.py:11: RuntimeWarning: invalid value encountered in double_scalars\n",
      "  return s1 / s2\n"
     ]
    },
    {
     "name": "stdout",
     "output_type": "stream",
     "text": [
      "605/1000\r"
     ]
    },
    {
     "name": "stderr",
     "output_type": "stream",
     "text": [
      "/tmp/ipykernel_3079/2671635211.py:11: RuntimeWarning: invalid value encountered in double_scalars\n",
      "  return s1 / s2\n"
     ]
    },
    {
     "name": "stdout",
     "output_type": "stream",
     "text": [
      "606/1000\r"
     ]
    },
    {
     "name": "stderr",
     "output_type": "stream",
     "text": [
      "/tmp/ipykernel_3079/2671635211.py:11: RuntimeWarning: invalid value encountered in double_scalars\n",
      "  return s1 / s2\n"
     ]
    },
    {
     "name": "stdout",
     "output_type": "stream",
     "text": [
      "607/1000\r"
     ]
    },
    {
     "name": "stderr",
     "output_type": "stream",
     "text": [
      "/tmp/ipykernel_3079/2671635211.py:11: RuntimeWarning: invalid value encountered in double_scalars\n",
      "  return s1 / s2\n"
     ]
    },
    {
     "name": "stdout",
     "output_type": "stream",
     "text": [
      "608/1000\r"
     ]
    },
    {
     "name": "stderr",
     "output_type": "stream",
     "text": [
      "/tmp/ipykernel_3079/2671635211.py:11: RuntimeWarning: invalid value encountered in double_scalars\n",
      "  return s1 / s2\n"
     ]
    },
    {
     "name": "stdout",
     "output_type": "stream",
     "text": [
      "609/1000\r"
     ]
    },
    {
     "name": "stderr",
     "output_type": "stream",
     "text": [
      "/tmp/ipykernel_3079/2671635211.py:11: RuntimeWarning: invalid value encountered in double_scalars\n",
      "  return s1 / s2\n"
     ]
    },
    {
     "name": "stdout",
     "output_type": "stream",
     "text": [
      "610/1000\r"
     ]
    },
    {
     "name": "stderr",
     "output_type": "stream",
     "text": [
      "/tmp/ipykernel_3079/2671635211.py:11: RuntimeWarning: invalid value encountered in double_scalars\n",
      "  return s1 / s2\n"
     ]
    },
    {
     "name": "stdout",
     "output_type": "stream",
     "text": [
      "611/1000\r"
     ]
    },
    {
     "name": "stderr",
     "output_type": "stream",
     "text": [
      "/tmp/ipykernel_3079/2671635211.py:11: RuntimeWarning: invalid value encountered in double_scalars\n",
      "  return s1 / s2\n"
     ]
    },
    {
     "name": "stdout",
     "output_type": "stream",
     "text": [
      "612/1000\r"
     ]
    },
    {
     "name": "stderr",
     "output_type": "stream",
     "text": [
      "/tmp/ipykernel_3079/2671635211.py:11: RuntimeWarning: invalid value encountered in double_scalars\n",
      "  return s1 / s2\n"
     ]
    },
    {
     "name": "stdout",
     "output_type": "stream",
     "text": [
      "613/1000\r"
     ]
    },
    {
     "name": "stderr",
     "output_type": "stream",
     "text": [
      "/tmp/ipykernel_3079/2671635211.py:11: RuntimeWarning: invalid value encountered in double_scalars\n",
      "  return s1 / s2\n"
     ]
    },
    {
     "name": "stdout",
     "output_type": "stream",
     "text": [
      "614/1000\r"
     ]
    },
    {
     "name": "stderr",
     "output_type": "stream",
     "text": [
      "/tmp/ipykernel_3079/2671635211.py:11: RuntimeWarning: invalid value encountered in double_scalars\n",
      "  return s1 / s2\n"
     ]
    },
    {
     "name": "stdout",
     "output_type": "stream",
     "text": [
      "615/1000\r"
     ]
    },
    {
     "name": "stderr",
     "output_type": "stream",
     "text": [
      "/tmp/ipykernel_3079/2671635211.py:11: RuntimeWarning: invalid value encountered in double_scalars\n",
      "  return s1 / s2\n"
     ]
    },
    {
     "name": "stdout",
     "output_type": "stream",
     "text": [
      "616/1000\r"
     ]
    },
    {
     "name": "stderr",
     "output_type": "stream",
     "text": [
      "/tmp/ipykernel_3079/2671635211.py:11: RuntimeWarning: invalid value encountered in double_scalars\n",
      "  return s1 / s2\n"
     ]
    },
    {
     "name": "stdout",
     "output_type": "stream",
     "text": [
      "617/1000\r"
     ]
    },
    {
     "name": "stderr",
     "output_type": "stream",
     "text": [
      "/tmp/ipykernel_3079/2671635211.py:11: RuntimeWarning: invalid value encountered in double_scalars\n",
      "  return s1 / s2\n"
     ]
    },
    {
     "name": "stdout",
     "output_type": "stream",
     "text": [
      "618/1000\r"
     ]
    },
    {
     "name": "stderr",
     "output_type": "stream",
     "text": [
      "/tmp/ipykernel_3079/2671635211.py:11: RuntimeWarning: invalid value encountered in double_scalars\n",
      "  return s1 / s2\n"
     ]
    },
    {
     "name": "stdout",
     "output_type": "stream",
     "text": [
      "619/1000\r"
     ]
    },
    {
     "name": "stderr",
     "output_type": "stream",
     "text": [
      "/tmp/ipykernel_3079/2671635211.py:11: RuntimeWarning: invalid value encountered in double_scalars\n",
      "  return s1 / s2\n"
     ]
    },
    {
     "name": "stdout",
     "output_type": "stream",
     "text": [
      "620/1000\r"
     ]
    },
    {
     "name": "stderr",
     "output_type": "stream",
     "text": [
      "/tmp/ipykernel_3079/2671635211.py:11: RuntimeWarning: invalid value encountered in double_scalars\n",
      "  return s1 / s2\n"
     ]
    },
    {
     "name": "stdout",
     "output_type": "stream",
     "text": [
      "621/1000\r"
     ]
    },
    {
     "name": "stderr",
     "output_type": "stream",
     "text": [
      "/tmp/ipykernel_3079/2671635211.py:11: RuntimeWarning: invalid value encountered in double_scalars\n",
      "  return s1 / s2\n"
     ]
    },
    {
     "name": "stdout",
     "output_type": "stream",
     "text": [
      "622/1000\r"
     ]
    },
    {
     "name": "stderr",
     "output_type": "stream",
     "text": [
      "/tmp/ipykernel_3079/2671635211.py:11: RuntimeWarning: invalid value encountered in double_scalars\n",
      "  return s1 / s2\n"
     ]
    },
    {
     "name": "stdout",
     "output_type": "stream",
     "text": [
      "623/1000\r"
     ]
    },
    {
     "name": "stderr",
     "output_type": "stream",
     "text": [
      "/tmp/ipykernel_3079/2671635211.py:11: RuntimeWarning: invalid value encountered in double_scalars\n",
      "  return s1 / s2\n"
     ]
    },
    {
     "name": "stdout",
     "output_type": "stream",
     "text": [
      "624/1000\r"
     ]
    },
    {
     "name": "stderr",
     "output_type": "stream",
     "text": [
      "/tmp/ipykernel_3079/2671635211.py:11: RuntimeWarning: invalid value encountered in double_scalars\n",
      "  return s1 / s2\n"
     ]
    },
    {
     "name": "stdout",
     "output_type": "stream",
     "text": [
      "625/1000\r"
     ]
    },
    {
     "name": "stderr",
     "output_type": "stream",
     "text": [
      "/tmp/ipykernel_3079/2671635211.py:11: RuntimeWarning: invalid value encountered in double_scalars\n",
      "  return s1 / s2\n"
     ]
    },
    {
     "name": "stdout",
     "output_type": "stream",
     "text": [
      "626/1000\r"
     ]
    },
    {
     "name": "stderr",
     "output_type": "stream",
     "text": [
      "/tmp/ipykernel_3079/2671635211.py:11: RuntimeWarning: invalid value encountered in double_scalars\n",
      "  return s1 / s2\n"
     ]
    },
    {
     "name": "stdout",
     "output_type": "stream",
     "text": [
      "627/1000\r"
     ]
    },
    {
     "name": "stderr",
     "output_type": "stream",
     "text": [
      "/tmp/ipykernel_3079/2671635211.py:11: RuntimeWarning: invalid value encountered in double_scalars\n",
      "  return s1 / s2\n"
     ]
    },
    {
     "name": "stdout",
     "output_type": "stream",
     "text": [
      "628/1000\r"
     ]
    },
    {
     "name": "stderr",
     "output_type": "stream",
     "text": [
      "/tmp/ipykernel_3079/2671635211.py:11: RuntimeWarning: invalid value encountered in double_scalars\n",
      "  return s1 / s2\n"
     ]
    },
    {
     "name": "stdout",
     "output_type": "stream",
     "text": [
      "629/1000\r"
     ]
    },
    {
     "name": "stderr",
     "output_type": "stream",
     "text": [
      "/tmp/ipykernel_3079/2671635211.py:11: RuntimeWarning: invalid value encountered in double_scalars\n",
      "  return s1 / s2\n"
     ]
    },
    {
     "name": "stdout",
     "output_type": "stream",
     "text": [
      "630/1000\r"
     ]
    },
    {
     "name": "stderr",
     "output_type": "stream",
     "text": [
      "/tmp/ipykernel_3079/2671635211.py:11: RuntimeWarning: invalid value encountered in double_scalars\n",
      "  return s1 / s2\n"
     ]
    },
    {
     "name": "stdout",
     "output_type": "stream",
     "text": [
      "631/1000\r"
     ]
    },
    {
     "name": "stderr",
     "output_type": "stream",
     "text": [
      "/tmp/ipykernel_3079/2671635211.py:11: RuntimeWarning: invalid value encountered in double_scalars\n",
      "  return s1 / s2\n"
     ]
    },
    {
     "name": "stdout",
     "output_type": "stream",
     "text": [
      "632/1000\r"
     ]
    },
    {
     "name": "stderr",
     "output_type": "stream",
     "text": [
      "/tmp/ipykernel_3079/2671635211.py:11: RuntimeWarning: invalid value encountered in double_scalars\n",
      "  return s1 / s2\n"
     ]
    },
    {
     "name": "stdout",
     "output_type": "stream",
     "text": [
      "633/1000\r"
     ]
    },
    {
     "name": "stderr",
     "output_type": "stream",
     "text": [
      "/tmp/ipykernel_3079/2671635211.py:11: RuntimeWarning: invalid value encountered in double_scalars\n",
      "  return s1 / s2\n"
     ]
    },
    {
     "name": "stdout",
     "output_type": "stream",
     "text": [
      "634/1000\r"
     ]
    },
    {
     "name": "stderr",
     "output_type": "stream",
     "text": [
      "/tmp/ipykernel_3079/2671635211.py:11: RuntimeWarning: invalid value encountered in double_scalars\n",
      "  return s1 / s2\n"
     ]
    },
    {
     "name": "stdout",
     "output_type": "stream",
     "text": [
      "635/1000\r"
     ]
    },
    {
     "name": "stderr",
     "output_type": "stream",
     "text": [
      "/tmp/ipykernel_3079/2671635211.py:11: RuntimeWarning: invalid value encountered in double_scalars\n",
      "  return s1 / s2\n"
     ]
    },
    {
     "name": "stdout",
     "output_type": "stream",
     "text": [
      "636/1000\r"
     ]
    },
    {
     "name": "stderr",
     "output_type": "stream",
     "text": [
      "/tmp/ipykernel_3079/2671635211.py:11: RuntimeWarning: invalid value encountered in double_scalars\n",
      "  return s1 / s2\n"
     ]
    },
    {
     "name": "stdout",
     "output_type": "stream",
     "text": [
      "637/1000\r"
     ]
    },
    {
     "name": "stderr",
     "output_type": "stream",
     "text": [
      "/tmp/ipykernel_3079/2671635211.py:11: RuntimeWarning: invalid value encountered in double_scalars\n",
      "  return s1 / s2\n"
     ]
    },
    {
     "name": "stdout",
     "output_type": "stream",
     "text": [
      "638/1000\r"
     ]
    },
    {
     "name": "stderr",
     "output_type": "stream",
     "text": [
      "/tmp/ipykernel_3079/2671635211.py:11: RuntimeWarning: invalid value encountered in double_scalars\n",
      "  return s1 / s2\n"
     ]
    },
    {
     "name": "stdout",
     "output_type": "stream",
     "text": [
      "639/1000\r"
     ]
    },
    {
     "name": "stderr",
     "output_type": "stream",
     "text": [
      "/tmp/ipykernel_3079/2671635211.py:11: RuntimeWarning: invalid value encountered in double_scalars\n",
      "  return s1 / s2\n"
     ]
    },
    {
     "name": "stdout",
     "output_type": "stream",
     "text": [
      "640/1000\r"
     ]
    },
    {
     "name": "stderr",
     "output_type": "stream",
     "text": [
      "/tmp/ipykernel_3079/2671635211.py:11: RuntimeWarning: invalid value encountered in double_scalars\n",
      "  return s1 / s2\n"
     ]
    },
    {
     "name": "stdout",
     "output_type": "stream",
     "text": [
      "641/1000\r"
     ]
    },
    {
     "name": "stderr",
     "output_type": "stream",
     "text": [
      "/tmp/ipykernel_3079/2671635211.py:11: RuntimeWarning: invalid value encountered in double_scalars\n",
      "  return s1 / s2\n"
     ]
    },
    {
     "name": "stdout",
     "output_type": "stream",
     "text": [
      "642/1000\r"
     ]
    },
    {
     "name": "stderr",
     "output_type": "stream",
     "text": [
      "/tmp/ipykernel_3079/2671635211.py:11: RuntimeWarning: invalid value encountered in double_scalars\n",
      "  return s1 / s2\n"
     ]
    },
    {
     "name": "stdout",
     "output_type": "stream",
     "text": [
      "643/1000\r"
     ]
    },
    {
     "name": "stderr",
     "output_type": "stream",
     "text": [
      "/tmp/ipykernel_3079/2671635211.py:11: RuntimeWarning: invalid value encountered in double_scalars\n",
      "  return s1 / s2\n"
     ]
    },
    {
     "name": "stdout",
     "output_type": "stream",
     "text": [
      "644/1000\r"
     ]
    },
    {
     "name": "stderr",
     "output_type": "stream",
     "text": [
      "/tmp/ipykernel_3079/2671635211.py:11: RuntimeWarning: invalid value encountered in double_scalars\n",
      "  return s1 / s2\n"
     ]
    },
    {
     "name": "stdout",
     "output_type": "stream",
     "text": [
      "645/1000\r"
     ]
    },
    {
     "name": "stderr",
     "output_type": "stream",
     "text": [
      "/tmp/ipykernel_3079/2671635211.py:11: RuntimeWarning: invalid value encountered in double_scalars\n",
      "  return s1 / s2\n"
     ]
    },
    {
     "name": "stdout",
     "output_type": "stream",
     "text": [
      "646/1000\r"
     ]
    },
    {
     "name": "stderr",
     "output_type": "stream",
     "text": [
      "/tmp/ipykernel_3079/2671635211.py:11: RuntimeWarning: invalid value encountered in double_scalars\n",
      "  return s1 / s2\n"
     ]
    },
    {
     "name": "stdout",
     "output_type": "stream",
     "text": [
      "647/1000\r"
     ]
    },
    {
     "name": "stderr",
     "output_type": "stream",
     "text": [
      "/tmp/ipykernel_3079/2671635211.py:11: RuntimeWarning: invalid value encountered in double_scalars\n",
      "  return s1 / s2\n"
     ]
    },
    {
     "name": "stdout",
     "output_type": "stream",
     "text": [
      "648/1000\r"
     ]
    },
    {
     "name": "stderr",
     "output_type": "stream",
     "text": [
      "/tmp/ipykernel_3079/2671635211.py:11: RuntimeWarning: invalid value encountered in double_scalars\n",
      "  return s1 / s2\n"
     ]
    },
    {
     "name": "stdout",
     "output_type": "stream",
     "text": [
      "649/1000\r"
     ]
    },
    {
     "name": "stderr",
     "output_type": "stream",
     "text": [
      "/tmp/ipykernel_3079/2671635211.py:11: RuntimeWarning: invalid value encountered in double_scalars\n",
      "  return s1 / s2\n"
     ]
    },
    {
     "name": "stdout",
     "output_type": "stream",
     "text": [
      "650/1000\r"
     ]
    },
    {
     "name": "stderr",
     "output_type": "stream",
     "text": [
      "/tmp/ipykernel_3079/2671635211.py:11: RuntimeWarning: invalid value encountered in double_scalars\n",
      "  return s1 / s2\n"
     ]
    },
    {
     "name": "stdout",
     "output_type": "stream",
     "text": [
      "651/1000\r"
     ]
    },
    {
     "name": "stderr",
     "output_type": "stream",
     "text": [
      "/tmp/ipykernel_3079/2671635211.py:11: RuntimeWarning: invalid value encountered in double_scalars\n",
      "  return s1 / s2\n"
     ]
    },
    {
     "name": "stdout",
     "output_type": "stream",
     "text": [
      "652/1000\r"
     ]
    },
    {
     "name": "stderr",
     "output_type": "stream",
     "text": [
      "/tmp/ipykernel_3079/2671635211.py:11: RuntimeWarning: invalid value encountered in double_scalars\n",
      "  return s1 / s2\n"
     ]
    },
    {
     "name": "stdout",
     "output_type": "stream",
     "text": [
      "653/1000\r"
     ]
    },
    {
     "name": "stderr",
     "output_type": "stream",
     "text": [
      "/tmp/ipykernel_3079/2671635211.py:11: RuntimeWarning: invalid value encountered in double_scalars\n",
      "  return s1 / s2\n"
     ]
    },
    {
     "name": "stdout",
     "output_type": "stream",
     "text": [
      "654/1000\r"
     ]
    },
    {
     "name": "stderr",
     "output_type": "stream",
     "text": [
      "/tmp/ipykernel_3079/2671635211.py:11: RuntimeWarning: invalid value encountered in double_scalars\n",
      "  return s1 / s2\n"
     ]
    },
    {
     "name": "stdout",
     "output_type": "stream",
     "text": [
      "655/1000\r"
     ]
    },
    {
     "name": "stderr",
     "output_type": "stream",
     "text": [
      "/tmp/ipykernel_3079/2671635211.py:11: RuntimeWarning: invalid value encountered in double_scalars\n",
      "  return s1 / s2\n"
     ]
    },
    {
     "name": "stdout",
     "output_type": "stream",
     "text": [
      "656/1000\r"
     ]
    },
    {
     "name": "stderr",
     "output_type": "stream",
     "text": [
      "/tmp/ipykernel_3079/2671635211.py:11: RuntimeWarning: invalid value encountered in double_scalars\n",
      "  return s1 / s2\n"
     ]
    },
    {
     "name": "stdout",
     "output_type": "stream",
     "text": [
      "657/1000\r"
     ]
    },
    {
     "name": "stderr",
     "output_type": "stream",
     "text": [
      "/tmp/ipykernel_3079/2671635211.py:11: RuntimeWarning: invalid value encountered in double_scalars\n",
      "  return s1 / s2\n"
     ]
    },
    {
     "name": "stdout",
     "output_type": "stream",
     "text": [
      "658/1000\r"
     ]
    },
    {
     "name": "stderr",
     "output_type": "stream",
     "text": [
      "/tmp/ipykernel_3079/2671635211.py:11: RuntimeWarning: invalid value encountered in double_scalars\n",
      "  return s1 / s2\n"
     ]
    },
    {
     "name": "stdout",
     "output_type": "stream",
     "text": [
      "659/1000\r"
     ]
    },
    {
     "name": "stderr",
     "output_type": "stream",
     "text": [
      "/tmp/ipykernel_3079/2671635211.py:11: RuntimeWarning: invalid value encountered in double_scalars\n",
      "  return s1 / s2\n"
     ]
    },
    {
     "name": "stdout",
     "output_type": "stream",
     "text": [
      "660/1000\r"
     ]
    },
    {
     "name": "stderr",
     "output_type": "stream",
     "text": [
      "/tmp/ipykernel_3079/2671635211.py:11: RuntimeWarning: invalid value encountered in double_scalars\n",
      "  return s1 / s2\n"
     ]
    },
    {
     "name": "stdout",
     "output_type": "stream",
     "text": [
      "661/1000\r"
     ]
    },
    {
     "name": "stderr",
     "output_type": "stream",
     "text": [
      "/tmp/ipykernel_3079/2671635211.py:11: RuntimeWarning: invalid value encountered in double_scalars\n",
      "  return s1 / s2\n"
     ]
    },
    {
     "name": "stdout",
     "output_type": "stream",
     "text": [
      "662/1000\r"
     ]
    },
    {
     "name": "stderr",
     "output_type": "stream",
     "text": [
      "/tmp/ipykernel_3079/2671635211.py:11: RuntimeWarning: invalid value encountered in double_scalars\n",
      "  return s1 / s2\n"
     ]
    },
    {
     "name": "stdout",
     "output_type": "stream",
     "text": [
      "663/1000\r"
     ]
    },
    {
     "name": "stderr",
     "output_type": "stream",
     "text": [
      "/tmp/ipykernel_3079/2671635211.py:11: RuntimeWarning: invalid value encountered in double_scalars\n",
      "  return s1 / s2\n"
     ]
    },
    {
     "name": "stdout",
     "output_type": "stream",
     "text": [
      "664/1000\r"
     ]
    },
    {
     "name": "stderr",
     "output_type": "stream",
     "text": [
      "/tmp/ipykernel_3079/2671635211.py:11: RuntimeWarning: invalid value encountered in double_scalars\n",
      "  return s1 / s2\n"
     ]
    },
    {
     "name": "stdout",
     "output_type": "stream",
     "text": [
      "665/1000\r"
     ]
    },
    {
     "name": "stderr",
     "output_type": "stream",
     "text": [
      "/tmp/ipykernel_3079/2671635211.py:11: RuntimeWarning: invalid value encountered in double_scalars\n",
      "  return s1 / s2\n"
     ]
    },
    {
     "name": "stdout",
     "output_type": "stream",
     "text": [
      "666/1000\r"
     ]
    },
    {
     "name": "stderr",
     "output_type": "stream",
     "text": [
      "/tmp/ipykernel_3079/2671635211.py:11: RuntimeWarning: invalid value encountered in double_scalars\n",
      "  return s1 / s2\n"
     ]
    },
    {
     "name": "stdout",
     "output_type": "stream",
     "text": [
      "667/1000\r"
     ]
    },
    {
     "name": "stderr",
     "output_type": "stream",
     "text": [
      "/tmp/ipykernel_3079/2671635211.py:11: RuntimeWarning: invalid value encountered in double_scalars\n",
      "  return s1 / s2\n"
     ]
    },
    {
     "name": "stdout",
     "output_type": "stream",
     "text": [
      "668/1000\r"
     ]
    },
    {
     "name": "stderr",
     "output_type": "stream",
     "text": [
      "/tmp/ipykernel_3079/2671635211.py:11: RuntimeWarning: invalid value encountered in double_scalars\n",
      "  return s1 / s2\n"
     ]
    },
    {
     "name": "stdout",
     "output_type": "stream",
     "text": [
      "669/1000\r"
     ]
    },
    {
     "name": "stderr",
     "output_type": "stream",
     "text": [
      "/tmp/ipykernel_3079/2671635211.py:11: RuntimeWarning: invalid value encountered in double_scalars\n",
      "  return s1 / s2\n"
     ]
    },
    {
     "name": "stdout",
     "output_type": "stream",
     "text": [
      "670/1000\r"
     ]
    },
    {
     "name": "stderr",
     "output_type": "stream",
     "text": [
      "/tmp/ipykernel_3079/2671635211.py:11: RuntimeWarning: invalid value encountered in double_scalars\n",
      "  return s1 / s2\n"
     ]
    },
    {
     "name": "stdout",
     "output_type": "stream",
     "text": [
      "671/1000\r"
     ]
    },
    {
     "name": "stderr",
     "output_type": "stream",
     "text": [
      "/tmp/ipykernel_3079/2671635211.py:11: RuntimeWarning: invalid value encountered in double_scalars\n",
      "  return s1 / s2\n"
     ]
    },
    {
     "name": "stdout",
     "output_type": "stream",
     "text": [
      "672/1000\r"
     ]
    },
    {
     "name": "stderr",
     "output_type": "stream",
     "text": [
      "/tmp/ipykernel_3079/2671635211.py:11: RuntimeWarning: invalid value encountered in double_scalars\n",
      "  return s1 / s2\n"
     ]
    },
    {
     "name": "stdout",
     "output_type": "stream",
     "text": [
      "673/1000\r"
     ]
    },
    {
     "name": "stderr",
     "output_type": "stream",
     "text": [
      "/tmp/ipykernel_3079/2671635211.py:11: RuntimeWarning: invalid value encountered in double_scalars\n",
      "  return s1 / s2\n"
     ]
    },
    {
     "name": "stdout",
     "output_type": "stream",
     "text": [
      "674/1000\r"
     ]
    },
    {
     "name": "stderr",
     "output_type": "stream",
     "text": [
      "/tmp/ipykernel_3079/2671635211.py:11: RuntimeWarning: invalid value encountered in double_scalars\n",
      "  return s1 / s2\n"
     ]
    },
    {
     "name": "stdout",
     "output_type": "stream",
     "text": [
      "675/1000\r"
     ]
    },
    {
     "name": "stderr",
     "output_type": "stream",
     "text": [
      "/tmp/ipykernel_3079/2671635211.py:11: RuntimeWarning: invalid value encountered in double_scalars\n",
      "  return s1 / s2\n"
     ]
    },
    {
     "name": "stdout",
     "output_type": "stream",
     "text": [
      "676/1000\r"
     ]
    },
    {
     "name": "stderr",
     "output_type": "stream",
     "text": [
      "/tmp/ipykernel_3079/2671635211.py:11: RuntimeWarning: invalid value encountered in double_scalars\n",
      "  return s1 / s2\n"
     ]
    },
    {
     "name": "stdout",
     "output_type": "stream",
     "text": [
      "677/1000\r"
     ]
    },
    {
     "name": "stderr",
     "output_type": "stream",
     "text": [
      "/tmp/ipykernel_3079/2671635211.py:11: RuntimeWarning: invalid value encountered in double_scalars\n",
      "  return s1 / s2\n"
     ]
    },
    {
     "name": "stdout",
     "output_type": "stream",
     "text": [
      "678/1000\r"
     ]
    },
    {
     "name": "stderr",
     "output_type": "stream",
     "text": [
      "/tmp/ipykernel_3079/2671635211.py:11: RuntimeWarning: invalid value encountered in double_scalars\n",
      "  return s1 / s2\n"
     ]
    },
    {
     "name": "stdout",
     "output_type": "stream",
     "text": [
      "679/1000\r"
     ]
    },
    {
     "name": "stderr",
     "output_type": "stream",
     "text": [
      "/tmp/ipykernel_3079/2671635211.py:11: RuntimeWarning: invalid value encountered in double_scalars\n",
      "  return s1 / s2\n"
     ]
    },
    {
     "name": "stdout",
     "output_type": "stream",
     "text": [
      "680/1000\r"
     ]
    },
    {
     "name": "stderr",
     "output_type": "stream",
     "text": [
      "/tmp/ipykernel_3079/2671635211.py:11: RuntimeWarning: invalid value encountered in double_scalars\n",
      "  return s1 / s2\n"
     ]
    },
    {
     "name": "stdout",
     "output_type": "stream",
     "text": [
      "681/1000\r"
     ]
    },
    {
     "name": "stderr",
     "output_type": "stream",
     "text": [
      "/tmp/ipykernel_3079/2671635211.py:11: RuntimeWarning: invalid value encountered in double_scalars\n",
      "  return s1 / s2\n"
     ]
    },
    {
     "name": "stdout",
     "output_type": "stream",
     "text": [
      "682/1000\r"
     ]
    },
    {
     "name": "stderr",
     "output_type": "stream",
     "text": [
      "/tmp/ipykernel_3079/2671635211.py:11: RuntimeWarning: invalid value encountered in double_scalars\n",
      "  return s1 / s2\n"
     ]
    },
    {
     "name": "stdout",
     "output_type": "stream",
     "text": [
      "683/1000\r"
     ]
    },
    {
     "name": "stderr",
     "output_type": "stream",
     "text": [
      "/tmp/ipykernel_3079/2671635211.py:11: RuntimeWarning: invalid value encountered in double_scalars\n",
      "  return s1 / s2\n"
     ]
    },
    {
     "name": "stdout",
     "output_type": "stream",
     "text": [
      "684/1000\r"
     ]
    },
    {
     "name": "stderr",
     "output_type": "stream",
     "text": [
      "/tmp/ipykernel_3079/2671635211.py:11: RuntimeWarning: invalid value encountered in double_scalars\n",
      "  return s1 / s2\n"
     ]
    },
    {
     "name": "stdout",
     "output_type": "stream",
     "text": [
      "685/1000\r"
     ]
    },
    {
     "name": "stderr",
     "output_type": "stream",
     "text": [
      "/tmp/ipykernel_3079/2671635211.py:11: RuntimeWarning: invalid value encountered in double_scalars\n",
      "  return s1 / s2\n"
     ]
    },
    {
     "name": "stdout",
     "output_type": "stream",
     "text": [
      "686/1000\r"
     ]
    },
    {
     "name": "stderr",
     "output_type": "stream",
     "text": [
      "/tmp/ipykernel_3079/2671635211.py:11: RuntimeWarning: invalid value encountered in double_scalars\n",
      "  return s1 / s2\n"
     ]
    },
    {
     "name": "stdout",
     "output_type": "stream",
     "text": [
      "687/1000\r"
     ]
    },
    {
     "name": "stderr",
     "output_type": "stream",
     "text": [
      "/tmp/ipykernel_3079/2671635211.py:11: RuntimeWarning: invalid value encountered in double_scalars\n",
      "  return s1 / s2\n"
     ]
    },
    {
     "name": "stdout",
     "output_type": "stream",
     "text": [
      "688/1000\r"
     ]
    },
    {
     "name": "stderr",
     "output_type": "stream",
     "text": [
      "/tmp/ipykernel_3079/2671635211.py:11: RuntimeWarning: invalid value encountered in double_scalars\n",
      "  return s1 / s2\n"
     ]
    },
    {
     "name": "stdout",
     "output_type": "stream",
     "text": [
      "689/1000\r"
     ]
    },
    {
     "name": "stderr",
     "output_type": "stream",
     "text": [
      "/tmp/ipykernel_3079/2671635211.py:11: RuntimeWarning: invalid value encountered in double_scalars\n",
      "  return s1 / s2\n"
     ]
    },
    {
     "name": "stdout",
     "output_type": "stream",
     "text": [
      "690/1000\r"
     ]
    },
    {
     "name": "stderr",
     "output_type": "stream",
     "text": [
      "/tmp/ipykernel_3079/2671635211.py:11: RuntimeWarning: invalid value encountered in double_scalars\n",
      "  return s1 / s2\n"
     ]
    },
    {
     "name": "stdout",
     "output_type": "stream",
     "text": [
      "691/1000\r"
     ]
    },
    {
     "name": "stderr",
     "output_type": "stream",
     "text": [
      "/tmp/ipykernel_3079/2671635211.py:11: RuntimeWarning: invalid value encountered in double_scalars\n",
      "  return s1 / s2\n"
     ]
    },
    {
     "name": "stdout",
     "output_type": "stream",
     "text": [
      "692/1000\r"
     ]
    },
    {
     "name": "stderr",
     "output_type": "stream",
     "text": [
      "/tmp/ipykernel_3079/2671635211.py:11: RuntimeWarning: invalid value encountered in double_scalars\n",
      "  return s1 / s2\n"
     ]
    },
    {
     "name": "stdout",
     "output_type": "stream",
     "text": [
      "693/1000\r"
     ]
    },
    {
     "name": "stderr",
     "output_type": "stream",
     "text": [
      "/tmp/ipykernel_3079/2671635211.py:11: RuntimeWarning: invalid value encountered in double_scalars\n",
      "  return s1 / s2\n"
     ]
    },
    {
     "name": "stdout",
     "output_type": "stream",
     "text": [
      "694/1000\r"
     ]
    },
    {
     "name": "stderr",
     "output_type": "stream",
     "text": [
      "/tmp/ipykernel_3079/2671635211.py:11: RuntimeWarning: invalid value encountered in double_scalars\n",
      "  return s1 / s2\n"
     ]
    },
    {
     "name": "stdout",
     "output_type": "stream",
     "text": [
      "695/1000\r"
     ]
    },
    {
     "name": "stderr",
     "output_type": "stream",
     "text": [
      "/tmp/ipykernel_3079/2671635211.py:11: RuntimeWarning: invalid value encountered in double_scalars\n",
      "  return s1 / s2\n"
     ]
    },
    {
     "name": "stdout",
     "output_type": "stream",
     "text": [
      "696/1000\r"
     ]
    },
    {
     "name": "stderr",
     "output_type": "stream",
     "text": [
      "/tmp/ipykernel_3079/2671635211.py:11: RuntimeWarning: invalid value encountered in double_scalars\n",
      "  return s1 / s2\n"
     ]
    },
    {
     "name": "stdout",
     "output_type": "stream",
     "text": [
      "697/1000\r"
     ]
    },
    {
     "name": "stderr",
     "output_type": "stream",
     "text": [
      "/tmp/ipykernel_3079/2671635211.py:11: RuntimeWarning: invalid value encountered in double_scalars\n",
      "  return s1 / s2\n"
     ]
    },
    {
     "name": "stdout",
     "output_type": "stream",
     "text": [
      "698/1000\r"
     ]
    },
    {
     "name": "stderr",
     "output_type": "stream",
     "text": [
      "/tmp/ipykernel_3079/2671635211.py:11: RuntimeWarning: invalid value encountered in double_scalars\n",
      "  return s1 / s2\n"
     ]
    },
    {
     "name": "stdout",
     "output_type": "stream",
     "text": [
      "699/1000\r"
     ]
    },
    {
     "name": "stderr",
     "output_type": "stream",
     "text": [
      "/tmp/ipykernel_3079/2671635211.py:11: RuntimeWarning: invalid value encountered in double_scalars\n",
      "  return s1 / s2\n"
     ]
    },
    {
     "name": "stdout",
     "output_type": "stream",
     "text": [
      "700/1000\r"
     ]
    },
    {
     "name": "stderr",
     "output_type": "stream",
     "text": [
      "/tmp/ipykernel_3079/2671635211.py:11: RuntimeWarning: invalid value encountered in double_scalars\n",
      "  return s1 / s2\n"
     ]
    },
    {
     "name": "stdout",
     "output_type": "stream",
     "text": [
      "701/1000\r"
     ]
    },
    {
     "name": "stderr",
     "output_type": "stream",
     "text": [
      "/tmp/ipykernel_3079/2671635211.py:11: RuntimeWarning: invalid value encountered in double_scalars\n",
      "  return s1 / s2\n"
     ]
    },
    {
     "name": "stdout",
     "output_type": "stream",
     "text": [
      "702/1000\r"
     ]
    },
    {
     "name": "stderr",
     "output_type": "stream",
     "text": [
      "/tmp/ipykernel_3079/2671635211.py:11: RuntimeWarning: invalid value encountered in double_scalars\n",
      "  return s1 / s2\n"
     ]
    },
    {
     "name": "stdout",
     "output_type": "stream",
     "text": [
      "703/1000\r"
     ]
    },
    {
     "name": "stderr",
     "output_type": "stream",
     "text": [
      "/tmp/ipykernel_3079/2671635211.py:11: RuntimeWarning: invalid value encountered in double_scalars\n",
      "  return s1 / s2\n"
     ]
    },
    {
     "name": "stdout",
     "output_type": "stream",
     "text": [
      "704/1000\r"
     ]
    },
    {
     "name": "stderr",
     "output_type": "stream",
     "text": [
      "/tmp/ipykernel_3079/2671635211.py:11: RuntimeWarning: invalid value encountered in double_scalars\n",
      "  return s1 / s2\n"
     ]
    },
    {
     "name": "stdout",
     "output_type": "stream",
     "text": [
      "705/1000\r"
     ]
    },
    {
     "name": "stderr",
     "output_type": "stream",
     "text": [
      "/tmp/ipykernel_3079/2671635211.py:11: RuntimeWarning: invalid value encountered in double_scalars\n",
      "  return s1 / s2\n"
     ]
    },
    {
     "name": "stdout",
     "output_type": "stream",
     "text": [
      "706/1000\r"
     ]
    },
    {
     "name": "stderr",
     "output_type": "stream",
     "text": [
      "/tmp/ipykernel_3079/2671635211.py:11: RuntimeWarning: invalid value encountered in double_scalars\n",
      "  return s1 / s2\n"
     ]
    },
    {
     "name": "stdout",
     "output_type": "stream",
     "text": [
      "707/1000\r"
     ]
    },
    {
     "name": "stderr",
     "output_type": "stream",
     "text": [
      "/tmp/ipykernel_3079/2671635211.py:11: RuntimeWarning: invalid value encountered in double_scalars\n",
      "  return s1 / s2\n"
     ]
    },
    {
     "name": "stdout",
     "output_type": "stream",
     "text": [
      "708/1000\r"
     ]
    },
    {
     "name": "stderr",
     "output_type": "stream",
     "text": [
      "/tmp/ipykernel_3079/2671635211.py:11: RuntimeWarning: invalid value encountered in double_scalars\n",
      "  return s1 / s2\n"
     ]
    },
    {
     "name": "stdout",
     "output_type": "stream",
     "text": [
      "709/1000\r"
     ]
    },
    {
     "name": "stderr",
     "output_type": "stream",
     "text": [
      "/tmp/ipykernel_3079/2671635211.py:11: RuntimeWarning: invalid value encountered in double_scalars\n",
      "  return s1 / s2\n"
     ]
    },
    {
     "name": "stdout",
     "output_type": "stream",
     "text": [
      "710/1000\r"
     ]
    },
    {
     "name": "stderr",
     "output_type": "stream",
     "text": [
      "/tmp/ipykernel_3079/2671635211.py:11: RuntimeWarning: invalid value encountered in double_scalars\n",
      "  return s1 / s2\n"
     ]
    },
    {
     "name": "stdout",
     "output_type": "stream",
     "text": [
      "711/1000\r"
     ]
    },
    {
     "name": "stderr",
     "output_type": "stream",
     "text": [
      "/tmp/ipykernel_3079/2671635211.py:11: RuntimeWarning: invalid value encountered in double_scalars\n",
      "  return s1 / s2\n"
     ]
    },
    {
     "name": "stdout",
     "output_type": "stream",
     "text": [
      "712/1000\r"
     ]
    },
    {
     "name": "stderr",
     "output_type": "stream",
     "text": [
      "/tmp/ipykernel_3079/2671635211.py:11: RuntimeWarning: invalid value encountered in double_scalars\n",
      "  return s1 / s2\n"
     ]
    },
    {
     "name": "stdout",
     "output_type": "stream",
     "text": [
      "713/1000\r"
     ]
    },
    {
     "name": "stderr",
     "output_type": "stream",
     "text": [
      "/tmp/ipykernel_3079/2671635211.py:11: RuntimeWarning: invalid value encountered in double_scalars\n",
      "  return s1 / s2\n"
     ]
    },
    {
     "name": "stdout",
     "output_type": "stream",
     "text": [
      "714/1000\r"
     ]
    },
    {
     "name": "stderr",
     "output_type": "stream",
     "text": [
      "/tmp/ipykernel_3079/2671635211.py:11: RuntimeWarning: invalid value encountered in double_scalars\n",
      "  return s1 / s2\n"
     ]
    },
    {
     "name": "stdout",
     "output_type": "stream",
     "text": [
      "715/1000\r"
     ]
    },
    {
     "name": "stderr",
     "output_type": "stream",
     "text": [
      "/tmp/ipykernel_3079/2671635211.py:11: RuntimeWarning: invalid value encountered in double_scalars\n",
      "  return s1 / s2\n"
     ]
    },
    {
     "name": "stdout",
     "output_type": "stream",
     "text": [
      "716/1000\r"
     ]
    },
    {
     "name": "stderr",
     "output_type": "stream",
     "text": [
      "/tmp/ipykernel_3079/2671635211.py:11: RuntimeWarning: invalid value encountered in double_scalars\n",
      "  return s1 / s2\n"
     ]
    },
    {
     "name": "stdout",
     "output_type": "stream",
     "text": [
      "717/1000\r"
     ]
    },
    {
     "name": "stderr",
     "output_type": "stream",
     "text": [
      "/tmp/ipykernel_3079/2671635211.py:11: RuntimeWarning: invalid value encountered in double_scalars\n",
      "  return s1 / s2\n"
     ]
    },
    {
     "name": "stdout",
     "output_type": "stream",
     "text": [
      "718/1000\r"
     ]
    },
    {
     "name": "stderr",
     "output_type": "stream",
     "text": [
      "/tmp/ipykernel_3079/2671635211.py:11: RuntimeWarning: invalid value encountered in double_scalars\n",
      "  return s1 / s2\n"
     ]
    },
    {
     "name": "stdout",
     "output_type": "stream",
     "text": [
      "719/1000\r"
     ]
    },
    {
     "name": "stderr",
     "output_type": "stream",
     "text": [
      "/tmp/ipykernel_3079/2671635211.py:11: RuntimeWarning: invalid value encountered in double_scalars\n",
      "  return s1 / s2\n"
     ]
    },
    {
     "name": "stdout",
     "output_type": "stream",
     "text": [
      "720/1000\r"
     ]
    },
    {
     "name": "stderr",
     "output_type": "stream",
     "text": [
      "/tmp/ipykernel_3079/2671635211.py:11: RuntimeWarning: invalid value encountered in double_scalars\n",
      "  return s1 / s2\n"
     ]
    },
    {
     "name": "stdout",
     "output_type": "stream",
     "text": [
      "721/1000\r"
     ]
    },
    {
     "name": "stderr",
     "output_type": "stream",
     "text": [
      "/tmp/ipykernel_3079/2671635211.py:11: RuntimeWarning: invalid value encountered in double_scalars\n",
      "  return s1 / s2\n"
     ]
    },
    {
     "name": "stdout",
     "output_type": "stream",
     "text": [
      "722/1000\r"
     ]
    },
    {
     "name": "stderr",
     "output_type": "stream",
     "text": [
      "/tmp/ipykernel_3079/2671635211.py:11: RuntimeWarning: invalid value encountered in double_scalars\n",
      "  return s1 / s2\n"
     ]
    },
    {
     "name": "stdout",
     "output_type": "stream",
     "text": [
      "723/1000\r"
     ]
    },
    {
     "name": "stderr",
     "output_type": "stream",
     "text": [
      "/tmp/ipykernel_3079/2671635211.py:11: RuntimeWarning: invalid value encountered in double_scalars\n",
      "  return s1 / s2\n"
     ]
    },
    {
     "name": "stdout",
     "output_type": "stream",
     "text": [
      "724/1000\r"
     ]
    },
    {
     "name": "stderr",
     "output_type": "stream",
     "text": [
      "/tmp/ipykernel_3079/2671635211.py:11: RuntimeWarning: invalid value encountered in double_scalars\n",
      "  return s1 / s2\n"
     ]
    },
    {
     "name": "stdout",
     "output_type": "stream",
     "text": [
      "725/1000\r"
     ]
    },
    {
     "name": "stderr",
     "output_type": "stream",
     "text": [
      "/tmp/ipykernel_3079/2671635211.py:11: RuntimeWarning: invalid value encountered in double_scalars\n",
      "  return s1 / s2\n"
     ]
    },
    {
     "name": "stdout",
     "output_type": "stream",
     "text": [
      "726/1000\r"
     ]
    },
    {
     "name": "stderr",
     "output_type": "stream",
     "text": [
      "/tmp/ipykernel_3079/2671635211.py:11: RuntimeWarning: invalid value encountered in double_scalars\n",
      "  return s1 / s2\n"
     ]
    },
    {
     "name": "stdout",
     "output_type": "stream",
     "text": [
      "727/1000\r"
     ]
    },
    {
     "name": "stderr",
     "output_type": "stream",
     "text": [
      "/tmp/ipykernel_3079/2671635211.py:11: RuntimeWarning: invalid value encountered in double_scalars\n",
      "  return s1 / s2\n"
     ]
    },
    {
     "name": "stdout",
     "output_type": "stream",
     "text": [
      "728/1000\r"
     ]
    },
    {
     "name": "stderr",
     "output_type": "stream",
     "text": [
      "/tmp/ipykernel_3079/2671635211.py:11: RuntimeWarning: invalid value encountered in double_scalars\n",
      "  return s1 / s2\n"
     ]
    },
    {
     "name": "stdout",
     "output_type": "stream",
     "text": [
      "729/1000\r"
     ]
    },
    {
     "name": "stderr",
     "output_type": "stream",
     "text": [
      "/tmp/ipykernel_3079/2671635211.py:11: RuntimeWarning: invalid value encountered in double_scalars\n",
      "  return s1 / s2\n"
     ]
    },
    {
     "name": "stdout",
     "output_type": "stream",
     "text": [
      "730/1000\r"
     ]
    },
    {
     "name": "stderr",
     "output_type": "stream",
     "text": [
      "/tmp/ipykernel_3079/2671635211.py:11: RuntimeWarning: invalid value encountered in double_scalars\n",
      "  return s1 / s2\n"
     ]
    },
    {
     "name": "stdout",
     "output_type": "stream",
     "text": [
      "731/1000\r"
     ]
    },
    {
     "name": "stderr",
     "output_type": "stream",
     "text": [
      "/tmp/ipykernel_3079/2671635211.py:11: RuntimeWarning: invalid value encountered in double_scalars\n",
      "  return s1 / s2\n"
     ]
    },
    {
     "name": "stdout",
     "output_type": "stream",
     "text": [
      "732/1000\r"
     ]
    },
    {
     "name": "stderr",
     "output_type": "stream",
     "text": [
      "/tmp/ipykernel_3079/2671635211.py:11: RuntimeWarning: invalid value encountered in double_scalars\n",
      "  return s1 / s2\n"
     ]
    },
    {
     "name": "stdout",
     "output_type": "stream",
     "text": [
      "733/1000\r"
     ]
    },
    {
     "name": "stderr",
     "output_type": "stream",
     "text": [
      "/tmp/ipykernel_3079/2671635211.py:11: RuntimeWarning: invalid value encountered in double_scalars\n",
      "  return s1 / s2\n"
     ]
    },
    {
     "name": "stdout",
     "output_type": "stream",
     "text": [
      "734/1000\r"
     ]
    },
    {
     "name": "stderr",
     "output_type": "stream",
     "text": [
      "/tmp/ipykernel_3079/2671635211.py:11: RuntimeWarning: invalid value encountered in double_scalars\n",
      "  return s1 / s2\n"
     ]
    },
    {
     "name": "stdout",
     "output_type": "stream",
     "text": [
      "735/1000\r"
     ]
    },
    {
     "name": "stderr",
     "output_type": "stream",
     "text": [
      "/tmp/ipykernel_3079/2671635211.py:11: RuntimeWarning: invalid value encountered in double_scalars\n",
      "  return s1 / s2\n"
     ]
    },
    {
     "name": "stdout",
     "output_type": "stream",
     "text": [
      "736/1000\r"
     ]
    },
    {
     "name": "stderr",
     "output_type": "stream",
     "text": [
      "/tmp/ipykernel_3079/2671635211.py:11: RuntimeWarning: invalid value encountered in double_scalars\n",
      "  return s1 / s2\n"
     ]
    },
    {
     "name": "stdout",
     "output_type": "stream",
     "text": [
      "737/1000\r"
     ]
    },
    {
     "name": "stderr",
     "output_type": "stream",
     "text": [
      "/tmp/ipykernel_3079/2671635211.py:11: RuntimeWarning: invalid value encountered in double_scalars\n",
      "  return s1 / s2\n"
     ]
    },
    {
     "name": "stdout",
     "output_type": "stream",
     "text": [
      "738/1000\r"
     ]
    },
    {
     "name": "stderr",
     "output_type": "stream",
     "text": [
      "/tmp/ipykernel_3079/2671635211.py:11: RuntimeWarning: invalid value encountered in double_scalars\n",
      "  return s1 / s2\n"
     ]
    },
    {
     "name": "stdout",
     "output_type": "stream",
     "text": [
      "739/1000\r"
     ]
    },
    {
     "name": "stderr",
     "output_type": "stream",
     "text": [
      "/tmp/ipykernel_3079/2671635211.py:11: RuntimeWarning: invalid value encountered in double_scalars\n",
      "  return s1 / s2\n"
     ]
    },
    {
     "name": "stdout",
     "output_type": "stream",
     "text": [
      "740/1000\r"
     ]
    },
    {
     "name": "stderr",
     "output_type": "stream",
     "text": [
      "/tmp/ipykernel_3079/2671635211.py:11: RuntimeWarning: invalid value encountered in double_scalars\n",
      "  return s1 / s2\n"
     ]
    },
    {
     "name": "stdout",
     "output_type": "stream",
     "text": [
      "741/1000\r"
     ]
    },
    {
     "name": "stderr",
     "output_type": "stream",
     "text": [
      "/tmp/ipykernel_3079/2671635211.py:11: RuntimeWarning: invalid value encountered in double_scalars\n",
      "  return s1 / s2\n"
     ]
    },
    {
     "name": "stdout",
     "output_type": "stream",
     "text": [
      "742/1000\r"
     ]
    },
    {
     "name": "stderr",
     "output_type": "stream",
     "text": [
      "/tmp/ipykernel_3079/2671635211.py:11: RuntimeWarning: invalid value encountered in double_scalars\n",
      "  return s1 / s2\n"
     ]
    },
    {
     "name": "stdout",
     "output_type": "stream",
     "text": [
      "743/1000\r"
     ]
    },
    {
     "name": "stderr",
     "output_type": "stream",
     "text": [
      "/tmp/ipykernel_3079/2671635211.py:11: RuntimeWarning: invalid value encountered in double_scalars\n",
      "  return s1 / s2\n"
     ]
    },
    {
     "name": "stdout",
     "output_type": "stream",
     "text": [
      "744/1000\r"
     ]
    },
    {
     "name": "stderr",
     "output_type": "stream",
     "text": [
      "/tmp/ipykernel_3079/2671635211.py:11: RuntimeWarning: invalid value encountered in double_scalars\n",
      "  return s1 / s2\n"
     ]
    },
    {
     "name": "stdout",
     "output_type": "stream",
     "text": [
      "745/1000\r"
     ]
    },
    {
     "name": "stderr",
     "output_type": "stream",
     "text": [
      "/tmp/ipykernel_3079/2671635211.py:11: RuntimeWarning: invalid value encountered in double_scalars\n",
      "  return s1 / s2\n"
     ]
    },
    {
     "name": "stdout",
     "output_type": "stream",
     "text": [
      "746/1000\r"
     ]
    },
    {
     "name": "stderr",
     "output_type": "stream",
     "text": [
      "/tmp/ipykernel_3079/2671635211.py:11: RuntimeWarning: invalid value encountered in double_scalars\n",
      "  return s1 / s2\n"
     ]
    },
    {
     "name": "stdout",
     "output_type": "stream",
     "text": [
      "747/1000\r"
     ]
    },
    {
     "name": "stderr",
     "output_type": "stream",
     "text": [
      "/tmp/ipykernel_3079/2671635211.py:11: RuntimeWarning: invalid value encountered in double_scalars\n",
      "  return s1 / s2\n"
     ]
    },
    {
     "name": "stdout",
     "output_type": "stream",
     "text": [
      "748/1000\r"
     ]
    },
    {
     "name": "stderr",
     "output_type": "stream",
     "text": [
      "/tmp/ipykernel_3079/2671635211.py:11: RuntimeWarning: invalid value encountered in double_scalars\n",
      "  return s1 / s2\n"
     ]
    },
    {
     "name": "stdout",
     "output_type": "stream",
     "text": [
      "749/1000\r"
     ]
    },
    {
     "name": "stderr",
     "output_type": "stream",
     "text": [
      "/tmp/ipykernel_3079/2671635211.py:11: RuntimeWarning: invalid value encountered in double_scalars\n",
      "  return s1 / s2\n"
     ]
    },
    {
     "name": "stdout",
     "output_type": "stream",
     "text": [
      "750/1000\r"
     ]
    },
    {
     "name": "stderr",
     "output_type": "stream",
     "text": [
      "/tmp/ipykernel_3079/2671635211.py:11: RuntimeWarning: invalid value encountered in double_scalars\n",
      "  return s1 / s2\n"
     ]
    },
    {
     "name": "stdout",
     "output_type": "stream",
     "text": [
      "751/1000\r"
     ]
    },
    {
     "name": "stderr",
     "output_type": "stream",
     "text": [
      "/tmp/ipykernel_3079/2671635211.py:11: RuntimeWarning: invalid value encountered in double_scalars\n",
      "  return s1 / s2\n"
     ]
    },
    {
     "name": "stdout",
     "output_type": "stream",
     "text": [
      "752/1000\r"
     ]
    },
    {
     "name": "stderr",
     "output_type": "stream",
     "text": [
      "/tmp/ipykernel_3079/2671635211.py:11: RuntimeWarning: invalid value encountered in double_scalars\n",
      "  return s1 / s2\n"
     ]
    },
    {
     "name": "stdout",
     "output_type": "stream",
     "text": [
      "753/1000\r"
     ]
    },
    {
     "name": "stderr",
     "output_type": "stream",
     "text": [
      "/tmp/ipykernel_3079/2671635211.py:11: RuntimeWarning: invalid value encountered in double_scalars\n",
      "  return s1 / s2\n"
     ]
    },
    {
     "name": "stdout",
     "output_type": "stream",
     "text": [
      "754/1000\r"
     ]
    },
    {
     "name": "stderr",
     "output_type": "stream",
     "text": [
      "/tmp/ipykernel_3079/2671635211.py:11: RuntimeWarning: invalid value encountered in double_scalars\n",
      "  return s1 / s2\n"
     ]
    },
    {
     "name": "stdout",
     "output_type": "stream",
     "text": [
      "755/1000\r"
     ]
    },
    {
     "name": "stderr",
     "output_type": "stream",
     "text": [
      "/tmp/ipykernel_3079/2671635211.py:11: RuntimeWarning: invalid value encountered in double_scalars\n",
      "  return s1 / s2\n"
     ]
    },
    {
     "name": "stdout",
     "output_type": "stream",
     "text": [
      "756/1000\r"
     ]
    },
    {
     "name": "stderr",
     "output_type": "stream",
     "text": [
      "/tmp/ipykernel_3079/2671635211.py:11: RuntimeWarning: invalid value encountered in double_scalars\n",
      "  return s1 / s2\n"
     ]
    },
    {
     "name": "stdout",
     "output_type": "stream",
     "text": [
      "757/1000\r"
     ]
    },
    {
     "name": "stderr",
     "output_type": "stream",
     "text": [
      "/tmp/ipykernel_3079/2671635211.py:11: RuntimeWarning: invalid value encountered in double_scalars\n",
      "  return s1 / s2\n"
     ]
    },
    {
     "name": "stdout",
     "output_type": "stream",
     "text": [
      "758/1000\r"
     ]
    },
    {
     "name": "stderr",
     "output_type": "stream",
     "text": [
      "/tmp/ipykernel_3079/2671635211.py:11: RuntimeWarning: invalid value encountered in double_scalars\n",
      "  return s1 / s2\n"
     ]
    },
    {
     "name": "stdout",
     "output_type": "stream",
     "text": [
      "759/1000\r"
     ]
    },
    {
     "name": "stderr",
     "output_type": "stream",
     "text": [
      "/tmp/ipykernel_3079/2671635211.py:11: RuntimeWarning: invalid value encountered in double_scalars\n",
      "  return s1 / s2\n"
     ]
    },
    {
     "name": "stdout",
     "output_type": "stream",
     "text": [
      "760/1000\r"
     ]
    },
    {
     "name": "stderr",
     "output_type": "stream",
     "text": [
      "/tmp/ipykernel_3079/2671635211.py:11: RuntimeWarning: invalid value encountered in double_scalars\n",
      "  return s1 / s2\n"
     ]
    },
    {
     "name": "stdout",
     "output_type": "stream",
     "text": [
      "761/1000\r"
     ]
    },
    {
     "name": "stderr",
     "output_type": "stream",
     "text": [
      "/tmp/ipykernel_3079/2671635211.py:11: RuntimeWarning: invalid value encountered in double_scalars\n",
      "  return s1 / s2\n"
     ]
    },
    {
     "name": "stdout",
     "output_type": "stream",
     "text": [
      "762/1000\r"
     ]
    },
    {
     "name": "stderr",
     "output_type": "stream",
     "text": [
      "/tmp/ipykernel_3079/2671635211.py:11: RuntimeWarning: invalid value encountered in double_scalars\n",
      "  return s1 / s2\n"
     ]
    },
    {
     "name": "stdout",
     "output_type": "stream",
     "text": [
      "763/1000\r"
     ]
    },
    {
     "name": "stderr",
     "output_type": "stream",
     "text": [
      "/tmp/ipykernel_3079/2671635211.py:11: RuntimeWarning: invalid value encountered in double_scalars\n",
      "  return s1 / s2\n"
     ]
    },
    {
     "name": "stdout",
     "output_type": "stream",
     "text": [
      "764/1000\r"
     ]
    },
    {
     "name": "stderr",
     "output_type": "stream",
     "text": [
      "/tmp/ipykernel_3079/2671635211.py:11: RuntimeWarning: invalid value encountered in double_scalars\n",
      "  return s1 / s2\n"
     ]
    },
    {
     "name": "stdout",
     "output_type": "stream",
     "text": [
      "765/1000\r"
     ]
    },
    {
     "name": "stderr",
     "output_type": "stream",
     "text": [
      "/tmp/ipykernel_3079/2671635211.py:11: RuntimeWarning: invalid value encountered in double_scalars\n",
      "  return s1 / s2\n"
     ]
    },
    {
     "name": "stdout",
     "output_type": "stream",
     "text": [
      "766/1000\r"
     ]
    },
    {
     "name": "stderr",
     "output_type": "stream",
     "text": [
      "/tmp/ipykernel_3079/2671635211.py:11: RuntimeWarning: invalid value encountered in double_scalars\n",
      "  return s1 / s2\n"
     ]
    },
    {
     "name": "stdout",
     "output_type": "stream",
     "text": [
      "767/1000\r"
     ]
    },
    {
     "name": "stderr",
     "output_type": "stream",
     "text": [
      "/tmp/ipykernel_3079/2671635211.py:11: RuntimeWarning: invalid value encountered in double_scalars\n",
      "  return s1 / s2\n"
     ]
    },
    {
     "name": "stdout",
     "output_type": "stream",
     "text": [
      "768/1000\r"
     ]
    },
    {
     "name": "stderr",
     "output_type": "stream",
     "text": [
      "/tmp/ipykernel_3079/2671635211.py:11: RuntimeWarning: invalid value encountered in double_scalars\n",
      "  return s1 / s2\n"
     ]
    },
    {
     "name": "stdout",
     "output_type": "stream",
     "text": [
      "769/1000\r"
     ]
    },
    {
     "name": "stderr",
     "output_type": "stream",
     "text": [
      "/tmp/ipykernel_3079/2671635211.py:11: RuntimeWarning: invalid value encountered in double_scalars\n",
      "  return s1 / s2\n"
     ]
    },
    {
     "name": "stdout",
     "output_type": "stream",
     "text": [
      "770/1000\r"
     ]
    },
    {
     "name": "stderr",
     "output_type": "stream",
     "text": [
      "/tmp/ipykernel_3079/2671635211.py:11: RuntimeWarning: invalid value encountered in double_scalars\n",
      "  return s1 / s2\n"
     ]
    },
    {
     "name": "stdout",
     "output_type": "stream",
     "text": [
      "771/1000\r"
     ]
    },
    {
     "name": "stderr",
     "output_type": "stream",
     "text": [
      "/tmp/ipykernel_3079/2671635211.py:11: RuntimeWarning: invalid value encountered in double_scalars\n",
      "  return s1 / s2\n"
     ]
    },
    {
     "name": "stdout",
     "output_type": "stream",
     "text": [
      "772/1000\r"
     ]
    },
    {
     "name": "stderr",
     "output_type": "stream",
     "text": [
      "/tmp/ipykernel_3079/2671635211.py:11: RuntimeWarning: invalid value encountered in double_scalars\n",
      "  return s1 / s2\n"
     ]
    },
    {
     "name": "stdout",
     "output_type": "stream",
     "text": [
      "773/1000\r"
     ]
    },
    {
     "name": "stderr",
     "output_type": "stream",
     "text": [
      "/tmp/ipykernel_3079/2671635211.py:11: RuntimeWarning: invalid value encountered in double_scalars\n",
      "  return s1 / s2\n"
     ]
    },
    {
     "name": "stdout",
     "output_type": "stream",
     "text": [
      "774/1000\r"
     ]
    },
    {
     "name": "stderr",
     "output_type": "stream",
     "text": [
      "/tmp/ipykernel_3079/2671635211.py:11: RuntimeWarning: invalid value encountered in double_scalars\n",
      "  return s1 / s2\n"
     ]
    },
    {
     "name": "stdout",
     "output_type": "stream",
     "text": [
      "775/1000\r"
     ]
    },
    {
     "name": "stderr",
     "output_type": "stream",
     "text": [
      "/tmp/ipykernel_3079/2671635211.py:11: RuntimeWarning: invalid value encountered in double_scalars\n",
      "  return s1 / s2\n"
     ]
    },
    {
     "name": "stdout",
     "output_type": "stream",
     "text": [
      "776/1000\r"
     ]
    },
    {
     "name": "stderr",
     "output_type": "stream",
     "text": [
      "/tmp/ipykernel_3079/2671635211.py:11: RuntimeWarning: invalid value encountered in double_scalars\n",
      "  return s1 / s2\n"
     ]
    },
    {
     "name": "stdout",
     "output_type": "stream",
     "text": [
      "777/1000\r"
     ]
    },
    {
     "name": "stderr",
     "output_type": "stream",
     "text": [
      "/tmp/ipykernel_3079/2671635211.py:11: RuntimeWarning: invalid value encountered in double_scalars\n",
      "  return s1 / s2\n"
     ]
    },
    {
     "name": "stdout",
     "output_type": "stream",
     "text": [
      "778/1000\r"
     ]
    },
    {
     "name": "stderr",
     "output_type": "stream",
     "text": [
      "/tmp/ipykernel_3079/2671635211.py:11: RuntimeWarning: invalid value encountered in double_scalars\n",
      "  return s1 / s2\n"
     ]
    },
    {
     "name": "stdout",
     "output_type": "stream",
     "text": [
      "779/1000\r"
     ]
    },
    {
     "name": "stderr",
     "output_type": "stream",
     "text": [
      "/tmp/ipykernel_3079/2671635211.py:11: RuntimeWarning: invalid value encountered in double_scalars\n",
      "  return s1 / s2\n"
     ]
    },
    {
     "name": "stdout",
     "output_type": "stream",
     "text": [
      "780/1000\r"
     ]
    },
    {
     "name": "stderr",
     "output_type": "stream",
     "text": [
      "/tmp/ipykernel_3079/2671635211.py:11: RuntimeWarning: invalid value encountered in double_scalars\n",
      "  return s1 / s2\n"
     ]
    },
    {
     "name": "stdout",
     "output_type": "stream",
     "text": [
      "781/1000\r"
     ]
    },
    {
     "name": "stderr",
     "output_type": "stream",
     "text": [
      "/tmp/ipykernel_3079/2671635211.py:11: RuntimeWarning: invalid value encountered in double_scalars\n",
      "  return s1 / s2\n"
     ]
    },
    {
     "name": "stdout",
     "output_type": "stream",
     "text": [
      "782/1000\r"
     ]
    },
    {
     "name": "stderr",
     "output_type": "stream",
     "text": [
      "/tmp/ipykernel_3079/2671635211.py:11: RuntimeWarning: invalid value encountered in double_scalars\n",
      "  return s1 / s2\n"
     ]
    },
    {
     "name": "stdout",
     "output_type": "stream",
     "text": [
      "783/1000\r"
     ]
    },
    {
     "name": "stderr",
     "output_type": "stream",
     "text": [
      "/tmp/ipykernel_3079/2671635211.py:11: RuntimeWarning: invalid value encountered in double_scalars\n",
      "  return s1 / s2\n"
     ]
    },
    {
     "name": "stdout",
     "output_type": "stream",
     "text": [
      "784/1000\r"
     ]
    },
    {
     "name": "stderr",
     "output_type": "stream",
     "text": [
      "/tmp/ipykernel_3079/2671635211.py:11: RuntimeWarning: invalid value encountered in double_scalars\n",
      "  return s1 / s2\n"
     ]
    },
    {
     "name": "stdout",
     "output_type": "stream",
     "text": [
      "785/1000\r"
     ]
    },
    {
     "name": "stderr",
     "output_type": "stream",
     "text": [
      "/tmp/ipykernel_3079/2671635211.py:11: RuntimeWarning: invalid value encountered in double_scalars\n",
      "  return s1 / s2\n"
     ]
    },
    {
     "name": "stdout",
     "output_type": "stream",
     "text": [
      "786/1000\r"
     ]
    },
    {
     "name": "stderr",
     "output_type": "stream",
     "text": [
      "/tmp/ipykernel_3079/2671635211.py:11: RuntimeWarning: invalid value encountered in double_scalars\n",
      "  return s1 / s2\n"
     ]
    },
    {
     "name": "stdout",
     "output_type": "stream",
     "text": [
      "787/1000\r"
     ]
    },
    {
     "name": "stderr",
     "output_type": "stream",
     "text": [
      "/tmp/ipykernel_3079/2671635211.py:11: RuntimeWarning: invalid value encountered in double_scalars\n",
      "  return s1 / s2\n"
     ]
    },
    {
     "name": "stdout",
     "output_type": "stream",
     "text": [
      "788/1000\r"
     ]
    },
    {
     "name": "stderr",
     "output_type": "stream",
     "text": [
      "/tmp/ipykernel_3079/2671635211.py:11: RuntimeWarning: invalid value encountered in double_scalars\n",
      "  return s1 / s2\n"
     ]
    },
    {
     "name": "stdout",
     "output_type": "stream",
     "text": [
      "789/1000\r"
     ]
    },
    {
     "name": "stderr",
     "output_type": "stream",
     "text": [
      "/tmp/ipykernel_3079/2671635211.py:11: RuntimeWarning: invalid value encountered in double_scalars\n",
      "  return s1 / s2\n"
     ]
    },
    {
     "name": "stdout",
     "output_type": "stream",
     "text": [
      "790/1000\r"
     ]
    },
    {
     "name": "stderr",
     "output_type": "stream",
     "text": [
      "/tmp/ipykernel_3079/2671635211.py:11: RuntimeWarning: invalid value encountered in double_scalars\n",
      "  return s1 / s2\n"
     ]
    },
    {
     "name": "stdout",
     "output_type": "stream",
     "text": [
      "791/1000\r"
     ]
    },
    {
     "name": "stderr",
     "output_type": "stream",
     "text": [
      "/tmp/ipykernel_3079/2671635211.py:11: RuntimeWarning: invalid value encountered in double_scalars\n",
      "  return s1 / s2\n"
     ]
    },
    {
     "name": "stdout",
     "output_type": "stream",
     "text": [
      "792/1000\r"
     ]
    },
    {
     "name": "stderr",
     "output_type": "stream",
     "text": [
      "/tmp/ipykernel_3079/2671635211.py:11: RuntimeWarning: invalid value encountered in double_scalars\n",
      "  return s1 / s2\n"
     ]
    },
    {
     "name": "stdout",
     "output_type": "stream",
     "text": [
      "793/1000\r"
     ]
    },
    {
     "name": "stderr",
     "output_type": "stream",
     "text": [
      "/tmp/ipykernel_3079/2671635211.py:11: RuntimeWarning: invalid value encountered in double_scalars\n",
      "  return s1 / s2\n"
     ]
    },
    {
     "name": "stdout",
     "output_type": "stream",
     "text": [
      "794/1000\r"
     ]
    },
    {
     "name": "stderr",
     "output_type": "stream",
     "text": [
      "/tmp/ipykernel_3079/2671635211.py:11: RuntimeWarning: invalid value encountered in double_scalars\n",
      "  return s1 / s2\n"
     ]
    },
    {
     "name": "stdout",
     "output_type": "stream",
     "text": [
      "795/1000\r"
     ]
    },
    {
     "name": "stderr",
     "output_type": "stream",
     "text": [
      "/tmp/ipykernel_3079/2671635211.py:11: RuntimeWarning: invalid value encountered in double_scalars\n",
      "  return s1 / s2\n"
     ]
    },
    {
     "name": "stdout",
     "output_type": "stream",
     "text": [
      "796/1000\r"
     ]
    },
    {
     "name": "stderr",
     "output_type": "stream",
     "text": [
      "/tmp/ipykernel_3079/2671635211.py:11: RuntimeWarning: invalid value encountered in double_scalars\n",
      "  return s1 / s2\n"
     ]
    },
    {
     "name": "stdout",
     "output_type": "stream",
     "text": [
      "797/1000\r"
     ]
    },
    {
     "name": "stderr",
     "output_type": "stream",
     "text": [
      "/tmp/ipykernel_3079/2671635211.py:11: RuntimeWarning: invalid value encountered in double_scalars\n",
      "  return s1 / s2\n"
     ]
    },
    {
     "name": "stdout",
     "output_type": "stream",
     "text": [
      "798/1000\r"
     ]
    },
    {
     "name": "stderr",
     "output_type": "stream",
     "text": [
      "/tmp/ipykernel_3079/2671635211.py:11: RuntimeWarning: invalid value encountered in double_scalars\n",
      "  return s1 / s2\n"
     ]
    },
    {
     "name": "stdout",
     "output_type": "stream",
     "text": [
      "799/1000\r"
     ]
    },
    {
     "name": "stderr",
     "output_type": "stream",
     "text": [
      "/tmp/ipykernel_3079/2671635211.py:11: RuntimeWarning: invalid value encountered in double_scalars\n",
      "  return s1 / s2\n"
     ]
    },
    {
     "name": "stdout",
     "output_type": "stream",
     "text": [
      "800/1000\r"
     ]
    },
    {
     "name": "stderr",
     "output_type": "stream",
     "text": [
      "/tmp/ipykernel_3079/2671635211.py:11: RuntimeWarning: invalid value encountered in double_scalars\n",
      "  return s1 / s2\n"
     ]
    },
    {
     "name": "stdout",
     "output_type": "stream",
     "text": [
      "801/1000\r"
     ]
    },
    {
     "name": "stderr",
     "output_type": "stream",
     "text": [
      "/tmp/ipykernel_3079/2671635211.py:11: RuntimeWarning: invalid value encountered in double_scalars\n",
      "  return s1 / s2\n"
     ]
    },
    {
     "name": "stdout",
     "output_type": "stream",
     "text": [
      "802/1000\r"
     ]
    },
    {
     "name": "stderr",
     "output_type": "stream",
     "text": [
      "/tmp/ipykernel_3079/2671635211.py:11: RuntimeWarning: invalid value encountered in double_scalars\n",
      "  return s1 / s2\n"
     ]
    },
    {
     "name": "stdout",
     "output_type": "stream",
     "text": [
      "803/1000\r"
     ]
    },
    {
     "name": "stderr",
     "output_type": "stream",
     "text": [
      "/tmp/ipykernel_3079/2671635211.py:11: RuntimeWarning: invalid value encountered in double_scalars\n",
      "  return s1 / s2\n"
     ]
    },
    {
     "name": "stdout",
     "output_type": "stream",
     "text": [
      "804/1000\r"
     ]
    },
    {
     "name": "stderr",
     "output_type": "stream",
     "text": [
      "/tmp/ipykernel_3079/2671635211.py:11: RuntimeWarning: invalid value encountered in double_scalars\n",
      "  return s1 / s2\n"
     ]
    },
    {
     "name": "stdout",
     "output_type": "stream",
     "text": [
      "805/1000\r"
     ]
    },
    {
     "name": "stderr",
     "output_type": "stream",
     "text": [
      "/tmp/ipykernel_3079/2671635211.py:11: RuntimeWarning: invalid value encountered in double_scalars\n",
      "  return s1 / s2\n"
     ]
    },
    {
     "name": "stdout",
     "output_type": "stream",
     "text": [
      "806/1000\r"
     ]
    },
    {
     "name": "stderr",
     "output_type": "stream",
     "text": [
      "/tmp/ipykernel_3079/2671635211.py:11: RuntimeWarning: invalid value encountered in double_scalars\n",
      "  return s1 / s2\n"
     ]
    },
    {
     "name": "stdout",
     "output_type": "stream",
     "text": [
      "807/1000\r"
     ]
    },
    {
     "name": "stderr",
     "output_type": "stream",
     "text": [
      "/tmp/ipykernel_3079/2671635211.py:11: RuntimeWarning: invalid value encountered in double_scalars\n",
      "  return s1 / s2\n"
     ]
    },
    {
     "name": "stdout",
     "output_type": "stream",
     "text": [
      "808/1000\r"
     ]
    },
    {
     "name": "stderr",
     "output_type": "stream",
     "text": [
      "/tmp/ipykernel_3079/2671635211.py:11: RuntimeWarning: invalid value encountered in double_scalars\n",
      "  return s1 / s2\n"
     ]
    },
    {
     "name": "stdout",
     "output_type": "stream",
     "text": [
      "809/1000\r"
     ]
    },
    {
     "name": "stderr",
     "output_type": "stream",
     "text": [
      "/tmp/ipykernel_3079/2671635211.py:11: RuntimeWarning: invalid value encountered in double_scalars\n",
      "  return s1 / s2\n"
     ]
    },
    {
     "name": "stdout",
     "output_type": "stream",
     "text": [
      "810/1000\r"
     ]
    },
    {
     "name": "stderr",
     "output_type": "stream",
     "text": [
      "/tmp/ipykernel_3079/2671635211.py:11: RuntimeWarning: invalid value encountered in double_scalars\n",
      "  return s1 / s2\n"
     ]
    },
    {
     "name": "stdout",
     "output_type": "stream",
     "text": [
      "811/1000\r"
     ]
    },
    {
     "name": "stderr",
     "output_type": "stream",
     "text": [
      "/tmp/ipykernel_3079/2671635211.py:11: RuntimeWarning: invalid value encountered in double_scalars\n",
      "  return s1 / s2\n"
     ]
    },
    {
     "name": "stdout",
     "output_type": "stream",
     "text": [
      "812/1000\r"
     ]
    },
    {
     "name": "stderr",
     "output_type": "stream",
     "text": [
      "/tmp/ipykernel_3079/2671635211.py:11: RuntimeWarning: invalid value encountered in double_scalars\n",
      "  return s1 / s2\n"
     ]
    },
    {
     "name": "stdout",
     "output_type": "stream",
     "text": [
      "813/1000\r"
     ]
    },
    {
     "name": "stderr",
     "output_type": "stream",
     "text": [
      "/tmp/ipykernel_3079/2671635211.py:11: RuntimeWarning: invalid value encountered in double_scalars\n",
      "  return s1 / s2\n"
     ]
    },
    {
     "name": "stdout",
     "output_type": "stream",
     "text": [
      "814/1000\r"
     ]
    },
    {
     "name": "stderr",
     "output_type": "stream",
     "text": [
      "/tmp/ipykernel_3079/2671635211.py:11: RuntimeWarning: invalid value encountered in double_scalars\n",
      "  return s1 / s2\n"
     ]
    },
    {
     "name": "stdout",
     "output_type": "stream",
     "text": [
      "815/1000\r"
     ]
    },
    {
     "name": "stderr",
     "output_type": "stream",
     "text": [
      "/tmp/ipykernel_3079/2671635211.py:11: RuntimeWarning: invalid value encountered in double_scalars\n",
      "  return s1 / s2\n"
     ]
    },
    {
     "name": "stdout",
     "output_type": "stream",
     "text": [
      "816/1000\r"
     ]
    },
    {
     "name": "stderr",
     "output_type": "stream",
     "text": [
      "/tmp/ipykernel_3079/2671635211.py:11: RuntimeWarning: invalid value encountered in double_scalars\n",
      "  return s1 / s2\n"
     ]
    },
    {
     "name": "stdout",
     "output_type": "stream",
     "text": [
      "817/1000\r"
     ]
    },
    {
     "name": "stderr",
     "output_type": "stream",
     "text": [
      "/tmp/ipykernel_3079/2671635211.py:11: RuntimeWarning: invalid value encountered in double_scalars\n",
      "  return s1 / s2\n"
     ]
    },
    {
     "name": "stdout",
     "output_type": "stream",
     "text": [
      "818/1000\r"
     ]
    },
    {
     "name": "stderr",
     "output_type": "stream",
     "text": [
      "/tmp/ipykernel_3079/2671635211.py:11: RuntimeWarning: invalid value encountered in double_scalars\n",
      "  return s1 / s2\n"
     ]
    },
    {
     "name": "stdout",
     "output_type": "stream",
     "text": [
      "819/1000\r"
     ]
    },
    {
     "name": "stderr",
     "output_type": "stream",
     "text": [
      "/tmp/ipykernel_3079/2671635211.py:11: RuntimeWarning: invalid value encountered in double_scalars\n",
      "  return s1 / s2\n"
     ]
    },
    {
     "name": "stdout",
     "output_type": "stream",
     "text": [
      "820/1000\r"
     ]
    },
    {
     "name": "stderr",
     "output_type": "stream",
     "text": [
      "/tmp/ipykernel_3079/2671635211.py:11: RuntimeWarning: invalid value encountered in double_scalars\n",
      "  return s1 / s2\n"
     ]
    },
    {
     "name": "stdout",
     "output_type": "stream",
     "text": [
      "821/1000\r"
     ]
    },
    {
     "name": "stderr",
     "output_type": "stream",
     "text": [
      "/tmp/ipykernel_3079/2671635211.py:11: RuntimeWarning: invalid value encountered in double_scalars\n",
      "  return s1 / s2\n"
     ]
    },
    {
     "name": "stdout",
     "output_type": "stream",
     "text": [
      "822/1000\r"
     ]
    },
    {
     "name": "stderr",
     "output_type": "stream",
     "text": [
      "/tmp/ipykernel_3079/2671635211.py:11: RuntimeWarning: invalid value encountered in double_scalars\n",
      "  return s1 / s2\n"
     ]
    },
    {
     "name": "stdout",
     "output_type": "stream",
     "text": [
      "823/1000\r"
     ]
    },
    {
     "name": "stderr",
     "output_type": "stream",
     "text": [
      "/tmp/ipykernel_3079/2671635211.py:11: RuntimeWarning: invalid value encountered in double_scalars\n",
      "  return s1 / s2\n"
     ]
    },
    {
     "name": "stdout",
     "output_type": "stream",
     "text": [
      "824/1000\r"
     ]
    },
    {
     "name": "stderr",
     "output_type": "stream",
     "text": [
      "/tmp/ipykernel_3079/2671635211.py:11: RuntimeWarning: invalid value encountered in double_scalars\n",
      "  return s1 / s2\n"
     ]
    },
    {
     "name": "stdout",
     "output_type": "stream",
     "text": [
      "825/1000\r"
     ]
    },
    {
     "name": "stderr",
     "output_type": "stream",
     "text": [
      "/tmp/ipykernel_3079/2671635211.py:11: RuntimeWarning: invalid value encountered in double_scalars\n",
      "  return s1 / s2\n"
     ]
    },
    {
     "name": "stdout",
     "output_type": "stream",
     "text": [
      "826/1000\r"
     ]
    },
    {
     "name": "stderr",
     "output_type": "stream",
     "text": [
      "/tmp/ipykernel_3079/2671635211.py:11: RuntimeWarning: invalid value encountered in double_scalars\n",
      "  return s1 / s2\n"
     ]
    },
    {
     "name": "stdout",
     "output_type": "stream",
     "text": [
      "827/1000\r"
     ]
    },
    {
     "name": "stderr",
     "output_type": "stream",
     "text": [
      "/tmp/ipykernel_3079/2671635211.py:11: RuntimeWarning: invalid value encountered in double_scalars\n",
      "  return s1 / s2\n"
     ]
    },
    {
     "name": "stdout",
     "output_type": "stream",
     "text": [
      "828/1000\r"
     ]
    },
    {
     "name": "stderr",
     "output_type": "stream",
     "text": [
      "/tmp/ipykernel_3079/2671635211.py:11: RuntimeWarning: invalid value encountered in double_scalars\n",
      "  return s1 / s2\n"
     ]
    },
    {
     "name": "stdout",
     "output_type": "stream",
     "text": [
      "829/1000\r"
     ]
    },
    {
     "name": "stderr",
     "output_type": "stream",
     "text": [
      "/tmp/ipykernel_3079/2671635211.py:11: RuntimeWarning: invalid value encountered in double_scalars\n",
      "  return s1 / s2\n"
     ]
    },
    {
     "name": "stdout",
     "output_type": "stream",
     "text": [
      "830/1000\r"
     ]
    },
    {
     "name": "stderr",
     "output_type": "stream",
     "text": [
      "/tmp/ipykernel_3079/2671635211.py:11: RuntimeWarning: invalid value encountered in double_scalars\n",
      "  return s1 / s2\n"
     ]
    },
    {
     "name": "stdout",
     "output_type": "stream",
     "text": [
      "831/1000\r"
     ]
    },
    {
     "name": "stderr",
     "output_type": "stream",
     "text": [
      "/tmp/ipykernel_3079/2671635211.py:11: RuntimeWarning: invalid value encountered in double_scalars\n",
      "  return s1 / s2\n"
     ]
    },
    {
     "name": "stdout",
     "output_type": "stream",
     "text": [
      "832/1000\r"
     ]
    },
    {
     "name": "stderr",
     "output_type": "stream",
     "text": [
      "/tmp/ipykernel_3079/2671635211.py:11: RuntimeWarning: invalid value encountered in double_scalars\n",
      "  return s1 / s2\n"
     ]
    },
    {
     "name": "stdout",
     "output_type": "stream",
     "text": [
      "833/1000\r"
     ]
    },
    {
     "name": "stderr",
     "output_type": "stream",
     "text": [
      "/tmp/ipykernel_3079/2671635211.py:11: RuntimeWarning: invalid value encountered in double_scalars\n",
      "  return s1 / s2\n"
     ]
    },
    {
     "name": "stdout",
     "output_type": "stream",
     "text": [
      "834/1000\r"
     ]
    },
    {
     "name": "stderr",
     "output_type": "stream",
     "text": [
      "/tmp/ipykernel_3079/2671635211.py:11: RuntimeWarning: invalid value encountered in double_scalars\n",
      "  return s1 / s2\n"
     ]
    },
    {
     "name": "stdout",
     "output_type": "stream",
     "text": [
      "835/1000\r"
     ]
    },
    {
     "name": "stderr",
     "output_type": "stream",
     "text": [
      "/tmp/ipykernel_3079/2671635211.py:11: RuntimeWarning: invalid value encountered in double_scalars\n",
      "  return s1 / s2\n"
     ]
    },
    {
     "name": "stdout",
     "output_type": "stream",
     "text": [
      "836/1000\r"
     ]
    },
    {
     "name": "stderr",
     "output_type": "stream",
     "text": [
      "/tmp/ipykernel_3079/2671635211.py:11: RuntimeWarning: invalid value encountered in double_scalars\n",
      "  return s1 / s2\n"
     ]
    },
    {
     "name": "stdout",
     "output_type": "stream",
     "text": [
      "837/1000\r"
     ]
    },
    {
     "name": "stderr",
     "output_type": "stream",
     "text": [
      "/tmp/ipykernel_3079/2671635211.py:11: RuntimeWarning: invalid value encountered in double_scalars\n",
      "  return s1 / s2\n"
     ]
    },
    {
     "name": "stdout",
     "output_type": "stream",
     "text": [
      "838/1000\r"
     ]
    },
    {
     "name": "stderr",
     "output_type": "stream",
     "text": [
      "/tmp/ipykernel_3079/2671635211.py:11: RuntimeWarning: invalid value encountered in double_scalars\n",
      "  return s1 / s2\n"
     ]
    },
    {
     "name": "stdout",
     "output_type": "stream",
     "text": [
      "839/1000\r"
     ]
    },
    {
     "name": "stderr",
     "output_type": "stream",
     "text": [
      "/tmp/ipykernel_3079/2671635211.py:11: RuntimeWarning: invalid value encountered in double_scalars\n",
      "  return s1 / s2\n"
     ]
    },
    {
     "name": "stdout",
     "output_type": "stream",
     "text": [
      "840/1000\r"
     ]
    },
    {
     "name": "stderr",
     "output_type": "stream",
     "text": [
      "/tmp/ipykernel_3079/2671635211.py:11: RuntimeWarning: invalid value encountered in double_scalars\n",
      "  return s1 / s2\n"
     ]
    },
    {
     "name": "stdout",
     "output_type": "stream",
     "text": [
      "841/1000\r"
     ]
    },
    {
     "name": "stderr",
     "output_type": "stream",
     "text": [
      "/tmp/ipykernel_3079/2671635211.py:11: RuntimeWarning: invalid value encountered in double_scalars\n",
      "  return s1 / s2\n"
     ]
    },
    {
     "name": "stdout",
     "output_type": "stream",
     "text": [
      "842/1000\r"
     ]
    },
    {
     "name": "stderr",
     "output_type": "stream",
     "text": [
      "/tmp/ipykernel_3079/2671635211.py:11: RuntimeWarning: invalid value encountered in double_scalars\n",
      "  return s1 / s2\n"
     ]
    },
    {
     "name": "stdout",
     "output_type": "stream",
     "text": [
      "843/1000\r"
     ]
    },
    {
     "name": "stderr",
     "output_type": "stream",
     "text": [
      "/tmp/ipykernel_3079/2671635211.py:11: RuntimeWarning: invalid value encountered in double_scalars\n",
      "  return s1 / s2\n"
     ]
    },
    {
     "name": "stdout",
     "output_type": "stream",
     "text": [
      "844/1000\r"
     ]
    },
    {
     "name": "stderr",
     "output_type": "stream",
     "text": [
      "/tmp/ipykernel_3079/2671635211.py:11: RuntimeWarning: invalid value encountered in double_scalars\n",
      "  return s1 / s2\n"
     ]
    },
    {
     "name": "stdout",
     "output_type": "stream",
     "text": [
      "845/1000\r"
     ]
    },
    {
     "name": "stderr",
     "output_type": "stream",
     "text": [
      "/tmp/ipykernel_3079/2671635211.py:11: RuntimeWarning: invalid value encountered in double_scalars\n",
      "  return s1 / s2\n"
     ]
    },
    {
     "name": "stdout",
     "output_type": "stream",
     "text": [
      "846/1000\r"
     ]
    },
    {
     "name": "stderr",
     "output_type": "stream",
     "text": [
      "/tmp/ipykernel_3079/2671635211.py:11: RuntimeWarning: invalid value encountered in double_scalars\n",
      "  return s1 / s2\n"
     ]
    },
    {
     "name": "stdout",
     "output_type": "stream",
     "text": [
      "847/1000\r"
     ]
    },
    {
     "name": "stderr",
     "output_type": "stream",
     "text": [
      "/tmp/ipykernel_3079/2671635211.py:11: RuntimeWarning: invalid value encountered in double_scalars\n",
      "  return s1 / s2\n"
     ]
    },
    {
     "name": "stdout",
     "output_type": "stream",
     "text": [
      "848/1000\r"
     ]
    },
    {
     "name": "stderr",
     "output_type": "stream",
     "text": [
      "/tmp/ipykernel_3079/2671635211.py:11: RuntimeWarning: invalid value encountered in double_scalars\n",
      "  return s1 / s2\n"
     ]
    },
    {
     "name": "stdout",
     "output_type": "stream",
     "text": [
      "849/1000\r"
     ]
    },
    {
     "name": "stderr",
     "output_type": "stream",
     "text": [
      "/tmp/ipykernel_3079/2671635211.py:11: RuntimeWarning: invalid value encountered in double_scalars\n",
      "  return s1 / s2\n"
     ]
    },
    {
     "name": "stdout",
     "output_type": "stream",
     "text": [
      "850/1000\r"
     ]
    },
    {
     "name": "stderr",
     "output_type": "stream",
     "text": [
      "/tmp/ipykernel_3079/2671635211.py:11: RuntimeWarning: invalid value encountered in double_scalars\n",
      "  return s1 / s2\n"
     ]
    },
    {
     "name": "stdout",
     "output_type": "stream",
     "text": [
      "851/1000\r"
     ]
    },
    {
     "name": "stderr",
     "output_type": "stream",
     "text": [
      "/tmp/ipykernel_3079/2671635211.py:11: RuntimeWarning: invalid value encountered in double_scalars\n",
      "  return s1 / s2\n"
     ]
    },
    {
     "name": "stdout",
     "output_type": "stream",
     "text": [
      "852/1000\r"
     ]
    },
    {
     "name": "stderr",
     "output_type": "stream",
     "text": [
      "/tmp/ipykernel_3079/2671635211.py:11: RuntimeWarning: invalid value encountered in double_scalars\n",
      "  return s1 / s2\n"
     ]
    },
    {
     "name": "stdout",
     "output_type": "stream",
     "text": [
      "853/1000\r"
     ]
    },
    {
     "name": "stderr",
     "output_type": "stream",
     "text": [
      "/tmp/ipykernel_3079/2671635211.py:11: RuntimeWarning: invalid value encountered in double_scalars\n",
      "  return s1 / s2\n"
     ]
    },
    {
     "name": "stdout",
     "output_type": "stream",
     "text": [
      "854/1000\r"
     ]
    },
    {
     "name": "stderr",
     "output_type": "stream",
     "text": [
      "/tmp/ipykernel_3079/2671635211.py:11: RuntimeWarning: invalid value encountered in double_scalars\n",
      "  return s1 / s2\n"
     ]
    },
    {
     "name": "stdout",
     "output_type": "stream",
     "text": [
      "855/1000\r"
     ]
    },
    {
     "name": "stderr",
     "output_type": "stream",
     "text": [
      "/tmp/ipykernel_3079/2671635211.py:11: RuntimeWarning: invalid value encountered in double_scalars\n",
      "  return s1 / s2\n"
     ]
    },
    {
     "name": "stdout",
     "output_type": "stream",
     "text": [
      "856/1000\r"
     ]
    },
    {
     "name": "stderr",
     "output_type": "stream",
     "text": [
      "/tmp/ipykernel_3079/2671635211.py:11: RuntimeWarning: invalid value encountered in double_scalars\n",
      "  return s1 / s2\n"
     ]
    },
    {
     "name": "stdout",
     "output_type": "stream",
     "text": [
      "857/1000\r"
     ]
    },
    {
     "name": "stderr",
     "output_type": "stream",
     "text": [
      "/tmp/ipykernel_3079/2671635211.py:11: RuntimeWarning: invalid value encountered in double_scalars\n",
      "  return s1 / s2\n"
     ]
    },
    {
     "name": "stdout",
     "output_type": "stream",
     "text": [
      "858/1000\r"
     ]
    },
    {
     "name": "stderr",
     "output_type": "stream",
     "text": [
      "/tmp/ipykernel_3079/2671635211.py:11: RuntimeWarning: invalid value encountered in double_scalars\n",
      "  return s1 / s2\n"
     ]
    },
    {
     "name": "stdout",
     "output_type": "stream",
     "text": [
      "859/1000\r"
     ]
    },
    {
     "name": "stderr",
     "output_type": "stream",
     "text": [
      "/tmp/ipykernel_3079/2671635211.py:11: RuntimeWarning: invalid value encountered in double_scalars\n",
      "  return s1 / s2\n"
     ]
    },
    {
     "name": "stdout",
     "output_type": "stream",
     "text": [
      "860/1000\r"
     ]
    },
    {
     "name": "stderr",
     "output_type": "stream",
     "text": [
      "/tmp/ipykernel_3079/2671635211.py:11: RuntimeWarning: invalid value encountered in double_scalars\n",
      "  return s1 / s2\n"
     ]
    },
    {
     "name": "stdout",
     "output_type": "stream",
     "text": [
      "861/1000\r"
     ]
    },
    {
     "name": "stderr",
     "output_type": "stream",
     "text": [
      "/tmp/ipykernel_3079/2671635211.py:11: RuntimeWarning: invalid value encountered in double_scalars\n",
      "  return s1 / s2\n"
     ]
    },
    {
     "name": "stdout",
     "output_type": "stream",
     "text": [
      "862/1000\r"
     ]
    },
    {
     "name": "stderr",
     "output_type": "stream",
     "text": [
      "/tmp/ipykernel_3079/2671635211.py:11: RuntimeWarning: invalid value encountered in double_scalars\n",
      "  return s1 / s2\n"
     ]
    },
    {
     "name": "stdout",
     "output_type": "stream",
     "text": [
      "863/1000\r"
     ]
    },
    {
     "name": "stderr",
     "output_type": "stream",
     "text": [
      "/tmp/ipykernel_3079/2671635211.py:11: RuntimeWarning: invalid value encountered in double_scalars\n",
      "  return s1 / s2\n"
     ]
    },
    {
     "name": "stdout",
     "output_type": "stream",
     "text": [
      "864/1000\r"
     ]
    },
    {
     "name": "stderr",
     "output_type": "stream",
     "text": [
      "/tmp/ipykernel_3079/2671635211.py:11: RuntimeWarning: invalid value encountered in double_scalars\n",
      "  return s1 / s2\n"
     ]
    },
    {
     "name": "stdout",
     "output_type": "stream",
     "text": [
      "865/1000\r"
     ]
    },
    {
     "name": "stderr",
     "output_type": "stream",
     "text": [
      "/tmp/ipykernel_3079/2671635211.py:11: RuntimeWarning: invalid value encountered in double_scalars\n",
      "  return s1 / s2\n"
     ]
    },
    {
     "name": "stdout",
     "output_type": "stream",
     "text": [
      "866/1000\r"
     ]
    },
    {
     "name": "stderr",
     "output_type": "stream",
     "text": [
      "/tmp/ipykernel_3079/2671635211.py:11: RuntimeWarning: invalid value encountered in double_scalars\n",
      "  return s1 / s2\n"
     ]
    },
    {
     "name": "stdout",
     "output_type": "stream",
     "text": [
      "867/1000\r"
     ]
    },
    {
     "name": "stderr",
     "output_type": "stream",
     "text": [
      "/tmp/ipykernel_3079/2671635211.py:11: RuntimeWarning: invalid value encountered in double_scalars\n",
      "  return s1 / s2\n"
     ]
    },
    {
     "name": "stdout",
     "output_type": "stream",
     "text": [
      "868/1000\r"
     ]
    },
    {
     "name": "stderr",
     "output_type": "stream",
     "text": [
      "/tmp/ipykernel_3079/2671635211.py:11: RuntimeWarning: invalid value encountered in double_scalars\n",
      "  return s1 / s2\n"
     ]
    },
    {
     "name": "stdout",
     "output_type": "stream",
     "text": [
      "869/1000\r"
     ]
    },
    {
     "name": "stderr",
     "output_type": "stream",
     "text": [
      "/tmp/ipykernel_3079/2671635211.py:11: RuntimeWarning: invalid value encountered in double_scalars\n",
      "  return s1 / s2\n"
     ]
    },
    {
     "name": "stdout",
     "output_type": "stream",
     "text": [
      "870/1000\r"
     ]
    },
    {
     "name": "stderr",
     "output_type": "stream",
     "text": [
      "/tmp/ipykernel_3079/2671635211.py:11: RuntimeWarning: invalid value encountered in double_scalars\n",
      "  return s1 / s2\n"
     ]
    },
    {
     "name": "stdout",
     "output_type": "stream",
     "text": [
      "871/1000\r"
     ]
    },
    {
     "name": "stderr",
     "output_type": "stream",
     "text": [
      "/tmp/ipykernel_3079/2671635211.py:11: RuntimeWarning: invalid value encountered in double_scalars\n",
      "  return s1 / s2\n"
     ]
    },
    {
     "name": "stdout",
     "output_type": "stream",
     "text": [
      "872/1000\r"
     ]
    },
    {
     "name": "stderr",
     "output_type": "stream",
     "text": [
      "/tmp/ipykernel_3079/2671635211.py:11: RuntimeWarning: invalid value encountered in double_scalars\n",
      "  return s1 / s2\n"
     ]
    },
    {
     "name": "stdout",
     "output_type": "stream",
     "text": [
      "873/1000\r"
     ]
    },
    {
     "name": "stderr",
     "output_type": "stream",
     "text": [
      "/tmp/ipykernel_3079/2671635211.py:11: RuntimeWarning: invalid value encountered in double_scalars\n",
      "  return s1 / s2\n"
     ]
    },
    {
     "name": "stdout",
     "output_type": "stream",
     "text": [
      "874/1000\r"
     ]
    },
    {
     "name": "stderr",
     "output_type": "stream",
     "text": [
      "/tmp/ipykernel_3079/2671635211.py:11: RuntimeWarning: invalid value encountered in double_scalars\n",
      "  return s1 / s2\n"
     ]
    },
    {
     "name": "stdout",
     "output_type": "stream",
     "text": [
      "875/1000\r"
     ]
    },
    {
     "name": "stderr",
     "output_type": "stream",
     "text": [
      "/tmp/ipykernel_3079/2671635211.py:11: RuntimeWarning: invalid value encountered in double_scalars\n",
      "  return s1 / s2\n"
     ]
    },
    {
     "name": "stdout",
     "output_type": "stream",
     "text": [
      "876/1000\r"
     ]
    },
    {
     "name": "stderr",
     "output_type": "stream",
     "text": [
      "/tmp/ipykernel_3079/2671635211.py:11: RuntimeWarning: invalid value encountered in double_scalars\n",
      "  return s1 / s2\n"
     ]
    },
    {
     "name": "stdout",
     "output_type": "stream",
     "text": [
      "877/1000\r"
     ]
    },
    {
     "name": "stderr",
     "output_type": "stream",
     "text": [
      "/tmp/ipykernel_3079/2671635211.py:11: RuntimeWarning: invalid value encountered in double_scalars\n",
      "  return s1 / s2\n"
     ]
    },
    {
     "name": "stdout",
     "output_type": "stream",
     "text": [
      "878/1000\r"
     ]
    },
    {
     "name": "stderr",
     "output_type": "stream",
     "text": [
      "/tmp/ipykernel_3079/2671635211.py:11: RuntimeWarning: invalid value encountered in double_scalars\n",
      "  return s1 / s2\n"
     ]
    },
    {
     "name": "stdout",
     "output_type": "stream",
     "text": [
      "879/1000\r"
     ]
    },
    {
     "name": "stderr",
     "output_type": "stream",
     "text": [
      "/tmp/ipykernel_3079/2671635211.py:11: RuntimeWarning: invalid value encountered in double_scalars\n",
      "  return s1 / s2\n"
     ]
    },
    {
     "name": "stdout",
     "output_type": "stream",
     "text": [
      "880/1000\r"
     ]
    },
    {
     "name": "stderr",
     "output_type": "stream",
     "text": [
      "/tmp/ipykernel_3079/2671635211.py:11: RuntimeWarning: invalid value encountered in double_scalars\n",
      "  return s1 / s2\n"
     ]
    },
    {
     "name": "stdout",
     "output_type": "stream",
     "text": [
      "881/1000\r"
     ]
    },
    {
     "name": "stderr",
     "output_type": "stream",
     "text": [
      "/tmp/ipykernel_3079/2671635211.py:11: RuntimeWarning: invalid value encountered in double_scalars\n",
      "  return s1 / s2\n"
     ]
    },
    {
     "name": "stdout",
     "output_type": "stream",
     "text": [
      "882/1000\r"
     ]
    },
    {
     "name": "stderr",
     "output_type": "stream",
     "text": [
      "/tmp/ipykernel_3079/2671635211.py:11: RuntimeWarning: invalid value encountered in double_scalars\n",
      "  return s1 / s2\n"
     ]
    },
    {
     "name": "stdout",
     "output_type": "stream",
     "text": [
      "883/1000\r"
     ]
    },
    {
     "name": "stderr",
     "output_type": "stream",
     "text": [
      "/tmp/ipykernel_3079/2671635211.py:11: RuntimeWarning: invalid value encountered in double_scalars\n",
      "  return s1 / s2\n"
     ]
    },
    {
     "name": "stdout",
     "output_type": "stream",
     "text": [
      "884/1000\r"
     ]
    },
    {
     "name": "stderr",
     "output_type": "stream",
     "text": [
      "/tmp/ipykernel_3079/2671635211.py:11: RuntimeWarning: invalid value encountered in double_scalars\n",
      "  return s1 / s2\n"
     ]
    },
    {
     "name": "stdout",
     "output_type": "stream",
     "text": [
      "885/1000\r"
     ]
    },
    {
     "name": "stderr",
     "output_type": "stream",
     "text": [
      "/tmp/ipykernel_3079/2671635211.py:11: RuntimeWarning: invalid value encountered in double_scalars\n",
      "  return s1 / s2\n"
     ]
    },
    {
     "name": "stdout",
     "output_type": "stream",
     "text": [
      "886/1000\r"
     ]
    },
    {
     "name": "stderr",
     "output_type": "stream",
     "text": [
      "/tmp/ipykernel_3079/2671635211.py:11: RuntimeWarning: invalid value encountered in double_scalars\n",
      "  return s1 / s2\n"
     ]
    },
    {
     "name": "stdout",
     "output_type": "stream",
     "text": [
      "887/1000\r"
     ]
    },
    {
     "name": "stderr",
     "output_type": "stream",
     "text": [
      "/tmp/ipykernel_3079/2671635211.py:11: RuntimeWarning: invalid value encountered in double_scalars\n",
      "  return s1 / s2\n"
     ]
    },
    {
     "name": "stdout",
     "output_type": "stream",
     "text": [
      "888/1000\r"
     ]
    },
    {
     "name": "stderr",
     "output_type": "stream",
     "text": [
      "/tmp/ipykernel_3079/2671635211.py:11: RuntimeWarning: invalid value encountered in double_scalars\n",
      "  return s1 / s2\n"
     ]
    },
    {
     "name": "stdout",
     "output_type": "stream",
     "text": [
      "889/1000\r"
     ]
    },
    {
     "name": "stderr",
     "output_type": "stream",
     "text": [
      "/tmp/ipykernel_3079/2671635211.py:11: RuntimeWarning: invalid value encountered in double_scalars\n",
      "  return s1 / s2\n"
     ]
    },
    {
     "name": "stdout",
     "output_type": "stream",
     "text": [
      "890/1000\r"
     ]
    },
    {
     "name": "stderr",
     "output_type": "stream",
     "text": [
      "/tmp/ipykernel_3079/2671635211.py:11: RuntimeWarning: invalid value encountered in double_scalars\n",
      "  return s1 / s2\n"
     ]
    },
    {
     "name": "stdout",
     "output_type": "stream",
     "text": [
      "891/1000\r"
     ]
    },
    {
     "name": "stderr",
     "output_type": "stream",
     "text": [
      "/tmp/ipykernel_3079/2671635211.py:11: RuntimeWarning: invalid value encountered in double_scalars\n",
      "  return s1 / s2\n"
     ]
    },
    {
     "name": "stdout",
     "output_type": "stream",
     "text": [
      "892/1000\r"
     ]
    },
    {
     "name": "stderr",
     "output_type": "stream",
     "text": [
      "/tmp/ipykernel_3079/2671635211.py:11: RuntimeWarning: invalid value encountered in double_scalars\n",
      "  return s1 / s2\n"
     ]
    },
    {
     "name": "stdout",
     "output_type": "stream",
     "text": [
      "893/1000\r"
     ]
    },
    {
     "name": "stderr",
     "output_type": "stream",
     "text": [
      "/tmp/ipykernel_3079/2671635211.py:11: RuntimeWarning: invalid value encountered in double_scalars\n",
      "  return s1 / s2\n"
     ]
    },
    {
     "name": "stdout",
     "output_type": "stream",
     "text": [
      "894/1000\r"
     ]
    },
    {
     "name": "stderr",
     "output_type": "stream",
     "text": [
      "/tmp/ipykernel_3079/2671635211.py:11: RuntimeWarning: invalid value encountered in double_scalars\n",
      "  return s1 / s2\n"
     ]
    },
    {
     "name": "stdout",
     "output_type": "stream",
     "text": [
      "895/1000\r"
     ]
    },
    {
     "name": "stderr",
     "output_type": "stream",
     "text": [
      "/tmp/ipykernel_3079/2671635211.py:11: RuntimeWarning: invalid value encountered in double_scalars\n",
      "  return s1 / s2\n"
     ]
    },
    {
     "name": "stdout",
     "output_type": "stream",
     "text": [
      "896/1000\r"
     ]
    },
    {
     "name": "stderr",
     "output_type": "stream",
     "text": [
      "/tmp/ipykernel_3079/2671635211.py:11: RuntimeWarning: invalid value encountered in double_scalars\n",
      "  return s1 / s2\n"
     ]
    },
    {
     "name": "stdout",
     "output_type": "stream",
     "text": [
      "897/1000\r"
     ]
    },
    {
     "name": "stderr",
     "output_type": "stream",
     "text": [
      "/tmp/ipykernel_3079/2671635211.py:11: RuntimeWarning: invalid value encountered in double_scalars\n",
      "  return s1 / s2\n"
     ]
    },
    {
     "name": "stdout",
     "output_type": "stream",
     "text": [
      "898/1000\r"
     ]
    },
    {
     "name": "stderr",
     "output_type": "stream",
     "text": [
      "/tmp/ipykernel_3079/2671635211.py:11: RuntimeWarning: invalid value encountered in double_scalars\n",
      "  return s1 / s2\n"
     ]
    },
    {
     "name": "stdout",
     "output_type": "stream",
     "text": [
      "899/1000\r"
     ]
    },
    {
     "name": "stderr",
     "output_type": "stream",
     "text": [
      "/tmp/ipykernel_3079/2671635211.py:11: RuntimeWarning: invalid value encountered in double_scalars\n",
      "  return s1 / s2\n"
     ]
    },
    {
     "name": "stdout",
     "output_type": "stream",
     "text": [
      "900/1000\r"
     ]
    },
    {
     "name": "stderr",
     "output_type": "stream",
     "text": [
      "/tmp/ipykernel_3079/2671635211.py:11: RuntimeWarning: invalid value encountered in double_scalars\n",
      "  return s1 / s2\n"
     ]
    },
    {
     "name": "stdout",
     "output_type": "stream",
     "text": [
      "901/1000\r"
     ]
    },
    {
     "name": "stderr",
     "output_type": "stream",
     "text": [
      "/tmp/ipykernel_3079/2671635211.py:11: RuntimeWarning: invalid value encountered in double_scalars\n",
      "  return s1 / s2\n"
     ]
    },
    {
     "name": "stdout",
     "output_type": "stream",
     "text": [
      "902/1000\r"
     ]
    },
    {
     "name": "stderr",
     "output_type": "stream",
     "text": [
      "/tmp/ipykernel_3079/2671635211.py:11: RuntimeWarning: invalid value encountered in double_scalars\n",
      "  return s1 / s2\n"
     ]
    },
    {
     "name": "stdout",
     "output_type": "stream",
     "text": [
      "903/1000\r"
     ]
    },
    {
     "name": "stderr",
     "output_type": "stream",
     "text": [
      "/tmp/ipykernel_3079/2671635211.py:11: RuntimeWarning: invalid value encountered in double_scalars\n",
      "  return s1 / s2\n"
     ]
    },
    {
     "name": "stdout",
     "output_type": "stream",
     "text": [
      "904/1000\r"
     ]
    },
    {
     "name": "stderr",
     "output_type": "stream",
     "text": [
      "/tmp/ipykernel_3079/2671635211.py:11: RuntimeWarning: invalid value encountered in double_scalars\n",
      "  return s1 / s2\n"
     ]
    },
    {
     "name": "stdout",
     "output_type": "stream",
     "text": [
      "905/1000\r"
     ]
    },
    {
     "name": "stderr",
     "output_type": "stream",
     "text": [
      "/tmp/ipykernel_3079/2671635211.py:11: RuntimeWarning: invalid value encountered in double_scalars\n",
      "  return s1 / s2\n"
     ]
    },
    {
     "name": "stdout",
     "output_type": "stream",
     "text": [
      "906/1000\r"
     ]
    },
    {
     "name": "stderr",
     "output_type": "stream",
     "text": [
      "/tmp/ipykernel_3079/2671635211.py:11: RuntimeWarning: invalid value encountered in double_scalars\n",
      "  return s1 / s2\n"
     ]
    },
    {
     "name": "stdout",
     "output_type": "stream",
     "text": [
      "907/1000\r"
     ]
    },
    {
     "name": "stderr",
     "output_type": "stream",
     "text": [
      "/tmp/ipykernel_3079/2671635211.py:11: RuntimeWarning: invalid value encountered in double_scalars\n",
      "  return s1 / s2\n"
     ]
    },
    {
     "name": "stdout",
     "output_type": "stream",
     "text": [
      "908/1000\r"
     ]
    },
    {
     "name": "stderr",
     "output_type": "stream",
     "text": [
      "/tmp/ipykernel_3079/2671635211.py:11: RuntimeWarning: invalid value encountered in double_scalars\n",
      "  return s1 / s2\n"
     ]
    },
    {
     "name": "stdout",
     "output_type": "stream",
     "text": [
      "909/1000\r"
     ]
    },
    {
     "name": "stderr",
     "output_type": "stream",
     "text": [
      "/tmp/ipykernel_3079/2671635211.py:11: RuntimeWarning: invalid value encountered in double_scalars\n",
      "  return s1 / s2\n"
     ]
    },
    {
     "name": "stdout",
     "output_type": "stream",
     "text": [
      "910/1000\r"
     ]
    },
    {
     "name": "stderr",
     "output_type": "stream",
     "text": [
      "/tmp/ipykernel_3079/2671635211.py:11: RuntimeWarning: invalid value encountered in double_scalars\n",
      "  return s1 / s2\n"
     ]
    },
    {
     "name": "stdout",
     "output_type": "stream",
     "text": [
      "911/1000\r"
     ]
    },
    {
     "name": "stderr",
     "output_type": "stream",
     "text": [
      "/tmp/ipykernel_3079/2671635211.py:11: RuntimeWarning: invalid value encountered in double_scalars\n",
      "  return s1 / s2\n"
     ]
    },
    {
     "name": "stdout",
     "output_type": "stream",
     "text": [
      "912/1000\r"
     ]
    },
    {
     "name": "stderr",
     "output_type": "stream",
     "text": [
      "/tmp/ipykernel_3079/2671635211.py:11: RuntimeWarning: invalid value encountered in double_scalars\n",
      "  return s1 / s2\n"
     ]
    },
    {
     "name": "stdout",
     "output_type": "stream",
     "text": [
      "913/1000\r"
     ]
    },
    {
     "name": "stderr",
     "output_type": "stream",
     "text": [
      "/tmp/ipykernel_3079/2671635211.py:11: RuntimeWarning: invalid value encountered in double_scalars\n",
      "  return s1 / s2\n"
     ]
    },
    {
     "name": "stdout",
     "output_type": "stream",
     "text": [
      "914/1000\r"
     ]
    },
    {
     "name": "stderr",
     "output_type": "stream",
     "text": [
      "/tmp/ipykernel_3079/2671635211.py:11: RuntimeWarning: invalid value encountered in double_scalars\n",
      "  return s1 / s2\n"
     ]
    },
    {
     "name": "stdout",
     "output_type": "stream",
     "text": [
      "915/1000\r"
     ]
    },
    {
     "name": "stderr",
     "output_type": "stream",
     "text": [
      "/tmp/ipykernel_3079/2671635211.py:11: RuntimeWarning: invalid value encountered in double_scalars\n",
      "  return s1 / s2\n"
     ]
    },
    {
     "name": "stdout",
     "output_type": "stream",
     "text": [
      "916/1000\r"
     ]
    },
    {
     "name": "stderr",
     "output_type": "stream",
     "text": [
      "/tmp/ipykernel_3079/2671635211.py:11: RuntimeWarning: invalid value encountered in double_scalars\n",
      "  return s1 / s2\n"
     ]
    },
    {
     "name": "stdout",
     "output_type": "stream",
     "text": [
      "917/1000\r"
     ]
    },
    {
     "name": "stderr",
     "output_type": "stream",
     "text": [
      "/tmp/ipykernel_3079/2671635211.py:11: RuntimeWarning: invalid value encountered in double_scalars\n",
      "  return s1 / s2\n"
     ]
    },
    {
     "name": "stdout",
     "output_type": "stream",
     "text": [
      "918/1000\r"
     ]
    },
    {
     "name": "stderr",
     "output_type": "stream",
     "text": [
      "/tmp/ipykernel_3079/2671635211.py:11: RuntimeWarning: invalid value encountered in double_scalars\n",
      "  return s1 / s2\n"
     ]
    },
    {
     "name": "stdout",
     "output_type": "stream",
     "text": [
      "919/1000\r"
     ]
    },
    {
     "name": "stderr",
     "output_type": "stream",
     "text": [
      "/tmp/ipykernel_3079/2671635211.py:11: RuntimeWarning: invalid value encountered in double_scalars\n",
      "  return s1 / s2\n"
     ]
    },
    {
     "name": "stdout",
     "output_type": "stream",
     "text": [
      "920/1000\r"
     ]
    },
    {
     "name": "stderr",
     "output_type": "stream",
     "text": [
      "/tmp/ipykernel_3079/2671635211.py:11: RuntimeWarning: invalid value encountered in double_scalars\n",
      "  return s1 / s2\n"
     ]
    },
    {
     "name": "stdout",
     "output_type": "stream",
     "text": [
      "921/1000\r"
     ]
    },
    {
     "name": "stderr",
     "output_type": "stream",
     "text": [
      "/tmp/ipykernel_3079/2671635211.py:11: RuntimeWarning: invalid value encountered in double_scalars\n",
      "  return s1 / s2\n"
     ]
    },
    {
     "name": "stdout",
     "output_type": "stream",
     "text": [
      "922/1000\r"
     ]
    },
    {
     "name": "stderr",
     "output_type": "stream",
     "text": [
      "/tmp/ipykernel_3079/2671635211.py:11: RuntimeWarning: invalid value encountered in double_scalars\n",
      "  return s1 / s2\n"
     ]
    },
    {
     "name": "stdout",
     "output_type": "stream",
     "text": [
      "923/1000\r"
     ]
    },
    {
     "name": "stderr",
     "output_type": "stream",
     "text": [
      "/tmp/ipykernel_3079/2671635211.py:11: RuntimeWarning: invalid value encountered in double_scalars\n",
      "  return s1 / s2\n"
     ]
    },
    {
     "name": "stdout",
     "output_type": "stream",
     "text": [
      "924/1000\r"
     ]
    },
    {
     "name": "stderr",
     "output_type": "stream",
     "text": [
      "/tmp/ipykernel_3079/2671635211.py:11: RuntimeWarning: invalid value encountered in double_scalars\n",
      "  return s1 / s2\n"
     ]
    },
    {
     "name": "stdout",
     "output_type": "stream",
     "text": [
      "925/1000\r"
     ]
    },
    {
     "name": "stderr",
     "output_type": "stream",
     "text": [
      "/tmp/ipykernel_3079/2671635211.py:11: RuntimeWarning: invalid value encountered in double_scalars\n",
      "  return s1 / s2\n"
     ]
    },
    {
     "name": "stdout",
     "output_type": "stream",
     "text": [
      "926/1000\r"
     ]
    },
    {
     "name": "stderr",
     "output_type": "stream",
     "text": [
      "/tmp/ipykernel_3079/2671635211.py:11: RuntimeWarning: invalid value encountered in double_scalars\n",
      "  return s1 / s2\n"
     ]
    },
    {
     "name": "stdout",
     "output_type": "stream",
     "text": [
      "927/1000\r"
     ]
    },
    {
     "name": "stderr",
     "output_type": "stream",
     "text": [
      "/tmp/ipykernel_3079/2671635211.py:11: RuntimeWarning: invalid value encountered in double_scalars\n",
      "  return s1 / s2\n"
     ]
    },
    {
     "name": "stdout",
     "output_type": "stream",
     "text": [
      "928/1000\r"
     ]
    },
    {
     "name": "stderr",
     "output_type": "stream",
     "text": [
      "/tmp/ipykernel_3079/2671635211.py:11: RuntimeWarning: invalid value encountered in double_scalars\n",
      "  return s1 / s2\n"
     ]
    },
    {
     "name": "stdout",
     "output_type": "stream",
     "text": [
      "929/1000\r"
     ]
    },
    {
     "name": "stderr",
     "output_type": "stream",
     "text": [
      "/tmp/ipykernel_3079/2671635211.py:11: RuntimeWarning: invalid value encountered in double_scalars\n",
      "  return s1 / s2\n"
     ]
    },
    {
     "name": "stdout",
     "output_type": "stream",
     "text": [
      "930/1000\r"
     ]
    },
    {
     "name": "stderr",
     "output_type": "stream",
     "text": [
      "/tmp/ipykernel_3079/2671635211.py:11: RuntimeWarning: invalid value encountered in double_scalars\n",
      "  return s1 / s2\n"
     ]
    },
    {
     "name": "stdout",
     "output_type": "stream",
     "text": [
      "931/1000\r"
     ]
    },
    {
     "name": "stderr",
     "output_type": "stream",
     "text": [
      "/tmp/ipykernel_3079/2671635211.py:11: RuntimeWarning: invalid value encountered in double_scalars\n",
      "  return s1 / s2\n"
     ]
    },
    {
     "name": "stdout",
     "output_type": "stream",
     "text": [
      "932/1000\r"
     ]
    },
    {
     "name": "stderr",
     "output_type": "stream",
     "text": [
      "/tmp/ipykernel_3079/2671635211.py:11: RuntimeWarning: invalid value encountered in double_scalars\n",
      "  return s1 / s2\n"
     ]
    },
    {
     "name": "stdout",
     "output_type": "stream",
     "text": [
      "933/1000\r"
     ]
    },
    {
     "name": "stderr",
     "output_type": "stream",
     "text": [
      "/tmp/ipykernel_3079/2671635211.py:11: RuntimeWarning: invalid value encountered in double_scalars\n",
      "  return s1 / s2\n"
     ]
    },
    {
     "name": "stdout",
     "output_type": "stream",
     "text": [
      "934/1000\r"
     ]
    },
    {
     "name": "stderr",
     "output_type": "stream",
     "text": [
      "/tmp/ipykernel_3079/2671635211.py:11: RuntimeWarning: invalid value encountered in double_scalars\n",
      "  return s1 / s2\n"
     ]
    },
    {
     "name": "stdout",
     "output_type": "stream",
     "text": [
      "935/1000\r"
     ]
    },
    {
     "name": "stderr",
     "output_type": "stream",
     "text": [
      "/tmp/ipykernel_3079/2671635211.py:11: RuntimeWarning: invalid value encountered in double_scalars\n",
      "  return s1 / s2\n"
     ]
    },
    {
     "name": "stdout",
     "output_type": "stream",
     "text": [
      "936/1000\r"
     ]
    },
    {
     "name": "stderr",
     "output_type": "stream",
     "text": [
      "/tmp/ipykernel_3079/2671635211.py:11: RuntimeWarning: invalid value encountered in double_scalars\n",
      "  return s1 / s2\n"
     ]
    },
    {
     "name": "stdout",
     "output_type": "stream",
     "text": [
      "937/1000\r"
     ]
    },
    {
     "name": "stderr",
     "output_type": "stream",
     "text": [
      "/tmp/ipykernel_3079/2671635211.py:11: RuntimeWarning: invalid value encountered in double_scalars\n",
      "  return s1 / s2\n"
     ]
    },
    {
     "name": "stdout",
     "output_type": "stream",
     "text": [
      "938/1000\r"
     ]
    },
    {
     "name": "stderr",
     "output_type": "stream",
     "text": [
      "/tmp/ipykernel_3079/2671635211.py:11: RuntimeWarning: invalid value encountered in double_scalars\n",
      "  return s1 / s2\n"
     ]
    },
    {
     "name": "stdout",
     "output_type": "stream",
     "text": [
      "939/1000\r"
     ]
    },
    {
     "name": "stderr",
     "output_type": "stream",
     "text": [
      "/tmp/ipykernel_3079/2671635211.py:11: RuntimeWarning: invalid value encountered in double_scalars\n",
      "  return s1 / s2\n"
     ]
    },
    {
     "name": "stdout",
     "output_type": "stream",
     "text": [
      "940/1000\r"
     ]
    },
    {
     "name": "stderr",
     "output_type": "stream",
     "text": [
      "/tmp/ipykernel_3079/2671635211.py:11: RuntimeWarning: invalid value encountered in double_scalars\n",
      "  return s1 / s2\n"
     ]
    },
    {
     "name": "stdout",
     "output_type": "stream",
     "text": [
      "941/1000\r"
     ]
    },
    {
     "name": "stderr",
     "output_type": "stream",
     "text": [
      "/tmp/ipykernel_3079/2671635211.py:11: RuntimeWarning: invalid value encountered in double_scalars\n",
      "  return s1 / s2\n"
     ]
    },
    {
     "name": "stdout",
     "output_type": "stream",
     "text": [
      "942/1000\r"
     ]
    },
    {
     "name": "stderr",
     "output_type": "stream",
     "text": [
      "/tmp/ipykernel_3079/2671635211.py:11: RuntimeWarning: invalid value encountered in double_scalars\n",
      "  return s1 / s2\n"
     ]
    },
    {
     "name": "stdout",
     "output_type": "stream",
     "text": [
      "943/1000\r"
     ]
    },
    {
     "name": "stderr",
     "output_type": "stream",
     "text": [
      "/tmp/ipykernel_3079/2671635211.py:11: RuntimeWarning: invalid value encountered in double_scalars\n",
      "  return s1 / s2\n"
     ]
    },
    {
     "name": "stdout",
     "output_type": "stream",
     "text": [
      "944/1000\r"
     ]
    },
    {
     "name": "stderr",
     "output_type": "stream",
     "text": [
      "/tmp/ipykernel_3079/2671635211.py:11: RuntimeWarning: invalid value encountered in double_scalars\n",
      "  return s1 / s2\n"
     ]
    },
    {
     "name": "stdout",
     "output_type": "stream",
     "text": [
      "945/1000\r"
     ]
    },
    {
     "name": "stderr",
     "output_type": "stream",
     "text": [
      "/tmp/ipykernel_3079/2671635211.py:11: RuntimeWarning: invalid value encountered in double_scalars\n",
      "  return s1 / s2\n"
     ]
    },
    {
     "name": "stdout",
     "output_type": "stream",
     "text": [
      "946/1000\r"
     ]
    },
    {
     "name": "stderr",
     "output_type": "stream",
     "text": [
      "/tmp/ipykernel_3079/2671635211.py:11: RuntimeWarning: invalid value encountered in double_scalars\n",
      "  return s1 / s2\n"
     ]
    },
    {
     "name": "stdout",
     "output_type": "stream",
     "text": [
      "947/1000\r"
     ]
    },
    {
     "name": "stderr",
     "output_type": "stream",
     "text": [
      "/tmp/ipykernel_3079/2671635211.py:11: RuntimeWarning: invalid value encountered in double_scalars\n",
      "  return s1 / s2\n"
     ]
    },
    {
     "name": "stdout",
     "output_type": "stream",
     "text": [
      "948/1000\r"
     ]
    },
    {
     "name": "stderr",
     "output_type": "stream",
     "text": [
      "/tmp/ipykernel_3079/2671635211.py:11: RuntimeWarning: invalid value encountered in double_scalars\n",
      "  return s1 / s2\n"
     ]
    },
    {
     "name": "stdout",
     "output_type": "stream",
     "text": [
      "949/1000\r"
     ]
    },
    {
     "name": "stderr",
     "output_type": "stream",
     "text": [
      "/tmp/ipykernel_3079/2671635211.py:11: RuntimeWarning: invalid value encountered in double_scalars\n",
      "  return s1 / s2\n"
     ]
    },
    {
     "name": "stdout",
     "output_type": "stream",
     "text": [
      "950/1000\r"
     ]
    },
    {
     "name": "stderr",
     "output_type": "stream",
     "text": [
      "/tmp/ipykernel_3079/2671635211.py:11: RuntimeWarning: invalid value encountered in double_scalars\n",
      "  return s1 / s2\n"
     ]
    },
    {
     "name": "stdout",
     "output_type": "stream",
     "text": [
      "951/1000\r"
     ]
    },
    {
     "name": "stderr",
     "output_type": "stream",
     "text": [
      "/tmp/ipykernel_3079/2671635211.py:11: RuntimeWarning: invalid value encountered in double_scalars\n",
      "  return s1 / s2\n"
     ]
    },
    {
     "name": "stdout",
     "output_type": "stream",
     "text": [
      "952/1000\r"
     ]
    },
    {
     "name": "stderr",
     "output_type": "stream",
     "text": [
      "/tmp/ipykernel_3079/2671635211.py:11: RuntimeWarning: invalid value encountered in double_scalars\n",
      "  return s1 / s2\n"
     ]
    },
    {
     "name": "stdout",
     "output_type": "stream",
     "text": [
      "953/1000\r"
     ]
    },
    {
     "name": "stderr",
     "output_type": "stream",
     "text": [
      "/tmp/ipykernel_3079/2671635211.py:11: RuntimeWarning: invalid value encountered in double_scalars\n",
      "  return s1 / s2\n"
     ]
    },
    {
     "name": "stdout",
     "output_type": "stream",
     "text": [
      "954/1000\r"
     ]
    },
    {
     "name": "stderr",
     "output_type": "stream",
     "text": [
      "/tmp/ipykernel_3079/2671635211.py:11: RuntimeWarning: invalid value encountered in double_scalars\n",
      "  return s1 / s2\n"
     ]
    },
    {
     "name": "stdout",
     "output_type": "stream",
     "text": [
      "955/1000\r"
     ]
    },
    {
     "name": "stderr",
     "output_type": "stream",
     "text": [
      "/tmp/ipykernel_3079/2671635211.py:11: RuntimeWarning: invalid value encountered in double_scalars\n",
      "  return s1 / s2\n"
     ]
    },
    {
     "name": "stdout",
     "output_type": "stream",
     "text": [
      "956/1000\r"
     ]
    },
    {
     "name": "stderr",
     "output_type": "stream",
     "text": [
      "/tmp/ipykernel_3079/2671635211.py:11: RuntimeWarning: invalid value encountered in double_scalars\n",
      "  return s1 / s2\n"
     ]
    },
    {
     "name": "stdout",
     "output_type": "stream",
     "text": [
      "957/1000\r"
     ]
    },
    {
     "name": "stderr",
     "output_type": "stream",
     "text": [
      "/tmp/ipykernel_3079/2671635211.py:11: RuntimeWarning: invalid value encountered in double_scalars\n",
      "  return s1 / s2\n"
     ]
    },
    {
     "name": "stdout",
     "output_type": "stream",
     "text": [
      "958/1000\r"
     ]
    },
    {
     "name": "stderr",
     "output_type": "stream",
     "text": [
      "/tmp/ipykernel_3079/2671635211.py:11: RuntimeWarning: invalid value encountered in double_scalars\n",
      "  return s1 / s2\n"
     ]
    },
    {
     "name": "stdout",
     "output_type": "stream",
     "text": [
      "959/1000\r"
     ]
    },
    {
     "name": "stderr",
     "output_type": "stream",
     "text": [
      "/tmp/ipykernel_3079/2671635211.py:11: RuntimeWarning: invalid value encountered in double_scalars\n",
      "  return s1 / s2\n"
     ]
    },
    {
     "name": "stdout",
     "output_type": "stream",
     "text": [
      "960/1000\r"
     ]
    },
    {
     "name": "stderr",
     "output_type": "stream",
     "text": [
      "/tmp/ipykernel_3079/2671635211.py:11: RuntimeWarning: invalid value encountered in double_scalars\n",
      "  return s1 / s2\n"
     ]
    },
    {
     "name": "stdout",
     "output_type": "stream",
     "text": [
      "961/1000\r"
     ]
    },
    {
     "name": "stderr",
     "output_type": "stream",
     "text": [
      "/tmp/ipykernel_3079/2671635211.py:11: RuntimeWarning: invalid value encountered in double_scalars\n",
      "  return s1 / s2\n"
     ]
    },
    {
     "name": "stdout",
     "output_type": "stream",
     "text": [
      "962/1000\r"
     ]
    },
    {
     "name": "stderr",
     "output_type": "stream",
     "text": [
      "/tmp/ipykernel_3079/2671635211.py:11: RuntimeWarning: invalid value encountered in double_scalars\n",
      "  return s1 / s2\n"
     ]
    },
    {
     "name": "stdout",
     "output_type": "stream",
     "text": [
      "963/1000\r"
     ]
    },
    {
     "name": "stderr",
     "output_type": "stream",
     "text": [
      "/tmp/ipykernel_3079/2671635211.py:11: RuntimeWarning: invalid value encountered in double_scalars\n",
      "  return s1 / s2\n"
     ]
    },
    {
     "name": "stdout",
     "output_type": "stream",
     "text": [
      "964/1000\r"
     ]
    },
    {
     "name": "stderr",
     "output_type": "stream",
     "text": [
      "/tmp/ipykernel_3079/2671635211.py:11: RuntimeWarning: invalid value encountered in double_scalars\n",
      "  return s1 / s2\n"
     ]
    },
    {
     "name": "stdout",
     "output_type": "stream",
     "text": [
      "965/1000\r"
     ]
    },
    {
     "name": "stderr",
     "output_type": "stream",
     "text": [
      "/tmp/ipykernel_3079/2671635211.py:11: RuntimeWarning: invalid value encountered in double_scalars\n",
      "  return s1 / s2\n"
     ]
    },
    {
     "name": "stdout",
     "output_type": "stream",
     "text": [
      "966/1000\r"
     ]
    },
    {
     "name": "stderr",
     "output_type": "stream",
     "text": [
      "/tmp/ipykernel_3079/2671635211.py:11: RuntimeWarning: invalid value encountered in double_scalars\n",
      "  return s1 / s2\n"
     ]
    },
    {
     "name": "stdout",
     "output_type": "stream",
     "text": [
      "967/1000\r"
     ]
    },
    {
     "name": "stderr",
     "output_type": "stream",
     "text": [
      "/tmp/ipykernel_3079/2671635211.py:11: RuntimeWarning: invalid value encountered in double_scalars\n",
      "  return s1 / s2\n"
     ]
    },
    {
     "name": "stdout",
     "output_type": "stream",
     "text": [
      "968/1000\r"
     ]
    },
    {
     "name": "stderr",
     "output_type": "stream",
     "text": [
      "/tmp/ipykernel_3079/2671635211.py:11: RuntimeWarning: invalid value encountered in double_scalars\n",
      "  return s1 / s2\n"
     ]
    },
    {
     "name": "stdout",
     "output_type": "stream",
     "text": [
      "969/1000\r"
     ]
    },
    {
     "name": "stderr",
     "output_type": "stream",
     "text": [
      "/tmp/ipykernel_3079/2671635211.py:11: RuntimeWarning: invalid value encountered in double_scalars\n",
      "  return s1 / s2\n"
     ]
    },
    {
     "name": "stdout",
     "output_type": "stream",
     "text": [
      "970/1000\r"
     ]
    },
    {
     "name": "stderr",
     "output_type": "stream",
     "text": [
      "/tmp/ipykernel_3079/2671635211.py:11: RuntimeWarning: invalid value encountered in double_scalars\n",
      "  return s1 / s2\n"
     ]
    },
    {
     "name": "stdout",
     "output_type": "stream",
     "text": [
      "971/1000\r"
     ]
    },
    {
     "name": "stderr",
     "output_type": "stream",
     "text": [
      "/tmp/ipykernel_3079/2671635211.py:11: RuntimeWarning: invalid value encountered in double_scalars\n",
      "  return s1 / s2\n"
     ]
    },
    {
     "name": "stdout",
     "output_type": "stream",
     "text": [
      "972/1000\r"
     ]
    },
    {
     "name": "stderr",
     "output_type": "stream",
     "text": [
      "/tmp/ipykernel_3079/2671635211.py:11: RuntimeWarning: invalid value encountered in double_scalars\n",
      "  return s1 / s2\n"
     ]
    },
    {
     "name": "stdout",
     "output_type": "stream",
     "text": [
      "973/1000\r"
     ]
    },
    {
     "name": "stderr",
     "output_type": "stream",
     "text": [
      "/tmp/ipykernel_3079/2671635211.py:11: RuntimeWarning: invalid value encountered in double_scalars\n",
      "  return s1 / s2\n"
     ]
    },
    {
     "name": "stdout",
     "output_type": "stream",
     "text": [
      "974/1000\r"
     ]
    },
    {
     "name": "stderr",
     "output_type": "stream",
     "text": [
      "/tmp/ipykernel_3079/2671635211.py:11: RuntimeWarning: invalid value encountered in double_scalars\n",
      "  return s1 / s2\n"
     ]
    },
    {
     "name": "stdout",
     "output_type": "stream",
     "text": [
      "975/1000\r"
     ]
    },
    {
     "name": "stderr",
     "output_type": "stream",
     "text": [
      "/tmp/ipykernel_3079/2671635211.py:11: RuntimeWarning: invalid value encountered in double_scalars\n",
      "  return s1 / s2\n"
     ]
    },
    {
     "name": "stdout",
     "output_type": "stream",
     "text": [
      "976/1000\r"
     ]
    },
    {
     "name": "stderr",
     "output_type": "stream",
     "text": [
      "/tmp/ipykernel_3079/2671635211.py:11: RuntimeWarning: invalid value encountered in double_scalars\n",
      "  return s1 / s2\n"
     ]
    },
    {
     "name": "stdout",
     "output_type": "stream",
     "text": [
      "977/1000\r"
     ]
    },
    {
     "name": "stderr",
     "output_type": "stream",
     "text": [
      "/tmp/ipykernel_3079/2671635211.py:11: RuntimeWarning: invalid value encountered in double_scalars\n",
      "  return s1 / s2\n"
     ]
    },
    {
     "name": "stdout",
     "output_type": "stream",
     "text": [
      "978/1000\r"
     ]
    },
    {
     "name": "stderr",
     "output_type": "stream",
     "text": [
      "/tmp/ipykernel_3079/2671635211.py:11: RuntimeWarning: invalid value encountered in double_scalars\n",
      "  return s1 / s2\n"
     ]
    },
    {
     "name": "stdout",
     "output_type": "stream",
     "text": [
      "979/1000\r"
     ]
    },
    {
     "name": "stderr",
     "output_type": "stream",
     "text": [
      "/tmp/ipykernel_3079/2671635211.py:11: RuntimeWarning: invalid value encountered in double_scalars\n",
      "  return s1 / s2\n"
     ]
    },
    {
     "name": "stdout",
     "output_type": "stream",
     "text": [
      "980/1000\r"
     ]
    },
    {
     "name": "stderr",
     "output_type": "stream",
     "text": [
      "/tmp/ipykernel_3079/2671635211.py:11: RuntimeWarning: invalid value encountered in double_scalars\n",
      "  return s1 / s2\n"
     ]
    },
    {
     "name": "stdout",
     "output_type": "stream",
     "text": [
      "981/1000\r"
     ]
    },
    {
     "name": "stderr",
     "output_type": "stream",
     "text": [
      "/tmp/ipykernel_3079/2671635211.py:11: RuntimeWarning: invalid value encountered in double_scalars\n",
      "  return s1 / s2\n"
     ]
    },
    {
     "name": "stdout",
     "output_type": "stream",
     "text": [
      "982/1000\r"
     ]
    },
    {
     "name": "stderr",
     "output_type": "stream",
     "text": [
      "/tmp/ipykernel_3079/2671635211.py:11: RuntimeWarning: invalid value encountered in double_scalars\n",
      "  return s1 / s2\n"
     ]
    },
    {
     "name": "stdout",
     "output_type": "stream",
     "text": [
      "983/1000\r"
     ]
    },
    {
     "name": "stderr",
     "output_type": "stream",
     "text": [
      "/tmp/ipykernel_3079/2671635211.py:11: RuntimeWarning: invalid value encountered in double_scalars\n",
      "  return s1 / s2\n"
     ]
    },
    {
     "name": "stdout",
     "output_type": "stream",
     "text": [
      "984/1000\r"
     ]
    },
    {
     "name": "stderr",
     "output_type": "stream",
     "text": [
      "/tmp/ipykernel_3079/2671635211.py:11: RuntimeWarning: invalid value encountered in double_scalars\n",
      "  return s1 / s2\n"
     ]
    },
    {
     "name": "stdout",
     "output_type": "stream",
     "text": [
      "985/1000\r"
     ]
    },
    {
     "name": "stderr",
     "output_type": "stream",
     "text": [
      "/tmp/ipykernel_3079/2671635211.py:11: RuntimeWarning: invalid value encountered in double_scalars\n",
      "  return s1 / s2\n"
     ]
    },
    {
     "name": "stdout",
     "output_type": "stream",
     "text": [
      "986/1000\r"
     ]
    },
    {
     "name": "stderr",
     "output_type": "stream",
     "text": [
      "/tmp/ipykernel_3079/2671635211.py:11: RuntimeWarning: invalid value encountered in double_scalars\n",
      "  return s1 / s2\n"
     ]
    },
    {
     "name": "stdout",
     "output_type": "stream",
     "text": [
      "987/1000\r"
     ]
    },
    {
     "name": "stderr",
     "output_type": "stream",
     "text": [
      "/tmp/ipykernel_3079/2671635211.py:11: RuntimeWarning: invalid value encountered in double_scalars\n",
      "  return s1 / s2\n"
     ]
    },
    {
     "name": "stdout",
     "output_type": "stream",
     "text": [
      "988/1000\r"
     ]
    },
    {
     "name": "stderr",
     "output_type": "stream",
     "text": [
      "/tmp/ipykernel_3079/2671635211.py:11: RuntimeWarning: invalid value encountered in double_scalars\n",
      "  return s1 / s2\n"
     ]
    },
    {
     "name": "stdout",
     "output_type": "stream",
     "text": [
      "989/1000\r"
     ]
    },
    {
     "name": "stderr",
     "output_type": "stream",
     "text": [
      "/tmp/ipykernel_3079/2671635211.py:11: RuntimeWarning: invalid value encountered in double_scalars\n",
      "  return s1 / s2\n"
     ]
    },
    {
     "name": "stdout",
     "output_type": "stream",
     "text": [
      "990/1000\r"
     ]
    },
    {
     "name": "stderr",
     "output_type": "stream",
     "text": [
      "/tmp/ipykernel_3079/2671635211.py:11: RuntimeWarning: invalid value encountered in double_scalars\n",
      "  return s1 / s2\n"
     ]
    },
    {
     "name": "stdout",
     "output_type": "stream",
     "text": [
      "991/1000\r"
     ]
    },
    {
     "name": "stderr",
     "output_type": "stream",
     "text": [
      "/tmp/ipykernel_3079/2671635211.py:11: RuntimeWarning: invalid value encountered in double_scalars\n",
      "  return s1 / s2\n"
     ]
    },
    {
     "name": "stdout",
     "output_type": "stream",
     "text": [
      "992/1000\r"
     ]
    },
    {
     "name": "stderr",
     "output_type": "stream",
     "text": [
      "/tmp/ipykernel_3079/2671635211.py:11: RuntimeWarning: invalid value encountered in double_scalars\n",
      "  return s1 / s2\n"
     ]
    },
    {
     "name": "stdout",
     "output_type": "stream",
     "text": [
      "993/1000\r"
     ]
    },
    {
     "name": "stderr",
     "output_type": "stream",
     "text": [
      "/tmp/ipykernel_3079/2671635211.py:11: RuntimeWarning: invalid value encountered in double_scalars\n",
      "  return s1 / s2\n"
     ]
    },
    {
     "name": "stdout",
     "output_type": "stream",
     "text": [
      "994/1000\r"
     ]
    },
    {
     "name": "stderr",
     "output_type": "stream",
     "text": [
      "/tmp/ipykernel_3079/2671635211.py:11: RuntimeWarning: invalid value encountered in double_scalars\n",
      "  return s1 / s2\n"
     ]
    },
    {
     "name": "stdout",
     "output_type": "stream",
     "text": [
      "995/1000\r"
     ]
    },
    {
     "name": "stderr",
     "output_type": "stream",
     "text": [
      "/tmp/ipykernel_3079/2671635211.py:11: RuntimeWarning: invalid value encountered in double_scalars\n",
      "  return s1 / s2\n"
     ]
    },
    {
     "name": "stdout",
     "output_type": "stream",
     "text": [
      "996/1000\r"
     ]
    },
    {
     "name": "stderr",
     "output_type": "stream",
     "text": [
      "/tmp/ipykernel_3079/2671635211.py:11: RuntimeWarning: invalid value encountered in double_scalars\n",
      "  return s1 / s2\n"
     ]
    },
    {
     "name": "stdout",
     "output_type": "stream",
     "text": [
      "997/1000\r"
     ]
    },
    {
     "name": "stderr",
     "output_type": "stream",
     "text": [
      "/tmp/ipykernel_3079/2671635211.py:11: RuntimeWarning: invalid value encountered in double_scalars\n",
      "  return s1 / s2\n"
     ]
    },
    {
     "name": "stdout",
     "output_type": "stream",
     "text": [
      "998/1000\r"
     ]
    },
    {
     "name": "stderr",
     "output_type": "stream",
     "text": [
      "/tmp/ipykernel_3079/2671635211.py:11: RuntimeWarning: invalid value encountered in double_scalars\n",
      "  return s1 / s2\n"
     ]
    },
    {
     "name": "stdout",
     "output_type": "stream",
     "text": [
      "999/1000\r"
     ]
    },
    {
     "name": "stderr",
     "output_type": "stream",
     "text": [
      "/tmp/ipykernel_3079/2671635211.py:11: RuntimeWarning: invalid value encountered in double_scalars\n",
      "  return s1 / s2\n"
     ]
    }
   ],
   "source": [
    "predictions = predict_items(C, n, l, M)"
   ]
  },
  {
   "cell_type": "code",
   "execution_count": 75,
   "id": "dc3292e2",
   "metadata": {
    "scrolled": true
   },
   "outputs": [
    {
     "data": {
      "text/plain": [
       "{17732: [128872, 10588, 67762, 10805],\n",
       " 4094: [79218, 4391, 87141, 46841],\n",
       " 20346: [58581, 380081, 379857, 7271],\n",
       " 13255: [198, 31951, 3131, 301329],\n",
       " 24034: [58114, 4169, 6817, 50994],\n",
       " 25480: [5582, 6848, 31981, 23724],\n",
       " 22489: [18453, 6076, 173413, 166229],\n",
       " 19341: [133052, 19556, 22218, 7771],\n",
       " 21156: [51459, 6579, 274526, 31378],\n",
       " 21634: [375966, 13630, 5115, 6428],\n",
       " 32944: [136360, 69587, 10349, 76002],\n",
       " 21049: [2556, 26928, 33602, 116311],\n",
       " 28242: [8397, 34154, 6313, 35282],\n",
       " 20148: [52319, 41580, 22615, 84788],\n",
       " 7112: [14747, 17828, 33695, 7707],\n",
       " 22852: [9371, 10274, 3148, 10951],\n",
       " 17987: [69013, 6639, 59931, 7703],\n",
       " 20353: [35338, 36561, 36772, 3334],\n",
       " 17842: [79910, 58579, 181749, 5155],\n",
       " 18950: [196226, 58398, 79995, 35369],\n",
       " 20942: [36884, 382351, 13941, 58638],\n",
       " 25666: [179386, 2601, 99541, 377531],\n",
       " 109: [206092, 211659, 18965, 206093],\n",
       " 10346: [67846, 35954, 29501, 36319],\n",
       " 1723: [8328, 4535, 13958, 32606],\n",
       " 26826: [9037, 12072, 11815, 2176],\n",
       " 17829: [402831, 13656, 68351, 148922],\n",
       " 10591: [34990, 3439, 13804, 12352],\n",
       " 19990: [14311, 149595, 179616, 2920],\n",
       " 21550: [206051, 6565, 71417, 597],\n",
       " 18123: [169560, 415713, 30894, 36322],\n",
       " 18803: [39068, 94811, 20756, 2650],\n",
       " 18280: [21321, 319850, 16918, 80246],\n",
       " 26279: [2521, 47864, 14683, 90311],\n",
       " 954: [44544, 25020, 36809, 10452],\n",
       " 27885: [388617, 375219, 383035, 33459],\n",
       " 18497: [14784, 42775, 379322, 380081],\n",
       " 13928: [4540, 16652, 58127, 9186],\n",
       " 41159: [36602, 5132, 30981, 44119],\n",
       " 19470: [165182, 909, 139654, 58565],\n",
       " 94674: [118410, 30725, 40697, 2919],\n",
       " 30732: [15574, 378, 837, 13960],\n",
       " 10392: [38133, 30340, 1160, 9999],\n",
       " 18154: [65098, 80317, 34530, 67898],\n",
       " 23034: [73224, 12736, 10182, 14284],\n",
       " 30648: [2905, 1702, 26219, 59345],\n",
       " 805: [9496, 376952, 162878, 89283],\n",
       " 20929: [10982, 34753, 28195, 175659],\n",
       " 15714: [30089, 6292, 5630, 1508],\n",
       " 2211: [181368, 14536, 375973, 397715],\n",
       " 1248: [9148, 5140, 2389, 37962],\n",
       " 962: [69403, 19823, 13220, 126325],\n",
       " 52423: [918, 764, 15654, 7590],\n",
       " 190149: [7017, 7096, 90565, 36885],\n",
       " 25079: [6681, 41144, 84131, 84054],\n",
       " 15632: [10298, 72562, 54365, 131616],\n",
       " 18307: [11700, 20499, 30739, 1980],\n",
       " 34822: [72404, 9368, 27312, 31659],\n",
       " 20616: [2406, 26160, 152142, 4320],\n",
       " 17707: [86424, 57662, 34101, 76865],\n",
       " 20255: [95024, 376993, 52340, 37962],\n",
       " 18037: [19588, 7268, 13831, 13629],\n",
       " 207226: [32769, 13831, 6327, 32138],\n",
       " 39267: [109933, 236725, 162895, 67334],\n",
       " 26613: [1911, 30732, 15794, 32268],\n",
       " 36883: [7129, 35185, 19455, 151676],\n",
       " 21117: [99005, 67334, 40588, 14952],\n",
       " 66905: [9578, 61431, 69419, 10485],\n",
       " 19556: [137550, 71394, 74109, 26525],\n",
       " 21250: [117285, 53025, 10295, 102819],\n",
       " 40023: [58640, 14905, 79898, 19462],\n",
       " 16469: [7286, 107119, 2548, 707],\n",
       " 12429: [14520, 25645, 36885, 7096],\n",
       " 52088: [158653, 19324, 35656, 24804],\n",
       " 232: [76663, 8960, 34972, 30720],\n",
       " 1520: [30461, 55074, 9592, 17542],\n",
       " 16876: [51686, 6496, 25615, 89808],\n",
       " 994: [135871, 30181, 32873, 175626],\n",
       " 17237: [2039, 907, 2208, 104114],\n",
       " 23485: [8143, 63798, 70766, 167947],\n",
       " 82001: [392208, 376526, 381701, 35147],\n",
       " 39027: [379322, 14784, 42775, 20463],\n",
       " 26605: [116908, 128733, 34511, 6422],\n",
       " 27303: [89286, 375531, 20846, 14530],\n",
       " 29428: [4572, 32394, 126604, 80109],\n",
       " 43925: [164627, 379023, 164712, 380074],\n",
       " 21945: [19909, 79856, 10674, 1935],\n",
       " 28437: [84335, 33890, 63109, 31395],\n",
       " 24964: [25348, 128781, 68979, 57937],\n",
       " 27208: [51438, 2581, 70368, 10066],\n",
       " 45891: [12336, 5121, 131965, 1018],\n",
       " 17836: [35397, 2532, 47, 19455],\n",
       " 31076: [9664, 13791, 5236, 7783],\n",
       " 20228: [32313, 58525, 10605, 73391],\n",
       " 1560: [8826, 12808, 38881, 5839],\n",
       " 13197: [69197, 2645, 126492, 9089],\n",
       " 23091: [128694, 6967, 18533, 35415],\n",
       " 27260: [85631, 78317, 84488, 32216],\n",
       " 18253: [12405, 33043, 131182, 5176],\n",
       " 241538: [11000, 6731, 21388, 1003],\n",
       " 15315: [21420, 34723, 176018, 60555],\n",
       " 29092: [4540, 20675, 65921, 65697],\n",
       " 4548: [84268, 12053, 16082, 30281],\n",
       " 72380: [36796, 9654, 3731, 129022],\n",
       " 15193: [18349, 7504, 196543, 19636],\n",
       " 18788: [200502, 4885, 23508, 3489],\n",
       " 20762: [376414, 474, 15286, 9031],\n",
       " 46834: [30260, 4717, 129161, 36210],\n",
       " 54352: [24663, 89810, 125967, 19155],\n",
       " 10804: [1021, 1018, 5659, 35810],\n",
       " 12500: [57923, 20461, 129045, 5321],\n",
       " 17997: [13557, 28856, 188217, 85849],\n",
       " 20208: [14545, 14538, 126272, 88173],\n",
       " 19333: [9476, 9989, 36794, 30122],\n",
       " 20644: [23346, 36515, 3734, 89764],\n",
       " 20698: [142338, 13064, 68966, 7448],\n",
       " 20930: [9552, 81802, 777, 1981],\n",
       " 17742: [376198, 133119, 25899, 126690],\n",
       " 19762: [9906, 19588, 10130, 1189],\n",
       " 17684: [5275, 45, 8159, 9437],\n",
       " 73118: [3617, 33037, 903, 12697],\n",
       " 4877: [32489, 53307, 2544, 90349],\n",
       " 17009: [35239, 19459, 2866, 32769],\n",
       " 36685: [302429, 12917, 399559, 398015],\n",
       " 130783: [19324, 13296, 89912, 24804],\n",
       " 4067: [9303, 7989, 46841, 380744],\n",
       " 19829: [375074, 377403, 136400, 7249],\n",
       " 98430: [32126, 597, 7914, 14747],\n",
       " 21575: [45925, 68072, 22951, 25487],\n",
       " 47520: [35981, 175321, 30562, 135872],\n",
       " 48047: [144281, 1904, 4318, 36978],\n",
       " 17851: [13737, 13432, 5516, 57583],\n",
       " 24862: [25645, 36879, 135838, 126514],\n",
       " 34106: [18140, 10965, 131160, 35380],\n",
       " 43810: [188178, 86762, 174483, 40156],\n",
       " 60186: [6408, 89838, 36481, 12208],\n",
       " 35215: [36642, 3138, 30254, 30792],\n",
       " 41158: [37419, 134004, 999, 131014],\n",
       " 44522: [131008, 46895, 6327, 32769],\n",
       " 134279: [48576, 148860, 30405, 9289],\n",
       " 44961: [91685, 213, 80636, 147057],\n",
       " 22407: [130138, 28821, 78122, 32665],\n",
       " 20914: [2765, 378695, 175658, 18349],\n",
       " 24747: [85529, 48391, 30411, 119887],\n",
       " 32088: [55989, 28581, 18247, 76878],\n",
       " 53750: [68984, 181658, 128457, 162787],\n",
       " 87600: [10274, 34698, 2389, 9371],\n",
       " 18393: [18541, 79907, 8758, 9989],\n",
       " 26824: [7323, 119293, 26604, 1979],\n",
       " 32319: [30975, 47765, 36460, 12925],\n",
       " 38475: [59179, 86020, 208524, 390568],\n",
       " 38876: [29403, 5407, 89399, 67857],\n",
       " 58674: [4954, 62086, 68530, 46936],\n",
       " 61341: [33073, 10352, 2919, 32338],\n",
       " 1245: [30711, 41750, 33969, 2160],\n",
       " 26734: [34212, 81128, 129212, 59627],\n",
       " 18215: [11780, 17980, 3687, 82187],\n",
       " 22343: [578, 83463, 9249, 24058],\n",
       " 25984: [49790, 31027, 39320, 45882],\n",
       " 18793: [130883, 68072, 24900, 4456],\n",
       " 25969: [57835, 175713, 14896, 72561],\n",
       " 32814: [31583, 12865, 102747, 122215],\n",
       " 33573: [3135, 32754, 2921, 164434],\n",
       " 59700: [58164, 374, 25319, 68980],\n",
       " 20128: [5521, 7017, 30122, 14000],\n",
       " 35048: [98396, 47614, 45071, 5926],\n",
       " 20299: [36881, 47818, 79956, 126514],\n",
       " 30470: [19459, 7015, 7017, 7020],\n",
       " 626: [46791, 30975, 47765, 9322],\n",
       " 18165: [10617, 36780, 36515, 7270],\n",
       " 18290: [90534, 84010, 83491, 8078],\n",
       " 31630: [13288, 25606, 13283, 158413],\n",
       " 31868: [57043, 376400, 389542, 90602],\n",
       " 36379: [13591, 133918, 382, 59656],\n",
       " 83569: [6935, 35888, 6572, 6067],\n",
       " 89362: [95667, 15734, 10948, 21468],\n",
       " 17849: [7534, 87260, 33567, 10299],\n",
       " 19140: [198, 5595, 30895, 49],\n",
       " 17784: [9523, 10565, 6279, 49806],\n",
       " 18000: [175736, 57957, 8359, 83537],\n",
       " 35313: [36457, 35509, 5425, 134331],\n",
       " 86697: [5132, 30981, 44119, 6779],\n",
       " 14932: [1443, 118620, 11057, 22894],\n",
       " 26114: [48508, 60709, 143, 128966],\n",
       " 31419: [37451, 29216, 12992, 38817],\n",
       " 84672: [2919, 10206, 36379, 36936],\n",
       " 1342: [10467, 12249, 376725, 58131],\n",
       " 67347: [57283, 14408, 13077, 69174],\n",
       " 1101: [32698, 74887, 45852, 581],\n",
       " 1268: [8327, 31261, 3299, 1483],\n",
       " 11170: [49, 125749, 32778, 11928],\n",
       " 18088: [6322, 25114, 13841, 405952],\n",
       " 18464: [169596, 32327, 32628, 72214],\n",
       " 20308: [102411, 171245, 60821, 11420],\n",
       " 43606: [36734, 36732, 13127, 136378],\n",
       " 240030: [725, 40156, 15632, 36956],\n",
       " 9850: [175321, 30562, 135872, 1132],\n",
       " 18503: [35383, 68703, 86227, 375344],\n",
       " 19676: [14391, 80720, 34558, 16108],\n",
       " 30360: [77069, 35381, 12974, 31118],\n",
       " 20384: [8963, 30327, 5842, 69179],\n",
       " 22341: [5583, 57526, 1002, 105842],\n",
       " 45209: [35463, 32698, 24552, 13956],\n",
       " 55439: [9089, 1003, 6731, 30938],\n",
       " 68000: [616, 59203, 10219, 68996],\n",
       " 20405: [1523, 1749, 70066, 36884],\n",
       " 25184: [125512, 3269, 126190, 162464],\n",
       " 25529: [160836, 60636, 9575, 45487],\n",
       " 26297: [31722, 32769, 33818, 6445],\n",
       " 32672: [36794, 36522, 9476, 73719],\n",
       " 33243: [35071, 189297, 130480, 27611],\n",
       " 38079: [104114, 31375, 11732, 1364],\n",
       " 70516: [68352, 71672, 35051, 82091],\n",
       " 19646: [381927, 6040, 35418, 151085],\n",
       " 23815: [38460, 37787, 109099, 35888],\n",
       " 28013: [70204, 11718, 70194, 124],\n",
       " 47962: [23514, 6913, 36642, 8047],\n",
       " 956: [375081, 375868, 393606, 126038],\n",
       " 17748: [19944, 69945, 8005, 405347],\n",
       " 18336: [59736, 81689, 86596, 8141],\n",
       " 18353: [169782, 525, 12327, 64009],\n",
       " 24431: [40156, 15632, 36956, 34157],\n",
       " 28328: [139654, 58565, 377531, 165182],\n",
       " 29881: [128785, 164406, 166270, 25349],\n",
       " 51140: [151080, 248454, 56187, 9338],\n",
       " 110606: [10573, 25487, 45925, 12319],\n",
       " 17694: [80043, 70487, 18867, 83667],\n",
       " 8188: [163227, 99988, 62707, 78441],\n",
       " 17929: [19417, 14740, 30626, 47889],\n",
       " 20585: [87320, 10858, 255379, 34911],\n",
       " 24147: [39340, 43670, 2039, 21327],\n",
       " 26274: [10206, 11707, 36011, 90757],\n",
       " 26820: [131182, 54168, 11032, 12862],\n",
       " 29938: [3655, 9617, 148122, 3171],\n",
       " 30880: [34472, 94549, 20108, 67898],\n",
       " 34116: [255379, 169596, 87320, 34911],\n",
       " 40698: [66358, 4735, 58376, 397715],\n",
       " 50796: [82312, 3440, 12159, 63109],\n",
       " 141557: [40156, 15632, 36956, 34157],\n",
       " 27479: [31142, 6069, 1942, 17952],\n",
       " 27898: [34038, 169828, 162895, 236725],\n",
       " 50243: [10295, 102819, 117285, 53025],\n",
       " 105613: [70989, 31793, 109099, 21133],\n",
       " 17964: [30591, 169687, 13822, 48859],\n",
       " 18453: [166527, 181674, 69041, 99105],\n",
       " 25290: [15394, 29091, 25149, 11250],\n",
       " 34396: [125065, 47792, 14292, 92445],\n",
       " 37411: [9795, 62853, 3011, 30461],\n",
       " 42044: [378421, 300458, 376089, 13102],\n",
       " 4522: [169914, 67792, 50425, 111067],\n",
       " 12232: [13296, 19324, 24804, 89912],\n",
       " 20926: [5136, 133645, 11904, 12445],\n",
       " 22543: [31359, 31071, 60654, 75113],\n",
       " 23060: [2921, 94068, 95808, 24196],\n",
       " 28557: [27907, 38354, 12, 32584],\n",
       " 18101: [12697, 14775, 36515, 3617],\n",
       " 19844: [13062, 29022, 10536, 10535],\n",
       " 24390: [79911, 125512, 72190, 5842],\n",
       " 26096: [35106, 267345, 125512, 17574],\n",
       " 26580: [60913, 74821, 82798, 85515],\n",
       " 34788: [4761, 85517, 1219, 11180],\n",
       " 37302: [405587, 19827, 57590, 14611],\n",
       " 63903: [79782, 168032, 79598, 31062],\n",
       " 76980: [80636, 91685, 2449, 213],\n",
       " 84462: [47357, 128778, 133406, 6575],\n",
       " 18473: [378695, 175658, 128733, 173413],\n",
       " 22091: [7143, 8048, 14179, 36925],\n",
       " 24349: [25319, 71856, 58166, 58164],\n",
       " 30240: [8500, 11450, 1152, 8365],\n",
       " 31374: [52340, 8319, 95024, 376993],\n",
       " 104891: [60, 2006, 37156, 31053],\n",
       " 145233: [158653, 19324, 35663, 13296],\n",
       " 17870: [79830, 31313, 12256, 232957],\n",
       " 20074: [33172, 32007, 3001, 136585],\n",
       " 20830: [13824, 25114, 6322, 19706],\n",
       " 26238: [332, 64884, 9794, 72214],\n",
       " 28283: [47017, 3451, 7101, 13695],\n",
       " 30332: [32950, 85517, 9126, 23311],\n",
       " 62643: [74925, 7770, 22713, 2115],\n",
       " 72989: [64359, 31458, 1530, 33557],\n",
       " 146128: [83249, 121104, 82552, 11616],\n",
       " 9363: [17415, 42482, 43530, 160109],\n",
       " 26883: [14248, 129944, 269, 40592],\n",
       " 37401: [3199, 199141, 376998, 4953],\n",
       " 60796: [2896, 29308, 11986, 66175],\n",
       " 109435: [177369, 135871, 737, 66763],\n",
       " 879: [101700, 79577, 32602, 70235],\n",
       " 12695: [43999, 8047, 7143, 8048],\n",
       " 29461: [36179, 9710, 58638, 578],\n",
       " 34325: [40156, 15632, 36956, 34157],\n",
       " 35749: [84417, 86278, 127646, 12970],\n",
       " 44002: [14728, 1145, 265783, 71746],\n",
       " 64480: [33644, 7982, 12463, 35084],\n",
       " 1278: [58420, 13693, 57107, 9752],\n",
       " 2703: [34069, 26954, 78211, 40156],\n",
       " 4746: [33083, 7241, 3191, 113381],\n",
       " 6405: [273, 71745, 58276, 51974],\n",
       " 17845: [55074, 17542, 151080, 32902],\n",
       " 28677: [33120, 45730, 35805, 25109],\n",
       " 90769: [133406, 6575, 166270, 14106],\n",
       " 19838: [3440, 10983, 82312, 17574],\n",
       " 20176: [75556, 38012, 57917, 1483],\n",
       " 21793: [130822, 47794, 8383, 20484],\n",
       " 25248: [2449, 62763, 10118, 2250],\n",
       " 25339: [167979, 98711, 30337, 12208],\n",
       " 27050: [10524, 84456, 98711, 41144],\n",
       " 71582: [47926, 6445, 2866, 40156],\n",
       " 576: [688, 69162, 30337, 167979],\n",
       " 11039: [55379, 675, 4249, 13628],\n",
       " 17060: [36055, 79110, 35872, 384862],\n",
       " 21742: [59000, 647, 38185, 59900],\n",
       " 28833: [14609, 128833, 14273, 9515],\n",
       " 2011: [35378, 15144, 351964, 16511],\n",
       " 13787: [125890, 75104, 1150, 1087],\n",
       " 19627: [1712, 57923, 72294, 11733],\n",
       " 28871: [13327, 764, 59851, 15654],\n",
       " 35002: [169811, 32627, 10354, 21847],\n",
       " 37327: [12948, 173639, 12857, 136400],\n",
       " 39690: [75832, 3646, 11816, 178612],\n",
       " 40455: [64884, 9794, 92076, 6430],\n",
       " 55220: [59000, 38185, 59900, 647],\n",
       " 57731: [248454, 56187, 151080, 9338],\n",
       " 18155: [62323, 131014, 104826, 60077],\n",
       " 18342: [4885, 47460, 7915, 47089],\n",
       " 19871: [8329, 13693, 32628, 31323],\n",
       " 23139: [115147, 6715, 35954, 29501],\n",
       " 28251: [35150, 404574, 129585, 40078],\n",
       " 30031: [40986, 28794, 51125, 40210],\n",
       " 50321: [3511, 3384, 5558, 22702],\n",
       " 50811: [43624, 148131, 19493, 87716],\n",
       " 54284: [29373, 4748, 40156, 15632],\n",
       " 60040: [607, 80775, 49125, 698],\n",
       " 1051: [143316, 41310, 13283, 87483],\n",
       " 9084: [41935, 103161, 118421, 85046],\n",
       " 14031: [7124, 90572, 134733, 135872],\n",
       " 16354: [160851, 175652, 121104, 137550],\n",
       " 20892: [71631, 1364, 31579, 31375],\n",
       " 27445: [46895, 19588, 57961, 13696],\n",
       " 27955: [55580, 14320, 81086, 32313],\n",
       " 50460: [5186, 133940, 5858, 46778],\n",
       " 72686: [40156, 15632, 36956, 34157],\n",
       " 10595: [129268, 24566, 32826, 2723],\n",
       " 17663: [174713, 4335, 196962, 2253],\n",
       " 17712: [35872, 30895, 31163, 42779],\n",
       " 18130: [7534, 36918, 33567, 25967],\n",
       " 29129: [24804, 89912, 19324, 13296],\n",
       " 89502: [3348, 85882, 15998, 934],\n",
       " 91254: [36332, 6216, 5650, 21890],\n",
       " 93947: [6432, 11746, 1402, 6435],\n",
       " 9567: [31323, 32180, 9699, 1503],\n",
       " 17873: [15389, 128866, 11664, 30126],\n",
       " 20374: [46931, 2540, 8327, 31574],\n",
       " 22102: [5033, 36958, 177170, 181749],\n",
       " 26242: [40156, 15632, 36956, 34157],\n",
       " 28059: [209760, 130774, 150111, 208817],\n",
       " 34345: [98308, 3043, 22255, 34511],\n",
       " 36573: [34053, 12841, 37082, 111496],\n",
       " 38166: [66764, 375997, 14851, 32005],\n",
       " 39091: [83484, 10162, 9145, 35332],\n",
       " 43664: [169781, 5183, 8397, 45487],\n",
       " 47377: [38186, 234181, 48927, 41329],\n",
       " 76322: [14447, 81444, 33050, 8404],\n",
       " 94452: [31923, 68703, 86227, 1885],\n",
       " 128049: [90743, 160836, 30260, 4717],\n",
       " 5414: [210070, 22926, 8713, 3253],\n",
       " 15587: [82606, 21753, 15734, 8320],\n",
       " 20267: [5425, 36457, 134331, 83249],\n",
       " 21803: [40639, 12249, 1757, 58736],\n",
       " 22210: [376279, 376542, 166101, 173672],\n",
       " 31829: [131182, 36613, 36706, 40156],\n",
       " 34805: [45071, 79898, 66175, 158181],\n",
       " 42192: [31319, 53328, 2990, 35147],\n",
       " 52490: [81341, 175321, 46007, 152883],\n",
       " 11212: [7040, 122145, 33120, 69537],\n",
       " 17843: [11780, 3687, 128966, 60709],\n",
       " 17904: [131617, 36353, 104826, 25043],\n",
       " 24450: [51140, 11333, 27177, 3453],\n",
       " 42746: [19872, 6857, 7143, 25287],\n",
       " 46255: [5073, 523, 7036, 83760],\n",
       " 48042: [174426, 51459, 274526, 31378],\n",
       " 57844: [30623, 7914, 32506, 75143],\n",
       " 65961: [25204, 8342, 384104, 126659],\n",
       " 66197: [90273, 31458, 33557, 26806],\n",
       " 8456: [8226, 32665, 60077, 41874],\n",
       " 18593: [376536, 5321, 162348, 76534],\n",
       " 21122: [50514, 77847, 40156, 15632],\n",
       " 23317: [7017, 13127, 1021, 14383],\n",
       " 23596: [15397, 126002, 53484, 1483],\n",
       " 26870: [86905, 82807, 2389, 36053],\n",
       " 35524: [36411, 67698, 34157, 6848],\n",
       " 36946: [34972, 181643, 24167, 36688],\n",
       " 36985: [131182, 5521, 70891, 36613],\n",
       " 41820: [87260, 177170, 181749, 86259],\n",
       " 46693: [69350, 98665, 30281, 7534],\n",
       " 95472: [35051, 1356, 3093, 9992],\n",
       " 157106: [128604, 35954, 29501, 67846],\n",
       " 1273: [682, 14518, 13433, 31469],\n",
       " 13060: [45882, 61472, 31027, 1128],\n",
       " 23122: [6135, 9616, 19659, 90443],\n",
       " 38417: [151312, 136227, 32775, 5667],\n",
       " 70597: [13077, 381164, 14408, 380646],\n",
       " 77132: [45487, 5183, 169781, 9575],\n",
       " 77862: [148922, 13656, 44781, 57688],\n",
       " 163125: [68980, 28201, 14520, 58164],\n",
       " 878: [48286, 33070, 10998, 6577],\n",
       " 11085: [134226, 777, 81802, 62904],\n",
       " 18028: [197670, 25769, 376400, 57043],\n",
       " 18343: [26582, 15880, 1422, 57526],\n",
       " 22540: [32305, 35261, 8158, 28177],\n",
       " 24839: [142827, 142819, 1594, 74837],\n",
       " 30178: [4718, 54695, 11732, 66044],\n",
       " 34326: [82312, 1285, 3440, 12159],\n",
       " 46949: [30254, 129022, 9654, 30792],\n",
       " 54792: [36121, 12449, 57532, 80501],\n",
       " 55393: [59672, 1805, 76569, 112510],\n",
       " 61195: [29042, 46566, 195846, 146889],\n",
       " 84953: [99648, 31057, 50534, 116141],\n",
       " 114569: [465, 110, 71236, 35894],\n",
       " 189001: [6216, 33005, 36332, 11706],\n",
       " 382: [1049, 84639, 3451, 8104],\n",
       " 486: [33037, 903, 375069, 55209],\n",
       " 11613: [4453, 76663, 90884, 89725],\n",
       " 14136: [24436, 2458, 157864, 16826],\n",
       " 17858: [19413, 51329, 31789, 181412],\n",
       " 20994: [24395, 375973, 14525, 181368],\n",
       " 25670: [30587, 30580, 595, 35409],\n",
       " 28621: [13962, 36473, 4956, 72561],\n",
       " 59599: [47625, 19155, 10982, 125967],\n",
       " 84483: [14869, 34952, 61, 36521],\n",
       " 13235: [80428, 81081, 9308, 31460],\n",
       " 23042: [34771, 40156, 15632, 36956],\n",
       " 24230: [35267, 35370, 56997, 83866],\n",
       " 44444: [393, 14289, 59732, 9795],\n",
       " 74130: [13065, 13510, 31722, 374987],\n",
       " 75361: [9186, 72363, 11250, 16652],\n",
       " 178889: [1757, 16553, 60189, 13628],\n",
       " 12038: [60555, 164340, 336354, 10953],\n",
       " 14144: [69162, 30337, 167979, 12208],\n",
       " 18065: [1757, 40639, 122001, 36572],\n",
       " 18346: [24770, 16002, 31659, 11740],\n",
       " 20177: [46871, 68663, 7016, 374987],\n",
       " 24006: [36481, 6408, 32754, 69502],\n",
       " 28635: [76569, 113634, 40546, 22135],\n",
       " 37444: [46660, 69013, 6639, 31420],\n",
       " 41129: [200502, 40156, 15632, 36956],\n",
       " 46774: [8319, 14194, 4412, 81439],\n",
       " 51090: [35370, 4168, 84794, 35267],\n",
       " 51548: [41144, 32718, 84054, 6681],\n",
       " 75048: [351964, 14427, 9920, 34462],\n",
       " 5431: [33297, 32602, 70235, 73107],\n",
       " 14798: [118398, 129585, 32135, 22926],\n",
       " 16678: [131182, 35981, 36809, 36613],\n",
       " 17706: [14622, 140129, 160739, 90284],\n",
       " 18150: [46935, 35714, 46941, 6544],\n",
       " 21808: [29373, 36314, 171245, 9616],\n",
       " 22648: [13696, 13453, 35874, 13695],\n",
       " 27614: [51125, 14235, 68737, 28794],\n",
       " 30365: [133645, 5136, 19553, 11904],\n",
       " 35650: [31273, 2449, 10118, 58114],\n",
       " 100024: [32259, 89704, 14587, 5031],\n",
       " 113819: [35945, 19243, 70487, 18867],\n",
       " 4844: [46660, 125901, 31420, 32706],\n",
       " 12726: [113634, 51304, 22135, 40615],\n",
       " 15174: [30281, 152883, 62853, 1260],\n",
       " 18021: [8327, 46931, 5140, 40156],\n",
       " 18202: [129212, 26209, 81128, 59604],\n",
       " 19431: [375205, 6909, 58376, 4869],\n",
       " 19881: [7270, 375069, 36956, 7276],\n",
       " 20865: [2335, 52255, 42197, 92445],\n",
       " 25674: [59179, 2606, 390568, 36842],\n",
       " 36052: [34218, 999, 134004, 34771],\n",
       " 36778: [15632, 725, 58181, 8329],\n",
       " 52995: [10598, 32628, 169596, 32327],\n",
       " 53269: [46007, 36252, 174426, 70335],\n",
       " 54927: [40156, 15632, 36956, 34157],\n",
       " 73413: [149561, 83526, 162544, 25273],\n",
       " 87974: [375074, 377403, 136400, 90284],\n",
       " 106591: [2666, 11734, 57923, 4718],\n",
       " 9559: [447449, 60562, 137573, 40156],\n",
       " 13842: [375344, 79130, 35383, 1002],\n",
       " 14431: [90568, 41214, 407786, 35473],\n",
       " 17790: [41043, 14611, 9616, 31815],\n",
       " 18827: [7104, 376727, 65360, 88729],\n",
       " 19244: [37082, 111496, 34053, 33373],\n",
       " 22697: [88173, 107455, 126272, 2195],\n",
       " 23493: [68979, 19906, 382351, 5516],\n",
       " 28571: [32870, 74268, 32964, 25967],\n",
       " 34414: [130480, 85172, 378421, 376635],\n",
       " 39315: [58582, 7821, 3299, 1483],\n",
       " 43430: [30981, 10301, 32255, 33404],\n",
       " 46511: [40156, 14912, 40921, 30725],\n",
       " 74763: [36314, 29373, 4748, 55209],\n",
       " 76761: [47585, 7393, 47126, 6440],\n",
       " 79320: [88379, 375, 10002, 10000],\n",
       " 84773: [2920, 80451, 882, 33149],\n",
       " 99130: [3687, 82187, 11780, 82422],\n",
       " 6820: [38817, 7574, 110472, 14952],\n",
       " 16816: [45230, 32082, 7100, 80936],\n",
       " 17696: [98308, 3043, 32189, 10069],\n",
       " 18071: [51537, 114476, 5417, 35378],\n",
       " 19250: [33172, 11269, 3001, 24770],\n",
       " 20073: [382351, 5513, 176011, 25899],\n",
       " 21339: [247561, 65360, 32948, 18067],\n",
       " 25519: [9317, 20651, 176612, 9971],\n",
       " 32781: [14538, 226824, 14545, 29216],\n",
       " 42559: [162544, 36083, 7848, 87307],\n",
       " 56480: [30817, 31329, 350, 1055],\n",
       " 59056: [82807, 57798, 31337, 36053],\n",
       " 63129: [14517, 36881, 36878, 36879],\n",
       " 1145: [10957, 1128, 5530, 36121],\n",
       " 10100: [7848, 87307, 24546, 35324],\n",
       " 19775: [65360, 18067, 30732, 23346],\n",
       " 20205: [40210, 4991, 40986, 68737],\n",
       " 21556: [9992, 59851, 82091, 3093],\n",
       " 28498: [209760, 12742, 208817, 404952],\n",
       " 28950: [164434, 94068, 5176, 3135],\n",
       " 29516: [6931, 7743, 14210, 85241],\n",
       " 33302: [47286, 11989, 10299, 86161],\n",
       " 37474: [35415, 35757, 5450, 35495],\n",
       " 42038: [133001, 72294, 94549, 82087],\n",
       " 42317: [128634, 22974, 31579, 15858],\n",
       " 49427: [36351, 22702, 198, 80645],\n",
       " 53285: [37968, 80428, 13030, 7726],\n",
       " 62562: [58739, 14448, 48670, 6848],\n",
       " 63943: [63799, 2277, 8848, 2399],\n",
       " 71791: [14850, 178460, 79214, 352305],\n",
       " 76191: [30739, 33818, 30761, 7492],\n",
       " 76966: [5301, 30165, 32226, 7726],\n",
       " 92695: [40156, 15632, 36956, 34157],\n",
       " 100547: [11989, 10598, 32232, 32628],\n",
       " 144277: [176011, 5513, 382351, 376198],\n",
       " 1997: [2765, 34291, 42779, 35015],\n",
       " 10738: [13918, 59312, 166670, 133817],\n",
       " 17810: [75267, 95808, 72190, 46941],\n",
       " 19647: [31570, 5061, 25978, 39078],\n",
       " 19984: [32769, 11706, 32054, 33005],\n",
       " 20732: [46841, 9303, 374791, 376407],\n",
       " 21529: [4868, 95219, 135876, 71935],\n",
       " 21603: [10953, 8448, 7129, 60555],\n",
       " 21823: [5073, 92076, 9794, 34915],\n",
       " 23068: [112510, 40546, 76569, 119423],\n",
       " 23103: [69197, 10957, 2645, 126492],\n",
       " 27025: [3975, 36409, 144333, 14289],\n",
       " 34912: [45307, 12489, 69867, 25109],\n",
       " 35316: [675, 4249, 7747, 567],\n",
       " 35902: [688, 88485, 67529, 2994],\n",
       " 36743: [13918, 1914, 6233, 59312],\n",
       " 46022: [49272, 69276, 4515, 35458],\n",
       " 56627: [27322, 71935, 125140, 27594],\n",
       " 61700: [82606, 31248, 21753, 68398],\n",
       " 92595: [59965, 14179, 13663, 8047],\n",
       " 111774: [40156, 15632, 36956, 34157],\n",
       " 127398: [165908, 167659, 18846, 165276],\n",
       " 165214: [34972, 57107, 33159, 36688],\n",
       " 8228: [31053, 1127, 8487, 11542],\n",
       " 17961: [384153, 645, 15567, 5132],\n",
       " 18294: [35063, 25270, 32706, 56375],\n",
       " 20106: [40156, 15632, 36956, 34157],\n",
       " 21445: [79130, 375344, 12736, 5582],\n",
       " 21744: [19872, 6322, 405952, 128318],\n",
       " 34375: [164310, 90621, 153, 7015],\n",
       " 46792: [22926, 32135, 32758, 20651],\n",
       " 61295: [3565, 75722, 77566, 52255],\n",
       " 63311: [405347, 410408, 19944, 69945],\n",
       " 17046: [12208, 6408, 89838, 34479],\n",
       " 17728: [30117, 33440, 61492, 85241],\n",
       " 17765: [4099, 47534, 9739, 44396],\n",
       " 18186: [36613, 14890, 206513, 45230],\n",
       " 21408: [2540, 81988, 107119, 908],\n",
       " 23071: [92929, 11420, 32902, 90443],\n",
       " 36881: [65085, 160119, 24260, 68703],\n",
       " 40085: [136261, 68984, 181658, 33070],\n",
       " 40905: [5450, 35415, 6503, 13729],\n",
       " 41725: [34527, 30084, 9642, 56115],\n",
       " 42760: [3246, 6721, 923, 11354],\n",
       " 42826: [47917, 37038, 69168, 13453],\n",
       " 43515: [30895, 375344, 6665, 35383],\n",
       " 46721: [18583, 65027, 2778, 197308],\n",
       " 49301: [31118, 129399, 38992, 83540],\n",
       " 51795: [40156, 15632, 36956, 34157],\n",
       " 55002: [82552, 121104, 49766, 11616],\n",
       " 55736: [5061, 31570, 25978, 39078],\n",
       " 56328: [129585, 118398, 40078, 33602],\n",
       " 59032: [40156, 15632, 36956, 34157],\n",
       " 61273: [2919, 1210, 85882, 33073],\n",
       " 63275: [130883, 68072, 24900, 57583],\n",
       " 66682: [79147, 80135, 7270, 203488],\n",
       " 76550: [32209, 73403, 84132, 25043],\n",
       " 83998: [139657, 418039, 418342, 40156],\n",
       " 130577: [29403, 5407, 9867, 89399],\n",
       " 144997: [882, 34815, 10133, 37116],\n",
       " 155596: [9523, 40156, 15632, 36956],\n",
       " 172593: [10982, 14636, 34753, 51974],\n",
       " 1368: [121986, 6297, 14611, 33386],\n",
       " 1525: [22951, 25487, 36685, 10573],\n",
       " 1639: [13296, 35656, 25348, 35663],\n",
       " 8514: [175652, 19706, 13065, 13510],\n",
       " 16792: [69466, 14529, 36925, 30975],\n",
       " 17675: [398191, 51125, 28794, 58126],\n",
       " 18008: [171106, 36878, 36881, 4515],\n",
       " 18041: [85241, 61492, 30117, 33440],\n",
       " 19045: [79278, 71672, 12889, 64246],\n",
       " 24387: [31160, 8597, 1979, 4594],\n",
       " 24726: [6209, 79577, 35015, 31053],\n",
       " 26761: [2666, 11734, 11732, 15917],\n",
       " 28566: [7492, 31082, 1980, 80334],\n",
       " 28779: [55272, 4782, 14816, 232961],\n",
       " 32336: [174713, 2253, 196962, 4954],\n",
       " 33333: [11388, 36386, 36643, 53182],\n",
       " 34782: [188217, 85849, 40156, 15632],\n",
       " 43002: [130930, 269, 49061, 21847],\n",
       " 46494: [126325, 8758, 81439, 8759],\n",
       " 50893: [79572, 78211, 195670, 79141],\n",
       " 56362: [160076, 40156, 15632, 36956],\n",
       " 60364: [36548, 35824, 12006, 9460],\n",
       " 65351: [333182, 396882, 173266, 13293],\n",
       " 86949: [374987, 46209, 90035, 55209],\n",
       " 152658: [90565, 7020, 36879, 7010],\n",
       " 153610: [14616, 14613, 35084, 30248],\n",
       " 638: [35829, 25349, 128785, 6575],\n",
       " 4491: [48508, 143, 1880, 10951],\n",
       " 9880: [10069, 3043, 27268, 1210],\n",
       " 14842: [9992, 7020, 36266, 2820],\n",
       " 17434: [869, 83537, 88729, 54409],\n",
       " 17772: [2540, 116, 44544, 25020],\n",
       " 18095: [1055, 31329, 11523, 6327],\n",
       " 18128: [14896, 72562, 72561, 57835],\n",
       " 19806: [32769, 6445, 47926, 13831],\n",
       " 20400: [1800, 80501, 36121, 35787],\n",
       " 20927: [67466, 1911, 19823, 126127],\n",
       " 27243: [46684, 83540, 66044, 34215],\n",
       " 27922: [397715, 29847, 12316, 5951],\n",
       " 30132: [37962, 31400, 71376, 40156],\n",
       " 30479: [53328, 35147, 2990, 195674],\n",
       " 35464: [2606, 377189, 7685, 40156],\n",
       " 36264: [815, 7572, 58966, 31261],\n",
       " 42171: [129944, 14248, 923, 11354],\n",
       " 48358: [14247, 120980, 34113, 41310],\n",
       " 48890: [113634, 51304, 97404, 40615],\n",
       " 50215: [32756, 32758, 10177, 2843],\n",
       " 50669: [40156, 15632, 36956, 34157],\n",
       " 53298: [19659, 90443, 128911, 9616],\n",
       " 56696: [37968, 30165, 5301, 80428],\n",
       " 57741: [30084, 9642, 56115, 34527],\n",
       " 58757: [269, 45493, 13029, 40592],\n",
       " 60894: [31163, 11269, 33172, 24770],\n",
       " 61140: [1253, 1980, 30761, 30739],\n",
       " 82361: [158413, 13288, 25606, 77299],\n",
       " 86682: [32446, 13887, 108874, 32268],\n",
       " 157696: [71394, 74109, 26525, 40350],\n",
       " 12842: [90068, 19243, 35945, 30863],\n",
       " 15422: [129279, 25432, 70522, 59732],\n",
       " 15962: [1596, 10787, 125321, 513],\n",
       " 17799: [207857, 40156, 15632, 36956],\n",
       " 26473: [85469, 35803, 65697, 9186],\n",
       " 26975: [2322, 64009, 81748, 162878],\n",
       " 27153: [4562, 169914, 50425, 133817],\n",
       " 27767: [11250, 25149, 4540, 29091],\n",
       " 31608: [58164, 36878, 25645, 7096],\n",
       " 31710: [5595, 198, 36351, 75722],\n",
       " 33690: [4616, 51114, 44396, 160851],\n",
       " 36004: [29042, 46566, 8320, 2458],\n",
       " 36269: [32757, 31460, 1453, 34216],\n",
       " 37642: [68980, 73139, 16470, 88485],\n",
       " 45651: [64551, 126676, 12000, 171660],\n",
       " 52331: [14681, 1152, 8500, 8365],\n",
       " 57209: [85469, 35803, 20675, 48439],\n",
       " 75815: [71935, 16120, 27322, 82729],\n",
       " 102372: [178612, 31248, 54350, 375428],\n",
       " 1266: [32754, 8756, 31321, 69502],\n",
       " 12854: [71376, 37962, 15917, 1087],\n",
       " 18194: [102323, 1985, 29516, 34142],\n",
       " 18605: [34081, 125784, 7504, 18349],\n",
       " 24535: [84417, 207857, 34131, 40156],\n",
       " 25795: [375220, 80135, 203488, 130823],\n",
       " 28601: [45071, 31669, 98396, 232961],\n",
       " 31149: [174921, 33800, 23945, 46654],\n",
       " 41395: [49442, 47917, 47289, 8329],\n",
       " 47484: [3191, 84417, 207857, 11908],\n",
       " 47525: [28821, 78122, 90884, 58305],\n",
       " 49894: [129022, 3731, 30792, 30254],\n",
       " 57069: [49804, 1523, 1749, 83535],\n",
       " 61523: [68986, 68984, 6579, 6576],\n",
       " 1568: [85241, 10452, 61492, 40156],\n",
       " 9306: [64149, 5584, 47110, 35467],\n",
       " 9587: [31629, 32408, 59386, 26160],\n",
       " 12354: [8320, 15734, 21468, 17435],\n",
       " 15140: [55952, 26488, 126604, 80109],\n",
       " 15219: [30711, 41750, 33969, 2160],\n",
       " 17900: [24674, 126676, 12000, 171660],\n",
       " 19408: [9085, 1211, 26604, 8342],\n",
       " 20728: [18583, 69179, 65027, 197308],\n",
       " 20978: [98396, 58420, 47614, 58398],\n",
       " 21764: [384862, 5193, 113634, 15734],\n",
       " 23867: [65352, 86846, 46286, 4328],\n",
       " 26165: [71171, 41329, 32232, 13693],\n",
       " 28893: [2373, 31756, 33484, 2279],\n",
       " 30003: [375428, 31248, 54350, 17415],\n",
       " 31335: [47110, 35467, 64149, 5584],\n",
       " 32637: [74925, 9654, 9710, 30254],\n",
       " 39899: [40156, 15632, 36956, 34157],\n",
       " 48065: [2039, 43670, 21327, 2208],\n",
       " 51191: [9879, 10674, 19909, 25487],\n",
       " 53691: [14299, 17574, 178181, 88855],\n",
       " 55853: [5560, 1356, 9992, 31013],\n",
       " 56789: [6757, 79130, 6249, 169597],\n",
       " 60206: [36055, 79110, 21459, 78441],\n",
       " 67569: [124860, 13956, 332, 14210],\n",
       " 72752: [70815, 39661, 81007, 9467],\n",
       " 73197: [33416, 34382, 5323, 8774],\n",
       " 75283: [32773, 2866, 35297, 74840],\n",
       " 77875: [81444, 33050, 32226, 58126],\n",
       " 79248: [34641, 45230, 36266, 2820],\n",
       " 80807: [35071, 189297, 27611, 106581],\n",
       " 81747: [71745, 2780, 176017, 31322],\n",
       " 101288: [14127, 6875, 90364, 13127],\n",
       " 118057: [35719, 13287, 32718, 1942],\n",
       " 141477: [260206, 163464, 168785, 40156],\n",
       " 165761: [40156, 15632, 36956, 34157],\n",
       " 4514: [202, 82091, 1932, 1356],\n",
       " 7129: [40156, 15632, 36956, 34157],\n",
       " 8787: [9758, 72404, 35886, 27312],\n",
       " 15909: [82112, 29097, 171106, 7448],\n",
       " 18191: [375344, 6665, 35383, 68352],\n",
       " 19074: [58958, 84639, 8104, 70457],\n",
       " 19083: [69168, 37038, 13972, 6449],\n",
       " 19324: [89047, 14545, 14536, 7036],\n",
       " 19721: [122001, 1757, 36572, 58736],\n",
       " 25922: [94068, 164434, 5176, 3135],\n",
       " 27558: [60810, 34462, 21847, 1132],\n",
       " 27621: [23180, 3535, 181368, 84752],\n",
       " 28137: [49790, 19789, 163111, 60584],\n",
       " 30477: [40126, 79278, 118620, 6069],\n",
       " 30767: [46654, 65027, 197308, 56997],\n",
       " 31671: [63799, 8848, 2399, 2277],\n",
       " 40212: [60584, 31027, 45882, 61472],\n",
       " 45568: [36266, 398191, 2034, 35805],\n",
       " 46290: [125851, 59125, 25160, 1705],\n",
       " 46371: [79898, 66175, 2896, 36780],\n",
       " 50742: [80451, 83849, 34815, 33149],\n",
       " 51764: [105842, 83540, 57526, 1002],\n",
       " 60916: [82112, 29097, 3246, 6721],\n",
       " 73015: [9654, 3138, 30254, 32627],\n",
       " 79629: [10573, 30720, 4523, 41874],\n",
       " 86908: [23514, 34558, 40156, 15632],\n",
       " 88150: [40834, 27174, 83972, 130771],\n",
       " 99944: [211659, 130774, 142463, 150111],\n",
       " 123392: [77394, 27611, 106581, 35071],\n",
       " 3: [7005, 7915, 47460, 4885],\n",
       " 609: [45307, 33373, 37082, 111496],\n",
       " 22194: [128541, 34564, 207857, 204820],\n",
       " 22926: [33644, 7982, 12463, 35084],\n",
       " 25594: [90266, 100423, 84367, 74561],\n",
       " 26775: [2866, 47926, 115147, 19588],\n",
       " 27262: [13688, 54721, 68276, 97014],\n",
       " 28884: [34564, 377677, 376543, 128318],\n",
       " 29054: [7821, 2778, 142827, 80501],\n",
       " 34655: [35311, 5413, 36148, 35495],\n",
       " 39121: [67792, 132840, 17980, 7010],\n",
       " 41554: [71856, 196543, 47818, 82535],\n",
       " 42858: [70335, 46007, 174426, 76977],\n",
       " 42947: [20461, 80131, 80135, 20313],\n",
       " 51610: [129399, 38992, 31118, 60727],\n",
       " 54253: [32506, 75143, 30623, 7914],\n",
       " 58016: [6697, 24552, 3122, 33037],\n",
       " 62981: [9145, 83484, 35332, 10162],\n",
       " 65216: [80936, 26160, 152142, 20837],\n",
       " 65643: [9315, 36958, 5033, 40156],\n",
       " 66745: [10091, 10969, 11319, 10867],\n",
       " 84444: [82606, 26730, 21753, 23652],\n",
       " 89150: [23180, 181368, 7820, 169687],\n",
       " 89602: [136400, 65234, 7249, 20461],\n",
       " 90018: [4168, 64551, 5031, 56997],\n",
       " 111007: [45025, 79515, 40350, 49766],\n",
       " 146164: [2756, 2279, 84335, 82312],\n",
       " 1234: [34401, 6731, 34723, 14652],\n",
       " 5926: [40156, 15632, 36956, 34157],\n",
       " 6413: [30440, 2103, 12315, 49115],\n",
       " 6859: [82729, 125140, 2229, 16120],\n",
       " 15634: [81748, 2322, 74782, 7956],\n",
       " 17336: [12336, 131965, 5121, 1577],\n",
       " 17462: [51221, 4615, 2250, 62763],\n",
       " 18100: [14620, 47818, 14526, 36885],\n",
       " 18521: [9027, 1306, 15841, 71672],\n",
       " 20527: [444, 11855, 20651, 32758],\n",
       " 21132: [23493, 30981, 32255, 33404],\n",
       " 21140: [12135, 1189, 77232, 36179],\n",
       " 24026: [199141, 376998, 3339, 3199],\n",
       " 24136: [30792, 40156, 15632, 36956],\n",
       " 24215: [135876, 4868, 95219, 142719],\n",
       " 26385: [58152, 376973, 377089, 381687],\n",
       " 27871: [7457, 83535, 79527, 8960],\n",
       " 27894: [40156, 15632, 36956, 34157],\n",
       " 27984: [2103, 49115, 12315, 30440],\n",
       " 28453: [1981, 2172, 1988, 51406],\n",
       " 30812: [13693, 40908, 35889, 35967],\n",
       " 30877: [84794, 12006, 35824, 9460],\n",
       " 45174: [34558, 40156, 15632, 36956],\n",
       " 51766: [6848, 267345, 5582, 36083],\n",
       " 54379: [34081, 7504, 125784, 60769],\n",
       " 57322: [37311, 172382, 98519, 40921],\n",
       " 57825: [86905, 32758, 20651, 62904],\n",
       " 69331: [13510, 375531, 958, 14530],\n",
       " 77552: [31793, 21133, 70989, 110230],\n",
       " 78460: [9320, 103581, 74840, 2645],\n",
       " 78673: [17444, 37451, 38817, 29216],\n",
       " 89692: [173026, 77394, 106581, 27611],\n",
       " 91327: [2756, 2279, 31756, 33484],\n",
       " 102475: [10607, 14448, 3043, 58739],\n",
       " 149289: [50514, 77847, 87716, 67763],\n",
       " 150603: [53294, 2921, 24196, 41750],\n",
       " 164995: [6757, 25211, 169597, 14000],\n",
       " 6741: [11664, 137028, 81155, 40156],\n",
       " 14444: [39623, 1219, 71746, 33073],\n",
       " 17620: [83711, 2406, 4320, 40195],\n",
       " 17995: [170, 4382, 163111, 11180],\n",
       " 20584: [111492, 68938, 8078, 30627],\n",
       " 24442: [4053, 7241, 44775, 125784],\n",
       " 26390: [11135, 6697, 7250, 58579],\n",
       " 27123: [58133, 3401, 281512, 9291],\n",
       " 38253: [29685, 31801, 2195, 88173],\n",
       " 42992: [4453, 34968, 17938, 58305],\n",
       " 44836: [8028, 30084, 56115, 34527],\n",
       " 48549: [30732, 375074, 12974, 1911],\n",
       " 52253: [32756, 2843, 80334, 63419],\n",
       " 52645: [162464, 126190, 211805, 19324],\n",
       " 53240: [13962, 129759, 4956, 36473],\n",
       " 53593: [84126, 30627, 9654, 33969],\n",
       " 62122: [8359, 13327, 9366, 59851],\n",
       " 63218: [10983, 86216, 36842, 9699],\n",
       " 63734: [90565, 13327, 47818, 15654],\n",
       " 70604: [23311, 3857, 50885, 85515],\n",
       " 73322: [118620, 1443, 3395, 35063],\n",
       " 75330: [164340, 336354, 25967, 2287],\n",
       " 77140: [40156, 15632, 36956, 34157],\n",
       " 78588: [33313, 10747, 10589, 6279],\n",
       " 89315: [61987, 11908, 62409, 12005],\n",
       " 90447: [2208, 40156, 15632, 36956],\n",
       " 100088: [20313, 11300, 12857, 14767],\n",
       " 106325: [40156, 15632, 36956, 34157],\n",
       " 112715: [45730, 58240, 35805, 9074],\n",
       " 118786: [13624, 10276, 11809, 31889],\n",
       " 121364: [201160, 195393, 40156, 15632],\n",
       " 130766: [247561, 32948, 40156, 15632],\n",
       " 137299: [128960, 8226, 34968, 4453],\n",
       " 2356: [40156, 15632, 36956, 34157],\n",
       " 6501: [59386, 58181, 36462, 32408],\n",
       " 12335: [56487, 67311, 74561, 10318],\n",
       " 13242: [12262, 55209, 3433, 6939],\n",
       " 16307: [17435, 34069, 26954, 78211],\n",
       " 16324: [26806, 3498, 33557, 3489],\n",
       " 18304: [147057, 91685, 11377, 80636],\n",
       " 18893: [16002, 11740, 245489, 21958],\n",
       " 21786: [4463, 21327, 82842, 15841],\n",
       " 23914: [133634, 10364, 40588, 65234],\n",
       " 27837: [69390, 80133, 7250, 90724],\n",
       " 29161: [40156, 15632, 36956, 34157],\n",
       " 30367: [31163, 88485, 28794, 35872],\n",
       " 30408: [128541, 204820, 86471, 35719],\n",
       " 30971: [54365, 12221, 30248, 16002],\n",
       " 36741: [8104, 84639, 202, 82091],\n",
       " 41182: [130883, 24900, 25645, 7020],\n",
       " 41531: [3975, 36409, 144333, 376414],\n",
       " 46013: [33525, 2863, 74840, 90409],\n",
       " 46090: [23370, 3462, 12221, 252709],\n",
       " 46206: [5530, 66753, 80501, 195],\n",
       " 46925: [40156, 15632, 36956, 34157],\n",
       " 48478: [32259, 89704, 5687, 58640],\n",
       " 48835: [63532, 10494, 63768, 77839],\n",
       " 56187: [16553, 44064, 60189, 11809],\n",
       " 66253: [10617, 14587, 5787, 9827],\n",
       " 74840: [196543, 5425, 71856, 36457],\n",
       " 79113: [32964, 32870, 2250, 30732],\n",
       " 87381: [170, 4382, 7730, 7075],\n",
       " 89023: [204820, 6727, 233992, 161445],\n",
       " 89316: [95219, 4868, 135876, 142719],\n",
       " 90318: [488, 6857, 81175, 55074],\n",
       " 95190: [252709, 167829, 3462, 21958],\n",
       " 96670: [40156, 15632, 36956, 34157],\n",
       " 104019: [12319, 9752, 6233, 8960],\n",
       " 104098: [71856, 82535, 62429, 25319],\n",
       " 106935: [281512, 44356, 38268, 523],\n",
       " 106982: [45025, 13972, 13453, 6935],\n",
       " 116390: [39340, 111040, 26518, 43670],\n",
       " 147869: [58131, 40156, 15632, 36956],\n",
       " 150581: [30572, 20837, 30335, 109099],\n",
       " 158826: [1483, 11354, 3299, 15397],\n",
       " 167995: [9085, 1211, 1210, 31638],\n",
       " 800: [40156, 15632, 36956, 34157],\n",
       " 1880: [12449, 57532, 34310, 12914],\n",
       " 6211: [40156, 15632, 36956, 34157],\n",
       " 10139: [8320, 15734, 21468, 10948],\n",
       " 10378: [35408, 35409, 24625, 30587],\n",
       " 10790: [398191, 2034, 51125, 36266],\n",
       " 10968: [3191, 33083, 11908, 62409],\n",
       " 13593: [83760, 6297, 523, 38268],\n",
       " 15842: [4953, 33070, 67334, 10998],\n",
       " 19892: [68979, 35338, 19906, 3334],\n",
       " 21043: [12072, 1712, 8448, 21420],\n",
       " 22765: [397715, 204060, 181368, 375973],\n",
       " 25924: [11180, 58385, 18174, 41310],\n",
       " 26404: [6848, 131182, 36613, 5582],\n",
       " 27316: [35772, 36101, 5848, 98665],\n",
       " 29944: [246780, 188217, 85849, 28856],\n",
       " 30089: [12034, 40464, 128318, 31273],\n",
       " 36287: [47017, 13695, 8329, 35889],\n",
       " 38416: [32758, 2389, 10177, 7311],\n",
       " 43132: [40564, 2389, 9315, 7311],\n",
       " 43150: [319, 9476, 30366, 11338],\n",
       " 44228: [69867, 837, 12489, 378],\n",
       " 45920: [13956, 6931, 68996, 14210],\n",
       " 48366: [6249, 126325, 19823, 378695],\n",
       " 49773: [283, 376193, 7460, 25287],\n",
       " 50902: [7820, 84752, 213, 91685],\n",
       " 52497: [72875, 51221, 1707, 30444],\n",
       " 53518: [737, 177369, 43298, 66763],\n",
       " 54654: [1904, 294, 144281, 86259],\n",
       " 54700: [70335, 76977, 174426, 46007],\n",
       " 56314: [376407, 3687, 82187, 11780],\n",
       " 61697: [39360, 80135, 130823, 155215],\n",
       " 66741: [13960, 77232, 7268, 90409],\n",
       " 68407: [33440, 135876, 26954, 61492],\n",
       " 70955: [405952, 25114, 13841, 1749],\n",
       " 72389: [12445, 5414, 12963, 7101],\n",
       " 90238: [36473, 4956, 13962, 14238],\n",
       " 104822: [9523, 6279, 10565, 49806],\n",
       " 157702: [9571, 704, 30739, 1980],\n",
       " 187033: [27198, 2877, 2866, 5650],\n",
       " 194545: [124860, 2743, 12135, 131008],\n",
       " 210993: [176017, 2780, 71745, 47913],\n",
       " 548: [38185, 59900, 59000, 647],\n",
       " 4680: [26730, 21437, 23652, 46654],\n",
       " 8223: [35509, 36457, 5425, 134331],\n",
       " 8813: [9523, 10565, 6279, 49806],\n",
       " 11847: [13979, 34190, 31295, 33548],\n",
       " 14965: [127646, 55586, 39308, 82493],\n",
       " 15722: [69162, 25258, 34479, 49562],\n",
       " 17762: [4765, 17828, 6808, 8328],\n",
       " 18175: [606, 54409, 83537, 869],\n",
       " 19005: [128318, 12034, 376543, 377677],\n",
       " 19925: [68996, 126435, 14210, 6931],\n",
       " 20285: [3093, 84639, 8487, 1356],\n",
       " 21856: [196543, 5425, 71856, 58181],\n",
       " 24205: [7820, 23180, 181368, 84752],\n",
       " 30978: [40195, 4339, 4084, 58262],\n",
       " 31718: [1840, 7790, 32826, 129268],\n",
       " 39612: [9089, 894, 13746, 30938],\n",
       " 41258: [35981, 36266, 2820, 47534],\n",
       " 51050: [57107, 181643, 34972, 8000],\n",
       " 52576: [37156, 12059, 60, 2006],\n",
       " 55046: [55989, 28581, 9287, 76878],\n",
       " 55254: [162877, 57798, 5348, 82842],\n",
       " 60743: [523, 76569, 112510, 6297],\n",
       " 62162: [84852, 38861, 6462, 248624],\n",
       " 62474: [87342, 107119, 908, 7286],\n",
       " 65730: [34142, 3541, 567, 32082],\n",
       " 67024: [25967, 164340, 32964, 74268],\n",
       " 68887: [19493, 43624, 148131, 22951],\n",
       " 70482: [31789, 51329, 181412, 7481],\n",
       " 78348: [142719, 4868, 13143, 88855],\n",
       " 79129: [68996, 126435, 14210, 6931],\n",
       " 84648: [134226, 777, 81802, 62904],\n",
       " 97416: [86259, 53598, 31261, 32506],\n",
       " 97642: [40156, 15632, 36956, 34157],\n",
       " 109214: [16148, 310373, 38074, 124958],\n",
       " 123396: [382351, 176011, 252709, 167829],\n",
       " 129015: [129585, 35150, 404574, 26928],\n",
       " 138116: [40156, 15632, 36956, 34157],\n",
       " 156967: [126492, 69197, 2645, 10951],\n",
       " 191614: [4868, 142719, 95219, 25606],\n",
       " 7133: [6078, 86216, 3299, 35829],\n",
       " 15783: [4788, 9687, 181672, 32090],\n",
       " 16547: [4540, 20675, 65697, 16652],\n",
       " 17702: [19108, 22894, 72482, 3395],\n",
       " 17708: [135871, 175626, 83920, 12963],\n",
       " 18212: [83540, 2250, 10118, 62323],\n",
       " 18283: [7010, 47818, 90621, 36877],\n",
       " 18809: [24436, 146889, 195846, 2458],\n",
       " 19144: [173639, 13360, 136400, 12948],\n",
       " 19776: [137028, 81155, 7918, 11664],\n",
       " 20755: [10607, 37901, 58739, 14448],\n",
       " 21674: [2458, 195846, 146889, 24436],\n",
       " 28382: [79755, 136025, 36460, 25347],\n",
       " 30607: [40156, 15632, 36956, 34157],\n",
       " 31597: [380079, 7360, 14860, 12857],\n",
       " 34372: [33120, 122145, 13870, 7040],\n",
       " 36303: [16663, 376725, 171552, 3171],\n",
       " 37292: [36780, 56997, 35092, 129850],\n",
       " 38727: [999, 19243, 34218, 37419],\n",
       " 41393: [3348, 32338, 3135, 14896],\n",
       " 43444: [40834, 20160, 27174, 83972],\n",
       " 45438: [79117, 14614, 135708, 197670],\n",
       " 51293: [12336, 28794, 51125, 14235],\n",
       " 55909: [21847, 7985, 49061, 7837],\n",
       " 57030: [12489, 25109, 45307, 8028],\n",
       " 57354: [1840, 56375, 32706, 7790],\n",
       " 57538: [35458, 69276, 7129, 4515],\n",
       " 57676: [3191, 113381, 11908, 62409],\n",
       " 70472: [39308, 82493, 55586, 10467],\n",
       " 71775: [14072, 38354, 12, 32584]}"
      ]
     },
     "execution_count": 75,
     "metadata": {},
     "output_type": "execute_result"
    }
   ],
   "source": [
    "predictions"
   ]
  },
  {
   "cell_type": "code",
   "execution_count": 77,
   "id": "44c41236",
   "metadata": {},
   "outputs": [],
   "source": [
    "import pickle\n",
    "#with open('predictions4.pkl','wb') as f:\n",
    " #   pickle.dump(predictions, f)"
   ]
  },
  {
   "cell_type": "code",
   "execution_count": 78,
   "id": "ef1e8079",
   "metadata": {},
   "outputs": [],
   "source": [
    "import json"
   ]
  },
  {
   "cell_type": "code",
   "execution_count": 79,
   "id": "3ae38440",
   "metadata": {},
   "outputs": [],
   "source": [
    "with open(\"predictions4.pkl\", 'rb') as f:\n",
    "    predictions = pickle.load(f)"
   ]
  },
  {
   "cell_type": "code",
   "execution_count": 80,
   "id": "738416d4",
   "metadata": {},
   "outputs": [
    {
     "data": {
      "text/plain": [
       "{17732: [128872, 10588, 67762, 10805],\n",
       " 4094: [79218, 4391, 87141, 46841],\n",
       " 20346: [58581, 380081, 379857, 7271],\n",
       " 13255: [198, 31951, 3131, 301329],\n",
       " 24034: [58114, 4169, 6817, 50994],\n",
       " 25480: [5582, 6848, 31981, 23724],\n",
       " 22489: [18453, 6076, 173413, 166229],\n",
       " 19341: [133052, 19556, 22218, 7771],\n",
       " 21156: [51459, 6579, 274526, 31378],\n",
       " 21634: [375966, 13630, 5115, 6428],\n",
       " 32944: [136360, 69587, 10349, 76002],\n",
       " 21049: [2556, 26928, 33602, 116311],\n",
       " 28242: [8397, 34154, 6313, 35282],\n",
       " 20148: [52319, 41580, 22615, 84788],\n",
       " 7112: [14747, 17828, 33695, 7707],\n",
       " 22852: [9371, 10274, 3148, 10951],\n",
       " 17987: [69013, 6639, 59931, 7703],\n",
       " 20353: [35338, 36561, 36772, 3334],\n",
       " 17842: [79910, 58579, 181749, 5155],\n",
       " 18950: [196226, 58398, 79995, 35369],\n",
       " 20942: [36884, 382351, 13941, 58638],\n",
       " 25666: [179386, 2601, 99541, 377531],\n",
       " 109: [206092, 211659, 18965, 206093],\n",
       " 10346: [67846, 35954, 29501, 36319],\n",
       " 1723: [8328, 4535, 13958, 32606],\n",
       " 26826: [9037, 12072, 11815, 2176],\n",
       " 17829: [402831, 13656, 68351, 148922],\n",
       " 10591: [34990, 3439, 13804, 12352],\n",
       " 19990: [14311, 149595, 179616, 2920],\n",
       " 21550: [206051, 6565, 71417, 597],\n",
       " 18123: [169560, 415713, 30894, 36322],\n",
       " 18803: [39068, 94811, 20756, 2650],\n",
       " 18280: [21321, 319850, 16918, 80246],\n",
       " 26279: [2521, 47864, 14683, 90311],\n",
       " 954: [44544, 25020, 36809, 10452],\n",
       " 27885: [388617, 375219, 383035, 33459],\n",
       " 18497: [14784, 42775, 379322, 380081],\n",
       " 13928: [4540, 16652, 58127, 9186],\n",
       " 41159: [36602, 5132, 30981, 44119],\n",
       " 19470: [165182, 909, 139654, 58565],\n",
       " 94674: [118410, 30725, 40697, 2919],\n",
       " 30732: [15574, 378, 837, 13960],\n",
       " 10392: [38133, 30340, 1160, 9999],\n",
       " 18154: [65098, 80317, 34530, 67898],\n",
       " 23034: [73224, 12736, 10182, 14284],\n",
       " 30648: [2905, 1702, 26219, 59345],\n",
       " 805: [9496, 376952, 162878, 89283],\n",
       " 20929: [10982, 34753, 28195, 175659],\n",
       " 15714: [30089, 6292, 5630, 1508],\n",
       " 2211: [181368, 14536, 375973, 397715],\n",
       " 1248: [9148, 5140, 2389, 37962],\n",
       " 962: [69403, 19823, 13220, 126325],\n",
       " 52423: [918, 764, 15654, 7590],\n",
       " 190149: [7017, 7096, 90565, 36885],\n",
       " 25079: [6681, 41144, 84131, 84054],\n",
       " 15632: [10298, 72562, 54365, 131616],\n",
       " 18307: [11700, 20499, 30739, 1980],\n",
       " 34822: [72404, 9368, 27312, 31659],\n",
       " 20616: [2406, 26160, 152142, 4320],\n",
       " 17707: [86424, 57662, 34101, 76865],\n",
       " 20255: [95024, 376993, 52340, 37962],\n",
       " 18037: [19588, 7268, 13831, 13629],\n",
       " 207226: [32769, 13831, 6327, 32138],\n",
       " 39267: [109933, 236725, 162895, 67334],\n",
       " 26613: [1911, 30732, 15794, 32268],\n",
       " 36883: [7129, 35185, 19455, 151676],\n",
       " 21117: [99005, 67334, 40588, 14952],\n",
       " 66905: [9578, 61431, 69419, 10485],\n",
       " 19556: [137550, 71394, 74109, 26525],\n",
       " 21250: [117285, 53025, 10295, 102819],\n",
       " 40023: [58640, 14905, 79898, 19462],\n",
       " 16469: [7286, 107119, 2548, 707],\n",
       " 12429: [14520, 25645, 36885, 7096],\n",
       " 52088: [158653, 19324, 35656, 24804],\n",
       " 232: [76663, 8960, 34972, 30720],\n",
       " 1520: [30461, 55074, 9592, 17542],\n",
       " 16876: [51686, 6496, 25615, 89808],\n",
       " 994: [135871, 30181, 32873, 175626],\n",
       " 17237: [2039, 907, 2208, 104114],\n",
       " 23485: [8143, 63798, 70766, 167947],\n",
       " 82001: [392208, 376526, 381701, 35147],\n",
       " 39027: [379322, 14784, 42775, 20463],\n",
       " 26605: [116908, 128733, 34511, 6422],\n",
       " 27303: [89286, 375531, 20846, 14530],\n",
       " 29428: [4572, 32394, 126604, 80109],\n",
       " 43925: [164627, 379023, 164712, 380074],\n",
       " 21945: [19909, 79856, 10674, 1935],\n",
       " 28437: [84335, 33890, 63109, 31395],\n",
       " 24964: [25348, 128781, 68979, 57937],\n",
       " 27208: [51438, 2581, 70368, 10066],\n",
       " 45891: [12336, 5121, 131965, 1018],\n",
       " 17836: [35397, 2532, 47, 19455],\n",
       " 31076: [9664, 13791, 5236, 7783],\n",
       " 20228: [32313, 58525, 10605, 73391],\n",
       " 1560: [8826, 12808, 38881, 5839],\n",
       " 13197: [69197, 2645, 126492, 9089],\n",
       " 23091: [128694, 6967, 18533, 35415],\n",
       " 27260: [85631, 78317, 84488, 32216],\n",
       " 18253: [12405, 33043, 131182, 5176],\n",
       " 241538: [11000, 6731, 21388, 1003],\n",
       " 15315: [21420, 34723, 176018, 60555],\n",
       " 29092: [4540, 20675, 65921, 65697],\n",
       " 4548: [84268, 12053, 16082, 30281],\n",
       " 72380: [36796, 9654, 3731, 129022],\n",
       " 15193: [18349, 7504, 196543, 19636],\n",
       " 18788: [200502, 4885, 23508, 3489],\n",
       " 20762: [376414, 474, 15286, 9031],\n",
       " 46834: [30260, 4717, 129161, 36210],\n",
       " 54352: [24663, 89810, 125967, 19155],\n",
       " 10804: [1021, 1018, 5659, 35810],\n",
       " 12500: [57923, 20461, 129045, 5321],\n",
       " 17997: [13557, 28856, 188217, 85849],\n",
       " 20208: [14545, 14538, 126272, 88173],\n",
       " 19333: [9476, 9989, 36794, 30122],\n",
       " 20644: [23346, 36515, 3734, 89764],\n",
       " 20698: [142338, 13064, 68966, 7448],\n",
       " 20930: [9552, 81802, 777, 1981],\n",
       " 17742: [376198, 133119, 25899, 126690],\n",
       " 19762: [9906, 19588, 10130, 1189],\n",
       " 17684: [5275, 45, 8159, 9437],\n",
       " 73118: [3617, 33037, 903, 12697],\n",
       " 4877: [32489, 53307, 2544, 90349],\n",
       " 17009: [35239, 19459, 2866, 32769],\n",
       " 36685: [302429, 12917, 399559, 398015],\n",
       " 130783: [19324, 13296, 89912, 24804],\n",
       " 4067: [9303, 7989, 46841, 380744],\n",
       " 19829: [375074, 377403, 136400, 7249],\n",
       " 98430: [32126, 597, 7914, 14747],\n",
       " 21575: [45925, 68072, 22951, 25487],\n",
       " 47520: [35981, 175321, 30562, 135872],\n",
       " 48047: [144281, 1904, 4318, 36978],\n",
       " 17851: [13737, 13432, 5516, 57583],\n",
       " 24862: [25645, 36879, 135838, 126514],\n",
       " 34106: [18140, 10965, 131160, 35380],\n",
       " 43810: [188178, 86762, 174483, 40156],\n",
       " 60186: [6408, 89838, 36481, 12208],\n",
       " 35215: [36642, 3138, 30254, 30792],\n",
       " 41158: [37419, 134004, 999, 131014],\n",
       " 44522: [131008, 46895, 6327, 32769],\n",
       " 134279: [48576, 148860, 30405, 9289],\n",
       " 44961: [91685, 213, 80636, 147057],\n",
       " 22407: [130138, 28821, 78122, 32665],\n",
       " 20914: [2765, 378695, 175658, 18349],\n",
       " 24747: [85529, 48391, 30411, 119887],\n",
       " 32088: [55989, 28581, 18247, 76878],\n",
       " 53750: [68984, 181658, 128457, 162787],\n",
       " 87600: [10274, 34698, 2389, 9371],\n",
       " 18393: [18541, 79907, 8758, 9989],\n",
       " 26824: [7323, 119293, 26604, 1979],\n",
       " 32319: [30975, 47765, 36460, 12925],\n",
       " 38475: [59179, 86020, 208524, 390568],\n",
       " 38876: [29403, 5407, 89399, 67857],\n",
       " 58674: [4954, 62086, 68530, 46936],\n",
       " 61341: [33073, 10352, 2919, 32338],\n",
       " 1245: [30711, 41750, 33969, 2160],\n",
       " 26734: [34212, 81128, 129212, 59627],\n",
       " 18215: [11780, 17980, 3687, 82187],\n",
       " 22343: [578, 83463, 9249, 24058],\n",
       " 25984: [49790, 31027, 39320, 45882],\n",
       " 18793: [130883, 68072, 24900, 4456],\n",
       " 25969: [57835, 175713, 14896, 72561],\n",
       " 32814: [31583, 12865, 102747, 122215],\n",
       " 33573: [3135, 32754, 2921, 164434],\n",
       " 59700: [58164, 374, 25319, 68980],\n",
       " 20128: [5521, 7017, 30122, 14000],\n",
       " 35048: [98396, 47614, 45071, 5926],\n",
       " 20299: [36881, 47818, 79956, 126514],\n",
       " 30470: [19459, 7015, 7017, 7020],\n",
       " 626: [46791, 30975, 47765, 9322],\n",
       " 18165: [10617, 36780, 36515, 7270],\n",
       " 18290: [90534, 84010, 83491, 8078],\n",
       " 31630: [13288, 25606, 13283, 158413],\n",
       " 31868: [57043, 376400, 389542, 90602],\n",
       " 36379: [13591, 133918, 382, 59656],\n",
       " 83569: [6935, 35888, 6572, 6067],\n",
       " 89362: [95667, 15734, 10948, 21468],\n",
       " 17849: [7534, 87260, 33567, 10299],\n",
       " 19140: [198, 5595, 30895, 49],\n",
       " 17784: [9523, 10565, 6279, 49806],\n",
       " 18000: [175736, 57957, 8359, 83537],\n",
       " 35313: [36457, 35509, 5425, 134331],\n",
       " 86697: [5132, 30981, 44119, 6779],\n",
       " 14932: [1443, 118620, 11057, 22894],\n",
       " 26114: [48508, 60709, 143, 128966],\n",
       " 31419: [37451, 29216, 12992, 38817],\n",
       " 84672: [2919, 10206, 36379, 36936],\n",
       " 1342: [10467, 12249, 376725, 58131],\n",
       " 67347: [57283, 14408, 13077, 69174],\n",
       " 1101: [32698, 74887, 45852, 581],\n",
       " 1268: [8327, 31261, 3299, 1483],\n",
       " 11170: [49, 125749, 32778, 11928],\n",
       " 18088: [6322, 25114, 13841, 405952],\n",
       " 18464: [169596, 32327, 32628, 72214],\n",
       " 20308: [102411, 171245, 60821, 11420],\n",
       " 43606: [36734, 36732, 13127, 136378],\n",
       " 240030: [725, 40156, 15632, 36956],\n",
       " 9850: [175321, 30562, 135872, 1132],\n",
       " 18503: [35383, 68703, 86227, 375344],\n",
       " 19676: [14391, 80720, 34558, 16108],\n",
       " 30360: [77069, 35381, 12974, 31118],\n",
       " 20384: [8963, 30327, 5842, 69179],\n",
       " 22341: [5583, 57526, 1002, 105842],\n",
       " 45209: [35463, 32698, 24552, 13956],\n",
       " 55439: [9089, 1003, 6731, 30938],\n",
       " 68000: [616, 59203, 10219, 68996],\n",
       " 20405: [1523, 1749, 70066, 36884],\n",
       " 25184: [125512, 3269, 126190, 162464],\n",
       " 25529: [160836, 60636, 9575, 45487],\n",
       " 26297: [31722, 32769, 33818, 6445],\n",
       " 32672: [36794, 36522, 9476, 73719],\n",
       " 33243: [35071, 189297, 130480, 27611],\n",
       " 38079: [104114, 31375, 11732, 1364],\n",
       " 70516: [68352, 71672, 35051, 82091],\n",
       " 19646: [381927, 6040, 35418, 151085],\n",
       " 23815: [38460, 37787, 109099, 35888],\n",
       " 28013: [70204, 11718, 70194, 124],\n",
       " 47962: [23514, 6913, 36642, 8047],\n",
       " 956: [375081, 375868, 393606, 126038],\n",
       " 17748: [19944, 69945, 8005, 405347],\n",
       " 18336: [59736, 81689, 86596, 8141],\n",
       " 18353: [169782, 525, 12327, 64009],\n",
       " 24431: [40156, 15632, 36956, 34157],\n",
       " 28328: [139654, 58565, 377531, 165182],\n",
       " 29881: [128785, 164406, 166270, 25349],\n",
       " 51140: [151080, 248454, 56187, 9338],\n",
       " 110606: [10573, 25487, 45925, 12319],\n",
       " 17694: [80043, 70487, 18867, 83667],\n",
       " 8188: [163227, 99988, 62707, 78441],\n",
       " 17929: [19417, 14740, 30626, 47889],\n",
       " 20585: [87320, 10858, 255379, 34911],\n",
       " 24147: [39340, 43670, 2039, 21327],\n",
       " 26274: [10206, 11707, 36011, 90757],\n",
       " 26820: [131182, 54168, 11032, 12862],\n",
       " 29938: [3655, 9617, 148122, 3171],\n",
       " 30880: [34472, 94549, 20108, 67898],\n",
       " 34116: [255379, 169596, 87320, 34911],\n",
       " 40698: [66358, 4735, 58376, 397715],\n",
       " 50796: [82312, 3440, 12159, 63109],\n",
       " 141557: [40156, 15632, 36956, 34157],\n",
       " 27479: [31142, 6069, 1942, 17952],\n",
       " 27898: [34038, 169828, 162895, 236725],\n",
       " 50243: [10295, 102819, 117285, 53025],\n",
       " 105613: [70989, 31793, 109099, 21133],\n",
       " 17964: [30591, 169687, 13822, 48859],\n",
       " 18453: [166527, 181674, 69041, 99105],\n",
       " 25290: [15394, 29091, 25149, 11250],\n",
       " 34396: [125065, 47792, 14292, 92445],\n",
       " 37411: [9795, 62853, 3011, 30461],\n",
       " 42044: [378421, 300458, 376089, 13102],\n",
       " 4522: [169914, 67792, 50425, 111067],\n",
       " 12232: [13296, 19324, 24804, 89912],\n",
       " 20926: [5136, 133645, 11904, 12445],\n",
       " 22543: [31359, 31071, 60654, 75113],\n",
       " 23060: [2921, 94068, 95808, 24196],\n",
       " 28557: [27907, 38354, 12, 32584],\n",
       " 18101: [12697, 14775, 36515, 3617],\n",
       " 19844: [13062, 29022, 10536, 10535],\n",
       " 24390: [79911, 125512, 72190, 5842],\n",
       " 26096: [35106, 267345, 125512, 17574],\n",
       " 26580: [60913, 74821, 82798, 85515],\n",
       " 34788: [4761, 85517, 1219, 11180],\n",
       " 37302: [405587, 19827, 57590, 14611],\n",
       " 63903: [79782, 168032, 79598, 31062],\n",
       " 76980: [80636, 91685, 2449, 213],\n",
       " 84462: [47357, 128778, 133406, 6575],\n",
       " 18473: [378695, 175658, 128733, 173413],\n",
       " 22091: [7143, 8048, 14179, 36925],\n",
       " 24349: [25319, 71856, 58166, 58164],\n",
       " 30240: [8500, 11450, 1152, 8365],\n",
       " 31374: [52340, 8319, 95024, 376993],\n",
       " 104891: [60, 2006, 37156, 31053],\n",
       " 145233: [158653, 19324, 35663, 13296],\n",
       " 17870: [79830, 31313, 12256, 232957],\n",
       " 20074: [33172, 32007, 3001, 136585],\n",
       " 20830: [13824, 25114, 6322, 19706],\n",
       " 26238: [332, 64884, 9794, 72214],\n",
       " 28283: [47017, 3451, 7101, 13695],\n",
       " 30332: [32950, 85517, 9126, 23311],\n",
       " 62643: [74925, 7770, 22713, 2115],\n",
       " 72989: [64359, 31458, 1530, 33557],\n",
       " 146128: [83249, 121104, 82552, 11616],\n",
       " 9363: [17415, 42482, 43530, 160109],\n",
       " 26883: [14248, 129944, 269, 40592],\n",
       " 37401: [3199, 199141, 376998, 4953],\n",
       " 60796: [2896, 29308, 11986, 66175],\n",
       " 109435: [177369, 135871, 737, 66763],\n",
       " 879: [101700, 79577, 32602, 70235],\n",
       " 12695: [43999, 8047, 7143, 8048],\n",
       " 29461: [36179, 9710, 58638, 578],\n",
       " 34325: [40156, 15632, 36956, 34157],\n",
       " 35749: [84417, 86278, 127646, 12970],\n",
       " 44002: [14728, 1145, 265783, 71746],\n",
       " 64480: [33644, 7982, 12463, 35084],\n",
       " 1278: [58420, 13693, 57107, 9752],\n",
       " 2703: [34069, 26954, 78211, 40156],\n",
       " 4746: [33083, 7241, 3191, 113381],\n",
       " 6405: [273, 71745, 58276, 51974],\n",
       " 17845: [55074, 17542, 151080, 32902],\n",
       " 28677: [33120, 45730, 35805, 25109],\n",
       " 90769: [133406, 6575, 166270, 14106],\n",
       " 19838: [3440, 10983, 82312, 17574],\n",
       " 20176: [75556, 38012, 57917, 1483],\n",
       " 21793: [130822, 47794, 8383, 20484],\n",
       " 25248: [2449, 62763, 10118, 2250],\n",
       " 25339: [167979, 98711, 30337, 12208],\n",
       " 27050: [10524, 84456, 98711, 41144],\n",
       " 71582: [47926, 6445, 2866, 40156],\n",
       " 576: [688, 69162, 30337, 167979],\n",
       " 11039: [55379, 675, 4249, 13628],\n",
       " 17060: [36055, 79110, 35872, 384862],\n",
       " 21742: [59000, 647, 38185, 59900],\n",
       " 28833: [14609, 128833, 14273, 9515],\n",
       " 2011: [35378, 15144, 351964, 16511],\n",
       " 13787: [125890, 75104, 1150, 1087],\n",
       " 19627: [1712, 57923, 72294, 11733],\n",
       " 28871: [13327, 764, 59851, 15654],\n",
       " 35002: [169811, 32627, 10354, 21847],\n",
       " 37327: [12948, 173639, 12857, 136400],\n",
       " 39690: [75832, 3646, 11816, 178612],\n",
       " 40455: [64884, 9794, 92076, 6430],\n",
       " 55220: [59000, 38185, 59900, 647],\n",
       " 57731: [248454, 56187, 151080, 9338],\n",
       " 18155: [62323, 131014, 104826, 60077],\n",
       " 18342: [4885, 47460, 7915, 47089],\n",
       " 19871: [8329, 13693, 32628, 31323],\n",
       " 23139: [115147, 6715, 35954, 29501],\n",
       " 28251: [35150, 404574, 129585, 40078],\n",
       " 30031: [40986, 28794, 51125, 40210],\n",
       " 50321: [3511, 3384, 5558, 22702],\n",
       " 50811: [43624, 148131, 19493, 87716],\n",
       " 54284: [29373, 4748, 40156, 15632],\n",
       " 60040: [607, 80775, 49125, 698],\n",
       " 1051: [143316, 41310, 13283, 87483],\n",
       " 9084: [41935, 103161, 118421, 85046],\n",
       " 14031: [7124, 90572, 134733, 135872],\n",
       " 16354: [160851, 175652, 121104, 137550],\n",
       " 20892: [71631, 1364, 31579, 31375],\n",
       " 27445: [46895, 19588, 57961, 13696],\n",
       " 27955: [55580, 14320, 81086, 32313],\n",
       " 50460: [5186, 133940, 5858, 46778],\n",
       " 72686: [40156, 15632, 36956, 34157],\n",
       " 10595: [129268, 24566, 32826, 2723],\n",
       " 17663: [174713, 4335, 196962, 2253],\n",
       " 17712: [35872, 30895, 31163, 42779],\n",
       " 18130: [7534, 36918, 33567, 25967],\n",
       " 29129: [24804, 89912, 19324, 13296],\n",
       " 89502: [3348, 85882, 15998, 934],\n",
       " 91254: [36332, 6216, 5650, 21890],\n",
       " 93947: [6432, 11746, 1402, 6435],\n",
       " 9567: [31323, 32180, 9699, 1503],\n",
       " 17873: [15389, 128866, 11664, 30126],\n",
       " 20374: [46931, 2540, 8327, 31574],\n",
       " 22102: [5033, 36958, 177170, 181749],\n",
       " 26242: [40156, 15632, 36956, 34157],\n",
       " 28059: [209760, 130774, 150111, 208817],\n",
       " 34345: [98308, 3043, 22255, 34511],\n",
       " 36573: [34053, 12841, 37082, 111496],\n",
       " 38166: [66764, 375997, 14851, 32005],\n",
       " 39091: [83484, 10162, 9145, 35332],\n",
       " 43664: [169781, 5183, 8397, 45487],\n",
       " 47377: [38186, 234181, 48927, 41329],\n",
       " 76322: [14447, 81444, 33050, 8404],\n",
       " 94452: [31923, 68703, 86227, 1885],\n",
       " 128049: [90743, 160836, 30260, 4717],\n",
       " 5414: [210070, 22926, 8713, 3253],\n",
       " 15587: [82606, 21753, 15734, 8320],\n",
       " 20267: [5425, 36457, 134331, 83249],\n",
       " 21803: [40639, 12249, 1757, 58736],\n",
       " 22210: [376279, 376542, 166101, 173672],\n",
       " 31829: [131182, 36613, 36706, 40156],\n",
       " 34805: [45071, 79898, 66175, 158181],\n",
       " 42192: [31319, 53328, 2990, 35147],\n",
       " 52490: [81341, 175321, 46007, 152883],\n",
       " 11212: [7040, 122145, 33120, 69537],\n",
       " 17843: [11780, 3687, 128966, 60709],\n",
       " 17904: [131617, 36353, 104826, 25043],\n",
       " 24450: [51140, 11333, 27177, 3453],\n",
       " 42746: [19872, 6857, 7143, 25287],\n",
       " 46255: [5073, 523, 7036, 83760],\n",
       " 48042: [174426, 51459, 274526, 31378],\n",
       " 57844: [30623, 7914, 32506, 75143],\n",
       " 65961: [25204, 8342, 384104, 126659],\n",
       " 66197: [90273, 31458, 33557, 26806],\n",
       " 8456: [8226, 32665, 60077, 41874],\n",
       " 18593: [376536, 5321, 162348, 76534],\n",
       " 21122: [50514, 77847, 40156, 15632],\n",
       " 23317: [7017, 13127, 1021, 14383],\n",
       " 23596: [15397, 126002, 53484, 1483],\n",
       " 26870: [86905, 82807, 2389, 36053],\n",
       " 35524: [36411, 67698, 34157, 6848],\n",
       " 36946: [34972, 181643, 24167, 36688],\n",
       " 36985: [131182, 5521, 70891, 36613],\n",
       " 41820: [87260, 177170, 181749, 86259],\n",
       " 46693: [69350, 98665, 30281, 7534],\n",
       " 95472: [35051, 1356, 3093, 9992],\n",
       " 157106: [128604, 35954, 29501, 67846],\n",
       " 1273: [682, 14518, 13433, 31469],\n",
       " 13060: [45882, 61472, 31027, 1128],\n",
       " 23122: [6135, 9616, 19659, 90443],\n",
       " 38417: [151312, 136227, 32775, 5667],\n",
       " 70597: [13077, 381164, 14408, 380646],\n",
       " 77132: [45487, 5183, 169781, 9575],\n",
       " 77862: [148922, 13656, 44781, 57688],\n",
       " 163125: [68980, 28201, 14520, 58164],\n",
       " 878: [48286, 33070, 10998, 6577],\n",
       " 11085: [134226, 777, 81802, 62904],\n",
       " 18028: [197670, 25769, 376400, 57043],\n",
       " 18343: [26582, 15880, 1422, 57526],\n",
       " 22540: [32305, 35261, 8158, 28177],\n",
       " 24839: [142827, 142819, 1594, 74837],\n",
       " 30178: [4718, 54695, 11732, 66044],\n",
       " 34326: [82312, 1285, 3440, 12159],\n",
       " 46949: [30254, 129022, 9654, 30792],\n",
       " 54792: [36121, 12449, 57532, 80501],\n",
       " 55393: [59672, 1805, 76569, 112510],\n",
       " 61195: [29042, 46566, 195846, 146889],\n",
       " 84953: [99648, 31057, 50534, 116141],\n",
       " 114569: [465, 110, 71236, 35894],\n",
       " 189001: [6216, 33005, 36332, 11706],\n",
       " 382: [1049, 84639, 3451, 8104],\n",
       " 486: [33037, 903, 375069, 55209],\n",
       " 11613: [4453, 76663, 90884, 89725],\n",
       " 14136: [24436, 2458, 157864, 16826],\n",
       " 17858: [19413, 51329, 31789, 181412],\n",
       " 20994: [24395, 375973, 14525, 181368],\n",
       " 25670: [30587, 30580, 595, 35409],\n",
       " 28621: [13962, 36473, 4956, 72561],\n",
       " 59599: [47625, 19155, 10982, 125967],\n",
       " 84483: [14869, 34952, 61, 36521],\n",
       " 13235: [80428, 81081, 9308, 31460],\n",
       " 23042: [34771, 40156, 15632, 36956],\n",
       " 24230: [35267, 35370, 56997, 83866],\n",
       " 44444: [393, 14289, 59732, 9795],\n",
       " 74130: [13065, 13510, 31722, 374987],\n",
       " 75361: [9186, 72363, 11250, 16652],\n",
       " 178889: [1757, 16553, 60189, 13628],\n",
       " 12038: [60555, 164340, 336354, 10953],\n",
       " 14144: [69162, 30337, 167979, 12208],\n",
       " 18065: [1757, 40639, 122001, 36572],\n",
       " 18346: [24770, 16002, 31659, 11740],\n",
       " 20177: [46871, 68663, 7016, 374987],\n",
       " 24006: [36481, 6408, 32754, 69502],\n",
       " 28635: [76569, 113634, 40546, 22135],\n",
       " 37444: [46660, 69013, 6639, 31420],\n",
       " 41129: [200502, 40156, 15632, 36956],\n",
       " 46774: [8319, 14194, 4412, 81439],\n",
       " 51090: [35370, 4168, 84794, 35267],\n",
       " 51548: [41144, 32718, 84054, 6681],\n",
       " 75048: [351964, 14427, 9920, 34462],\n",
       " 5431: [33297, 32602, 70235, 73107],\n",
       " 14798: [118398, 129585, 32135, 22926],\n",
       " 16678: [131182, 35981, 36809, 36613],\n",
       " 17706: [14622, 140129, 160739, 90284],\n",
       " 18150: [46935, 35714, 46941, 6544],\n",
       " 21808: [29373, 36314, 171245, 9616],\n",
       " 22648: [13696, 13453, 35874, 13695],\n",
       " 27614: [51125, 14235, 68737, 28794],\n",
       " 30365: [133645, 5136, 19553, 11904],\n",
       " 35650: [31273, 2449, 10118, 58114],\n",
       " 100024: [32259, 89704, 14587, 5031],\n",
       " 113819: [35945, 19243, 70487, 18867],\n",
       " 4844: [46660, 125901, 31420, 32706],\n",
       " 12726: [113634, 51304, 22135, 40615],\n",
       " 15174: [30281, 152883, 62853, 1260],\n",
       " 18021: [8327, 46931, 5140, 40156],\n",
       " 18202: [129212, 26209, 81128, 59604],\n",
       " 19431: [375205, 6909, 58376, 4869],\n",
       " 19881: [7270, 375069, 36956, 7276],\n",
       " 20865: [2335, 52255, 42197, 92445],\n",
       " 25674: [59179, 2606, 390568, 36842],\n",
       " 36052: [34218, 999, 134004, 34771],\n",
       " 36778: [15632, 725, 58181, 8329],\n",
       " 52995: [10598, 32628, 169596, 32327],\n",
       " 53269: [46007, 36252, 174426, 70335],\n",
       " 54927: [40156, 15632, 36956, 34157],\n",
       " 73413: [149561, 83526, 162544, 25273],\n",
       " 87974: [375074, 377403, 136400, 90284],\n",
       " 106591: [2666, 11734, 57923, 4718],\n",
       " 9559: [447449, 60562, 137573, 40156],\n",
       " 13842: [375344, 79130, 35383, 1002],\n",
       " 14431: [90568, 41214, 407786, 35473],\n",
       " 17790: [41043, 14611, 9616, 31815],\n",
       " 18827: [7104, 376727, 65360, 88729],\n",
       " 19244: [37082, 111496, 34053, 33373],\n",
       " 22697: [88173, 107455, 126272, 2195],\n",
       " 23493: [68979, 19906, 382351, 5516],\n",
       " 28571: [32870, 74268, 32964, 25967],\n",
       " 34414: [130480, 85172, 378421, 376635],\n",
       " 39315: [58582, 7821, 3299, 1483],\n",
       " 43430: [30981, 10301, 32255, 33404],\n",
       " 46511: [40156, 14912, 40921, 30725],\n",
       " 74763: [36314, 29373, 4748, 55209],\n",
       " 76761: [47585, 7393, 47126, 6440],\n",
       " 79320: [88379, 375, 10002, 10000],\n",
       " 84773: [2920, 80451, 882, 33149],\n",
       " 99130: [3687, 82187, 11780, 82422],\n",
       " 6820: [38817, 7574, 110472, 14952],\n",
       " 16816: [45230, 32082, 7100, 80936],\n",
       " 17696: [98308, 3043, 32189, 10069],\n",
       " 18071: [51537, 114476, 5417, 35378],\n",
       " 19250: [33172, 11269, 3001, 24770],\n",
       " 20073: [382351, 5513, 176011, 25899],\n",
       " 21339: [247561, 65360, 32948, 18067],\n",
       " 25519: [9317, 20651, 176612, 9971],\n",
       " 32781: [14538, 226824, 14545, 29216],\n",
       " 42559: [162544, 36083, 7848, 87307],\n",
       " 56480: [30817, 31329, 350, 1055],\n",
       " 59056: [82807, 57798, 31337, 36053],\n",
       " 63129: [14517, 36881, 36878, 36879],\n",
       " 1145: [10957, 1128, 5530, 36121],\n",
       " 10100: [7848, 87307, 24546, 35324],\n",
       " 19775: [65360, 18067, 30732, 23346],\n",
       " 20205: [40210, 4991, 40986, 68737],\n",
       " 21556: [9992, 59851, 82091, 3093],\n",
       " 28498: [209760, 12742, 208817, 404952],\n",
       " 28950: [164434, 94068, 5176, 3135],\n",
       " 29516: [6931, 7743, 14210, 85241],\n",
       " 33302: [47286, 11989, 10299, 86161],\n",
       " 37474: [35415, 35757, 5450, 35495],\n",
       " 42038: [133001, 72294, 94549, 82087],\n",
       " 42317: [128634, 22974, 31579, 15858],\n",
       " 49427: [36351, 22702, 198, 80645],\n",
       " 53285: [37968, 80428, 13030, 7726],\n",
       " 62562: [58739, 14448, 48670, 6848],\n",
       " 63943: [63799, 2277, 8848, 2399],\n",
       " 71791: [14850, 178460, 79214, 352305],\n",
       " 76191: [30739, 33818, 30761, 7492],\n",
       " 76966: [5301, 30165, 32226, 7726],\n",
       " 92695: [40156, 15632, 36956, 34157],\n",
       " 100547: [11989, 10598, 32232, 32628],\n",
       " 144277: [176011, 5513, 382351, 376198],\n",
       " 1997: [2765, 34291, 42779, 35015],\n",
       " 10738: [13918, 59312, 166670, 133817],\n",
       " 17810: [75267, 95808, 72190, 46941],\n",
       " 19647: [31570, 5061, 25978, 39078],\n",
       " 19984: [32769, 11706, 32054, 33005],\n",
       " 20732: [46841, 9303, 374791, 376407],\n",
       " 21529: [4868, 95219, 135876, 71935],\n",
       " 21603: [10953, 8448, 7129, 60555],\n",
       " 21823: [5073, 92076, 9794, 34915],\n",
       " 23068: [112510, 40546, 76569, 119423],\n",
       " 23103: [69197, 10957, 2645, 126492],\n",
       " 27025: [3975, 36409, 144333, 14289],\n",
       " 34912: [45307, 12489, 69867, 25109],\n",
       " 35316: [675, 4249, 7747, 567],\n",
       " 35902: [688, 88485, 67529, 2994],\n",
       " 36743: [13918, 1914, 6233, 59312],\n",
       " 46022: [49272, 69276, 4515, 35458],\n",
       " 56627: [27322, 71935, 125140, 27594],\n",
       " 61700: [82606, 31248, 21753, 68398],\n",
       " 92595: [59965, 14179, 13663, 8047],\n",
       " 111774: [40156, 15632, 36956, 34157],\n",
       " 127398: [165908, 167659, 18846, 165276],\n",
       " 165214: [34972, 57107, 33159, 36688],\n",
       " 8228: [31053, 1127, 8487, 11542],\n",
       " 17961: [384153, 645, 15567, 5132],\n",
       " 18294: [35063, 25270, 32706, 56375],\n",
       " 20106: [40156, 15632, 36956, 34157],\n",
       " 21445: [79130, 375344, 12736, 5582],\n",
       " 21744: [19872, 6322, 405952, 128318],\n",
       " 34375: [164310, 90621, 153, 7015],\n",
       " 46792: [22926, 32135, 32758, 20651],\n",
       " 61295: [3565, 75722, 77566, 52255],\n",
       " 63311: [405347, 410408, 19944, 69945],\n",
       " 17046: [12208, 6408, 89838, 34479],\n",
       " 17728: [30117, 33440, 61492, 85241],\n",
       " 17765: [4099, 47534, 9739, 44396],\n",
       " 18186: [36613, 14890, 206513, 45230],\n",
       " 21408: [2540, 81988, 107119, 908],\n",
       " 23071: [92929, 11420, 32902, 90443],\n",
       " 36881: [65085, 160119, 24260, 68703],\n",
       " 40085: [136261, 68984, 181658, 33070],\n",
       " 40905: [5450, 35415, 6503, 13729],\n",
       " 41725: [34527, 30084, 9642, 56115],\n",
       " 42760: [3246, 6721, 923, 11354],\n",
       " 42826: [47917, 37038, 69168, 13453],\n",
       " 43515: [30895, 375344, 6665, 35383],\n",
       " 46721: [18583, 65027, 2778, 197308],\n",
       " 49301: [31118, 129399, 38992, 83540],\n",
       " 51795: [40156, 15632, 36956, 34157],\n",
       " 55002: [82552, 121104, 49766, 11616],\n",
       " 55736: [5061, 31570, 25978, 39078],\n",
       " 56328: [129585, 118398, 40078, 33602],\n",
       " 59032: [40156, 15632, 36956, 34157],\n",
       " 61273: [2919, 1210, 85882, 33073],\n",
       " 63275: [130883, 68072, 24900, 57583],\n",
       " 66682: [79147, 80135, 7270, 203488],\n",
       " 76550: [32209, 73403, 84132, 25043],\n",
       " 83998: [139657, 418039, 418342, 40156],\n",
       " 130577: [29403, 5407, 9867, 89399],\n",
       " 144997: [882, 34815, 10133, 37116],\n",
       " 155596: [9523, 40156, 15632, 36956],\n",
       " 172593: [10982, 14636, 34753, 51974],\n",
       " 1368: [121986, 6297, 14611, 33386],\n",
       " 1525: [22951, 25487, 36685, 10573],\n",
       " 1639: [13296, 35656, 25348, 35663],\n",
       " 8514: [175652, 19706, 13065, 13510],\n",
       " 16792: [69466, 14529, 36925, 30975],\n",
       " 17675: [398191, 51125, 28794, 58126],\n",
       " 18008: [171106, 36878, 36881, 4515],\n",
       " 18041: [85241, 61492, 30117, 33440],\n",
       " 19045: [79278, 71672, 12889, 64246],\n",
       " 24387: [31160, 8597, 1979, 4594],\n",
       " 24726: [6209, 79577, 35015, 31053],\n",
       " 26761: [2666, 11734, 11732, 15917],\n",
       " 28566: [7492, 31082, 1980, 80334],\n",
       " 28779: [55272, 4782, 14816, 232961],\n",
       " 32336: [174713, 2253, 196962, 4954],\n",
       " 33333: [11388, 36386, 36643, 53182],\n",
       " 34782: [188217, 85849, 40156, 15632],\n",
       " 43002: [130930, 269, 49061, 21847],\n",
       " 46494: [126325, 8758, 81439, 8759],\n",
       " 50893: [79572, 78211, 195670, 79141],\n",
       " 56362: [160076, 40156, 15632, 36956],\n",
       " 60364: [36548, 35824, 12006, 9460],\n",
       " 65351: [333182, 396882, 173266, 13293],\n",
       " 86949: [374987, 46209, 90035, 55209],\n",
       " 152658: [90565, 7020, 36879, 7010],\n",
       " 153610: [14616, 14613, 35084, 30248],\n",
       " 638: [35829, 25349, 128785, 6575],\n",
       " 4491: [48508, 143, 1880, 10951],\n",
       " 9880: [10069, 3043, 27268, 1210],\n",
       " 14842: [9992, 7020, 36266, 2820],\n",
       " 17434: [869, 83537, 88729, 54409],\n",
       " 17772: [2540, 116, 44544, 25020],\n",
       " 18095: [1055, 31329, 11523, 6327],\n",
       " 18128: [14896, 72562, 72561, 57835],\n",
       " 19806: [32769, 6445, 47926, 13831],\n",
       " 20400: [1800, 80501, 36121, 35787],\n",
       " 20927: [67466, 1911, 19823, 126127],\n",
       " 27243: [46684, 83540, 66044, 34215],\n",
       " 27922: [397715, 29847, 12316, 5951],\n",
       " 30132: [37962, 31400, 71376, 40156],\n",
       " 30479: [53328, 35147, 2990, 195674],\n",
       " 35464: [2606, 377189, 7685, 40156],\n",
       " 36264: [815, 7572, 58966, 31261],\n",
       " 42171: [129944, 14248, 923, 11354],\n",
       " 48358: [14247, 120980, 34113, 41310],\n",
       " 48890: [113634, 51304, 97404, 40615],\n",
       " 50215: [32756, 32758, 10177, 2843],\n",
       " 50669: [40156, 15632, 36956, 34157],\n",
       " 53298: [19659, 90443, 128911, 9616],\n",
       " 56696: [37968, 30165, 5301, 80428],\n",
       " 57741: [30084, 9642, 56115, 34527],\n",
       " 58757: [269, 45493, 13029, 40592],\n",
       " 60894: [31163, 11269, 33172, 24770],\n",
       " 61140: [1253, 1980, 30761, 30739],\n",
       " 82361: [158413, 13288, 25606, 77299],\n",
       " 86682: [32446, 13887, 108874, 32268],\n",
       " 157696: [71394, 74109, 26525, 40350],\n",
       " 12842: [90068, 19243, 35945, 30863],\n",
       " 15422: [129279, 25432, 70522, 59732],\n",
       " 15962: [1596, 10787, 125321, 513],\n",
       " 17799: [207857, 40156, 15632, 36956],\n",
       " 26473: [85469, 35803, 65697, 9186],\n",
       " 26975: [2322, 64009, 81748, 162878],\n",
       " 27153: [4562, 169914, 50425, 133817],\n",
       " 27767: [11250, 25149, 4540, 29091],\n",
       " 31608: [58164, 36878, 25645, 7096],\n",
       " 31710: [5595, 198, 36351, 75722],\n",
       " 33690: [4616, 51114, 44396, 160851],\n",
       " 36004: [29042, 46566, 8320, 2458],\n",
       " 36269: [32757, 31460, 1453, 34216],\n",
       " 37642: [68980, 73139, 16470, 88485],\n",
       " 45651: [64551, 126676, 12000, 171660],\n",
       " 52331: [14681, 1152, 8500, 8365],\n",
       " 57209: [85469, 35803, 20675, 48439],\n",
       " 75815: [71935, 16120, 27322, 82729],\n",
       " 102372: [178612, 31248, 54350, 375428],\n",
       " 1266: [32754, 8756, 31321, 69502],\n",
       " 12854: [71376, 37962, 15917, 1087],\n",
       " 18194: [102323, 1985, 29516, 34142],\n",
       " 18605: [34081, 125784, 7504, 18349],\n",
       " 24535: [84417, 207857, 34131, 40156],\n",
       " 25795: [375220, 80135, 203488, 130823],\n",
       " 28601: [45071, 31669, 98396, 232961],\n",
       " 31149: [174921, 33800, 23945, 46654],\n",
       " 41395: [49442, 47917, 47289, 8329],\n",
       " 47484: [3191, 84417, 207857, 11908],\n",
       " 47525: [28821, 78122, 90884, 58305],\n",
       " 49894: [129022, 3731, 30792, 30254],\n",
       " 57069: [49804, 1523, 1749, 83535],\n",
       " 61523: [68986, 68984, 6579, 6576],\n",
       " 1568: [85241, 10452, 61492, 40156],\n",
       " 9306: [64149, 5584, 47110, 35467],\n",
       " 9587: [31629, 32408, 59386, 26160],\n",
       " 12354: [8320, 15734, 21468, 17435],\n",
       " 15140: [55952, 26488, 126604, 80109],\n",
       " 15219: [30711, 41750, 33969, 2160],\n",
       " 17900: [24674, 126676, 12000, 171660],\n",
       " 19408: [9085, 1211, 26604, 8342],\n",
       " 20728: [18583, 69179, 65027, 197308],\n",
       " 20978: [98396, 58420, 47614, 58398],\n",
       " 21764: [384862, 5193, 113634, 15734],\n",
       " 23867: [65352, 86846, 46286, 4328],\n",
       " 26165: [71171, 41329, 32232, 13693],\n",
       " 28893: [2373, 31756, 33484, 2279],\n",
       " 30003: [375428, 31248, 54350, 17415],\n",
       " 31335: [47110, 35467, 64149, 5584],\n",
       " 32637: [74925, 9654, 9710, 30254],\n",
       " 39899: [40156, 15632, 36956, 34157],\n",
       " 48065: [2039, 43670, 21327, 2208],\n",
       " 51191: [9879, 10674, 19909, 25487],\n",
       " 53691: [14299, 17574, 178181, 88855],\n",
       " 55853: [5560, 1356, 9992, 31013],\n",
       " 56789: [6757, 79130, 6249, 169597],\n",
       " 60206: [36055, 79110, 21459, 78441],\n",
       " 67569: [124860, 13956, 332, 14210],\n",
       " 72752: [70815, 39661, 81007, 9467],\n",
       " 73197: [33416, 34382, 5323, 8774],\n",
       " 75283: [32773, 2866, 35297, 74840],\n",
       " 77875: [81444, 33050, 32226, 58126],\n",
       " 79248: [34641, 45230, 36266, 2820],\n",
       " 80807: [35071, 189297, 27611, 106581],\n",
       " 81747: [71745, 2780, 176017, 31322],\n",
       " 101288: [14127, 6875, 90364, 13127],\n",
       " 118057: [35719, 13287, 32718, 1942],\n",
       " 141477: [260206, 163464, 168785, 40156],\n",
       " 165761: [40156, 15632, 36956, 34157],\n",
       " 4514: [202, 82091, 1932, 1356],\n",
       " 7129: [40156, 15632, 36956, 34157],\n",
       " 8787: [9758, 72404, 35886, 27312],\n",
       " 15909: [82112, 29097, 171106, 7448],\n",
       " 18191: [375344, 6665, 35383, 68352],\n",
       " 19074: [58958, 84639, 8104, 70457],\n",
       " 19083: [69168, 37038, 13972, 6449],\n",
       " 19324: [89047, 14545, 14536, 7036],\n",
       " 19721: [122001, 1757, 36572, 58736],\n",
       " 25922: [94068, 164434, 5176, 3135],\n",
       " 27558: [60810, 34462, 21847, 1132],\n",
       " 27621: [23180, 3535, 181368, 84752],\n",
       " 28137: [49790, 19789, 163111, 60584],\n",
       " 30477: [40126, 79278, 118620, 6069],\n",
       " 30767: [46654, 65027, 197308, 56997],\n",
       " 31671: [63799, 8848, 2399, 2277],\n",
       " 40212: [60584, 31027, 45882, 61472],\n",
       " 45568: [36266, 398191, 2034, 35805],\n",
       " 46290: [125851, 59125, 25160, 1705],\n",
       " 46371: [79898, 66175, 2896, 36780],\n",
       " 50742: [80451, 83849, 34815, 33149],\n",
       " 51764: [105842, 83540, 57526, 1002],\n",
       " 60916: [82112, 29097, 3246, 6721],\n",
       " 73015: [9654, 3138, 30254, 32627],\n",
       " 79629: [10573, 30720, 4523, 41874],\n",
       " 86908: [23514, 34558, 40156, 15632],\n",
       " 88150: [40834, 27174, 83972, 130771],\n",
       " 99944: [211659, 130774, 142463, 150111],\n",
       " 123392: [77394, 27611, 106581, 35071],\n",
       " 3: [7005, 7915, 47460, 4885],\n",
       " 609: [45307, 33373, 37082, 111496],\n",
       " 22194: [128541, 34564, 207857, 204820],\n",
       " 22926: [33644, 7982, 12463, 35084],\n",
       " 25594: [90266, 100423, 84367, 74561],\n",
       " 26775: [2866, 47926, 115147, 19588],\n",
       " 27262: [13688, 54721, 68276, 97014],\n",
       " 28884: [34564, 377677, 376543, 128318],\n",
       " 29054: [7821, 2778, 142827, 80501],\n",
       " 34655: [35311, 5413, 36148, 35495],\n",
       " 39121: [67792, 132840, 17980, 7010],\n",
       " 41554: [71856, 196543, 47818, 82535],\n",
       " 42858: [70335, 46007, 174426, 76977],\n",
       " 42947: [20461, 80131, 80135, 20313],\n",
       " 51610: [129399, 38992, 31118, 60727],\n",
       " 54253: [32506, 75143, 30623, 7914],\n",
       " 58016: [6697, 24552, 3122, 33037],\n",
       " 62981: [9145, 83484, 35332, 10162],\n",
       " 65216: [80936, 26160, 152142, 20837],\n",
       " 65643: [9315, 36958, 5033, 40156],\n",
       " 66745: [10091, 10969, 11319, 10867],\n",
       " 84444: [82606, 26730, 21753, 23652],\n",
       " 89150: [23180, 181368, 7820, 169687],\n",
       " 89602: [136400, 65234, 7249, 20461],\n",
       " 90018: [4168, 64551, 5031, 56997],\n",
       " 111007: [45025, 79515, 40350, 49766],\n",
       " 146164: [2756, 2279, 84335, 82312],\n",
       " 1234: [34401, 6731, 34723, 14652],\n",
       " 5926: [40156, 15632, 36956, 34157],\n",
       " 6413: [30440, 2103, 12315, 49115],\n",
       " 6859: [82729, 125140, 2229, 16120],\n",
       " 15634: [81748, 2322, 74782, 7956],\n",
       " 17336: [12336, 131965, 5121, 1577],\n",
       " 17462: [51221, 4615, 2250, 62763],\n",
       " 18100: [14620, 47818, 14526, 36885],\n",
       " 18521: [9027, 1306, 15841, 71672],\n",
       " 20527: [444, 11855, 20651, 32758],\n",
       " 21132: [23493, 30981, 32255, 33404],\n",
       " 21140: [12135, 1189, 77232, 36179],\n",
       " 24026: [199141, 376998, 3339, 3199],\n",
       " 24136: [30792, 40156, 15632, 36956],\n",
       " 24215: [135876, 4868, 95219, 142719],\n",
       " 26385: [58152, 376973, 377089, 381687],\n",
       " 27871: [7457, 83535, 79527, 8960],\n",
       " 27894: [40156, 15632, 36956, 34157],\n",
       " 27984: [2103, 49115, 12315, 30440],\n",
       " 28453: [1981, 2172, 1988, 51406],\n",
       " 30812: [13693, 40908, 35889, 35967],\n",
       " 30877: [84794, 12006, 35824, 9460],\n",
       " 45174: [34558, 40156, 15632, 36956],\n",
       " 51766: [6848, 267345, 5582, 36083],\n",
       " 54379: [34081, 7504, 125784, 60769],\n",
       " 57322: [37311, 172382, 98519, 40921],\n",
       " 57825: [86905, 32758, 20651, 62904],\n",
       " 69331: [13510, 375531, 958, 14530],\n",
       " 77552: [31793, 21133, 70989, 110230],\n",
       " 78460: [9320, 103581, 74840, 2645],\n",
       " 78673: [17444, 37451, 38817, 29216],\n",
       " 89692: [173026, 77394, 106581, 27611],\n",
       " 91327: [2756, 2279, 31756, 33484],\n",
       " 102475: [10607, 14448, 3043, 58739],\n",
       " 149289: [50514, 77847, 87716, 67763],\n",
       " 150603: [53294, 2921, 24196, 41750],\n",
       " 164995: [6757, 25211, 169597, 14000],\n",
       " 6741: [11664, 137028, 81155, 40156],\n",
       " 14444: [39623, 1219, 71746, 33073],\n",
       " 17620: [83711, 2406, 4320, 40195],\n",
       " 17995: [170, 4382, 163111, 11180],\n",
       " 20584: [111492, 68938, 8078, 30627],\n",
       " 24442: [4053, 7241, 44775, 125784],\n",
       " 26390: [11135, 6697, 7250, 58579],\n",
       " 27123: [58133, 3401, 281512, 9291],\n",
       " 38253: [29685, 31801, 2195, 88173],\n",
       " 42992: [4453, 34968, 17938, 58305],\n",
       " 44836: [8028, 30084, 56115, 34527],\n",
       " 48549: [30732, 375074, 12974, 1911],\n",
       " 52253: [32756, 2843, 80334, 63419],\n",
       " 52645: [162464, 126190, 211805, 19324],\n",
       " 53240: [13962, 129759, 4956, 36473],\n",
       " 53593: [84126, 30627, 9654, 33969],\n",
       " 62122: [8359, 13327, 9366, 59851],\n",
       " 63218: [10983, 86216, 36842, 9699],\n",
       " 63734: [90565, 13327, 47818, 15654],\n",
       " 70604: [23311, 3857, 50885, 85515],\n",
       " 73322: [118620, 1443, 3395, 35063],\n",
       " 75330: [164340, 336354, 25967, 2287],\n",
       " 77140: [40156, 15632, 36956, 34157],\n",
       " 78588: [33313, 10747, 10589, 6279],\n",
       " 89315: [61987, 11908, 62409, 12005],\n",
       " 90447: [2208, 40156, 15632, 36956],\n",
       " 100088: [20313, 11300, 12857, 14767],\n",
       " 106325: [40156, 15632, 36956, 34157],\n",
       " 112715: [45730, 58240, 35805, 9074],\n",
       " 118786: [13624, 10276, 11809, 31889],\n",
       " 121364: [201160, 195393, 40156, 15632],\n",
       " 130766: [247561, 32948, 40156, 15632],\n",
       " 137299: [128960, 8226, 34968, 4453],\n",
       " 2356: [40156, 15632, 36956, 34157],\n",
       " 6501: [59386, 58181, 36462, 32408],\n",
       " 12335: [56487, 67311, 74561, 10318],\n",
       " 13242: [12262, 55209, 3433, 6939],\n",
       " 16307: [17435, 34069, 26954, 78211],\n",
       " 16324: [26806, 3498, 33557, 3489],\n",
       " 18304: [147057, 91685, 11377, 80636],\n",
       " 18893: [16002, 11740, 245489, 21958],\n",
       " 21786: [4463, 21327, 82842, 15841],\n",
       " 23914: [133634, 10364, 40588, 65234],\n",
       " 27837: [69390, 80133, 7250, 90724],\n",
       " 29161: [40156, 15632, 36956, 34157],\n",
       " 30367: [31163, 88485, 28794, 35872],\n",
       " 30408: [128541, 204820, 86471, 35719],\n",
       " 30971: [54365, 12221, 30248, 16002],\n",
       " 36741: [8104, 84639, 202, 82091],\n",
       " 41182: [130883, 24900, 25645, 7020],\n",
       " 41531: [3975, 36409, 144333, 376414],\n",
       " 46013: [33525, 2863, 74840, 90409],\n",
       " 46090: [23370, 3462, 12221, 252709],\n",
       " 46206: [5530, 66753, 80501, 195],\n",
       " 46925: [40156, 15632, 36956, 34157],\n",
       " 48478: [32259, 89704, 5687, 58640],\n",
       " 48835: [63532, 10494, 63768, 77839],\n",
       " 56187: [16553, 44064, 60189, 11809],\n",
       " 66253: [10617, 14587, 5787, 9827],\n",
       " 74840: [196543, 5425, 71856, 36457],\n",
       " 79113: [32964, 32870, 2250, 30732],\n",
       " 87381: [170, 4382, 7730, 7075],\n",
       " 89023: [204820, 6727, 233992, 161445],\n",
       " 89316: [95219, 4868, 135876, 142719],\n",
       " 90318: [488, 6857, 81175, 55074],\n",
       " 95190: [252709, 167829, 3462, 21958],\n",
       " 96670: [40156, 15632, 36956, 34157],\n",
       " 104019: [12319, 9752, 6233, 8960],\n",
       " 104098: [71856, 82535, 62429, 25319],\n",
       " 106935: [281512, 44356, 38268, 523],\n",
       " 106982: [45025, 13972, 13453, 6935],\n",
       " 116390: [39340, 111040, 26518, 43670],\n",
       " 147869: [58131, 40156, 15632, 36956],\n",
       " 150581: [30572, 20837, 30335, 109099],\n",
       " 158826: [1483, 11354, 3299, 15397],\n",
       " 167995: [9085, 1211, 1210, 31638],\n",
       " 800: [40156, 15632, 36956, 34157],\n",
       " 1880: [12449, 57532, 34310, 12914],\n",
       " 6211: [40156, 15632, 36956, 34157],\n",
       " 10139: [8320, 15734, 21468, 10948],\n",
       " 10378: [35408, 35409, 24625, 30587],\n",
       " 10790: [398191, 2034, 51125, 36266],\n",
       " 10968: [3191, 33083, 11908, 62409],\n",
       " 13593: [83760, 6297, 523, 38268],\n",
       " 15842: [4953, 33070, 67334, 10998],\n",
       " 19892: [68979, 35338, 19906, 3334],\n",
       " 21043: [12072, 1712, 8448, 21420],\n",
       " 22765: [397715, 204060, 181368, 375973],\n",
       " 25924: [11180, 58385, 18174, 41310],\n",
       " 26404: [6848, 131182, 36613, 5582],\n",
       " 27316: [35772, 36101, 5848, 98665],\n",
       " 29944: [246780, 188217, 85849, 28856],\n",
       " 30089: [12034, 40464, 128318, 31273],\n",
       " 36287: [47017, 13695, 8329, 35889],\n",
       " 38416: [32758, 2389, 10177, 7311],\n",
       " 43132: [40564, 2389, 9315, 7311],\n",
       " 43150: [319, 9476, 30366, 11338],\n",
       " 44228: [69867, 837, 12489, 378],\n",
       " 45920: [13956, 6931, 68996, 14210],\n",
       " 48366: [6249, 126325, 19823, 378695],\n",
       " 49773: [283, 376193, 7460, 25287],\n",
       " 50902: [7820, 84752, 213, 91685],\n",
       " 52497: [72875, 51221, 1707, 30444],\n",
       " 53518: [737, 177369, 43298, 66763],\n",
       " 54654: [1904, 294, 144281, 86259],\n",
       " 54700: [70335, 76977, 174426, 46007],\n",
       " 56314: [376407, 3687, 82187, 11780],\n",
       " 61697: [39360, 80135, 130823, 155215],\n",
       " 66741: [13960, 77232, 7268, 90409],\n",
       " 68407: [33440, 135876, 26954, 61492],\n",
       " 70955: [405952, 25114, 13841, 1749],\n",
       " 72389: [12445, 5414, 12963, 7101],\n",
       " 90238: [36473, 4956, 13962, 14238],\n",
       " 104822: [9523, 6279, 10565, 49806],\n",
       " 157702: [9571, 704, 30739, 1980],\n",
       " 187033: [27198, 2877, 2866, 5650],\n",
       " 194545: [124860, 2743, 12135, 131008],\n",
       " 210993: [176017, 2780, 71745, 47913],\n",
       " 548: [38185, 59900, 59000, 647],\n",
       " 4680: [26730, 21437, 23652, 46654],\n",
       " 8223: [35509, 36457, 5425, 134331],\n",
       " 8813: [9523, 10565, 6279, 49806],\n",
       " 11847: [13979, 34190, 31295, 33548],\n",
       " 14965: [127646, 55586, 39308, 82493],\n",
       " 15722: [69162, 25258, 34479, 49562],\n",
       " 17762: [4765, 17828, 6808, 8328],\n",
       " 18175: [606, 54409, 83537, 869],\n",
       " 19005: [128318, 12034, 376543, 377677],\n",
       " 19925: [68996, 126435, 14210, 6931],\n",
       " 20285: [3093, 84639, 8487, 1356],\n",
       " 21856: [196543, 5425, 71856, 58181],\n",
       " 24205: [7820, 23180, 181368, 84752],\n",
       " 30978: [40195, 4339, 4084, 58262],\n",
       " 31718: [1840, 7790, 32826, 129268],\n",
       " 39612: [9089, 894, 13746, 30938],\n",
       " 41258: [35981, 36266, 2820, 47534],\n",
       " 51050: [57107, 181643, 34972, 8000],\n",
       " 52576: [37156, 12059, 60, 2006],\n",
       " 55046: [55989, 28581, 9287, 76878],\n",
       " 55254: [162877, 57798, 5348, 82842],\n",
       " 60743: [523, 76569, 112510, 6297],\n",
       " 62162: [84852, 38861, 6462, 248624],\n",
       " 62474: [87342, 107119, 908, 7286],\n",
       " 65730: [34142, 3541, 567, 32082],\n",
       " 67024: [25967, 164340, 32964, 74268],\n",
       " 68887: [19493, 43624, 148131, 22951],\n",
       " 70482: [31789, 51329, 181412, 7481],\n",
       " 78348: [142719, 4868, 13143, 88855],\n",
       " 79129: [68996, 126435, 14210, 6931],\n",
       " 84648: [134226, 777, 81802, 62904],\n",
       " 97416: [86259, 53598, 31261, 32506],\n",
       " 97642: [40156, 15632, 36956, 34157],\n",
       " 109214: [16148, 310373, 38074, 124958],\n",
       " 123396: [382351, 176011, 252709, 167829],\n",
       " 129015: [129585, 35150, 404574, 26928],\n",
       " 138116: [40156, 15632, 36956, 34157],\n",
       " 156967: [126492, 69197, 2645, 10951],\n",
       " 191614: [4868, 142719, 95219, 25606],\n",
       " 7133: [6078, 86216, 3299, 35829],\n",
       " 15783: [4788, 9687, 181672, 32090],\n",
       " 16547: [4540, 20675, 65697, 16652],\n",
       " 17702: [19108, 22894, 72482, 3395],\n",
       " 17708: [135871, 175626, 83920, 12963],\n",
       " 18212: [83540, 2250, 10118, 62323],\n",
       " 18283: [7010, 47818, 90621, 36877],\n",
       " 18809: [24436, 146889, 195846, 2458],\n",
       " 19144: [173639, 13360, 136400, 12948],\n",
       " 19776: [137028, 81155, 7918, 11664],\n",
       " 20755: [10607, 37901, 58739, 14448],\n",
       " 21674: [2458, 195846, 146889, 24436],\n",
       " 28382: [79755, 136025, 36460, 25347],\n",
       " 30607: [40156, 15632, 36956, 34157],\n",
       " 31597: [380079, 7360, 14860, 12857],\n",
       " 34372: [33120, 122145, 13870, 7040],\n",
       " 36303: [16663, 376725, 171552, 3171],\n",
       " 37292: [36780, 56997, 35092, 129850],\n",
       " 38727: [999, 19243, 34218, 37419],\n",
       " 41393: [3348, 32338, 3135, 14896],\n",
       " 43444: [40834, 20160, 27174, 83972],\n",
       " 45438: [79117, 14614, 135708, 197670],\n",
       " 51293: [12336, 28794, 51125, 14235],\n",
       " 55909: [21847, 7985, 49061, 7837],\n",
       " 57030: [12489, 25109, 45307, 8028],\n",
       " 57354: [1840, 56375, 32706, 7790],\n",
       " 57538: [35458, 69276, 7129, 4515],\n",
       " 57676: [3191, 113381, 11908, 62409],\n",
       " 70472: [39308, 82493, 55586, 10467],\n",
       " 71775: [14072, 38354, 12, 32584]}"
      ]
     },
     "execution_count": 80,
     "metadata": {},
     "output_type": "execute_result"
    }
   ],
   "source": [
    "predictions"
   ]
  },
  {
   "cell_type": "code",
   "execution_count": 81,
   "id": "1c1e942d",
   "metadata": {},
   "outputs": [],
   "source": [
    "rating = np.load(\"Intelligent-systems-and-recommendations/rating_matrix.npy\")\n",
    "itemID = pd.read_csv(\"Intelligent-systems-and-recommendations/item_index.csv\", header=None)\n",
    "userID = pd.read_csv(\"Intelligent-systems-and-recommendations/user_index.csv\", header=None)"
   ]
  },
  {
   "cell_type": "code",
   "execution_count": 82,
   "id": "67f7cd3e",
   "metadata": {},
   "outputs": [],
   "source": [
    "df = pd.DataFrame(rating, columns = list(itemID[0]))\n",
    "df.index = list(userID[0])"
   ]
  },
  {
   "cell_type": "code",
   "execution_count": 83,
   "id": "c27967a2",
   "metadata": {},
   "outputs": [],
   "source": [
    "items = list(itemID[0])\n",
    "items_df = []\n",
    "users_df = []"
   ]
  },
  {
   "cell_type": "code",
   "execution_count": 84,
   "id": "2bd6e339",
   "metadata": {},
   "outputs": [],
   "source": [
    "for user in df.index:        # loop over rows of df (users)\n",
    "    for index, rating in enumerate(list(df.loc[user])):   # loop over columns (items) and remember index\n",
    "        if rating == 3:         # compare rating\n",
    "            item = items[index]    # get itemID in list of items, at the index observed\n",
    "            items_df.append(item)  # append the list of items\n",
    "            users_df.append(user)  # append the list of users\n",
    "            \n",
    "gt = pd.DataFrame(list(zip(users_df, items_df, [1]*len(items_df))), columns =[\"User\", \"Item\", \"Relevance\"])"
   ]
  },
  {
   "cell_type": "code",
   "execution_count": 85,
   "id": "7aa3d4c7",
   "metadata": {},
   "outputs": [],
   "source": [
    "users = []\n",
    "items = []\n",
    "for user in predictions.keys():\n",
    "    users.extend([user]*len(predictions[user]))\n",
    "    items.extend(predictions[user])"
   ]
  },
  {
   "cell_type": "code",
   "execution_count": 91,
   "id": "bfeb18dc",
   "metadata": {},
   "outputs": [],
   "source": [
    "df_results = pd.DataFrame(list(zip(users, items, [1, 2, 3, 4]*len(users))), columns =[\"User\", \"Item\",\"Rank\"])"
   ]
  },
  {
   "cell_type": "code",
   "execution_count": 92,
   "id": "4e3a19a9",
   "metadata": {},
   "outputs": [
    {
     "data": {
      "text/html": [
       "<div>\n",
       "<style scoped>\n",
       "    .dataframe tbody tr th:only-of-type {\n",
       "        vertical-align: middle;\n",
       "    }\n",
       "\n",
       "    .dataframe tbody tr th {\n",
       "        vertical-align: top;\n",
       "    }\n",
       "\n",
       "    .dataframe thead th {\n",
       "        text-align: right;\n",
       "    }\n",
       "</style>\n",
       "<table border=\"1\" class=\"dataframe\">\n",
       "  <thead>\n",
       "    <tr style=\"text-align: right;\">\n",
       "      <th></th>\n",
       "      <th>User</th>\n",
       "      <th>Item</th>\n",
       "      <th>Relevance</th>\n",
       "    </tr>\n",
       "  </thead>\n",
       "  <tbody>\n",
       "    <tr>\n",
       "      <th>0</th>\n",
       "      <td>22489</td>\n",
       "      <td>25189</td>\n",
       "      <td>1</td>\n",
       "    </tr>\n",
       "    <tr>\n",
       "      <th>1</th>\n",
       "      <td>22489</td>\n",
       "      <td>92881</td>\n",
       "      <td>1</td>\n",
       "    </tr>\n",
       "    <tr>\n",
       "      <th>2</th>\n",
       "      <td>22489</td>\n",
       "      <td>25307</td>\n",
       "      <td>1</td>\n",
       "    </tr>\n",
       "    <tr>\n",
       "      <th>3</th>\n",
       "      <td>21156</td>\n",
       "      <td>80781</td>\n",
       "      <td>1</td>\n",
       "    </tr>\n",
       "    <tr>\n",
       "      <th>4</th>\n",
       "      <td>7112</td>\n",
       "      <td>9313</td>\n",
       "      <td>1</td>\n",
       "    </tr>\n",
       "    <tr>\n",
       "      <th>...</th>\n",
       "      <td>...</td>\n",
       "      <td>...</td>\n",
       "      <td>...</td>\n",
       "    </tr>\n",
       "    <tr>\n",
       "      <th>79</th>\n",
       "      <td>78460</td>\n",
       "      <td>103581</td>\n",
       "      <td>1</td>\n",
       "    </tr>\n",
       "    <tr>\n",
       "      <th>80</th>\n",
       "      <td>6741</td>\n",
       "      <td>11664</td>\n",
       "      <td>1</td>\n",
       "    </tr>\n",
       "    <tr>\n",
       "      <th>81</th>\n",
       "      <td>54700</td>\n",
       "      <td>76977</td>\n",
       "      <td>1</td>\n",
       "    </tr>\n",
       "    <tr>\n",
       "      <th>82</th>\n",
       "      <td>24205</td>\n",
       "      <td>84752</td>\n",
       "      <td>1</td>\n",
       "    </tr>\n",
       "    <tr>\n",
       "      <th>83</th>\n",
       "      <td>51293</td>\n",
       "      <td>131965</td>\n",
       "      <td>1</td>\n",
       "    </tr>\n",
       "  </tbody>\n",
       "</table>\n",
       "<p>84 rows × 3 columns</p>\n",
       "</div>"
      ],
      "text/plain": [
       "     User    Item  Relevance\n",
       "0   22489   25189          1\n",
       "1   22489   92881          1\n",
       "2   22489   25307          1\n",
       "3   21156   80781          1\n",
       "4    7112    9313          1\n",
       "..    ...     ...        ...\n",
       "79  78460  103581          1\n",
       "80   6741   11664          1\n",
       "81  54700   76977          1\n",
       "82  24205   84752          1\n",
       "83  51293  131965          1\n",
       "\n",
       "[84 rows x 3 columns]"
      ]
     },
     "execution_count": 92,
     "metadata": {},
     "output_type": "execute_result"
    }
   ],
   "source": [
    "gt"
   ]
  },
  {
   "cell_type": "code",
   "execution_count": 93,
   "id": "4c1c1718",
   "metadata": {},
   "outputs": [
    {
     "data": {
      "text/html": [
       "<div>\n",
       "<style scoped>\n",
       "    .dataframe tbody tr th:only-of-type {\n",
       "        vertical-align: middle;\n",
       "    }\n",
       "\n",
       "    .dataframe tbody tr th {\n",
       "        vertical-align: top;\n",
       "    }\n",
       "\n",
       "    .dataframe thead th {\n",
       "        text-align: right;\n",
       "    }\n",
       "</style>\n",
       "<table border=\"1\" class=\"dataframe\">\n",
       "  <thead>\n",
       "    <tr style=\"text-align: right;\">\n",
       "      <th></th>\n",
       "      <th>User</th>\n",
       "      <th>Item</th>\n",
       "      <th>Rank</th>\n",
       "    </tr>\n",
       "  </thead>\n",
       "  <tbody>\n",
       "    <tr>\n",
       "      <th>0</th>\n",
       "      <td>17732</td>\n",
       "      <td>128872</td>\n",
       "      <td>1</td>\n",
       "    </tr>\n",
       "    <tr>\n",
       "      <th>1</th>\n",
       "      <td>17732</td>\n",
       "      <td>10588</td>\n",
       "      <td>2</td>\n",
       "    </tr>\n",
       "    <tr>\n",
       "      <th>2</th>\n",
       "      <td>17732</td>\n",
       "      <td>67762</td>\n",
       "      <td>3</td>\n",
       "    </tr>\n",
       "    <tr>\n",
       "      <th>3</th>\n",
       "      <td>17732</td>\n",
       "      <td>10805</td>\n",
       "      <td>4</td>\n",
       "    </tr>\n",
       "    <tr>\n",
       "      <th>4</th>\n",
       "      <td>4094</td>\n",
       "      <td>79218</td>\n",
       "      <td>1</td>\n",
       "    </tr>\n",
       "    <tr>\n",
       "      <th>...</th>\n",
       "      <td>...</td>\n",
       "      <td>...</td>\n",
       "      <td>...</td>\n",
       "    </tr>\n",
       "    <tr>\n",
       "      <th>3995</th>\n",
       "      <td>70472</td>\n",
       "      <td>10467</td>\n",
       "      <td>4</td>\n",
       "    </tr>\n",
       "    <tr>\n",
       "      <th>3996</th>\n",
       "      <td>71775</td>\n",
       "      <td>14072</td>\n",
       "      <td>1</td>\n",
       "    </tr>\n",
       "    <tr>\n",
       "      <th>3997</th>\n",
       "      <td>71775</td>\n",
       "      <td>38354</td>\n",
       "      <td>2</td>\n",
       "    </tr>\n",
       "    <tr>\n",
       "      <th>3998</th>\n",
       "      <td>71775</td>\n",
       "      <td>12</td>\n",
       "      <td>3</td>\n",
       "    </tr>\n",
       "    <tr>\n",
       "      <th>3999</th>\n",
       "      <td>71775</td>\n",
       "      <td>32584</td>\n",
       "      <td>4</td>\n",
       "    </tr>\n",
       "  </tbody>\n",
       "</table>\n",
       "<p>4000 rows × 3 columns</p>\n",
       "</div>"
      ],
      "text/plain": [
       "       User    Item  Rank\n",
       "0     17732  128872     1\n",
       "1     17732   10588     2\n",
       "2     17732   67762     3\n",
       "3     17732   10805     4\n",
       "4      4094   79218     1\n",
       "...     ...     ...   ...\n",
       "3995  70472   10467     4\n",
       "3996  71775   14072     1\n",
       "3997  71775   38354     2\n",
       "3998  71775      12     3\n",
       "3999  71775   32584     4\n",
       "\n",
       "[4000 rows x 3 columns]"
      ]
     },
     "execution_count": 93,
     "metadata": {},
     "output_type": "execute_result"
    }
   ],
   "source": [
    "df_results"
   ]
  },
  {
   "cell_type": "code",
   "execution_count": 94,
   "id": "57aa5719",
   "metadata": {},
   "outputs": [],
   "source": [
    "labeled_search_results = df_results.merge(gt, how='left', on=['User', 'Item']).fillna(0)"
   ]
  },
  {
   "cell_type": "code",
   "execution_count": 95,
   "id": "2ac03e30",
   "metadata": {},
   "outputs": [
    {
     "data": {
      "text/html": [
       "<div>\n",
       "<style scoped>\n",
       "    .dataframe tbody tr th:only-of-type {\n",
       "        vertical-align: middle;\n",
       "    }\n",
       "\n",
       "    .dataframe tbody tr th {\n",
       "        vertical-align: top;\n",
       "    }\n",
       "\n",
       "    .dataframe thead th {\n",
       "        text-align: right;\n",
       "    }\n",
       "</style>\n",
       "<table border=\"1\" class=\"dataframe\">\n",
       "  <thead>\n",
       "    <tr style=\"text-align: right;\">\n",
       "      <th></th>\n",
       "      <th>User</th>\n",
       "      <th>Item</th>\n",
       "      <th>Rank</th>\n",
       "      <th>Relevance</th>\n",
       "    </tr>\n",
       "  </thead>\n",
       "  <tbody>\n",
       "    <tr>\n",
       "      <th>0</th>\n",
       "      <td>17732</td>\n",
       "      <td>128872</td>\n",
       "      <td>1</td>\n",
       "      <td>0.0</td>\n",
       "    </tr>\n",
       "    <tr>\n",
       "      <th>1</th>\n",
       "      <td>17732</td>\n",
       "      <td>10588</td>\n",
       "      <td>2</td>\n",
       "      <td>0.0</td>\n",
       "    </tr>\n",
       "    <tr>\n",
       "      <th>2</th>\n",
       "      <td>17732</td>\n",
       "      <td>67762</td>\n",
       "      <td>3</td>\n",
       "      <td>0.0</td>\n",
       "    </tr>\n",
       "    <tr>\n",
       "      <th>3</th>\n",
       "      <td>17732</td>\n",
       "      <td>10805</td>\n",
       "      <td>4</td>\n",
       "      <td>0.0</td>\n",
       "    </tr>\n",
       "    <tr>\n",
       "      <th>4</th>\n",
       "      <td>4094</td>\n",
       "      <td>79218</td>\n",
       "      <td>1</td>\n",
       "      <td>0.0</td>\n",
       "    </tr>\n",
       "    <tr>\n",
       "      <th>...</th>\n",
       "      <td>...</td>\n",
       "      <td>...</td>\n",
       "      <td>...</td>\n",
       "      <td>...</td>\n",
       "    </tr>\n",
       "    <tr>\n",
       "      <th>3995</th>\n",
       "      <td>70472</td>\n",
       "      <td>10467</td>\n",
       "      <td>4</td>\n",
       "      <td>0.0</td>\n",
       "    </tr>\n",
       "    <tr>\n",
       "      <th>3996</th>\n",
       "      <td>71775</td>\n",
       "      <td>14072</td>\n",
       "      <td>1</td>\n",
       "      <td>0.0</td>\n",
       "    </tr>\n",
       "    <tr>\n",
       "      <th>3997</th>\n",
       "      <td>71775</td>\n",
       "      <td>38354</td>\n",
       "      <td>2</td>\n",
       "      <td>0.0</td>\n",
       "    </tr>\n",
       "    <tr>\n",
       "      <th>3998</th>\n",
       "      <td>71775</td>\n",
       "      <td>12</td>\n",
       "      <td>3</td>\n",
       "      <td>0.0</td>\n",
       "    </tr>\n",
       "    <tr>\n",
       "      <th>3999</th>\n",
       "      <td>71775</td>\n",
       "      <td>32584</td>\n",
       "      <td>4</td>\n",
       "      <td>0.0</td>\n",
       "    </tr>\n",
       "  </tbody>\n",
       "</table>\n",
       "<p>4000 rows × 4 columns</p>\n",
       "</div>"
      ],
      "text/plain": [
       "       User    Item  Rank  Relevance\n",
       "0     17732  128872     1        0.0\n",
       "1     17732   10588     2        0.0\n",
       "2     17732   67762     3        0.0\n",
       "3     17732   10805     4        0.0\n",
       "4      4094   79218     1        0.0\n",
       "...     ...     ...   ...        ...\n",
       "3995  70472   10467     4        0.0\n",
       "3996  71775   14072     1        0.0\n",
       "3997  71775   38354     2        0.0\n",
       "3998  71775      12     3        0.0\n",
       "3999  71775   32584     4        0.0\n",
       "\n",
       "[4000 rows x 4 columns]"
      ]
     },
     "execution_count": 95,
     "metadata": {},
     "output_type": "execute_result"
    }
   ],
   "source": [
    "labeled_search_results"
   ]
  },
  {
   "cell_type": "code",
   "execution_count": 96,
   "id": "4da89623",
   "metadata": {},
   "outputs": [
    {
     "data": {
      "text/plain": [
       "0.5895061728395061"
      ]
     },
     "execution_count": 96,
     "metadata": {},
     "output_type": "execute_result"
    }
   ],
   "source": [
    "relevances_rank = labeled_search_results.groupby(['User', 'Relevance'])['Rank'].min()\n",
    "\n",
    "ranks = relevances_rank.loc[:, 1]\n",
    "\n",
    "reciprocal_ranks = 1 / (ranks)\n",
    "\n",
    "reciprocal_ranks.mean()"
   ]
  },
  {
   "cell_type": "code",
   "execution_count": null,
   "id": "d88e2951",
   "metadata": {},
   "outputs": [],
   "source": []
  }
 ],
 "metadata": {
  "kernelspec": {
   "display_name": "Python 3 (ipykernel)",
   "language": "python",
   "name": "python3"
  },
  "language_info": {
   "codemirror_mode": {
    "name": "ipython",
    "version": 3
   },
   "file_extension": ".py",
   "mimetype": "text/x-python",
   "name": "python",
   "nbconvert_exporter": "python",
   "pygments_lexer": "ipython3",
   "version": "3.8.10"
  }
 },
 "nbformat": 4,
 "nbformat_minor": 5
}
